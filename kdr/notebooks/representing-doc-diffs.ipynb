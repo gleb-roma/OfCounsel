{
 "cells": [
  {
   "cell_type": "code",
   "execution_count": 23,
   "id": "a54428d4-d1f2-4615-876c-78b283fa846d",
   "metadata": {},
   "outputs": [
    {
     "name": "stdout",
     "output_type": "stream",
     "text": [
      "1c1\n",
      "< Rec Room Inc., a Delaware corporation (“Company”, “we”, “us”, “our”), may collect and use the below categories of your Personal Information. Third parties such as Greenhouse also may collect such Personal Information on our behalf. “Personal Information” means information that identifies, relates to, describes, is reasonably capable of being associated with, or could reasonably be linked, directly or indirectly, with you.\n",
      "---\n",
      "> Rec Room Inc., a Delaware corporation (\"Company\", \"we\", \"us\", \"our\"), may collect and use the below categories of your Personal Information and Sensitive Personal Information. Third parties such as Greenhouse also may collect such Personal Information on our behalf. \"Personal Information\" means information that identifies, relates to, describes, is reasonably capable of being associated with, or could reasonably be linked, directly or indirectly, with you. Sensitive Personal Information includes [list of sensitive personal information].\n",
      "12c12\n",
      "< The Company collects the above categories of Personal Information to use or disclose as appropriate to:\n",
      "---\n",
      "> The Company collects the above categories of Personal Information and Sensitive Personal Information to use or disclose as appropriate to:\n",
      "18c18,22\n",
      "< If you have any questions about this Notice or need to access this Notice in an alternative format due to having a disability, please contact us at hr@recroom.com and privacy@recroom.com. \n",
      "---\n",
      "> The Company does not sell your Personal Information or Sensitive Personal Information. The Company may share your Personal Information or Sensitive Personal Information with [list of entities or types of entities with whom information is shared].\n",
      "> \n",
      "> The Company intends to retain each category of Personal Information and Sensitive Personal Information for [length of time] or until [criteria for retention]. The Company will not retain your Personal Information or Sensitive Personal Information for longer than is reasonably necessary for the disclosed purpose.\n",
      "> \n",
      "> If you have any questions about this Notice or need to access this Notice in an alternative format due to having a disability, please contact us at hr@recroom.com and privacy@recroom.com.\n"
     ]
    }
   ],
   "source": [
    "!diff a.txt b.txt"
   ]
  },
  {
   "cell_type": "code",
   "execution_count": 1,
   "id": "19204e2b-265e-4114-803e-07d442650d77",
   "metadata": {},
   "outputs": [],
   "source": [
    "# Testing naive ways to represnt diff in plain text via https://docs.python.org/3/library/difflib.html\n",
    "\n",
    "import difflib"
   ]
  },
  {
   "cell_type": "code",
   "execution_count": 2,
   "id": "21707e61-4005-43d0-9892-c9e9145cc21f",
   "metadata": {},
   "outputs": [],
   "source": [
    "a = \"\"\"Rec Room Inc., a Delaware corporation (“Company”, “we”, “us”, “our”), may collect and use the below categories of your Personal Information. Third parties such as Greenhouse also may collect such Personal Information on our behalf. “Personal Information” means information that identifies, relates to, describes, is reasonably capable of being associated with, or could reasonably be linked, directly or indirectly, with you.\n",
    "\n",
    "Full name\n",
    "Home address\n",
    "Telephone number\n",
    "Email address\n",
    "Resume information\n",
    "Interview feedback\n",
    "Compensation expectations\n",
    "Authorization to work in the United States and/or visa requirements, if applicable\n",
    "\n",
    "The Company collects the above categories of Personal Information to use or disclose as appropriate to:\n",
    "Recruit and evaluate job applicants for employment\n",
    "Comply with all applicable laws and regulations\n",
    "Perform data analytics\n",
    "Exercise or defend the legal rights of the Company\n",
    "\n",
    "If you have any questions about this Notice or need to access this Notice in an alternative format due to having a disability, please contact us at hr@recroom.com and privacy@recroom.com. \n",
    "\"\"\"\n",
    "\n",
    "b = \"\"\"Rec Room Inc., a Delaware corporation (\"Company\", \"we\", \"us\", \"our\"), may collect and use the below categories of your Personal Information and Sensitive Personal Information. Third parties such as Greenhouse also may collect such Personal Information on our behalf. \"Personal Information\" means information that identifies, relates to, describes, is reasonably capable of being associated with, or could reasonably be linked, directly or indirectly, with you. Sensitive Personal Information includes [list of sensitive personal information].\n",
    "\n",
    "Full name\n",
    "Home address\n",
    "Telephone number\n",
    "Email address\n",
    "Resume information\n",
    "Interview feedback\n",
    "Compensation expectations\n",
    "Authorization to work in the United States and/or visa requirements, if applicable\n",
    "\n",
    "The Company collects the above categories of Personal Information and Sensitive Personal Information to use or disclose as appropriate to:\n",
    "Recruit and evaluate job applicants for employment\n",
    "Comply with all applicable laws and regulations\n",
    "Perform data analytics\n",
    "Exercise or defend the legal rights of the Company\n",
    "\n",
    "The Company does not sell your Personal Information or Sensitive Personal Information. The Company may share your Personal Information or Sensitive Personal Information with [list of entities or types of entities with whom information is shared].\n",
    "\n",
    "The Company intends to retain each category of Personal Information and Sensitive Personal Information for [length of time] or until [criteria for retention]. The Company will not retain your Personal Information or Sensitive Personal Information for longer than is reasonably necessary for the disclosed purpose.\n",
    "\n",
    "If you have any questions about this Notice or need to access this Notice in an alternative format due to having a disability, please contact us at hr@recroom.com and privacy@recroom.com.\n",
    "\"\"\""
   ]
  },
  {
   "cell_type": "code",
   "execution_count": 18,
   "id": "c6cec62a-84c4-4d42-bc91-4ec80a6350d2",
   "metadata": {},
   "outputs": [
    {
     "name": "stdout",
     "output_type": "stream",
     "text": [
      "-Rec Room Inc., a Delaware corporation (“Company”, “we”, “us”, “our”), may collect and use the below categories of your Personal Information. Third parties such as Greenhouse also may collect such Personal Information on our behalf. “Personal Information” means information that identifies, relates to, describes, is reasonably capable of being associated with, or could reasonably be linked, directly or indirectly, with you.\n",
      "+Rec Room Inc., a Delaware corporation (\"Company\", \"we\", \"us\", \"our\"), may collect and use the below categories of your Personal Information and Sensitive Personal Information. Third parties such as Greenhouse also may collect such Personal Information on our behalf. \"Personal Information\" means information that identifies, relates to, describes, is reasonably capable of being associated with, or could reasonably be linked, directly or indirectly, with you. Sensitive Personal Information includes [list of sensitive personal information].\n",
      " \n",
      " Full name\n",
      " Home address\n",
      " Compensation expectations\n",
      " Authorization to work in the United States and/or visa requirements, if applicable\n",
      " \n",
      "-The Company collects the above categories of Personal Information to use or disclose as appropriate to:\n",
      "+The Company collects the above categories of Personal Information and Sensitive Personal Information to use or disclose as appropriate to:\n",
      " Recruit and evaluate job applicants for employment\n",
      " Comply with all applicable laws and regulations\n",
      " Perform data analytics\n",
      " Exercise or defend the legal rights of the Company\n",
      " \n",
      "-If you have any questions about this Notice or need to access this Notice in an alternative format due to having a disability, please contact us at hr@recroom.com and privacy@recroom.com. \n",
      "+The Company does not sell your Personal Information or Sensitive Personal Information. The Company may share your Personal Information or Sensitive Personal Information with [list of entities or types of entities with whom information is shared].\n",
      " \n",
      "+The Company intends to retain each category of Personal Information and Sensitive Personal Information for [length of time] or until [criteria for retention]. The Company will not retain your Personal Information or Sensitive Personal Information for longer than is reasonably necessary for the disclosed purpose.\n",
      "+\n",
      "+If you have any questions about this Notice or need to access this Notice in an alternative format due to having a disability, please contact us at hr@recroom.com and privacy@recroom.com.\n",
      "+\n"
     ]
    }
   ],
   "source": [
    "for text in difflib.unified_diff(a.split(\"\\n\"), b.split(\"\\n\")):\n",
    "    if text[:3] not in ('+++', '---', '@@ '):\n",
    "        print(text)"
   ]
  },
  {
   "cell_type": "code",
   "execution_count": null,
   "id": "8c7a4ebc-e5fd-4876-8e4c-a22eb3f86d8d",
   "metadata": {},
   "outputs": [],
   "source": []
  },
  {
   "cell_type": "code",
   "execution_count": 21,
   "id": "54eded64-ff0f-49d6-ac94-a37194bcb52f",
   "metadata": {},
   "outputs": [
    {
     "data": {
      "text/plain": [
       "['- Rec Room Inc., a Delaware corporation (“Company”, “we”, “us”, “our”), may collect and use the below categories of your Personal Information. Third parties such as Greenhouse also may collect such Personal Information on our behalf. “Personal Information” means information that identifies, relates to, describes, is reasonably capable of being associated with, or could reasonably be linked, directly or indirectly, with you.',\n",
       " '?                                        ^       ^^^^  ^^^^^^^^^^^^^^                                                                                                                                                                     ^                    ^\\n',\n",
       " '+ Rec Room Inc., a Delaware corporation (\"Company\", \"we\", \"us\", \"our\"), may collect and use the below categories of your Personal Information and Sensitive Personal Information. Third parties such as Greenhouse also may collect such Personal Information on our behalf. \"Personal Information\" means information that identifies, relates to, describes, is reasonably capable of being associated with, or could reasonably be linked, directly or indirectly, with you. Sensitive Personal Information includes [list of sensitive personal information].',\n",
       " '?                                        ^       ^^^^  ^^^^^^^^^^^^^^                                                                        +++++++++++++++++++++++++++++++++++                                                                                             ^                    ^                                                                                                                                                                           ++++++++++++++++++++++++++++++++++++++++++++++++++++++++++++++++++++++++++++++++++\\n',\n",
       " '  ',\n",
       " '  Full name',\n",
       " '  Home address',\n",
       " '  Telephone number',\n",
       " '  Email address',\n",
       " '  Resume information',\n",
       " '  Interview feedback',\n",
       " '  Compensation expectations',\n",
       " '  Authorization to work in the United States and/or visa requirements, if applicable',\n",
       " '  ',\n",
       " '- The Company collects the above categories of Personal Information to use or disclose as appropriate to:',\n",
       " '+ The Company collects the above categories of Personal Information and Sensitive Personal Information to use or disclose as appropriate to:',\n",
       " '?                                                                   +++++++++++++++++++++++++++++++++++\\n',\n",
       " '  Recruit and evaluate job applicants for employment',\n",
       " '  Comply with all applicable laws and regulations',\n",
       " '  Perform data analytics',\n",
       " '  Exercise or defend the legal rights of the Company',\n",
       " '  ',\n",
       " '- If you have any questions about this Notice or need to access this Notice in an alternative format due to having a disability, please contact us at hr@recroom.com and privacy@recroom.com. ',\n",
       " '+ The Company does not sell your Personal Information or Sensitive Personal Information. The Company may share your Personal Information or Sensitive Personal Information with [list of entities or types of entities with whom information is shared].',\n",
       " '  ',\n",
       " '+ The Company intends to retain each category of Personal Information and Sensitive Personal Information for [length of time] or until [criteria for retention]. The Company will not retain your Personal Information or Sensitive Personal Information for longer than is reasonably necessary for the disclosed purpose.',\n",
       " '+ ',\n",
       " '+ If you have any questions about this Notice or need to access this Notice in an alternative format due to having a disability, please contact us at hr@recroom.com and privacy@recroom.com.',\n",
       " '+ ']"
      ]
     },
     "execution_count": 21,
     "metadata": {},
     "output_type": "execute_result"
    }
   ],
   "source": [
    "from pprint import pprint\n",
    "d = difflib.Differ()\n",
    "result = list(d.compare(a.split('\\n'), b.split('\\n')))\n",
    "\n",
    "result"
   ]
  },
  {
   "cell_type": "code",
   "execution_count": null,
   "id": "0aa11cb9-2f63-4bc3-b60e-eddbc38f7c56",
   "metadata": {},
   "outputs": [],
   "source": []
  },
  {
   "cell_type": "code",
   "execution_count": null,
   "id": "98591e78-88eb-4d5b-82ec-d9827112ab30",
   "metadata": {},
   "outputs": [],
   "source": []
  },
  {
   "cell_type": "code",
   "execution_count": 28,
   "id": "cd304039-027c-4ec1-9e56-f66ea0907dd5",
   "metadata": {},
   "outputs": [
    {
     "data": {
      "text/plain": [
       "'lorem<ins> foo</ins> ipsum dolor <del>sit </del>amet'"
      ]
     },
     "execution_count": 28,
     "metadata": {},
     "output_type": "execute_result"
    }
   ],
   "source": [
    "# https://stackoverflow.com/questions/774316/python-difflib-highlighting-differences-inline\n",
    "def show_diff(seqm):\n",
    "    \"\"\"Unify operations between two compared strings\n",
    "seqm is a difflib.SequenceMatcher instance whose a & b are strings\"\"\"\n",
    "    output= []\n",
    "    for opcode, a0, a1, b0, b1 in seqm.get_opcodes():\n",
    "        if opcode == 'equal':\n",
    "            output.append(seqm.a[a0:a1])\n",
    "        elif opcode == 'insert':\n",
    "            output.append(\"<ins>\" + seqm.b[b0:b1] + \"</ins>\")\n",
    "        elif opcode == 'delete':\n",
    "            output.append(\"<del>\" + seqm.a[a0:a1] + \"</del>\")\n",
    "        elif opcode == 'replace':\n",
    "            #raise NotImplementedError(\"what to do with 'replace' opcode?\")\n",
    "            output.append(\"<del>\" + seqm.a[a0:a1] + \"</del>\")\n",
    "            output.append(\"<ins>\" + seqm.b[b0:b1] + \"</ins>\")\n",
    "        else:\n",
    "            raise RuntimeError(\"unexpected opcode\")\n",
    "    return ''.join(output)\n",
    "\n",
    "sm = difflib.SequenceMatcher(None, \"lorem ipsum dolor sit amet\", \"lorem foo ipsum dolor amet\")\n",
    "show_diff(sm)"
   ]
  },
  {
   "cell_type": "code",
   "execution_count": 30,
   "id": "01a424b1-72e6-49b7-978e-b4d92d040cae",
   "metadata": {},
   "outputs": [
    {
     "name": "stdout",
     "output_type": "stream",
     "text": [
      "Rec Room Inc., a Delaware corporation (<del>“</del><ins>\"</ins>Company<del>”</del><ins>\"</ins>, <del>“</del><ins>\"</ins>we<del>”</del><ins>\"</ins>, <del>“us”</del><ins>\"us\"</ins>, <del>“our”</del><ins>\"our\"</ins>), may collect and use the below categories of your Personal Information<ins> and Sensitive Personal Information</ins>. Third parties such as Greenhouse also may collect such Personal Information on our behalf. <del>“</del><ins>\"</ins>Personal Information<del>”</del><ins>\"</ins> means information that identifies, relates to, describes, is reasonably capable of being associated with, or could reasonably be linked, directly or indirectly, with you.<ins> Sensitive Personal Information includes [list of sensitive personal information].</ins>\n",
      "\n",
      "Full name\n",
      "Home address\n",
      "Telephone number\n",
      "Email address\n",
      "Resume information\n",
      "Interview feedback\n",
      "Compensation expectations\n",
      "Authorization to work in the United States and/or visa requirements, if applicable\n",
      "\n",
      "The Company collects the above categories of<ins> Personal Information and Sensitive</ins> Personal Information to use or disclose as appropriate to:\n",
      "Recruit and evaluate job applicants for employment\n",
      "Comply with all applicable laws and regulations\n",
      "Perform data analytics\n",
      "Exercise or defend the legal rights of the Company\n",
      "\n",
      "<ins>The Company does not sell your Personal </ins>I<del>f you ha</del><ins>nformation or Sensiti</ins>ve <ins>Personal Information. The Company may share your Personal Information or Sensitive Personal Information with [list of entities or types of entities with whom information is shared].\n",
      "\n",
      "The Company intends to retain each category of Personal Information and Sensitive Personal Information for [length of time] or until [criteria for retention]. The Company will not retain your Personal Information or Sensitive Personal Information for longer than is reasonably necessary for the disclosed purpose.\n",
      "\n",
      "If you have </ins>any questions about this Notice or need to access this Notice in an alternative format due to having a disability, please contact us at hr@recroom.com and privacy@recroom.com.<del> \n",
      "</del><ins>\n",
      "</ins>\n"
     ]
    }
   ],
   "source": [
    "sm = difflib.SequenceMatcher(None, a, b)\n",
    "print(show_diff(sm))"
   ]
  },
  {
   "cell_type": "code",
   "execution_count": 3,
   "id": "89649c68-7d6e-4ea7-af4b-ed650dfa7e83",
   "metadata": {},
   "outputs": [],
   "source": [
    "# hacky thing we could do - translate the above into text style ranges and highlight different colors based on the range\n",
    "# https://developers.google.com/docs/api/how-tos/format-text"
   ]
  },
  {
   "cell_type": "code",
   "execution_count": null,
   "id": "c9eee8e9-8e78-4db7-9c5a-c292ad8a3602",
   "metadata": {},
   "outputs": [],
   "source": []
  },
  {
   "cell_type": "code",
   "execution_count": null,
   "id": "f971a7a0-f76a-42f7-9d40-d1df811c5294",
   "metadata": {},
   "outputs": [],
   "source": []
  },
  {
   "cell_type": "code",
   "execution_count": null,
   "id": "7004e60e-cef2-4639-89f3-160a1fc338b0",
   "metadata": {},
   "outputs": [],
   "source": []
  },
  {
   "cell_type": "code",
   "execution_count": 4,
   "id": "e152f01b-5b7c-423e-9411-0e1b864aa25f",
   "metadata": {},
   "outputs": [
    {
     "data": {
      "text/plain": [
       "'lorem<span class=\"ins\"> foo</span> ipsum dolor <span class=\"del\">sit </span>amet'"
      ]
     },
     "execution_count": 4,
     "metadata": {},
     "output_type": "execute_result"
    }
   ],
   "source": [
    "# https://stackoverflow.com/questions/774316/python-difflib-highlighting-differences-inline\n",
    "def show_diff(seqm):\n",
    "    \"\"\"Unify operations between two compared strings\n",
    "seqm is a difflib.SequenceMatcher instance whose a & b are strings\"\"\"\n",
    "    output= []\n",
    "    for opcode, a0, a1, b0, b1 in seqm.get_opcodes():\n",
    "        if opcode == 'equal':\n",
    "            output.append(seqm.a[a0:a1])\n",
    "        elif opcode == 'insert':\n",
    "            output.append('<span class=\"ins\">' + seqm.b[b0:b1] + \"</span>\")\n",
    "        elif opcode == 'delete':\n",
    "            output.append('<span class=\"del\">' + seqm.a[a0:a1] + \"</span>\")\n",
    "        elif opcode == 'replace':\n",
    "            #raise NotImplementedError(\"what to do with 'replace' opcode?\")\n",
    "            output.append('<span class=\"del\">' + seqm.a[a0:a1] + \"</span>\")\n",
    "            output.append('<span class=\"ins\">' + seqm.b[b0:b1] + \"</span>\")\n",
    "        else:\n",
    "            raise RuntimeError(\"unexpected opcode\")\n",
    "    return ''.join(output)\n",
    "\n",
    "sm = difflib.SequenceMatcher(None, \"lorem ipsum dolor sit amet\", \"lorem foo ipsum dolor amet\")\n",
    "show_diff(sm)"
   ]
  },
  {
   "cell_type": "code",
   "execution_count": 11,
   "id": "d7355fae-5588-4ce8-84f4-f6dd4eaa0b41",
   "metadata": {},
   "outputs": [],
   "source": [
    "sm = difflib.SequenceMatcher(None, a, b)\n",
    "out = show_diff(sm)"
   ]
  },
  {
   "cell_type": "code",
   "execution_count": 12,
   "id": "ca57c204-5187-4572-b194-726a12c17b53",
   "metadata": {},
   "outputs": [
    {
     "name": "stdout",
     "output_type": "stream",
     "text": [
      "Rec Room Inc., a Delaware corporation (<span class=\"del\">“</span><span class=\"ins\">\"</span>Company<span class=\"del\">”</span><span class=\"ins\">\"</span>, <span class=\"del\">“</span><span class=\"ins\">\"</span>we<span class=\"del\">”</span><span class=\"ins\">\"</span>, <span class=\"del\">“us”</span><span class=\"ins\">\"us\"</span>, <span class=\"del\">“our”</span><span class=\"ins\">\"our\"</span>), may collect and use the below categories of your Personal Information<span class=\"ins\"> and Sensitive Personal Information</span>. Third parties such as Greenhouse also may collect such Personal Information on our behalf. <span class=\"del\">“</span><span class=\"ins\">\"</span>Personal Information<span class=\"del\">”</span><span class=\"ins\">\"</span> means information that identifies, relates to, describes, is reasonably capable of being associated with, or could reasonably be linked, directly or indirectly, with you.<span class=\"ins\"> Sensitive Personal Information includes [list of sensitive personal information].</span>\n",
      "\n",
      "Full name\n",
      "Home address\n",
      "Telephone number\n",
      "Email address\n",
      "Resume information\n",
      "Interview feedback\n",
      "Compensation expectations\n",
      "Authorization to work in the United States and/or visa requirements, if applicable\n",
      "\n",
      "The Company collects the above categories of<span class=\"ins\"> Personal Information and Sensitive</span> Personal Information to use or disclose as appropriate to:\n",
      "Recruit and evaluate job applicants for employment\n",
      "Comply with all applicable laws and regulations\n",
      "Perform data analytics\n",
      "Exercise or defend the legal rights of the Company\n",
      "\n",
      "<span class=\"ins\">The Company does not sell your Personal </span>I<span class=\"del\">f you ha</span><span class=\"ins\">nformation or Sensiti</span>ve <span class=\"ins\">Personal Information. The Company may share your Personal Information or Sensitive Personal Information with [list of entities or types of entities with whom information is shared].\n",
      "\n",
      "The Company intends to retain each category of Personal Information and Sensitive Personal Information for [length of time] or until [criteria for retention]. The Company will not retain your Personal Information or Sensitive Personal Information for longer than is reasonably necessary for the disclosed purpose.\n",
      "\n",
      "If you have </span>any questions about this Notice or need to access this Notice in an alternative format due to having a disability, please contact us at hr@recroom.com and privacy@recroom.com.<span class=\"del\"> \n",
      "</span><span class=\"ins\">\n",
      "</span>\n"
     ]
    }
   ],
   "source": [
    "print(out)"
   ]
  },
  {
   "cell_type": "code",
   "execution_count": 14,
   "id": "fc13c2e8-70b9-4340-b2e7-9ecf3c027c9b",
   "metadata": {},
   "outputs": [],
   "source": [
    "htmlLine = out.replace('\\n', '<br />')"
   ]
  },
  {
   "cell_type": "code",
   "execution_count": 16,
   "id": "afa2d085-9c94-467e-8095-69abbc66419b",
   "metadata": {},
   "outputs": [
    {
     "name": "stdout",
     "output_type": "stream",
     "text": [
      "Rec Room Inc., a Delaware corporation (<span class=\"del\">“</span><span class=\"ins\">\"</span>Company<span class=\"del\">”</span><span class=\"ins\">\"</span>, <span class=\"del\">“</span><span class=\"ins\">\"</span>we<span class=\"del\">”</span><span class=\"ins\">\"</span>, <span class=\"del\">“us”</span><span class=\"ins\">\"us\"</span>, <span class=\"del\">“our”</span><span class=\"ins\">\"our\"</span>), may collect and use the below categories of your Personal Information<span class=\"ins\"> and Sensitive Personal Information</span>. Third parties such as Greenhouse also may collect such Personal Information on our behalf. <span class=\"del\">“</span><span class=\"ins\">\"</span>Personal Information<span class=\"del\">”</span><span class=\"ins\">\"</span> means information that identifies, relates to, describes, is reasonably capable of being associated with, or could reasonably be linked, directly or indirectly, with you.<span class=\"ins\"> Sensitive Personal Information includes [list of sensitive personal information].</span><br /><br />Full name<br />Home address<br />Telephone number<br />Email address<br />Resume information<br />Interview feedback<br />Compensation expectations<br />Authorization to work in the United States and/or visa requirements, if applicable<br /><br />The Company collects the above categories of<span class=\"ins\"> Personal Information and Sensitive</span> Personal Information to use or disclose as appropriate to:<br />Recruit and evaluate job applicants for employment<br />Comply with all applicable laws and regulations<br />Perform data analytics<br />Exercise or defend the legal rights of the Company<br /><br /><span class=\"ins\">The Company does not sell your Personal </span>I<span class=\"del\">f you ha</span><span class=\"ins\">nformation or Sensiti</span>ve <span class=\"ins\">Personal Information. The Company may share your Personal Information or Sensitive Personal Information with [list of entities or types of entities with whom information is shared].<br /><br />The Company intends to retain each category of Personal Information and Sensitive Personal Information for [length of time] or until [criteria for retention]. The Company will not retain your Personal Information or Sensitive Personal Information for longer than is reasonably necessary for the disclosed purpose.<br /><br />If you have </span>any questions about this Notice or need to access this Notice in an alternative format due to having a disability, please contact us at hr@recroom.com and privacy@recroom.com.<span class=\"del\"> <br /></span><span class=\"ins\"><br /></span>\n"
     ]
    }
   ],
   "source": [
    "print(htmlLine)"
   ]
  },
  {
   "cell_type": "code",
   "execution_count": null,
   "id": "e865e3c7-fb69-45ac-a69d-77ab14dbff4c",
   "metadata": {},
   "outputs": [],
   "source": []
  }
 ],
 "metadata": {
  "kernelspec": {
   "display_name": "Python 3 (ipykernel)",
   "language": "python",
   "name": "python3"
  },
  "language_info": {
   "codemirror_mode": {
    "name": "ipython",
    "version": 3
   },
   "file_extension": ".py",
   "mimetype": "text/x-python",
   "name": "python",
   "nbconvert_exporter": "python",
   "pygments_lexer": "ipython3",
   "version": "3.10.10"
  }
 },
 "nbformat": 4,
 "nbformat_minor": 5
}
