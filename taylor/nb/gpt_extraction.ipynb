{
 "cells": [
  {
   "cell_type": "code",
   "execution_count": 2,
   "metadata": {},
   "outputs": [],
   "source": [
    "import tiktoken\n",
    "from pathlib import Path\n",
    "\n",
    "def count_tokens_in_file(file_path):\n",
    "    with open(file_path, 'r') as f:\n",
    "        text = f.read()\n",
    "    return count_tokens_in_text(text)\n",
    "\n",
    "def count_tokens_in_text(text):\n",
    "    encoding = tiktoken.encoding_for_model('gpt-3.5-turbo')\n",
    "    tokens = encoding.encode(text)\n",
    "    return len(tokens)\n"
   ]
  },
  {
   "cell_type": "code",
   "execution_count": null,
   "metadata": {},
   "outputs": [],
   "source": []
  },
  {
   "cell_type": "code",
   "execution_count": 3,
   "metadata": {},
   "outputs": [
    {
     "name": "stdout",
     "output_type": "stream",
     "text": [
      "The file ../data/usc/PRELIMusc11.htm contains 792446 tokens\n"
     ]
    }
   ],
   "source": [
    "\n",
    "file_path = Path('../data/usc/PRELIMusc11.htm')\n",
    "num_tokens = count_tokens_in_file(file_path)\n",
    "print(f\"The file {file_path} contains {num_tokens} tokens\")"
   ]
  },
  {
   "cell_type": "code",
   "execution_count": 4,
   "metadata": {},
   "outputs": [
    {
     "data": {
      "text/plain": [
       "47.54676"
      ]
     },
     "execution_count": 4,
     "metadata": {},
     "output_type": "execute_result"
    }
   ],
   "source": [
    "792446*(0.06/1000) # gpt-4 32k input context price"
   ]
  },
  {
   "cell_type": "code",
   "execution_count": 5,
   "metadata": {},
   "outputs": [
    {
     "data": {
      "text/plain": [
       "23.77338"
      ]
     },
     "execution_count": 5,
     "metadata": {},
     "output_type": "execute_result"
    }
   ],
   "source": [
    "792446*(0.03/1000) # gpt-4 8k input context price"
   ]
  },
  {
   "cell_type": "code",
   "execution_count": 6,
   "metadata": {},
   "outputs": [
    {
     "data": {
      "text/plain": [
       "2.377338"
      ]
     },
     "execution_count": 6,
     "metadata": {},
     "output_type": "execute_result"
    }
   ],
   "source": [
    "792446*(0.003/1000) # gpt-3 16k input context price"
   ]
  },
  {
   "cell_type": "markdown",
   "metadata": {},
   "source": []
  },
  {
   "cell_type": "code",
   "execution_count": 7,
   "metadata": {},
   "outputs": [
    {
     "data": {
      "text/plain": [
       "0.1188669"
      ]
     },
     "execution_count": 7,
     "metadata": {},
     "output_type": "execute_result"
    }
   ],
   "source": [
    "792446*(0.00015/1000) # gpt-3 4k input context price\n",
    "# gpt-3.5-turbo-instruct only 4k input"
   ]
  },
  {
   "cell_type": "code",
   "execution_count": null,
   "metadata": {},
   "outputs": [],
   "source": [
    "29,244,513"
   ]
  },
  {
   "cell_type": "code",
   "execution_count": 13,
   "metadata": {},
   "outputs": [],
   "source": [
    "excerpt = \\\n",
    "'''\n",
    "<!-- field-start:head -->\n",
    "<h3 class=\"section-head\">&sect;101. Definitions</h3>\n",
    "<!-- field-end:head -->\n",
    "<!-- field-start:statute -->\n",
    "<p class=\"statutory-body\">In this title the following definitions shall apply:</p>\n",
    "<p class=\"statutory-body-1em\">(1) The term &quot;accountant&quot; means accountant authorized under applicable law to practice public accounting, and includes professional accounting association, corporation, or partnership, if so authorized.</p>\n",
    "<p class=\"statutory-body-1em\">(2) The term &quot;affiliate&quot; means&mdash;</p>\n",
    "<p class=\"statutory-body-2em\">(A) entity that directly or indirectly owns, controls, or holds with power to vote, 20 percent or more of the outstanding voting securities of the debtor, other than an entity that holds such securities&mdash;</p>\n",
    "<p class=\"statutory-body-3em\">(i) in a fiduciary or agency capacity without sole discretionary power to vote such securities; or</p>\n",
    "<p class=\"statutory-body-3em\">(ii) solely to secure a debt, if such entity has not in fact exercised such power to vote;</p>\n",
    "<br class=\"Q04\" />\n",
    "<p class=\"statutory-body-2em\">(B) corporation 20 percent or more of whose outstanding voting securities are directly or indirectly owned, controlled, or held with power to vote, by the debtor, or by an entity that directly or indirectly owns, controls, or holds with power to vote, 20 percent or more of the outstanding voting securities of the debtor, other than an entity that holds such securities&mdash;</p>\n",
    "<p class=\"statutory-body-3em\">(i) in a fiduciary or agency capacity without sole discretionary power to vote such securities; or</p>\n",
    "<p class=\"statutory-body-3em\">(ii) solely to secure a debt, if such entity has not in fact exercised such power to vote;</p>\n",
    "<br class=\"Q04\" />\n",
    "<p class=\"statutory-body-2em\">(C) person whose business is operated under a lease or operating agreement by a debtor, or person substantially all of whose property is operated under an operating agreement with the debtor; or</p>\n",
    "<p class=\"statutory-body-2em\">(D) entity that operates the business or substantially all of the property of the debtor under a lease or operating agreement.</p>\n",
    "<br class=\"Q04\" />\n",
    "<p class=\"statutory-body-1em\">(3) The term &quot;assisted person&quot; means any person whose debts consist primarily of consumer debts and the value of whose nonexempt property is less than $150,000.<sup><a href=\"#101_1_target\" name=\"101_1\">1</a></sup></p>\n",
    "<p class=\"statutory-body-1em\">(4) The term &quot;attorney&quot; means attorney, professional law association, corporation, or partnership, authorized under applicable law to practice law.</p>\n",
    "<p class=\"statutory-body-1em\">(4A) The term &quot;bankruptcy assistance&quot; means any goods or services sold or otherwise provided to an assisted person with the express or implied purpose of providing information, advice, counsel, document preparation, or filing, or attendance at a creditors&apos; meeting or appearing in a case or proceeding on behalf of another or providing legal representation with respect to a case or proceeding under this title.</p>\n",
    "<p class=\"statutory-body-1em\">(5) The term &quot;claim&quot; means&mdash;</p>\n",
    "<p class=\"statutory-body-2em\">(A) right to payment, whether or not such right is reduced to judgment, liquidated, unliquidated, fixed, contingent, matured, unmatured, disputed, undisputed, legal, equitable, secured, or unsecured; or</p>\n",
    "<p class=\"statutory-body-2em\">(B) right to an equitable remedy for breach of performance if such breach gives rise to a right to payment, whether or not such right to an equitable remedy is reduced to judgment, fixed, contingent, matured, unmatured, disputed, undisputed, secured, or unsecured.</p>\n",
    "<br class=\"Q04\" />\n",
    "<p class=\"statutory-body-1em\">(6) The term &quot;commodity broker&quot; means futures commission merchant, foreign futures commission merchant, clearing organization, leverage transaction merchant, or commodity options dealer, as defined in section 761 of this title, with respect to which there is a customer, as defined in section 761 of this title.</p>\n",
    "<p class=\"statutory-body-1em\">(7) The term &quot;community claim&quot; means claim that arose before the commencement of the case concerning the debtor for which property of the kind specified in section 541(a)(2) of this title is liable, whether or not there is any such property at the time of the commencement of the case.</p>\n",
    "<p class=\"statutory-body-1em\">(7A) The term &quot;commercial fishing operation&quot; means&mdash;</p>\n",
    "<p class=\"statutory-body-2em\">(A) the catching or harvesting of fish, shrimp, lobsters, urchins, seaweed, shellfish, or other aquatic species or products of such species; or</p>\n",
    "<p class=\"statutory-body-2em\">(B) for purposes of section 109 and chapter 12, aquaculture activities consisting of raising for market any species or product described in subparagraph (A).</p>\n",
    "<br class=\"Q04\" />\n",
    "<p class=\"statutory-body-1em\">(7B) The term &quot;commercial fishing vessel&quot; means a vessel used by a family fisherman to carry out a commercial fishing operation.</p>\n",
    "<p class=\"statutory-body-1em\">(8) The term &quot;consumer debt&quot; means debt incurred by an individual primarily for a personal, family, or household purpose.</p>\n",
    "<p class=\"statutory-body-1em\">(9) The term &quot;corporation&quot;&mdash;</p>\n",
    "<p class=\"statutory-body-2em\">(A) includes&mdash;</p>\n",
    "<p class=\"statutory-body-3em\">(i) association having a power or privilege that a private corporation, but not an individual or a partnership, possesses;</p>\n",
    "<p class=\"statutory-body-3em\">(ii) partnership association organized under a law that makes only the capital subscribed responsible for the debts of such association;</p>\n",
    "<p class=\"statutory-body-3em\">(iii) joint-stock company;</p>\n",
    "<p class=\"statutory-body-3em\">(iv) unincorporated company or association; or</p>\n",
    "<p class=\"statutory-body-3em\">(v) business trust; but</p>\n",
    "<br class=\"Q04\" />\n",
    "<p class=\"statutory-body-2em\">(B) does not include limited partnership.</p>\n",
    "<br class=\"Q04\" />\n",
    "<p class=\"statutory-body-1em\">(10) The term &quot;creditor&quot; means&mdash;</p>\n",
    "<p class=\"statutory-body-2em\">(A) entity that has a claim against the debtor that arose at the time of or before the order for relief concerning the debtor;</p>\n",
    "<p class=\"statutory-body-2em\">(B) entity that has a claim against the estate of a kind specified in section 348(d), 502(f), 502(g), 502(h) or 502(i) of this title; or</p>\n",
    "<p class=\"statutory-body-2em\">(C) entity that has a community claim.</p>\n",
    "<br class=\"Q04\" />\n",
    "<p class=\"statutory-body-1em\">(10A) The term &quot;current monthly income&quot;&mdash;</p>\n",
    "<p class=\"statutory-body-2em\">(A) means the average monthly income from all sources that the debtor receives (or in a joint case the debtor and the debtor's spouse receive) without regard to whether such income is taxable income, derived during the 6-month period ending on&mdash;</p>\n",
    "<p class=\"statutory-body-3em\">(i) the last day of the calendar month immediately preceding the date of the commencement of the case if the debtor files the schedule of current income required by section 521(a)(1)(B)(ii); or</p>\n",
    "<p class=\"statutory-body-3em\">(ii) the date on which current income is determined by the court for purposes of this title if the debtor does not file the schedule of current income required by section 521(a)(1)(B)(ii); and</p>\n",
    "<br class=\"Q04\" />\n",
    "<p class=\"statutory-body-2em\">(B)(i) includes any amount paid by any entity other than the debtor (or in a joint case the debtor and the debtor's spouse), on a regular basis for the household expenses of the debtor or the debtor's dependents (and in a joint case the debtor's spouse if not otherwise a dependent); and</p>\n",
    "<p class=\"statutory-body-2em\">(ii) excludes&mdash;</p>\n",
    "<p class=\"statutory-body-3em\">(I) benefits received under the Social Security Act (42 U.S.C. 301 et seq.);</p>\n",
    "<p class=\"statutory-body-3em\">(II) payments to victims of war crimes or crimes against humanity on account of their status as victims of such crimes;</p>\n",
    "<p class=\"statutory-body-3em\">(III) payments to victims of international terrorism or domestic terrorism, as those terms are defined in section 2331 of title 18, on account of their status as victims of such terrorism; and</p>\n",
    "<p class=\"statutory-body-3em\">(IV) any monthly compensation, pension, pay, annuity, or allowance paid under title 10, 37, or 38 in connection with a disability, combat-related injury or disability, or death of a member of the uniformed services, except that any retired pay excluded under this subclause shall include retired pay paid under chapter 61 of title 10 only to the extent that such retired pay exceeds the amount of retired pay to which the debtor would otherwise be entitled if retired under any provision of title 10 other than chapter 61 of that title.</p>\n",
    "<br class=\"Q04\" />\n",
    "<p class=\"statutory-body-1em\">(11) The term &quot;custodian&quot; means&mdash;</p>\n",
    "<p class=\"statutory-body-2em\">(A) receiver or trustee of any of the property of the debtor, appointed in a case or proceeding not under this title;</p>\n",
    "<p class=\"statutory-body-2em\">(B) assignee under a general assignment for the benefit of the debtor's creditors; or</p>\n",
    "<p class=\"statutory-body-2em\">(C) trustee, receiver, or agent under applicable law, or under a contract, that is appointed or authorized to take charge of property of the debtor for the purpose of enforcing a lien against such property, or for the purpose of general administration of such property for the benefit of the debtor's creditors.</p>\n",
    "<br class=\"Q04\" />\n",
    "<p class=\"statutory-body-1em\">(12) The term &quot;debt&quot; means liability on a claim.</p>\n",
    "<p class=\"statutory-body-1em\">(12A) The term &quot;debt relief agency&quot; means any person who provides any bankruptcy assistance to an assisted person in return for the payment of money or other valuable consideration, or who is a bankruptcy petition preparer under section 110, but does not include&mdash;</p>\n",
    "<p class=\"statutory-body-2em\">(A) any person who is an officer, director, employee, or agent of a person who provides such assistance or of the bankruptcy petition preparer;</p>\n",
    "<p class=\"statutory-body-2em\">(B) a nonprofit organization that is exempt from taxation under section 501(c)(3) of the Internal Revenue Code of 1986;</p>\n",
    "<p class=\"statutory-body-2em\">(C) a creditor of such assisted person, to the extent that the creditor is assisting such assisted person to restructure any debt owed by such assisted person to the creditor;</p>\n",
    "<p class=\"statutory-body-2em\">(D) a depository institution (as defined in section 3 of the Federal Deposit Insurance Act) or any Federal credit union or State credit union (as those terms are defined in section 101 of the Federal Credit Union Act), or any affiliate or subsidiary of such depository institution or credit union; or</p>\n",
    "<p class=\"statutory-body-2em\">(E) an author, publisher, distributor, or seller of works subject to copyright protection under title 17, when acting in such capacity.</p>\n",
    "<br class=\"Q04\" />\n",
    "<p class=\"statutory-body-1em\">(13) The term &quot;debtor&quot; means person or municipality concerning which a case under this title has been commenced.</p>\n",
    "<p class=\"statutory-body-1em\">(13A) The term &quot;debtor's principal residence&quot;&mdash;</p>\n",
    "<p class=\"statutory-body-2em\">(A) means a residential structure if used as the principal residence by the debtor, including incidental property, without regard to whether that structure is attached to real property; and</p>\n",
    "<p class=\"statutory-body-2em\">(B) includes an individual condominium or cooperative unit, a mobile or manufactured home, or trailer if used as the principal residence by the debtor.</p>\n",
    "<br class=\"Q04\" />\n",
    "<p class=\"statutory-body-1em\">(14) The term &quot;disinterested person&quot; means a person that&mdash;</p>\n",
    "<p class=\"statutory-body-2em\">(A) is not a creditor, an equity security holder, or an insider;</p>\n",
    "<p class=\"statutory-body-2em\">(B) is not and was not, within 2 years before the date of the filing of the petition, a director, officer, or employee of the debtor; and</p>\n",
    "<p class=\"statutory-body-2em\">(C) does not have an interest materially adverse to the interest of the estate or of any class of creditors or equity security holders, by reason of any direct or indirect relationship to, connection with, or interest in, the debtor, or for any other reason.</p>\n",
    "<br class=\"Q04\" />\n",
    "<p class=\"statutory-body-1em\">(14A) The term &quot;domestic support obligation&quot; means a debt that accrues before, on, or after the date of the order for relief in a case under this title, including interest that accrues on that debt as provided under applicable nonbankruptcy law notwithstanding any other provision of this title, that is&mdash;</p>\n",
    "<p class=\"statutory-body-2em\">(A) owed to or recoverable by&mdash;</p>\n",
    "<p class=\"statutory-body-3em\">(i) a spouse, former spouse, or child of the debtor or such child's parent, legal guardian, or responsible relative; or</p>\n",
    "<p class=\"statutory-body-3em\">(ii) a governmental unit;</p>\n",
    "<br class=\"Q04\" />\n",
    "<p class=\"statutory-body-2em\">(B) in the nature of alimony, maintenance, or support (including assistance provided by a governmental unit) of such spouse, former spouse, or child of the debtor or such child's parent, without regard to whether such debt is expressly so designated;</p>\n",
    "<p class=\"statutory-body-2em\">(C) established or subject to establishment before, on, or after the date of the order for relief in a case under this title, by reason of applicable provisions of&mdash;</p>\n",
    "<p class=\"statutory-body-3em\">(i) a separation agreement, divorce decree, or property settlement agreement;</p>\n",
    "<p class=\"statutory-body-3em\">(ii) an order of a court of record; or</p>\n",
    "<p class=\"statutory-body-3em\">(iii) a determination made in accordance with applicable nonbankruptcy law by a governmental unit; and</p>\n",
    "<br class=\"Q04\" />\n",
    "<p class=\"statutory-body-2em\">(D) not assigned to a nongovernmental entity, unless that obligation is assigned voluntarily by the spouse, former spouse, child of the debtor, or such child's parent, legal guardian, or responsible relative for the purpose of collecting the debt.</p>\n",
    "<br class=\"Q04\" />\n",
    "<p class=\"statutory-body-1em\">(15) The term &quot;entity&quot; includes person, estate, trust, governmental unit, and United States trustee.</p>\n",
    "'''"
   ]
  },
  {
   "cell_type": "code",
   "execution_count": 17,
   "metadata": {},
   "outputs": [],
   "source": [
    "prompt = '''\n",
    "You are a system that accurately extracts natural language text from html content and represents it as nodes and relationships with a Cypher query for the Neo4j graph database. Below is an excerpt from an XHTML page containing the United States Code (U.S.C.), Title 11 from 2023. Extract each paragraph as its own text, which will be a property of the node. The node id should be the paragraph indexed by section, e.g. 11 U.S.C. &sect;101 (11)(B)(i). Also define the relationships between any paragraphs, such as when one paragraph references another. Return the Cypher query and nothing else.\n",
    "'''"
   ]
  },
  {
   "cell_type": "code",
   "execution_count": 19,
   "metadata": {},
   "outputs": [
    {
     "data": {
      "text/plain": [
       "3732"
      ]
     },
     "execution_count": 19,
     "metadata": {},
     "output_type": "execute_result"
    }
   ],
   "source": [
    "count_tokens_in_text(excerpt) + count_tokens_in_text(prompt)"
   ]
  },
  {
   "cell_type": "code",
   "execution_count": null,
   "metadata": {},
   "outputs": [],
   "source": []
  },
  {
   "cell_type": "markdown",
   "metadata": {},
   "source": [
    "## GPT-3.5-TURBO-INSTRUCT\n",
    "\n",
    "You are a system that accurately extracts natural language text from html content and represents it as nodes and relationships with a Cypher query for the Neo4j graph database. Below is an excerpt from an XHTML page containing the United States Code (U.S.C.), Title 11 from 2023. Extract each paragraph as its own text, which will be a property of the node. The node name should be the paragraph index, e.g. 11 U.S.C. &sect;101 (11)(B)(i). Also define the relationships between any extracted text, such as when one paragraph references another, or when text items are part of a section of the document. Return the Cypher query and nothing else.\n",
    "\n",
    "```\n",
    "<!-- field-start:head -->\n",
    "<h3 class=\"section-head\">&sect;101. Definitions</h3>\n",
    "<!-- field-end:head -->\n",
    "<!-- field-start:statute -->\n",
    "<p class=\"statutory-body\">In this title the following definitions shall apply:</p>\n",
    "<p class=\"statutory-body-1em\">(1) The term &quot;accountant&quot; means accountant authorized under applicable law to practice public accounting, and includes professional accounting association, corporation, or partnership, if so authorized.</p>\n",
    "<p class=\"statutory-body-1em\">(2) The term &quot;affiliate&quot; means&mdash;</p>\n",
    "<p class=\"statutory-body-2em\">(A) entity that directly or indirectly owns, controls, or holds with power to vote, 20 percent or more of the outstanding voting securities of the debtor, other than an entity that holds such securities&mdash;</p>\n",
    "<p class=\"statutory-body-3em\">(i) in a fiduciary or agency capacity without sole discretionary power to vote such securities; or</p>\n",
    "<p class=\"statutory-body-3em\">(ii) solely to secure a debt, if such entity has not in fact exercised such power to vote;</p>\n",
    "<br class=\"Q04\" />\n",
    "<p class=\"statutory-body-2em\">(B) corporation 20 percent or more of whose outstanding voting securities are directly or indirectly owned, controlled, or held with power to vote, by the debtor, or by an entity that directly or indirectly owns, controls, or holds with power to vote, 20 percent or more of the outstanding voting securities of the debtor, other than an entity that holds such securities&mdash;</p>\n",
    "<p class=\"statutory-body-3em\">(i) in a fiduciary or agency capacity without sole discretionary power to vote such securities; or</p>\n",
    "<p class=\"statutory-body-3em\">(ii) solely to secure a debt, if such entity has not in fact exercised such power to vote;</p>\n",
    "<br class=\"Q04\" />\n",
    "<p class=\"statutory-body-2em\">(C) person whose business is operated under a lease or operating agreement by a debtor, or person substantially all of whose property is operated under an operating agreement with the debtor; or</p>\n",
    "<p class=\"statutory-body-2em\">(D) entity that operates the business or substantially all of the property of the debtor under a lease or operating agreement.</p>\n",
    "<br class=\"Q04\" />\n",
    "<p class=\"statutory-body-1em\">(3) The term &quot;assisted person&quot; means any person whose debts consist primarily of consumer debts and the value of whose nonexempt property is less than $150,000.<sup><a href=\"#101_1_target\" name=\"101_1\">1</a></sup></p>\n",
    "<p class=\"statutory-body-1em\">(4) The term &quot;attorney&quot; means attorney, professional law association, corporation, or partnership, authorized under applicable law to practice law.</p>\n",
    "<p class=\"statutory-body-1em\">(4A) The term &quot;bankruptcy assistance&quot; means any goods or services sold or otherwise provided to an assisted person with the express or implied purpose of providing information, advice, counsel, document preparation, or filing, or attendance at a creditors&apos; meeting or appearing in a case or proceeding on behalf of another or providing legal representation with respect to a case or proceeding under this title.</p>\n",
    "<p class=\"statutory-body-1em\">(5) The term &quot;claim&quot; means&mdash;</p>\n",
    "<p class=\"statutory-body-2em\">(A) right to payment, whether or not such right is reduced to judgment, liquidated, unliquidated, fixed, contingent, matured, unmatured, disputed, undisputed, legal, equitable, secured, or unsecured; or</p>\n",
    "<p class=\"statutory-body-2em\">(B) right to an equitable remedy for breach of performance if such breach gives rise to a right to payment, whether or not such right to an equitable remedy is reduced to judgment, fixed, contingent, matured, unmatured, disputed, undisputed, secured, or unsecured.</p>\n",
    "<br class=\"Q04\" />\n",
    "<p class=\"statutory-body-1em\">(6) The term &quot;commodity broker&quot; means futures commission merchant, foreign futures commission merchant, clearing organization, leverage transaction merchant, or commodity options dealer, as defined in section 761 of this title, with respect to which there is a customer, as defined in section 761 of this title.</p>\n",
    "<p class=\"statutory-body-1em\">(7) The term &quot;community claim&quot; means claim that arose before the commencement of the case concerning the debtor for which property of the kind specified in section 541(a)(2) of this title is liable, whether or not there is any such property at the time of the commencement of the case.</p>\n",
    "<p class=\"statutory-body-1em\">(7A) The term &quot;commercial fishing operation&quot; means&mdash;</p>\n",
    "<p class=\"statutory-body-2em\">(A) the catching or harvesting of fish, shrimp, lobsters, urchins, seaweed, shellfish, or other aquatic species or products of such species; or</p>\n",
    "<p class=\"statutory-body-2em\">(B) for purposes of section 109 and chapter 12, aquaculture activities consisting of raising for market any species or product described in subparagraph (A).</p>\n",
    "<br class=\"Q04\" />\n",
    "<p class=\"statutory-body-1em\">(7B) The term &quot;commercial fishing vessel&quot; means a vessel used by a family fisherman to carry out a commercial fishing operation.</p>\n",
    "```\n",
    "\n",
    "Cypher query:\n",
    "```\n",
    "CREATE (p1:Paragraph {index: \"101\", text: \"In this title the following definitions shall apply:\"})\n",
    "CREATE (p2:Paragraph {index: \"101(1)\", text: \"The term \\\"accountant\\\" means accountant authorized under applicable law to practice public accounting, and includes professional accounting association, corporation, or partnership, if so authorized.\"})\n",
    "CREATE (p3:Paragraph {index: \"101(2)\", text: \"The term \\\"affiliate\\\" means&mdash;\"})\n",
    "CREATE (p4:Paragraph {index: \"101(2)(A)\", text: \"entity that directly or indirectly owns, controls, or holds with power to vote, 20 percent or more of the outstanding voting securities of the debtor, other than an entity that holds such securities&mdash;\"})\n",
    "CREATE (p5:Paragraph {index: \"101(2)(A)(i)\", text: \"in a fiduciary or agency capacity without sole discretionary power to vote such securities;\"})\n",
    "CREATE (p6:Paragraph {index: \"101(2)(A)(ii)\", text: \"solely to secure a debt, if such entity has not in fact exercised such power to vote;\"})\n",
    "CREATE (p7:Paragraph {index: \"101(2)(B)\", text: \"corporation 20 percent or more of whose outstanding voting securities are directly or indirectly owned, controlled, or held with power to vote, by the debtor, or by an entity that directly or indirectly owns, controls, or holds with power to vote, 20 percent or more of the outstanding voting securities of the debtor, other than an entity that holds such securities&mdash;\"})\n",
    "CREATE (p8:Paragraph {index: \"101(2)(B)(i)\", text: \"in a fiduciary or agency capacity without sole discretionary power to vote such securities;\"})\n",
    "CREATE (p9:Paragraph {index: \"101(2)(B)(ii)\", text: \"solely to secure a debt, if such entity has not in fact exercised such power to vote;\"})\n",
    "CREATE (p10:Paragraph {index: \"101(2)(C)\", text: \"person whose business is operated under a lease or operating agreement by a debtor, or person substantially all of whose property is operated under an operating agreement with the debtor;\"})\n",
    "CREATE (p11:Paragraph {index: \"101(2)(D)\", text: \"entity that operates the business or substantially all of the property of the debtor under a lease or operating agreement;\"})\n",
    "CREATE (p12:Paragraph {index: \"101(3)\", text: \"The term \\\"assisted person\\\" means any person whose debts consist primarily of consumer debts and the value of whose nonexempt property is less than $150,000.<sup><a href=\\\"#101_1_target\\\" name=\\\"101_1\\\">1</a></sup>\"})\n",
    "CREATE (p13:Paragraph {index: \"101(4)\", text: \"The term \\\"attorney\\\" means attorney, professional law association, corporation, or partnership, authorized under applicable law to practice law.\"})\n",
    "CREATE (p14:Paragraph {index: \"101(4A)\", text: \"The term \\\"bankruptcy assistance\\\" means any goods or services sold or otherwise provided to an assisted person with the express or implied purpose of providing information, advice, counsel, document preparation, or filing, or attendance at a creditors' meeting or appearing in a case or proceeding on behalf of another or providing legal representation with respect to a case or proceeding under this title.\"})\n",
    "CREATE (p15:Paragraph {index: \"101(5)\", text: \"The term \\\"claim\\\" means&mdash;\"})\n",
    "CREATE (p16:Paragraph {index: \"101(5)(A)\", text: \"right to payment, whether or not such right is reduced to judgment, liquidated, unliquidated, fixed, contingent, matured, unmatured, disputed, undisputed, legal, equitable, secured, or unsecured;\"})\n",
    "CREATE (p17:Paragraph {index: \"101(5)(B)\", text: \"right to an equitable remedy for breach of performance if such breach gives rise to a right to payment, whether or not such right to an equitable remedy is reduced to judgment, fixed, contingent, matured, unmatured, disputed, undisputed, secured, or unsecured.\"})\n",
    "CREATE (p18:Paragraph {index: \"101(6)\", text: \"The term \\\"commodity broker\\\" means futures commission merchant, foreign futures commission merchant, clearing organization, leverage transaction merchant, or commodity options dealer, as defined in section 761 of this title, with respect to which there is a customer, as defined in section 761 of this title.\"})\n",
    "CREATE (p19:Paragraph {index: \"101(7)\", text: \"The term \\\"community claim\\\" means claim that arose before the commencement of the case concerning the debtor for which property of the kind specified in section 541(a)(2) of this title is liable, whether or not there is any such property at the time of the commencement of the case.\"})\n",
    "CREATE (p20:Paragraph {index: \"101(7A)\", text: \"The term \\\"commercial fishing operation\\\" means&mdash;\"})\n",
    "CREATE (p21:Paragraph {index: \"101(7A)(A)\", text: \"the catching or harvesting of fish, shrimp, lobsters, urchins, seaweed, shellfish, or other aquatic species or products of such species;\"})\n",
    "CREATE (p22:Paragraph {index: \"101(7A)(B)\", text: \"for purposes of section 109 and chapter 12, aquaculture activities consisting of raising for market any species or product described in subparagraph (A).\"})\n",
    "CREATE (p23:Paragraph {index: \"101(7B)\", text: \"The term \\\"commercial fishing vessel\\\" means a vessel used by a family fisherman to carry out a commercial fishing operation.\"})\n",
    "\n",
    "CREATE (p1)-[:NEXT]->(p2)\n",
    "CREATE (p2)-[:NEXT]->(p3)\n",
    "CREATE (p3)-[:NEXT]->(p4)\n",
    "CREATE (p4)-[:NEXT]->(p5)\n",
    "CREATE (p5)-[:NEXT]->(p6)\n",
    "CREATE (p6)-[:NEXT]->(p7)\n",
    "CREATE (p7)-[:NEXT]->(p8)\n",
    "CREATE (p8)-[:NEXT]->(p9)\n",
    "CREATE (p9)-[:NEXT]->(p10)\n",
    "CREATE (p10)-[:NEXT]->(p11)\n",
    "CREATE (p11)-[:NEXT]->(p12)\n",
    "CREATE (p12)-[:NEXT]->(p13)\n",
    "CREATE (p13)-[:NEXT]->(p14)\n",
    "CREATE (p14)-[:NEXT]->(p15)\n",
    "CREATE (p15)-[:NEXT]->(p16)\n",
    "CREATE (p16)-[:NEXT]->(p17)\n",
    "CREATE (p17)-[:NEXT]->(p18)\n",
    "CREATE (p18)-[:NEXT]->(p19)\n",
    "CREATE (p19)-[:NEXT]->(p20)\n",
    "CREATE (p20)-[:NEXT]->(p21)\n",
    "CREATE (p21)-[:NEXT]->(p22)\n",
    "CREATE (p22)-[:NEXT]->(p23)\n",
    "```"
   ]
  },
  {
   "cell_type": "markdown",
   "metadata": {},
   "source": []
  },
  {
   "cell_type": "code",
   "execution_count": null,
   "metadata": {},
   "outputs": [],
   "source": []
  }
 ],
 "metadata": {
  "kernelspec": {
   "display_name": ".venv",
   "language": "python",
   "name": "python3"
  },
  "language_info": {
   "codemirror_mode": {
    "name": "ipython",
    "version": 3
   },
   "file_extension": ".py",
   "mimetype": "text/x-python",
   "name": "python",
   "nbconvert_exporter": "python",
   "pygments_lexer": "ipython3",
   "version": "3.10.12"
  }
 },
 "nbformat": 4,
 "nbformat_minor": 2
}
