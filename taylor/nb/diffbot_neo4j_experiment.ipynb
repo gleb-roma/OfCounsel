{
 "cells": [
  {
   "cell_type": "code",
   "execution_count": 5,
   "metadata": {},
   "outputs": [
    {
     "data": {
      "text/plain": [
       "True"
      ]
     },
     "execution_count": 5,
     "metadata": {},
     "output_type": "execute_result"
    }
   ],
   "source": [
    "from dotenv import load_dotenv\n",
    "load_dotenv()"
   ]
  },
  {
   "cell_type": "markdown",
   "metadata": {},
   "source": [
    "# Diffbot\n",
    "\n",
    "Maximum of 100,000 characters per document and 1,000,000 total characters per API request.\n",
    "\n",
    "up to 10,000 char per 1 credit (consumed in blocks, will usually be less than 10,000 chars per credit)\n",
    "\n",
    "free trial of 10,000 credits\n",
    "= 100,000,000 chars"
   ]
  },
  {
   "cell_type": "code",
   "execution_count": 6,
   "metadata": {},
   "outputs": [],
   "source": [
    "from langchain_experimental.graph_transformers.diffbot import DiffbotGraphTransformer\n",
    "import os\n",
    "\n",
    "diffbot_api_key = os.environ.get('DIFFBOT_API_KEY')\n",
    "diffbot_nlp = DiffbotGraphTransformer(diffbot_api_key=diffbot_api_key)"
   ]
  },
  {
   "cell_type": "code",
   "execution_count": 7,
   "metadata": {},
   "outputs": [],
   "source": [
    "from langchain.document_loaders import WikipediaLoader\n",
    "\n",
    "query = \"Warren Buffett\"\n",
    "raw_documents = WikipediaLoader(query=query).load()\n",
    "graph_documents = diffbot_nlp.convert_to_graph_documents(raw_documents)"
   ]
  },
  {
   "cell_type": "code",
   "execution_count": 18,
   "metadata": {},
   "outputs": [
    {
     "name": "stdout",
     "output_type": "stream",
     "text": [
      "{'title': 'Howard Buffett', 'summary': 'Howard Homan Buffett (August 13, 1903 – April 30, 1964) was an American businessman, investor, and politician. He was a four-term Republican United States Representative for the state of Nebraska. He was the father of Warren Buffett, the American billionaire businessman and investor.\\n\\n', 'source': 'https://en.wikipedia.org/wiki/Howard_Buffett'}\n"
     ]
    }
   ],
   "source": [
    "# print(graph_documents[-1].nodes[0])\n",
    "# print(graph_documents[-1].relationships[0])\n",
    "print(graph_documents[-1].source.metadata)"
   ]
  },
  {
   "cell_type": "code",
   "execution_count": 9,
   "metadata": {},
   "outputs": [
    {
     "data": {
      "text/plain": [
       "dict_keys(['nodes', 'relationships', 'source'])"
      ]
     },
     "execution_count": 9,
     "metadata": {},
     "output_type": "execute_result"
    }
   ],
   "source": [
    "graph_documents[0].__dict__.keys()"
   ]
  },
  {
   "cell_type": "code",
   "execution_count": 1,
   "metadata": {},
   "outputs": [
    {
     "ename": "NameError",
     "evalue": "name 'graph_documents' is not defined",
     "output_type": "error",
     "traceback": [
      "\u001b[0;31m---------------------------------------------------------------------------\u001b[0m",
      "\u001b[0;31mNameError\u001b[0m                                 Traceback (most recent call last)",
      "\u001b[1;32m/home/taylor/Projects/ofcounsel/research-copilot/nb/diffbot_neo4j_experiment.ipynb Cell 7\u001b[0m line \u001b[0;36m1\n\u001b[0;32m----> <a href='vscode-notebook-cell://ssh-remote%2Bdesk/home/taylor/Projects/ofcounsel/research-copilot/nb/diffbot_neo4j_experiment.ipynb#W6sdnNjb2RlLXJlbW90ZQ%3D%3D?line=0'>1</a>\u001b[0m \u001b[39mlen\u001b[39m(graph_documents)\n",
      "\u001b[0;31mNameError\u001b[0m: name 'graph_documents' is not defined"
     ]
    }
   ],
   "source": [
    "len(graph_documents)"
   ]
  },
  {
   "cell_type": "code",
   "execution_count": 1,
   "metadata": {},
   "outputs": [],
   "source": [
    "from langchain.graphs import Neo4jGraph\n",
    "\n",
    "url=\"bolt://localhost:7687\"\n",
    "username=\"neo4j\"\n",
    "password=\"ofcounsel\"\n",
    "\n",
    "graph = Neo4jGraph(\n",
    "    url=url,\n",
    "    username=username, \n",
    "    password=password\n",
    ")\n",
    "\n"
   ]
  },
  {
   "cell_type": "code",
   "execution_count": 2,
   "metadata": {},
   "outputs": [
    {
     "ename": "NameError",
     "evalue": "name 'graph_documents' is not defined",
     "output_type": "error",
     "traceback": [
      "\u001b[0;31m---------------------------------------------------------------------------\u001b[0m",
      "\u001b[0;31mNameError\u001b[0m                                 Traceback (most recent call last)",
      "\u001b[1;32m/home/taylor/Projects/ofcounsel/research-copilot/nb/diffbot_neo4j_experiment.ipynb Cell 9\u001b[0m line \u001b[0;36m1\n\u001b[0;32m----> <a href='vscode-notebook-cell://ssh-remote%2Bdesk/home/taylor/Projects/ofcounsel/research-copilot/nb/diffbot_neo4j_experiment.ipynb#X11sdnNjb2RlLXJlbW90ZQ%3D%3D?line=0'>1</a>\u001b[0m graph\u001b[39m.\u001b[39madd_graph_documents(graph_documents)\n",
      "\u001b[0;31mNameError\u001b[0m: name 'graph_documents' is not defined"
     ]
    }
   ],
   "source": [
    "graph.add_graph_documents(graph_documents)"
   ]
  },
  {
   "cell_type": "code",
   "execution_count": 3,
   "metadata": {},
   "outputs": [
    {
     "ename": "ValidationError",
     "evalue": "1 validation error for ChatOpenAI\n__root__\n  Did not find openai_api_key, please add an environment variable `OPENAI_API_KEY` which contains it, or pass  `openai_api_key` as a named parameter. (type=value_error)",
     "output_type": "error",
     "traceback": [
      "\u001b[0;31m---------------------------------------------------------------------------\u001b[0m",
      "\u001b[0;31mValidationError\u001b[0m                           Traceback (most recent call last)",
      "\u001b[1;32m/home/taylor/Projects/ofcounsel/research-copilot/nb/diffbot_neo4j_experiment.ipynb Cell 10\u001b[0m line \u001b[0;36m5\n\u001b[1;32m      <a href='vscode-notebook-cell://ssh-remote%2Bdesk/home/taylor/Projects/ofcounsel/research-copilot/nb/diffbot_neo4j_experiment.ipynb#X12sdnNjb2RlLXJlbW90ZQ%3D%3D?line=0'>1</a>\u001b[0m \u001b[39mfrom\u001b[39;00m \u001b[39mlangchain\u001b[39;00m\u001b[39m.\u001b[39;00m\u001b[39mchains\u001b[39;00m \u001b[39mimport\u001b[39;00m GraphCypherQAChain\n\u001b[1;32m      <a href='vscode-notebook-cell://ssh-remote%2Bdesk/home/taylor/Projects/ofcounsel/research-copilot/nb/diffbot_neo4j_experiment.ipynb#X12sdnNjb2RlLXJlbW90ZQ%3D%3D?line=1'>2</a>\u001b[0m \u001b[39mfrom\u001b[39;00m \u001b[39mlangchain\u001b[39;00m\u001b[39m.\u001b[39;00m\u001b[39mchat_models\u001b[39;00m \u001b[39mimport\u001b[39;00m ChatOpenAI\n\u001b[1;32m      <a href='vscode-notebook-cell://ssh-remote%2Bdesk/home/taylor/Projects/ofcounsel/research-copilot/nb/diffbot_neo4j_experiment.ipynb#X12sdnNjb2RlLXJlbW90ZQ%3D%3D?line=3'>4</a>\u001b[0m chain \u001b[39m=\u001b[39m GraphCypherQAChain\u001b[39m.\u001b[39mfrom_llm( \u001b[39m# will want to fork this probably\u001b[39;00m\n\u001b[0;32m----> <a href='vscode-notebook-cell://ssh-remote%2Bdesk/home/taylor/Projects/ofcounsel/research-copilot/nb/diffbot_neo4j_experiment.ipynb#X12sdnNjb2RlLXJlbW90ZQ%3D%3D?line=4'>5</a>\u001b[0m     cypher_llm\u001b[39m=\u001b[39mChatOpenAI(temperature\u001b[39m=\u001b[39;49m\u001b[39m0\u001b[39;49m, model_name\u001b[39m=\u001b[39;49m\u001b[39m\"\u001b[39;49m\u001b[39mgpt-3.5-turbo\u001b[39;49m\u001b[39m\"\u001b[39;49m),\n\u001b[1;32m      <a href='vscode-notebook-cell://ssh-remote%2Bdesk/home/taylor/Projects/ofcounsel/research-copilot/nb/diffbot_neo4j_experiment.ipynb#X12sdnNjb2RlLXJlbW90ZQ%3D%3D?line=5'>6</a>\u001b[0m     qa_llm\u001b[39m=\u001b[39mChatOpenAI(temperature\u001b[39m=\u001b[39m\u001b[39m0\u001b[39m, model_name\u001b[39m=\u001b[39m\u001b[39m\"\u001b[39m\u001b[39mgpt-3.5-turbo\u001b[39m\u001b[39m\"\u001b[39m),\n\u001b[1;32m      <a href='vscode-notebook-cell://ssh-remote%2Bdesk/home/taylor/Projects/ofcounsel/research-copilot/nb/diffbot_neo4j_experiment.ipynb#X12sdnNjb2RlLXJlbW90ZQ%3D%3D?line=6'>7</a>\u001b[0m     graph\u001b[39m=\u001b[39mgraph, verbose\u001b[39m=\u001b[39m\u001b[39mTrue\u001b[39;00m,\n\u001b[1;32m      <a href='vscode-notebook-cell://ssh-remote%2Bdesk/home/taylor/Projects/ofcounsel/research-copilot/nb/diffbot_neo4j_experiment.ipynb#X12sdnNjb2RlLXJlbW90ZQ%3D%3D?line=7'>8</a>\u001b[0m     \n\u001b[1;32m      <a href='vscode-notebook-cell://ssh-remote%2Bdesk/home/taylor/Projects/ofcounsel/research-copilot/nb/diffbot_neo4j_experiment.ipynb#X12sdnNjb2RlLXJlbW90ZQ%3D%3D?line=8'>9</a>\u001b[0m )\n",
      "File \u001b[0;32m~/Projects/ofcounsel/research-copilot/.venv/lib/python3.10/site-packages/langchain/load/serializable.py:75\u001b[0m, in \u001b[0;36mSerializable.__init__\u001b[0;34m(self, **kwargs)\u001b[0m\n\u001b[1;32m     74\u001b[0m \u001b[39mdef\u001b[39;00m \u001b[39m__init__\u001b[39m(\u001b[39mself\u001b[39m, \u001b[39m*\u001b[39m\u001b[39m*\u001b[39mkwargs: Any) \u001b[39m-\u001b[39m\u001b[39m>\u001b[39m \u001b[39mNone\u001b[39;00m:\n\u001b[0;32m---> 75\u001b[0m     \u001b[39msuper\u001b[39;49m()\u001b[39m.\u001b[39;49m\u001b[39m__init__\u001b[39;49m(\u001b[39m*\u001b[39;49m\u001b[39m*\u001b[39;49mkwargs)\n\u001b[1;32m     76\u001b[0m     \u001b[39mself\u001b[39m\u001b[39m.\u001b[39m_lc_kwargs \u001b[39m=\u001b[39m kwargs\n",
      "File \u001b[0;32m~/Projects/ofcounsel/research-copilot/.venv/lib/python3.10/site-packages/pydantic/v1/main.py:341\u001b[0m, in \u001b[0;36mBaseModel.__init__\u001b[0;34m(__pydantic_self__, **data)\u001b[0m\n\u001b[1;32m    339\u001b[0m values, fields_set, validation_error \u001b[39m=\u001b[39m validate_model(__pydantic_self__\u001b[39m.\u001b[39m\u001b[39m__class__\u001b[39m, data)\n\u001b[1;32m    340\u001b[0m \u001b[39mif\u001b[39;00m validation_error:\n\u001b[0;32m--> 341\u001b[0m     \u001b[39mraise\u001b[39;00m validation_error\n\u001b[1;32m    342\u001b[0m \u001b[39mtry\u001b[39;00m:\n\u001b[1;32m    343\u001b[0m     object_setattr(__pydantic_self__, \u001b[39m'\u001b[39m\u001b[39m__dict__\u001b[39m\u001b[39m'\u001b[39m, values)\n",
      "\u001b[0;31mValidationError\u001b[0m: 1 validation error for ChatOpenAI\n__root__\n  Did not find openai_api_key, please add an environment variable `OPENAI_API_KEY` which contains it, or pass  `openai_api_key` as a named parameter. (type=value_error)"
     ]
    }
   ],
   "source": [
    "from langchain.chains import GraphCypherQAChain\n",
    "from langchain.chat_models import ChatOpenAI\n",
    "\n",
    "chain = GraphCypherQAChain.from_llm( # will want to fork this probably\n",
    "    cypher_llm=ChatOpenAI(temperature=0, model_name=\"gpt-3.5-turbo\"),\n",
    "    qa_llm=ChatOpenAI(temperature=0, model_name=\"gpt-3.5-turbo\"),\n",
    "    graph=graph, verbose=True,\n",
    "    \n",
    ")"
   ]
  },
  {
   "cell_type": "code",
   "execution_count": 29,
   "metadata": {},
   "outputs": [
    {
     "name": "stdout",
     "output_type": "stream",
     "text": [
      "\n",
      "\n",
      "\u001b[1m> Entering new GraphCypherQAChain chain...\u001b[0m\n",
      "Generated Cypher:\n",
      "\u001b[32;1m\u001b[1;3mMATCH (p:Person)-[:ATTENDED]->(u:University)\n",
      "WHERE p.name = 'Warren Buffett'\n",
      "RETURN u.name\u001b[0m\n",
      "Full Context:\n",
      "\u001b[32;1m\u001b[1;3m[]\u001b[0m\n",
      "\n",
      "\u001b[1m> Finished chain.\u001b[0m\n"
     ]
    },
    {
     "data": {
      "text/plain": [
       "'Warren Buffett attended the University of Pennsylvania.'"
      ]
     },
     "execution_count": 29,
     "metadata": {},
     "output_type": "execute_result"
    }
   ],
   "source": [
    "chain.run(\"Which university did Warren Buffett attend?\")\n",
    "\n"
   ]
  },
  {
   "cell_type": "markdown",
   "metadata": {},
   "source": [
    "## Observations\n",
    "\n",
    "- Incorrect answer: Warren Buffett actually attended the University of Nebraska (maybe it'd do better with gpt-4?)\n",
    "- The generated cypher query references the relationship type ATTENDED, but it's actually EDUCATED_AT\n",
    "  - does the LLM not have access to the available types?\n",
    "- As a result, no context was returned, and thus the LLM hallucinated a response\n",
    "\n",
    "## Ideas for improvements\n",
    "- Instead, the agent should keep trying queries until something is returned, or if max attempts, fail.\n",
    "  - could look for matching node types first, then show all relationships connected to that node, or vice-versa\n",
    "- Fail if no context\n",
    "  - ideally would then look up via other sources to fill in the knowledge graph\n",
    "- store text chunks directly in neo4j as nodes with their embeddings, and link as evidence to instantiated nodes\n",
    "- can have continuously running agents navigating the graph and correcting for errors (e.g. duplicate nodes, incorrect relationships, stale data, etc.)\n",
    "  - corrections can be sent to humans for approval\n",
    "- can have agents that continuously update the graph with new information that seems relevant to recently added nodes\n",
    "- create embeddings for all node and relationship names, and use semantic similarity to assist in cypher query construction\n",
    "- at some point will need to evaluate the maximum size \n",
    "\n",
    "\n"
   ]
  },
  {
   "cell_type": "markdown",
   "metadata": {},
   "source": []
  },
  {
   "cell_type": "code",
   "execution_count": null,
   "metadata": {},
   "outputs": [],
   "source": []
  }
 ],
 "metadata": {
  "kernelspec": {
   "display_name": ".venv",
   "language": "python",
   "name": "python3"
  },
  "language_info": {
   "codemirror_mode": {
    "name": "ipython",
    "version": 3
   },
   "file_extension": ".py",
   "mimetype": "text/x-python",
   "name": "python",
   "nbconvert_exporter": "python",
   "pygments_lexer": "ipython3",
   "version": "3.10.12"
  }
 },
 "nbformat": 4,
 "nbformat_minor": 2
}
