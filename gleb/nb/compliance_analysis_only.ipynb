{
 "cells": [
  {
   "cell_type": "markdown",
   "source": [
    "# Analysis of compliance"
   ],
   "metadata": {
    "collapsed": false
   }
  },
  {
   "cell_type": "code",
   "execution_count": 1,
   "metadata": {
    "collapsed": true,
    "ExecuteTime": {
     "end_time": "2023-10-05T00:52:37.722469Z",
     "start_time": "2023-10-05T00:52:32.572105Z"
    }
   },
   "outputs": [
    {
     "name": "stdout",
     "output_type": "stream",
     "text": [
      "Requirement already satisfied: langchain in /Users/gr703z/anaconda3/lib/python3.11/site-packages (0.0.306)\r\n",
      "Requirement already satisfied: PyYAML>=5.3 in /Users/gr703z/anaconda3/lib/python3.11/site-packages (from langchain) (6.0)\r\n",
      "Requirement already satisfied: SQLAlchemy<3,>=1.4 in /Users/gr703z/anaconda3/lib/python3.11/site-packages (from langchain) (1.4.39)\r\n",
      "Requirement already satisfied: aiohttp<4.0.0,>=3.8.3 in /Users/gr703z/anaconda3/lib/python3.11/site-packages (from langchain) (3.8.3)\r\n",
      "Requirement already satisfied: anyio<4.0 in /Users/gr703z/anaconda3/lib/python3.11/site-packages (from langchain) (3.5.0)\r\n",
      "Requirement already satisfied: dataclasses-json<0.7,>=0.5.7 in /Users/gr703z/anaconda3/lib/python3.11/site-packages (from langchain) (0.6.1)\r\n",
      "Requirement already satisfied: jsonpatch<2.0,>=1.33 in /Users/gr703z/anaconda3/lib/python3.11/site-packages (from langchain) (1.33)\r\n",
      "Requirement already satisfied: langsmith<0.1.0,>=0.0.38 in /Users/gr703z/anaconda3/lib/python3.11/site-packages (from langchain) (0.0.41)\r\n",
      "Requirement already satisfied: numexpr<3.0.0,>=2.8.4 in /Users/gr703z/anaconda3/lib/python3.11/site-packages (from langchain) (2.8.4)\r\n",
      "Requirement already satisfied: numpy<2,>=1 in /Users/gr703z/anaconda3/lib/python3.11/site-packages (from langchain) (1.24.3)\r\n",
      "Requirement already satisfied: pydantic<3,>=1 in /Users/gr703z/anaconda3/lib/python3.11/site-packages (from langchain) (1.10.13)\r\n",
      "Requirement already satisfied: requests<3,>=2 in /Users/gr703z/anaconda3/lib/python3.11/site-packages (from langchain) (2.29.0)\r\n",
      "Requirement already satisfied: tenacity<9.0.0,>=8.1.0 in /Users/gr703z/anaconda3/lib/python3.11/site-packages (from langchain) (8.2.2)\r\n",
      "Requirement already satisfied: attrs>=17.3.0 in /Users/gr703z/anaconda3/lib/python3.11/site-packages (from aiohttp<4.0.0,>=3.8.3->langchain) (22.1.0)\r\n",
      "Requirement already satisfied: charset-normalizer<3.0,>=2.0 in /Users/gr703z/anaconda3/lib/python3.11/site-packages (from aiohttp<4.0.0,>=3.8.3->langchain) (2.0.4)\r\n",
      "Requirement already satisfied: multidict<7.0,>=4.5 in /Users/gr703z/anaconda3/lib/python3.11/site-packages (from aiohttp<4.0.0,>=3.8.3->langchain) (6.0.2)\r\n",
      "Requirement already satisfied: async-timeout<5.0,>=4.0.0a3 in /Users/gr703z/anaconda3/lib/python3.11/site-packages (from aiohttp<4.0.0,>=3.8.3->langchain) (4.0.2)\r\n",
      "Requirement already satisfied: yarl<2.0,>=1.0 in /Users/gr703z/anaconda3/lib/python3.11/site-packages (from aiohttp<4.0.0,>=3.8.3->langchain) (1.8.1)\r\n",
      "Requirement already satisfied: frozenlist>=1.1.1 in /Users/gr703z/anaconda3/lib/python3.11/site-packages (from aiohttp<4.0.0,>=3.8.3->langchain) (1.3.3)\r\n",
      "Requirement already satisfied: aiosignal>=1.1.2 in /Users/gr703z/anaconda3/lib/python3.11/site-packages (from aiohttp<4.0.0,>=3.8.3->langchain) (1.2.0)\r\n",
      "Requirement already satisfied: idna>=2.8 in /Users/gr703z/anaconda3/lib/python3.11/site-packages (from anyio<4.0->langchain) (3.4)\r\n",
      "Requirement already satisfied: sniffio>=1.1 in /Users/gr703z/anaconda3/lib/python3.11/site-packages (from anyio<4.0->langchain) (1.2.0)\r\n",
      "Requirement already satisfied: marshmallow<4.0.0,>=3.18.0 in /Users/gr703z/anaconda3/lib/python3.11/site-packages (from dataclasses-json<0.7,>=0.5.7->langchain) (3.20.1)\r\n",
      "Requirement already satisfied: typing-inspect<1,>=0.4.0 in /Users/gr703z/anaconda3/lib/python3.11/site-packages (from dataclasses-json<0.7,>=0.5.7->langchain) (0.9.0)\r\n",
      "Requirement already satisfied: jsonpointer>=1.9 in /Users/gr703z/anaconda3/lib/python3.11/site-packages (from jsonpatch<2.0,>=1.33->langchain) (2.1)\r\n",
      "Requirement already satisfied: typing-extensions>=4.2.0 in /Users/gr703z/anaconda3/lib/python3.11/site-packages (from pydantic<3,>=1->langchain) (4.6.3)\r\n",
      "Requirement already satisfied: urllib3<1.27,>=1.21.1 in /Users/gr703z/anaconda3/lib/python3.11/site-packages (from requests<3,>=2->langchain) (1.26.16)\r\n",
      "Requirement already satisfied: certifi>=2017.4.17 in /Users/gr703z/anaconda3/lib/python3.11/site-packages (from requests<3,>=2->langchain) (2023.5.7)\r\n",
      "Requirement already satisfied: packaging>=17.0 in /Users/gr703z/anaconda3/lib/python3.11/site-packages (from marshmallow<4.0.0,>=3.18.0->dataclasses-json<0.7,>=0.5.7->langchain) (23.0)\r\n",
      "Requirement already satisfied: mypy-extensions>=0.3.0 in /Users/gr703z/anaconda3/lib/python3.11/site-packages (from typing-inspect<1,>=0.4.0->dataclasses-json<0.7,>=0.5.7->langchain) (0.4.3)\r\n",
      "Note: you may need to restart the kernel to use updated packages.\n",
      "Requirement already satisfied: openai in /Users/gr703z/anaconda3/lib/python3.11/site-packages (0.28.1)\r\n",
      "Requirement already satisfied: requests>=2.20 in /Users/gr703z/anaconda3/lib/python3.11/site-packages (from openai) (2.29.0)\r\n",
      "Requirement already satisfied: tqdm in /Users/gr703z/anaconda3/lib/python3.11/site-packages (from openai) (4.65.0)\r\n",
      "Requirement already satisfied: aiohttp in /Users/gr703z/anaconda3/lib/python3.11/site-packages (from openai) (3.8.3)\r\n",
      "Requirement already satisfied: charset-normalizer<4,>=2 in /Users/gr703z/anaconda3/lib/python3.11/site-packages (from requests>=2.20->openai) (2.0.4)\r\n",
      "Requirement already satisfied: idna<4,>=2.5 in /Users/gr703z/anaconda3/lib/python3.11/site-packages (from requests>=2.20->openai) (3.4)\r\n",
      "Requirement already satisfied: urllib3<1.27,>=1.21.1 in /Users/gr703z/anaconda3/lib/python3.11/site-packages (from requests>=2.20->openai) (1.26.16)\r\n",
      "Requirement already satisfied: certifi>=2017.4.17 in /Users/gr703z/anaconda3/lib/python3.11/site-packages (from requests>=2.20->openai) (2023.5.7)\r\n",
      "Requirement already satisfied: attrs>=17.3.0 in /Users/gr703z/anaconda3/lib/python3.11/site-packages (from aiohttp->openai) (22.1.0)\r\n",
      "Requirement already satisfied: multidict<7.0,>=4.5 in /Users/gr703z/anaconda3/lib/python3.11/site-packages (from aiohttp->openai) (6.0.2)\r\n",
      "Requirement already satisfied: async-timeout<5.0,>=4.0.0a3 in /Users/gr703z/anaconda3/lib/python3.11/site-packages (from aiohttp->openai) (4.0.2)\r\n",
      "Requirement already satisfied: yarl<2.0,>=1.0 in /Users/gr703z/anaconda3/lib/python3.11/site-packages (from aiohttp->openai) (1.8.1)\r\n",
      "Requirement already satisfied: frozenlist>=1.1.1 in /Users/gr703z/anaconda3/lib/python3.11/site-packages (from aiohttp->openai) (1.3.3)\r\n",
      "Requirement already satisfied: aiosignal>=1.1.2 in /Users/gr703z/anaconda3/lib/python3.11/site-packages (from aiohttp->openai) (1.2.0)\r\n",
      "Note: you may need to restart the kernel to use updated packages.\n"
     ]
    }
   ],
   "source": [
    "%pip install langchain\n",
    "%pip install openai"
   ]
  },
  {
   "cell_type": "code",
   "execution_count": 18,
   "outputs": [],
   "source": [
    "from langchain.schema import (\n",
    "    AIMessage,\n",
    "    HumanMessage,\n",
    "    SystemMessage\n",
    ")\n",
    "from langchain.chat_models import ChatOpenAI\n",
    "from langchain.llms import OpenAI\n"
   ],
   "metadata": {
    "collapsed": false,
    "ExecuteTime": {
     "end_time": "2023-10-05T15:36:13.723118Z",
     "start_time": "2023-10-05T15:36:13.717394Z"
    }
   }
  },
  {
   "cell_type": "code",
   "execution_count": 19,
   "outputs": [],
   "source": [
    "# create a chat model using openAI's gpt-4 model\n",
    "chat = ChatOpenAI(model_name='gpt-4', temperature=0.2)\n",
    "\n",
    "llm = OpenAI(model_name='gpt-4', temperature=0.2)"
   ],
   "metadata": {
    "collapsed": false,
    "ExecuteTime": {
     "end_time": "2023-10-05T15:36:15.487360Z",
     "start_time": "2023-10-05T15:36:15.483772Z"
    }
   }
  },
  {
   "cell_type": "markdown",
   "source": [
    "# One shot"
   ],
   "metadata": {
    "collapsed": false
   }
  },
  {
   "cell_type": "code",
   "execution_count": 1,
   "outputs": [],
   "source": [
    "pre_prompt_analysis_only = \"\"\"ACT as a corporate attorney whose job is to check the compliance of the company's policy with the state's new laws.\n",
    "\n",
    "Your task is to identify is the provided policy complies with the new law.\n",
    "\n",
    "If the policy complies with the new law, then say so and do nothing more.\n",
    "\n",
    "Otherwise, if the policy does not comply with the law, make a general assessment how bad is the violation, and make a numbered list of what is missing from the policy or what is wrong with the policy.\n",
    "\n",
    "For example, if the policy is \"The company's address is 123 Main Street, New York, NY 10001. The company's phone number is 212-555-1234.\" and the new law is \"You have to specify the company's address, phone number, and email address.\", then the missing part is \"company's email\".\"\n",
    " \"\"\"\n"
   ],
   "metadata": {
    "collapsed": false,
    "ExecuteTime": {
     "end_time": "2023-10-05T15:21:32.580349Z",
     "start_time": "2023-10-05T15:21:32.575050Z"
    }
   }
  },
  {
   "cell_type": "code",
   "execution_count": 3,
   "outputs": [
    {
     "ename": "FileNotFoundError",
     "evalue": "[Errno 2] No such file or directory: 'data/recroom notice'",
     "output_type": "error",
     "traceback": [
      "\u001B[0;31m---------------------------------------------------------------------------\u001B[0m",
      "\u001B[0;31mFileNotFoundError\u001B[0m                         Traceback (most recent call last)",
      "Cell \u001B[0;32mIn[3], line 2\u001B[0m\n\u001B[1;32m      1\u001B[0m \u001B[38;5;66;03m# read file \"recroom notice\" into a string\u001B[39;00m\n\u001B[0;32m----> 2\u001B[0m \u001B[38;5;28;01mwith\u001B[39;00m \u001B[38;5;28mopen\u001B[39m(\u001B[38;5;124m'\u001B[39m\u001B[38;5;124mdata/recroom notice\u001B[39m\u001B[38;5;124m'\u001B[39m, \u001B[38;5;124m'\u001B[39m\u001B[38;5;124mr\u001B[39m\u001B[38;5;124m'\u001B[39m) \u001B[38;5;28;01mas\u001B[39;00m f:\n\u001B[1;32m      3\u001B[0m     policy \u001B[38;5;241m=\u001B[39m f\u001B[38;5;241m.\u001B[39mread()\n\u001B[1;32m      4\u001B[0m \u001B[38;5;28mprint\u001B[39m(policy)\n",
      "File \u001B[0;32m~/anaconda3/lib/python3.11/site-packages/IPython/core/interactiveshell.py:284\u001B[0m, in \u001B[0;36m_modified_open\u001B[0;34m(file, *args, **kwargs)\u001B[0m\n\u001B[1;32m    277\u001B[0m \u001B[38;5;28;01mif\u001B[39;00m file \u001B[38;5;129;01min\u001B[39;00m {\u001B[38;5;241m0\u001B[39m, \u001B[38;5;241m1\u001B[39m, \u001B[38;5;241m2\u001B[39m}:\n\u001B[1;32m    278\u001B[0m     \u001B[38;5;28;01mraise\u001B[39;00m \u001B[38;5;167;01mValueError\u001B[39;00m(\n\u001B[1;32m    279\u001B[0m         \u001B[38;5;124mf\u001B[39m\u001B[38;5;124m\"\u001B[39m\u001B[38;5;124mIPython won\u001B[39m\u001B[38;5;124m'\u001B[39m\u001B[38;5;124mt let you open fd=\u001B[39m\u001B[38;5;132;01m{\u001B[39;00mfile\u001B[38;5;132;01m}\u001B[39;00m\u001B[38;5;124m by default \u001B[39m\u001B[38;5;124m\"\u001B[39m\n\u001B[1;32m    280\u001B[0m         \u001B[38;5;124m\"\u001B[39m\u001B[38;5;124mas it is likely to crash IPython. If you know what you are doing, \u001B[39m\u001B[38;5;124m\"\u001B[39m\n\u001B[1;32m    281\u001B[0m         \u001B[38;5;124m\"\u001B[39m\u001B[38;5;124myou can use builtins\u001B[39m\u001B[38;5;124m'\u001B[39m\u001B[38;5;124m open.\u001B[39m\u001B[38;5;124m\"\u001B[39m\n\u001B[1;32m    282\u001B[0m     )\n\u001B[0;32m--> 284\u001B[0m \u001B[38;5;28;01mreturn\u001B[39;00m io_open(file, \u001B[38;5;241m*\u001B[39margs, \u001B[38;5;241m*\u001B[39m\u001B[38;5;241m*\u001B[39mkwargs)\n",
      "\u001B[0;31mFileNotFoundError\u001B[0m: [Errno 2] No such file or directory: 'data/recroom notice'"
     ]
    }
   ],
   "source": [
    "# read file \"recroom notice\" into a string\n",
    "with open('recroom notice', 'r') as f:\n",
    "    policy = f.read()\n",
    "print(policy)"
   ],
   "metadata": {
    "collapsed": false,
    "ExecuteTime": {
     "end_time": "2023-10-06T14:41:25.954065Z",
     "start_time": "2023-10-06T14:41:25.942351Z"
    }
   }
  },
  {
   "cell_type": "code",
   "execution_count": 3,
   "outputs": [],
   "source": [
    "law = '''\n",
    "  General Duties of Businesses that Collect Personal Information\n",
    "(a) A business that controls the collection of a consumer’s personal information shall, at or before the point of collection, inform consumers of the following:\n",
    "(1) The categories of personal information to be collected and the purposes for which the categories of personal information are collected or used and whether that information is sold or shared. A business shall not collect additional categories of personal information or use personal information collected for additional purposes that are incompatible with the disclosed purpose for which the personal information was collected without providing the consumer with notice consistent with this section.\n",
    "\n",
    "(2) If the business collects sensitive personal information, the categories of sensitive personal information to be collected and the purposes for which the categories of sensitive personal information are collected or used, and whether that information is sold or shared. A business shall not collect additional categories of sensitive personal information or use sensitive personal information collected for additional purposes that are incompatible with the disclosed purpose for which the sensitive personal information was collected without providing the consumer with notice consistent with this section.\n",
    "\n",
    "(3) The length of time the business intends to retain each category of personal information, including sensitive personal information, or if that is not possible, the criteria used to determine that period provided that a business shall not retain a consumer’s personal information or sensitive personal information for each disclosed purpose for which the personal information was collected for longer than is reasonably necessary for that disclosed purpose.\n",
    "\n",
    "'''"
   ],
   "metadata": {
    "collapsed": false,
    "ExecuteTime": {
     "end_time": "2023-10-05T15:21:36.873959Z",
     "start_time": "2023-10-05T15:21:36.868468Z"
    }
   }
  },
  {
   "cell_type": "code",
   "execution_count": 4,
   "outputs": [
    {
     "ename": "FileNotFoundError",
     "evalue": "[Errno 2] No such file or directory: 'data/definitions'",
     "output_type": "error",
     "traceback": [
      "\u001B[0;31m---------------------------------------------------------------------------\u001B[0m",
      "\u001B[0;31mFileNotFoundError\u001B[0m                         Traceback (most recent call last)",
      "Cell \u001B[0;32mIn[4], line 2\u001B[0m\n\u001B[1;32m      1\u001B[0m \u001B[38;5;66;03m# read file definitions\u001B[39;00m\n\u001B[0;32m----> 2\u001B[0m \u001B[38;5;28;01mwith\u001B[39;00m \u001B[38;5;28mopen\u001B[39m(\u001B[38;5;124m'\u001B[39m\u001B[38;5;124mdata/definitions\u001B[39m\u001B[38;5;124m'\u001B[39m, \u001B[38;5;124m'\u001B[39m\u001B[38;5;124mr\u001B[39m\u001B[38;5;124m'\u001B[39m) \u001B[38;5;28;01mas\u001B[39;00m f:\n\u001B[1;32m      3\u001B[0m     definitions \u001B[38;5;241m=\u001B[39m f\u001B[38;5;241m.\u001B[39mread()\n\u001B[1;32m      4\u001B[0m \u001B[38;5;28mprint\u001B[39m(definitions)\n",
      "File \u001B[0;32m~/anaconda3/lib/python3.11/site-packages/IPython/core/interactiveshell.py:284\u001B[0m, in \u001B[0;36m_modified_open\u001B[0;34m(file, *args, **kwargs)\u001B[0m\n\u001B[1;32m    277\u001B[0m \u001B[38;5;28;01mif\u001B[39;00m file \u001B[38;5;129;01min\u001B[39;00m {\u001B[38;5;241m0\u001B[39m, \u001B[38;5;241m1\u001B[39m, \u001B[38;5;241m2\u001B[39m}:\n\u001B[1;32m    278\u001B[0m     \u001B[38;5;28;01mraise\u001B[39;00m \u001B[38;5;167;01mValueError\u001B[39;00m(\n\u001B[1;32m    279\u001B[0m         \u001B[38;5;124mf\u001B[39m\u001B[38;5;124m\"\u001B[39m\u001B[38;5;124mIPython won\u001B[39m\u001B[38;5;124m'\u001B[39m\u001B[38;5;124mt let you open fd=\u001B[39m\u001B[38;5;132;01m{\u001B[39;00mfile\u001B[38;5;132;01m}\u001B[39;00m\u001B[38;5;124m by default \u001B[39m\u001B[38;5;124m\"\u001B[39m\n\u001B[1;32m    280\u001B[0m         \u001B[38;5;124m\"\u001B[39m\u001B[38;5;124mas it is likely to crash IPython. If you know what you are doing, \u001B[39m\u001B[38;5;124m\"\u001B[39m\n\u001B[1;32m    281\u001B[0m         \u001B[38;5;124m\"\u001B[39m\u001B[38;5;124myou can use builtins\u001B[39m\u001B[38;5;124m'\u001B[39m\u001B[38;5;124m open.\u001B[39m\u001B[38;5;124m\"\u001B[39m\n\u001B[1;32m    282\u001B[0m     )\n\u001B[0;32m--> 284\u001B[0m \u001B[38;5;28;01mreturn\u001B[39;00m io_open(file, \u001B[38;5;241m*\u001B[39margs, \u001B[38;5;241m*\u001B[39m\u001B[38;5;241m*\u001B[39mkwargs)\n",
      "\u001B[0;31mFileNotFoundError\u001B[0m: [Errno 2] No such file or directory: 'data/definitions'"
     ]
    }
   ],
   "source": [
    "# read file definitions\n",
    "with open('definitions', 'r') as f:\n",
    "    definitions = f.read()\n",
    "print(definitions)"
   ],
   "metadata": {
    "collapsed": false,
    "ExecuteTime": {
     "end_time": "2023-10-06T14:41:43.031529Z",
     "start_time": "2023-10-06T14:41:43.019455Z"
    }
   }
  },
  {
   "cell_type": "code",
   "execution_count": 28,
   "outputs": [],
   "source": [
    "from langchain.prompts import PromptTemplate\n",
    "from langchain.chains import LLMChain\n",
    "\n",
    "prompt = PromptTemplate(\n",
    "    input_variables=[\"question\", \"context\"],\n",
    "    template= \"{question}\\n\\n{context}\\n\\n\",\n",
    ")\n",
    "\n",
    "chain = LLMChain(llm=llm, prompt=prompt)"
   ],
   "metadata": {
    "collapsed": false,
    "ExecuteTime": {
     "end_time": "2023-10-05T15:49:04.009709Z",
     "start_time": "2023-10-05T15:49:04.003978Z"
    }
   }
  },
  {
   "cell_type": "code",
   "execution_count": 29,
   "outputs": [
    {
     "name": "stdout",
     "output_type": "stream",
     "text": [
      "The company's policy does not fully comply with the new law. The violations are not severe, but there are important aspects that need to be addressed to ensure full compliance. \n",
      "\n",
      "1. Missing Information on Retention Period: The policy does not specify the length of time the company intends to retain each category of personal information, including sensitive personal information. This is required under the new law.\n",
      "\n",
      "2. Missing Information on Sensitive Personal Information: The policy does not specifically mention if the company collects sensitive personal information, what categories of sensitive personal information are collected, and the purposes for which these categories of sensitive personal information are collected or used. This is a requirement under the new law.\n",
      "\n",
      "3. Lack of Clarity on Third-Party Sharing: The policy mentions that third parties may collect personal information on the company's behalf, but it does not clearly state whether this information is sold or shared, which is a requirement under the new law.\n",
      "\n",
      "4. Lack of Information on Consumer Rights: The policy does not provide information on consumers' rights under the new law, such as the right to request deletion of personal information, the right to opt out of the sale of personal information, and the right to non-discrimination for exercising their privacy rights.\n",
      "\n",
      "To address these issues, the company should:\n",
      "\n",
      "1. Specify the length of time each category of personal information is retained or the criteria used to determine this period.\n",
      "2. Clearly state whether the company collects sensitive personal information, and if so, what categories and for what purposes.\n",
      "3. Provide clear information on whether personal information is sold or shared with third parties.\n",
      "4. Include information on consumers' rights under the new law and how they can exercise these rights.\n"
     ]
    }
   ],
   "source": [
    "question1 = pre_prompt_analysis_only + f\"\"\"\n",
    "\n",
    "*** Policy ***\n",
    "{policy}\n",
    "\"\"\"\n",
    "\n",
    "context = f\"\"\"\n",
    "*** Law ***\n",
    "{law}\n",
    "\n",
    "{definitions}\n",
    "\"\"\"\n",
    "\n",
    "answer1 = chain.run({\n",
    "    'question': question1,\n",
    "    'context': context\n",
    "    })\n",
    "\n",
    "print(answer1)"
   ],
   "metadata": {
    "collapsed": false,
    "ExecuteTime": {
     "end_time": "2023-10-05T15:49:47.826557Z",
     "start_time": "2023-10-05T15:49:14.695848Z"
    }
   }
  },
  {
   "cell_type": "markdown",
   "source": [
    "## Re-run the updated policy"
   ],
   "metadata": {
    "collapsed": false
   }
  },
  {
   "cell_type": "code",
   "execution_count": 11,
   "outputs": [
    {
     "name": "stdout",
     "output_type": "stream",
     "text": [
      "The company's policy does not fully comply with the new law. Here are the issues identified:\n",
      "\n",
      "1. The policy does not clearly define what constitutes \"sensitive personal information\". According to the new law, sensitive personal information includes details like social security number, driver's license number, passport number, account log-in, financial account, debit card, or credit card number in combination with any required security or access code, password, or credentials allowing access to an account, precise geolocation, racial or ethnic origin, religious or philosophical beliefs, or union membership, contents of a consumer’s mail, email, and text messages unless the business is the intended recipient of the communication, a consumer’s genetic data, the processing of biometric information for the purpose of uniquely identifying a consumer, personal information collected and analyzed concerning a consumer’s health, and personal information collected and analyzed concerning a consumer’s sex life or sexual orientation.\n",
      "\n",
      "2. The policy does not clearly state the criteria used to determine the period of retention for each category of personal information. The new law requires businesses to disclose the length of time they intend to retain each category of personal information or the criteria used to determine that period.\n",
      "\n",
      "3. The policy does not provide a clear and easy way for consumers to submit a request or direction under the new law. The new law requires businesses to provide a mailing address, email address, internet web page, internet web portal, toll-free telephone number, or other applicable contact information for consumers to submit a request or direction.\n",
      "\n",
      "4. The policy does not clearly state that the company does not sell or share sensitive personal information. The new law requires businesses to disclose whether they sell or share sensitive personal information.\n",
      "\n",
      "5. The policy does not provide a clear definition of what constitutes \"personal information\". The new law provides a detailed definition of personal information, which includes identifiers such as a real name, alias, postal address, unique personal identifier, online identifier, Internet Protocol address, email address, account name, social security number, driver’s license number, passport number, or other similar identifiers.\n",
      "\n",
      "6. The policy does not clearly state that the company does not share personal information for cross-context behavioral advertising. The new law requires businesses to disclose whether they share personal information for cross-context behavioral advertising. \n",
      "\n",
      "7. The policy does not provide a clear definition of what constitutes \"processing\" of personal information. The new law defines processing as any operation or set of operations that are performed on personal information or on sets of personal information, whether or not by automated means. \n",
      "\n",
      "To ensure compliance with the new law, the company should revise its policy to address these issues.\n"
     ]
    }
   ],
   "source": [
    "# read policy from recoom notice upd\n",
    "with open('recroom notice upd', 'r') as f:\n",
    "    policy_upd = f.read()\n",
    "\n"
   ],
   "metadata": {
    "collapsed": false,
    "ExecuteTime": {
     "end_time": "2023-10-05T15:25:10.160707Z",
     "start_time": "2023-10-05T15:24:18.486835Z"
    }
   }
  },
  {
   "cell_type": "code",
   "execution_count": 42,
   "outputs": [
    {
     "name": "stdout",
     "output_type": "stream",
     "text": [
      "The policy of Rec Room Inc. is in compliance with the new law. The company's policy clearly outlines the categories of personal information it collects, the purposes for which this information is used, and the period for which the information is retained. The policy also states that the company does not sell or share personal information without explicit consent, which is in line with the law's requirements. Furthermore, the policy provides contact information for any questions or requests related to personal information, which is also required by the law.\n"
     ]
    }
   ],
   "source": [
    "question2 = pre_prompt_analysis_only + f\"\"\"\n",
    "\n",
    "*** Policy ***\n",
    "{policy_upd}\n",
    "\"\"\"\n",
    "\n",
    "\n",
    "answer2 = chain.run({\n",
    "    'question': question2,\n",
    "    'context': context\n",
    "    })\n",
    "\n",
    "print(answer2)"
   ],
   "metadata": {
    "collapsed": false,
    "ExecuteTime": {
     "end_time": "2023-10-05T19:16:21.801521Z",
     "start_time": "2023-10-05T19:16:10.158478Z"
    }
   }
  },
  {
   "cell_type": "code",
   "execution_count": 40,
   "outputs": [
    {
     "name": "stdout",
     "output_type": "stream",
     "text": [
      "# Privacy Policy\n",
      "\n",
      "Effective: July 25, 2023\n",
      "\n",
      "Rec Room Inc., a Delaware corporation (\"Company\", \"we\", \"our\", and their derivatives) provides the websites, [http://www.recroom.com](http://www.recroom.com/), [http://www.rec.net](http://www.rec.net/), and the subdomains of each of the foregoing (collectively, the \"Website\") and the Rec Room® video game (the \"Game\" and, with the Website, the \"Services\").\n",
      "\n",
      "This Policy sets forth how we collect, use, protect, store, and otherwise process your Personal Information (defined below). This Policy does NOT apply to information we collect offline or you provide to or is collected by any third party (except as otherwise provided below).\n",
      "\n",
      "For our practices regarding children, please see the Children's section in Section 2 below.\n",
      "\n",
      "# 1. What types of Personal Information does the Company collect?\n",
      "\n",
      "_Generally_\n",
      "\n",
      "We may collect different types of information from you depending on how you use our Services, including Personal Information. \"Personal Information\" means information that relates to an identified or identifiable natural person. The categories of Personal Information we may collect are listed below. Certain types of Personal Information may fall under more than one category.\n",
      "\n",
      "- Identifiers: We may collect your first, middle and last name, email address, username, postal address, Social Security number or employer identification number, telephone number, IP address, or display name.\n",
      "- Characteristics of protected classifications under California or federal law: We may collect your date of birth or age.\n",
      "- Commercial information: We may collect your sale history in the Game.\n",
      "- Voice data: We may receive your voice data through your microphone. Typically we do not store this information, although we reserve the right to process your voice data locally in certain public room instances for moderation purposes. For moderation purposes, some of this voice data may be recorded and sent to a third party service for additional processing. Any such recordings are anonymized and retained for 30 days. Voice data in private instances is never processed, stored or sent to third parties.\n",
      "- Sensory data: We may receive your voice through your microphone and animation data derived from your head movement and facial expressions (for example through your TrueDepth® camera on certain Apple® devices). We do not store this information.\n",
      "- Internet or other similar network activity: We may collect your play history, running/loaded dynamic link library (\"DLLs\") on your computer or data gathered from a \"small memory dump.\"\n",
      "- Categories of personal information described in Section 1798.80(e) of the California Customer Records: We may collect your first, middle, and last name, telephone number, physical characteristics, signature, Social Security number, postal address, or account number.\n",
      "- Other categories: We may collect information from the content that you create and share publicly in the Game, and information you choose to reveal in the Game through multiplayer chat or other public functions.\n",
      "\n",
      "We may also collect information that does not generally identify you but may become associated with your account. We may use information that does not identify you for any permissible business purpose under applicable law.\n",
      "\n",
      "# 2. Children Under the Age of 13\n",
      "\n",
      "This section notifies parents of our practices with respect to the collection of personal information from children under the age of 13 (\"Children\" and each a \"Child\") and the use and disclosure of such information. This section only applies to Children and supplements the other provisions of this Policy.\n",
      "\n",
      "_Junior Mode_\n",
      "\n",
      "If a user of the Game self-identifies or is identified by us as being under the age of 13, their gameplay experience will automatically be set as \"Junior Mode.\" In order to comply with the Children's Online Privacy Protection Act of 1998 and its rules (collectively, \"COPPA\"), users in \"Junior Mode\" (\"Junior Users\" and each a \"Junior User\") may have access to fewer features of the Game than non-Junior Users. This is designed to limit our access and the access of users of the Services to the Personal Information of Children. Junior Users are restricted from communicating with or otherwise making their Personal Information publicly available to other users of the Services. For example, Junior Users are unable to use \"whiteboarding\" or voice communication functions of the Game, and Junior Users' display names will be randomized/anonymized.\n",
      "\n",
      "_Registration_\n",
      "\n",
      "Junior Users may register an account with us using a registration process similar to the one adults go through; however, in compliance with COPPA, Junior Users may first be subject to a parental notice and/or consent process prior to activation of their account. To initiate the registration and/or consent process for a Junior User, we collect a Parent's email address, and the Parent is then requested to create a password for their Child's account, as well as supply additional account information and settings. We will automatically generate randomized display names for registered Junior Users.\n",
      "\n",
      "_Use/disclosure_\n",
      "\n",
      "The Personal Information we collect from/about Children is used to give Children access to certain features of the Game and communicate with a Parent about the Child's registration, including for the purpose of verifying their Child's information in connection with registration. We do not share or otherwise disclose Children's Personal Information except (1) as may be necessary to protect the safety of a Child, including by disclosing his or her Personal Information, where appropriate, to law enforcement agencies or for an investigation related to public safety; (2) to enable us to take precautions against liability; (3) to protect the safety and security of the Services; or (4) where required to do so by law or legal process.\n",
      "\n",
      "We and the third-party service providers listed below may collect or maintain Children's Personal Information through the Services.\n",
      "\n",
      "- Exit Games GmbH\n",
      "- Amplitude, Inc.\n",
      "- Google Analytics\n",
      "- Microsoft Azure\n",
      "\n",
      "Please contact us with questions about our service providers' privacy policies and collection and use practices by mail at Rec Room Inc., 87 Wall St. Seattle, WA 98121, by email at [support@recroom.com](mailto:support@recroom.com), or by phone at (314) 635-8471.\n",
      "\n",
      "At any time, parents may review their Child's Personal Information maintained by us, require us to correct or delete such Personal Information, request that we delete their Child's account, and/or refuse to permit us from further collecting or using the Child's Personal Information by contacting us using the email address provided above. To protect parents' privacy and security and the privacy and security of Children that use the Services, we may require parents to take certain steps or provide additional information, which we will keep strictly confidential, to verify a parent's identity before we provide any information or make corrections.\n",
      "\n",
      "# 3. From what sources does the Company collect Personal Information?\n",
      "\n",
      "_Directly From You_\n",
      "\n",
      "We may collect your Personal Information when you provide it to us directly. For example:\n",
      "\n",
      "- When you register for an account to use our Services, we may collect your age or date of birth, email address, phone number, username, and display name.\n",
      "- When you contact us or report a problem with the Services, we may collect records and copies of your correspondence.\n",
      "- When the Game crashes during play, we may collect your running/loaded DLLs on your computer, your username, and the data gathered from a \"small memory dump\".\n",
      "- When you use the multiplayer chat or other public functions in the Game, we may collect the information you choose to disclose such as your username.\n",
      "- When you choose to use your device microphone for voice chat. In some public room instances voice chat may be processed on device, and in some cases recorded and transmitted to a third party service for moderation purposes. Any such recordings are anonymized and stored for 30 days.\n",
      "- When you respond to a survey or questionnaire, we may collect the information provided.\n",
      "\n",
      "On Apple® devices running the iOS or iPadOS™ operating systems, Rec Room may request permission to access the following:\n",
      "\n",
      "- Microphone - Rec Room requests access to the microphone in order to support real time voice chat. Voice chat is optional and may be turned off at any time. Rec Room will continue to function (without voice chat) if you choose to deny permission.\n",
      "- TrueDepth® camera - on devices that support it, Rec Room requests access to the TrueDepth® camera in order to animate your in-game avatar in certain scenarios. This functionality is optional and may be turned off at any time. Rec Room will continue to function (without this animation feature) if you choose to deny permission. We don't store this information or share it with third parties.\n",
      "\n",
      "_Automatically From You_\n",
      "\n",
      "We may collect your Personal Information automatically as you use our Services. For example, we may collect your Personal Information as you browse our Website. For more information about our use of automatic tracking technologies and certain choices we offer you with respect to them, please see Section 4 below.\n",
      "\n",
      "_From Third Parties_\n",
      "\n",
      "We may receive Personal Information from or through third parties that help us provide or facilitate your access to the Services. For example, we may receive your Personal Information from:\n",
      "\n",
      "- Game platforms such as PlayStation, Oculus, and Steam (e.g., when you first play the Game using PlayStation®VR, Personal Information associated with your account for PlayStation™Network, including your PlayStation™Network Online ID, may be disclosed to us);\n",
      "- Multi-player platform providers;\n",
      "- Cloud computing providers;\n",
      "- Payment platform providers; and\n",
      "- Data analytics providers.\n",
      "\n",
      "We abide by this Policy when we use Personal Information provided to us by third parties. However, we do not control the Personal Information that third parties collect or how they use that Personal Information. You should review the third parties' privacy policies for more information about how they collect, use, and share information they obtain and use.\n",
      "\n",
      "# 4. How does the Company use cookies and other automatic data collection technologies?\n",
      "\n",
      "_Our Cookies_\n",
      "\n",
      "As you use the Services, we may use automatic data collection technologies, in particular, cookies, to collect certain Personal Information. Cookies are small data file identifiers that are transferred to your computer or mobile web browser that allow us and our service providers to recognize your browser or mobile device and transfer information about you and your use of our Services.\n",
      "\n",
      "_Third Party Cookies_\n",
      "\n",
      "Some cookies on the Services come from third parties. These cookies improve your experience by helping us better tailor our Services to you. For example, Google Analytics may use cookies to collect your Personal Information on our behalf to analyze your use of the Services.\n",
      "\n",
      "- Google Analytics is a web analysis service of Google Inc., 1600 Amphitheatre Parkway, Mountain View, CA 94043, United States. The Personal Information collected by Google in connection with your use of our Services is transmitted to a server of Google in the United States, where it is stored and analyzed. Google's collection and use of Personal Information is subject to Google's privacy policy: [www.google.com/policies/privacy/partners/](http://www.google.com/policies/privacy/partners/).\n",
      "\n",
      "_Choices about Cookies_\n",
      "\n",
      "You may set your browser to refuse all or some browser cookies (e.g., by opting out of Google Analytics at [http://tools.google.com/dlpage/gaoptout](http://tools.google.com/dlpage/gaoptout) or [http://www.google.com/settings/ads](http://www.google.com/settings/ads)) or to alert you when cookies are being sent. Please note that, if you disable or refuse cookies or other automatic data collection technologies, some aspects of the Services may be inaccessible or not function properly.\n",
      "\n",
      "# 5. For what purposes does the Company collect Personal Information?\n",
      "\n",
      "- To provide or improve the Services – We may use your Personal Information to process your requests to access the Services and certain of their features and to generally present and improve our Services. For example, we may use your Personal Information to improve the Game. By way of another example, we may use your microphone and camera to provide the real-time voice chat features and in-Game avatar.\n",
      "- To administer the Services – We may use your Personal Information for any lawful business purpose in connection with administering the Services. For example, if you reach out to us with a customer service inquiry, we may use your Personal Information to respond to you or to troubleshoot an issue you reported having with the Services. By way of another example, we may use your Personal Information to verify your age.\n",
      "- To market the Services – We may use your Personal Information to market our Services to you. For example, with your prior consent, we may send you news and updates about our products and Services, including special offers and promotions.\n",
      "- In furtherance of legal, health, and safety objectives – We may access, use, and share with others your Personal Information for purposes of health, safety, and other matters in the public interest. We may also provide access to your Personal Information to cooperate with official investigations or legal proceedings (e.g., in response to subpoenas, search warrants, court orders, or other legal processes). We may also provide access to protect our rights and property and those of our agents, users, and others including to enforce our agreements, policies, and our Terms of Service (available at [https://recroom.com/terms-of-service)](https://recroom.com/terms-of-service)).\n",
      "- In connection with a sale or other transfer of our business – In the event all or some of our assets are sold, assigned, transferred to, or acquired by another company due to merger, divestiture, restructuring, reorganization, dissolution, financing, acquisition, bankruptcy, or otherwise, your Personal Information may be among the transferred assets.\n",
      "- As may be described to you when collecting your Personal Information.\n",
      "\n",
      "We do not use automated decision-making in connection with the processing of your Personal Information, except to the extent necessary for age-gating functions.\n",
      "\n",
      "# 6. In what situations does the Company disclose your Personal Information?\n",
      "\n",
      "We may disclose your Personal Information:\n",
      "\n",
      "- To our subsidiaries and affiliates;\n",
      "- To our lawyers, consultants, accountants, business advisors, and similar service providers who owe us duties of confidentiality;\n",
      "- To a buyer or other successor in the event of a merger, divestiture, restructuring, reorganization, dissolution, or other sale or transfer of some or all of the Company's assets, whether as a going concern or as part of bankruptcy, liquidation, or similar proceeding, in which Personal Information held by the Company pertaining to the users of our Services is among the assets transferred;\n",
      "- To comply with any court order, law, or legal process, such as responding to a government or regulatory request;\n",
      "- To enforce any contract we may have in effect with you;\n",
      "- If we believe disclosure is necessary or appropriate to protect the rights, property, or safety of us, our users, or others; and\n",
      "- If you have consented to such a disclosure.\n",
      "\n",
      "# 7. How is my Personal Information protected?\n",
      "\n",
      "_Our Retention, Purpose Limitation, and Security Policies_\n",
      "\n",
      "We protect your Personal Information through a combination of collection, security, and retention policies.\n",
      "\n",
      "1. Limited retention. We only keep your Personal Information for as long as we need it for business and operational needs or to comply with any statutory, regulatory, or legal obligations. For example, we may retain Personal Information collected from you to support customer service inquiries and prevent repeated violations or suspected violations of the Terms of Service if your account has been banned or your access to the Services has been disabled for any reason. By way of another example, we may retain the content that you create and share publicly with the Rec Room community even after you stop using the Services.\n",
      "2. Purpose limitation. We will use your Personal Information only for the Services you choose to access and for the purposes for which you choose to share it. We will respect your requests to start or stop processing your Personal Information for marketing purposes, as well as the types of marketing messages you may wish to receive.\n",
      "3. Security measures. We use appropriate measures to ensure a level of security appropriate to the risk involved and have implemented contractual, technical, administrative, and physical security measures designed to protect Personal Information from unauthorized access, disclosure, use, and modification. For example, when you directly provide us with Personal Information, including through registration, we will encrypt that information using secure socket layer technology or similar technologies. As part of our privacy compliance processes, we review these security procedures on an ongoing basis to consider new technology and methods as necessary. However, please understand that our implementation of security measures as described in this Policy does not guarantee the security of your Personal Information.\n",
      "4. In the event of a security breach, no longer than 72 hours after we become aware of such a breach, we will notify the proper regulatory authorities and any users of the breach.\n",
      "\n",
      "_Your Practices and Activities_\n",
      "\n",
      "Your practices and activities are likewise very important for the protection your own Personal Information. You can take certain steps to help protect your Personal Information, such as being mindful of what you post in public places. For example:\n",
      "\n",
      "- Do not use your real name when selecting a username.\n",
      "- Do not post your real name in public-facing areas of the Services and do not share anything private about yourself.\n",
      "\n",
      "Users should also not pick a password that is easy to guess and should not share their password.\n",
      "\n",
      "Remember that we have no control over what third parties do with the content of such communications and no responsibility or obligation regarding third parties.\n",
      "\n",
      "_You May Request that We Delete Your Personal Information_\n",
      "\n",
      "We will also delete your Personal Information without undue delay when: (a) you request your Personal Information be deleted; (b) you delete your account, or no longer have an account (unless the Personal Information has been obscured, or de-identified so that it cannot be associated with you or your browser or device); (c) your Personal Information is no longer necessary to provide an app experience or service; and/or (d) when deletion is required by applicable law or regulations.\n",
      "\n",
      "# 8. Additional Notice for European Union and United Kingdom Residents\n",
      "\n",
      "The following applies to European Union residents pursuant to the Regulation (EU) 2016/679 of the European Parliament and of the Council of 27 April 2016 (General Data Protection Regulation) and United Kingdom residents pursuant to the Data Protection Act 2018:\n",
      "\n",
      "_Place of Business_\n",
      "\n",
      "We may store or process your Personal Information outside of the country where we collect it or which you reside. The Company has its primary place of business in the United States of America. You should understand that we may transfer some or all of your Personal Information to the United States of America to carry out certain operational and processing needs as described in this Policy.\n",
      "\n",
      "_Transfer Mechanisms_\n",
      "\n",
      "When transferring Personal Information out of the EU or UK, we implement technical, organizational, and physical safeguards to protect your Personal Information. We use European Commission approved standard contractual clauses and implement related measures required by applicable law. Please contact us if you have questions related to the relevant transfer mechanism for your Personal Information.\n",
      "\n",
      "LAWFUL BASIS\n",
      "\n",
      "We only collect, use, or store your Personal Information if:\n",
      "\n",
      "- You voluntarily provide it to us with your specific and informed consent (for example, when you sign up for marketing communications);\n",
      "- It is necessary to provide you a Service that you have requested (for example, providing you access to the Game);\n",
      "- We have a legitimate business interest that is not outweighed by your privacy rights (for example, to provide customer service); or\n",
      "- It is necessary to protect your vital interests or the vital interests of others (for example, we may collect or share Personal Information where necessary to resolve an urgent medical situation or protect the health or safety of one of our users or someone else).\n",
      "\n",
      "_Right to Access, Correct, Delete, or Restrict Processing_\n",
      "\n",
      "Subject to any limitations and exceptions under applicable law, you have the right to request access to your Personal Information and exercise a number of rights:\n",
      "\n",
      "- You have the right to correct or update certain types of Personal Information. In many cases, you can review or update your account information by accessing your account online.\n",
      "- You have the right to request deletion of your Personal Information. If you choose to have your Personal Information removed from our Services, we will carry out your request within 30 days of account verification, subject to extension, and will only retain minimal Personal Information to document your request and the actions we took to carry out your request.\n",
      "- You have the right to restrict certain processing of your Personal Information, and the right to object to some types of processing of your Personal Information.\n",
      "- You have the right to withdraw your consent at any time, including objecting to your Personal Information being used for marketing or advertising purposes.\n",
      "\n",
      "We will comply with your requests in accordance with, and subject to, applicable law. For example, the Company is not required to delete your Personal Information if it has an overriding legitimate ground for retaining that information such as to prevent fraud. Please note that we are legally prohibited from carrying out requested actions in some instances, including (1) when we are unable to confirm your identity; (2) where the request is considered excessive; and (3) where doing so would adversely affect the rights or freedoms of other individuals.\n",
      "\n",
      "_We Are Here to Help_\n",
      "\n",
      "Please email us at support@recroom.com with the subject line \"Data Subject Rights\" if you would like to exercise any of the rights described above or if you have questions regarding your rights.\n",
      "\n",
      "_Right to Complain_\n",
      "\n",
      "You have the right to lodge a complaint regarding our collection, storage, or processing of your Personal Information with a data protection supervisory authority in the country where you live or work.\n",
      "\n",
      "# 9. Additional Notice for California Residents\n",
      "\n",
      "The following applies to California residents pursuant to the California Consumer Privacy Act of 2018 (\"CCPA\"):\n",
      "\n",
      "- In the preceding 12 months, the Company may have disclosed the categories of Personal Information listed in Section 2 above to our service providers listed in Section 6 above for business purposes.\n",
      "- In the preceding 12 months, the Company has not sold Personal Information. The Company only discloses Personal Information to service providers.\n",
      "- You have the right to request that the Company disclose certain information to you about our collection and use of your Personal Information over the past 12 months. Once we receive and confirm your verifiable consumer request, we will disclose to you, to the extent retained by us:\n",
      "  - The categories of Personal Information we collected about you.\n",
      "  - The categories of sources for the Personal Information we collected about you.\n",
      "  - Our business or commercial purpose for collecting or selling that Personal Information.\n",
      "  - The categories of third parties with whom we share that Personal Information.\n",
      "  - The specific pieces of Personal Information we collected about you (also known as a data portability request).\n",
      "  - If we sold or disclosed your Personal Information for a business purpose, two separate lists disclosing: (a) sales, identifying the Personal Information categories that each category of recipient purchased; and (b) disclosures for a business purpose, identifying the Personal Information categories that each category of recipient obtained.\n",
      "- You have the right to request that the Company delete any of your Personal Information that we collected from you and retained, subject to certain exceptions. Once we receive and confirm your verifiable consumer request, we will delete (and direct our service providers to delete) your Personal Information from our records, unless an exception applies. We may deny your deletion request if retaining the information is necessary for us or our service providers to:\n",
      "  - Complete the transaction for which we collected the Personal Information, provide the Service that you requested, take actions reasonably anticipated within the context of our ongoing business relationship with you, or otherwise perform our contract with you.\n",
      "  - Detect security incidents, protect against malicious, deceptive, fraudulent, or illegal activity, or prosecute those responsible for such activities.\n",
      "  - Debug the Services to identify and repair errors that impair existing intended functionality.\n",
      "  - Exercise free speech, ensure the right of another user to exercise their free speech rights, or exercise another right provided for by law.\n",
      "  - Comply with the California Electronic Communications Privacy Act (Cal. Penal Code § 1546 et. seq.).\n",
      "  - Engage in public or peer-reviewed scientific, historical, or statistical research in the public interest that adheres to all other applicable ethics and privacy laws, when the information's deletion may likely render impossible or seriously impair the research's achievement, if you previously provided informed consent.\n",
      "  - Enable solely internal uses that are reasonably aligned with user expectations based on your relationship with us.\n",
      "  - Comply with a legal obligation.\n",
      "  - Make other internal and lawful uses of that information that are compatible with the context in which you provided it.\n",
      "\n",
      "We will not discriminate against you for exercising any of your CCPA rights. Unless permitted by the CCPA, we will not:\n",
      "\n",
      "- Deny you the Services.\n",
      "- Charge you different prices or rates for the Services, including through granting discounts or other benefits, or imposing penalties.\n",
      "- Provide you a different level or quality of the Services.\n",
      "- Suggest that you may receive a different price or rate for the Services or a different level or quality of the Services.\n",
      "\n",
      "_Verifiable Consumer Requests_\n",
      "\n",
      "To exercise your rights described above, please email us at support@recroom.com with the subject line \"CCPA\". Only you, or someone legally authorized to act on your behalf, may make a verifiable consumer request related to your Personal Information. You may also make a verifiable consumer request on behalf of your Child. You may only make a verifiable consumer request for access or data portability twice within a 12-month period. The verifiable consumer request must:\n",
      "\n",
      "- Provide sufficient information that allows us to reasonably verify you are the person about whom we collected Personal Information or an authorized representative.\n",
      "- Describe your request with sufficient detail that allows us to properly understand, evaluate, and respond to it.\n",
      "\n",
      "We cannot respond to your request or provide you with Personal Information if we cannot verify your identity or authority to make the request and confirm that the Personal Information relates to you. Making a verifiable consumer request does not require you to create an account with us. We will only use Personal Information provided in a verifiable consumer request to verify your identity or authority to make the request.\n",
      "\n",
      "_Response Timing and Format_\n",
      "\n",
      "We endeavor to respond to a verifiable consumer request within 30 days of its receipt. If we require more time, we will inform you of the reason and extension period in writing. If you have an account with us, we will deliver our written response to that account. If you do not have an account with us, we will deliver our written response by mail or electronically, at your option.\n",
      "\n",
      "Any disclosures we provide will only cover the 12-month period preceding the receipt of verifiable consumer request. The response we provide will also explain the reasons we cannot comply with a request, if applicable.\n",
      "\n",
      "For data portability requests, we will select a format to provide your Personal Information that is readily useable and should allow you to transmit the information from one entity to another entity without hindrance.\n",
      "\n",
      "We do not charge a fee to process or respond to your verifiable consumer request unless it is excessive, repetitive, or manifestly unfounded. If we determine that the request warrants a fee, we will tell you why we made that decision and provide you with a cost estimate before completing your request.\n",
      "\n",
      "# 10. How will the Company notify users of changes to this Policy?\n",
      "\n",
      "The Company reserves the right to change this Policy from time to time consistent with applicable law. If we make changes to this Policy, we will notify you by revising the date at the top of this Policy, and in some cases, we may provide you with additional notice (such as adding a statement in the Game or the homepages of our Services, or sending you an email notification).\n",
      "\n",
      "In the event that any changes we make to Policy affect Children in a way that requires prior parental consent under COPPA, we will obtain such prior parental consent.\n",
      "\n",
      "# 11. How can someone contact the Company?\n",
      "\n",
      "If you have questions, you may email us at [support@recroom.com](mailto:support@recroom.com).\n",
      "\n"
     ]
    }
   ],
   "source": [
    "# read the complete policy from RecRoom\n",
    "with open('RecRoom_complete.md', 'r') as f:\n",
    "    policy_rr_complete = f.read()\n",
    "print(policy_rr_complete)"
   ],
   "metadata": {
    "collapsed": false,
    "ExecuteTime": {
     "end_time": "2023-10-05T19:15:38.312912Z",
     "start_time": "2023-10-05T19:15:38.307501Z"
    }
   }
  },
  {
   "cell_type": "code",
   "execution_count": 43,
   "outputs": [
    {
     "name": "stderr",
     "output_type": "stream",
     "text": [
      "WARNING:langchain.llms.base:Retrying langchain.llms.openai.completion_with_retry.<locals>._completion_with_retry in 4.0 seconds as it raised RateLimitError: Rate limit reached for 10KTPM-200RPM in organization org-rCiGgWNN24FEc7FbvDSLKfAT on tokens per min. Limit: 10000 / min. Please try again in 6ms. Contact us through our help center at help.openai.com if you continue to have issues..\n",
      "WARNING:langchain.llms.base:Retrying langchain.llms.openai.completion_with_retry.<locals>._completion_with_retry in 4.0 seconds as it raised RateLimitError: Rate limit reached for 10KTPM-200RPM in organization org-rCiGgWNN24FEc7FbvDSLKfAT on tokens per min. Limit: 10000 / min. Please try again in 6ms. Contact us through our help center at help.openai.com if you continue to have issues..\n",
      "WARNING:langchain.llms.base:Retrying langchain.llms.openai.completion_with_retry.<locals>._completion_with_retry in 4.0 seconds as it raised RateLimitError: Rate limit reached for 10KTPM-200RPM in organization org-rCiGgWNN24FEc7FbvDSLKfAT on tokens per min. Limit: 10000 / min. Please try again in 6ms. Contact us through our help center at help.openai.com if you continue to have issues..\n"
     ]
    },
    {
     "ename": "KeyboardInterrupt",
     "evalue": "",
     "output_type": "error",
     "traceback": [
      "\u001B[0;31m---------------------------------------------------------------------------\u001B[0m",
      "\u001B[0;31mKeyboardInterrupt\u001B[0m                         Traceback (most recent call last)",
      "Cell \u001B[0;32mIn[43], line 8\u001B[0m\n\u001B[1;32m      1\u001B[0m question3 \u001B[38;5;241m=\u001B[39m pre_prompt_analysis_only \u001B[38;5;241m+\u001B[39m \u001B[38;5;124mf\u001B[39m\u001B[38;5;124m\"\"\"\u001B[39m\n\u001B[1;32m      2\u001B[0m \n\u001B[1;32m      3\u001B[0m \u001B[38;5;124m*** Policy ***\u001B[39m\n\u001B[1;32m      4\u001B[0m \u001B[38;5;132;01m{\u001B[39;00mpolicy_rr_complete\u001B[38;5;132;01m}\u001B[39;00m\n\u001B[1;32m      5\u001B[0m \u001B[38;5;124m\"\"\"\u001B[39m\n\u001B[0;32m----> 8\u001B[0m answer3 \u001B[38;5;241m=\u001B[39m chain\u001B[38;5;241m.\u001B[39mrun({\n\u001B[1;32m      9\u001B[0m     \u001B[38;5;124m'\u001B[39m\u001B[38;5;124mquestion\u001B[39m\u001B[38;5;124m'\u001B[39m: question3,\n\u001B[1;32m     10\u001B[0m     \u001B[38;5;124m'\u001B[39m\u001B[38;5;124mcontext\u001B[39m\u001B[38;5;124m'\u001B[39m: context\n\u001B[1;32m     11\u001B[0m     })\n\u001B[1;32m     13\u001B[0m \u001B[38;5;28mprint\u001B[39m(answer3)\n",
      "File \u001B[0;32m~/anaconda3/lib/python3.11/site-packages/langchain/chains/base.py:507\u001B[0m, in \u001B[0;36mChain.run\u001B[0;34m(self, callbacks, tags, metadata, *args, **kwargs)\u001B[0m\n\u001B[1;32m    505\u001B[0m     \u001B[38;5;28;01mif\u001B[39;00m \u001B[38;5;28mlen\u001B[39m(args) \u001B[38;5;241m!=\u001B[39m \u001B[38;5;241m1\u001B[39m:\n\u001B[1;32m    506\u001B[0m         \u001B[38;5;28;01mraise\u001B[39;00m \u001B[38;5;167;01mValueError\u001B[39;00m(\u001B[38;5;124m\"\u001B[39m\u001B[38;5;124m`run` supports only one positional argument.\u001B[39m\u001B[38;5;124m\"\u001B[39m)\n\u001B[0;32m--> 507\u001B[0m     \u001B[38;5;28;01mreturn\u001B[39;00m \u001B[38;5;28mself\u001B[39m(args[\u001B[38;5;241m0\u001B[39m], callbacks\u001B[38;5;241m=\u001B[39mcallbacks, tags\u001B[38;5;241m=\u001B[39mtags, metadata\u001B[38;5;241m=\u001B[39mmetadata)[\n\u001B[1;32m    508\u001B[0m         _output_key\n\u001B[1;32m    509\u001B[0m     ]\n\u001B[1;32m    511\u001B[0m \u001B[38;5;28;01mif\u001B[39;00m kwargs \u001B[38;5;129;01mand\u001B[39;00m \u001B[38;5;129;01mnot\u001B[39;00m args:\n\u001B[1;32m    512\u001B[0m     \u001B[38;5;28;01mreturn\u001B[39;00m \u001B[38;5;28mself\u001B[39m(kwargs, callbacks\u001B[38;5;241m=\u001B[39mcallbacks, tags\u001B[38;5;241m=\u001B[39mtags, metadata\u001B[38;5;241m=\u001B[39mmetadata)[\n\u001B[1;32m    513\u001B[0m         _output_key\n\u001B[1;32m    514\u001B[0m     ]\n",
      "File \u001B[0;32m~/anaconda3/lib/python3.11/site-packages/langchain/chains/base.py:312\u001B[0m, in \u001B[0;36mChain.__call__\u001B[0;34m(self, inputs, return_only_outputs, callbacks, tags, metadata, run_name, include_run_info)\u001B[0m\n\u001B[1;32m    310\u001B[0m \u001B[38;5;28;01mexcept\u001B[39;00m \u001B[38;5;167;01mBaseException\u001B[39;00m \u001B[38;5;28;01mas\u001B[39;00m e:\n\u001B[1;32m    311\u001B[0m     run_manager\u001B[38;5;241m.\u001B[39mon_chain_error(e)\n\u001B[0;32m--> 312\u001B[0m     \u001B[38;5;28;01mraise\u001B[39;00m e\n\u001B[1;32m    313\u001B[0m run_manager\u001B[38;5;241m.\u001B[39mon_chain_end(outputs)\n\u001B[1;32m    314\u001B[0m final_outputs: Dict[\u001B[38;5;28mstr\u001B[39m, Any] \u001B[38;5;241m=\u001B[39m \u001B[38;5;28mself\u001B[39m\u001B[38;5;241m.\u001B[39mprep_outputs(\n\u001B[1;32m    315\u001B[0m     inputs, outputs, return_only_outputs\n\u001B[1;32m    316\u001B[0m )\n",
      "File \u001B[0;32m~/anaconda3/lib/python3.11/site-packages/langchain/chains/base.py:306\u001B[0m, in \u001B[0;36mChain.__call__\u001B[0;34m(self, inputs, return_only_outputs, callbacks, tags, metadata, run_name, include_run_info)\u001B[0m\n\u001B[1;32m    299\u001B[0m run_manager \u001B[38;5;241m=\u001B[39m callback_manager\u001B[38;5;241m.\u001B[39mon_chain_start(\n\u001B[1;32m    300\u001B[0m     dumpd(\u001B[38;5;28mself\u001B[39m),\n\u001B[1;32m    301\u001B[0m     inputs,\n\u001B[1;32m    302\u001B[0m     name\u001B[38;5;241m=\u001B[39mrun_name,\n\u001B[1;32m    303\u001B[0m )\n\u001B[1;32m    304\u001B[0m \u001B[38;5;28;01mtry\u001B[39;00m:\n\u001B[1;32m    305\u001B[0m     outputs \u001B[38;5;241m=\u001B[39m (\n\u001B[0;32m--> 306\u001B[0m         \u001B[38;5;28mself\u001B[39m\u001B[38;5;241m.\u001B[39m_call(inputs, run_manager\u001B[38;5;241m=\u001B[39mrun_manager)\n\u001B[1;32m    307\u001B[0m         \u001B[38;5;28;01mif\u001B[39;00m new_arg_supported\n\u001B[1;32m    308\u001B[0m         \u001B[38;5;28;01melse\u001B[39;00m \u001B[38;5;28mself\u001B[39m\u001B[38;5;241m.\u001B[39m_call(inputs)\n\u001B[1;32m    309\u001B[0m     )\n\u001B[1;32m    310\u001B[0m \u001B[38;5;28;01mexcept\u001B[39;00m \u001B[38;5;167;01mBaseException\u001B[39;00m \u001B[38;5;28;01mas\u001B[39;00m e:\n\u001B[1;32m    311\u001B[0m     run_manager\u001B[38;5;241m.\u001B[39mon_chain_error(e)\n",
      "File \u001B[0;32m~/anaconda3/lib/python3.11/site-packages/langchain/chains/llm.py:93\u001B[0m, in \u001B[0;36mLLMChain._call\u001B[0;34m(self, inputs, run_manager)\u001B[0m\n\u001B[1;32m     88\u001B[0m \u001B[38;5;28;01mdef\u001B[39;00m \u001B[38;5;21m_call\u001B[39m(\n\u001B[1;32m     89\u001B[0m     \u001B[38;5;28mself\u001B[39m,\n\u001B[1;32m     90\u001B[0m     inputs: Dict[\u001B[38;5;28mstr\u001B[39m, Any],\n\u001B[1;32m     91\u001B[0m     run_manager: Optional[CallbackManagerForChainRun] \u001B[38;5;241m=\u001B[39m \u001B[38;5;28;01mNone\u001B[39;00m,\n\u001B[1;32m     92\u001B[0m ) \u001B[38;5;241m-\u001B[39m\u001B[38;5;241m>\u001B[39m Dict[\u001B[38;5;28mstr\u001B[39m, \u001B[38;5;28mstr\u001B[39m]:\n\u001B[0;32m---> 93\u001B[0m     response \u001B[38;5;241m=\u001B[39m \u001B[38;5;28mself\u001B[39m\u001B[38;5;241m.\u001B[39mgenerate([inputs], run_manager\u001B[38;5;241m=\u001B[39mrun_manager)\n\u001B[1;32m     94\u001B[0m     \u001B[38;5;28;01mreturn\u001B[39;00m \u001B[38;5;28mself\u001B[39m\u001B[38;5;241m.\u001B[39mcreate_outputs(response)[\u001B[38;5;241m0\u001B[39m]\n",
      "File \u001B[0;32m~/anaconda3/lib/python3.11/site-packages/langchain/chains/llm.py:103\u001B[0m, in \u001B[0;36mLLMChain.generate\u001B[0;34m(self, input_list, run_manager)\u001B[0m\n\u001B[1;32m    101\u001B[0m \u001B[38;5;250m\u001B[39m\u001B[38;5;124;03m\"\"\"Generate LLM result from inputs.\"\"\"\u001B[39;00m\n\u001B[1;32m    102\u001B[0m prompts, stop \u001B[38;5;241m=\u001B[39m \u001B[38;5;28mself\u001B[39m\u001B[38;5;241m.\u001B[39mprep_prompts(input_list, run_manager\u001B[38;5;241m=\u001B[39mrun_manager)\n\u001B[0;32m--> 103\u001B[0m \u001B[38;5;28;01mreturn\u001B[39;00m \u001B[38;5;28mself\u001B[39m\u001B[38;5;241m.\u001B[39mllm\u001B[38;5;241m.\u001B[39mgenerate_prompt(\n\u001B[1;32m    104\u001B[0m     prompts,\n\u001B[1;32m    105\u001B[0m     stop,\n\u001B[1;32m    106\u001B[0m     callbacks\u001B[38;5;241m=\u001B[39mrun_manager\u001B[38;5;241m.\u001B[39mget_child() \u001B[38;5;28;01mif\u001B[39;00m run_manager \u001B[38;5;28;01melse\u001B[39;00m \u001B[38;5;28;01mNone\u001B[39;00m,\n\u001B[1;32m    107\u001B[0m     \u001B[38;5;241m*\u001B[39m\u001B[38;5;241m*\u001B[39m\u001B[38;5;28mself\u001B[39m\u001B[38;5;241m.\u001B[39mllm_kwargs,\n\u001B[1;32m    108\u001B[0m )\n",
      "File \u001B[0;32m~/anaconda3/lib/python3.11/site-packages/langchain/llms/base.py:509\u001B[0m, in \u001B[0;36mBaseLLM.generate_prompt\u001B[0;34m(self, prompts, stop, callbacks, **kwargs)\u001B[0m\n\u001B[1;32m    501\u001B[0m \u001B[38;5;28;01mdef\u001B[39;00m \u001B[38;5;21mgenerate_prompt\u001B[39m(\n\u001B[1;32m    502\u001B[0m     \u001B[38;5;28mself\u001B[39m,\n\u001B[1;32m    503\u001B[0m     prompts: List[PromptValue],\n\u001B[0;32m   (...)\u001B[0m\n\u001B[1;32m    506\u001B[0m     \u001B[38;5;241m*\u001B[39m\u001B[38;5;241m*\u001B[39mkwargs: Any,\n\u001B[1;32m    507\u001B[0m ) \u001B[38;5;241m-\u001B[39m\u001B[38;5;241m>\u001B[39m LLMResult:\n\u001B[1;32m    508\u001B[0m     prompt_strings \u001B[38;5;241m=\u001B[39m [p\u001B[38;5;241m.\u001B[39mto_string() \u001B[38;5;28;01mfor\u001B[39;00m p \u001B[38;5;129;01min\u001B[39;00m prompts]\n\u001B[0;32m--> 509\u001B[0m     \u001B[38;5;28;01mreturn\u001B[39;00m \u001B[38;5;28mself\u001B[39m\u001B[38;5;241m.\u001B[39mgenerate(prompt_strings, stop\u001B[38;5;241m=\u001B[39mstop, callbacks\u001B[38;5;241m=\u001B[39mcallbacks, \u001B[38;5;241m*\u001B[39m\u001B[38;5;241m*\u001B[39mkwargs)\n",
      "File \u001B[0;32m~/anaconda3/lib/python3.11/site-packages/langchain/llms/base.py:658\u001B[0m, in \u001B[0;36mBaseLLM.generate\u001B[0;34m(self, prompts, stop, callbacks, tags, metadata, run_name, **kwargs)\u001B[0m\n\u001B[1;32m    643\u001B[0m         \u001B[38;5;28;01mraise\u001B[39;00m \u001B[38;5;167;01mValueError\u001B[39;00m(\n\u001B[1;32m    644\u001B[0m             \u001B[38;5;124m\"\u001B[39m\u001B[38;5;124mAsked to cache, but no cache found at `langchain.cache`.\u001B[39m\u001B[38;5;124m\"\u001B[39m\n\u001B[1;32m    645\u001B[0m         )\n\u001B[1;32m    646\u001B[0m     run_managers \u001B[38;5;241m=\u001B[39m [\n\u001B[1;32m    647\u001B[0m         callback_manager\u001B[38;5;241m.\u001B[39mon_llm_start(\n\u001B[1;32m    648\u001B[0m             dumpd(\u001B[38;5;28mself\u001B[39m),\n\u001B[0;32m   (...)\u001B[0m\n\u001B[1;32m    656\u001B[0m         )\n\u001B[1;32m    657\u001B[0m     ]\n\u001B[0;32m--> 658\u001B[0m     output \u001B[38;5;241m=\u001B[39m \u001B[38;5;28mself\u001B[39m\u001B[38;5;241m.\u001B[39m_generate_helper(\n\u001B[1;32m    659\u001B[0m         prompts, stop, run_managers, \u001B[38;5;28mbool\u001B[39m(new_arg_supported), \u001B[38;5;241m*\u001B[39m\u001B[38;5;241m*\u001B[39mkwargs\n\u001B[1;32m    660\u001B[0m     )\n\u001B[1;32m    661\u001B[0m     \u001B[38;5;28;01mreturn\u001B[39;00m output\n\u001B[1;32m    662\u001B[0m \u001B[38;5;28;01mif\u001B[39;00m \u001B[38;5;28mlen\u001B[39m(missing_prompts) \u001B[38;5;241m>\u001B[39m \u001B[38;5;241m0\u001B[39m:\n",
      "File \u001B[0;32m~/anaconda3/lib/python3.11/site-packages/langchain/llms/base.py:546\u001B[0m, in \u001B[0;36mBaseLLM._generate_helper\u001B[0;34m(self, prompts, stop, run_managers, new_arg_supported, **kwargs)\u001B[0m\n\u001B[1;32m    544\u001B[0m     \u001B[38;5;28;01mfor\u001B[39;00m run_manager \u001B[38;5;129;01min\u001B[39;00m run_managers:\n\u001B[1;32m    545\u001B[0m         run_manager\u001B[38;5;241m.\u001B[39mon_llm_error(e)\n\u001B[0;32m--> 546\u001B[0m     \u001B[38;5;28;01mraise\u001B[39;00m e\n\u001B[1;32m    547\u001B[0m flattened_outputs \u001B[38;5;241m=\u001B[39m output\u001B[38;5;241m.\u001B[39mflatten()\n\u001B[1;32m    548\u001B[0m \u001B[38;5;28;01mfor\u001B[39;00m manager, flattened_output \u001B[38;5;129;01min\u001B[39;00m \u001B[38;5;28mzip\u001B[39m(run_managers, flattened_outputs):\n",
      "File \u001B[0;32m~/anaconda3/lib/python3.11/site-packages/langchain/llms/base.py:533\u001B[0m, in \u001B[0;36mBaseLLM._generate_helper\u001B[0;34m(self, prompts, stop, run_managers, new_arg_supported, **kwargs)\u001B[0m\n\u001B[1;32m    523\u001B[0m \u001B[38;5;28;01mdef\u001B[39;00m \u001B[38;5;21m_generate_helper\u001B[39m(\n\u001B[1;32m    524\u001B[0m     \u001B[38;5;28mself\u001B[39m,\n\u001B[1;32m    525\u001B[0m     prompts: List[\u001B[38;5;28mstr\u001B[39m],\n\u001B[0;32m   (...)\u001B[0m\n\u001B[1;32m    529\u001B[0m     \u001B[38;5;241m*\u001B[39m\u001B[38;5;241m*\u001B[39mkwargs: Any,\n\u001B[1;32m    530\u001B[0m ) \u001B[38;5;241m-\u001B[39m\u001B[38;5;241m>\u001B[39m LLMResult:\n\u001B[1;32m    531\u001B[0m     \u001B[38;5;28;01mtry\u001B[39;00m:\n\u001B[1;32m    532\u001B[0m         output \u001B[38;5;241m=\u001B[39m (\n\u001B[0;32m--> 533\u001B[0m             \u001B[38;5;28mself\u001B[39m\u001B[38;5;241m.\u001B[39m_generate(\n\u001B[1;32m    534\u001B[0m                 prompts,\n\u001B[1;32m    535\u001B[0m                 stop\u001B[38;5;241m=\u001B[39mstop,\n\u001B[1;32m    536\u001B[0m                 \u001B[38;5;66;03m# TODO: support multiple run managers\u001B[39;00m\n\u001B[1;32m    537\u001B[0m                 run_manager\u001B[38;5;241m=\u001B[39mrun_managers[\u001B[38;5;241m0\u001B[39m] \u001B[38;5;28;01mif\u001B[39;00m run_managers \u001B[38;5;28;01melse\u001B[39;00m \u001B[38;5;28;01mNone\u001B[39;00m,\n\u001B[1;32m    538\u001B[0m                 \u001B[38;5;241m*\u001B[39m\u001B[38;5;241m*\u001B[39mkwargs,\n\u001B[1;32m    539\u001B[0m             )\n\u001B[1;32m    540\u001B[0m             \u001B[38;5;28;01mif\u001B[39;00m new_arg_supported\n\u001B[1;32m    541\u001B[0m             \u001B[38;5;28;01melse\u001B[39;00m \u001B[38;5;28mself\u001B[39m\u001B[38;5;241m.\u001B[39m_generate(prompts, stop\u001B[38;5;241m=\u001B[39mstop)\n\u001B[1;32m    542\u001B[0m         )\n\u001B[1;32m    543\u001B[0m     \u001B[38;5;28;01mexcept\u001B[39;00m \u001B[38;5;167;01mBaseException\u001B[39;00m \u001B[38;5;28;01mas\u001B[39;00m e:\n\u001B[1;32m    544\u001B[0m         \u001B[38;5;28;01mfor\u001B[39;00m run_manager \u001B[38;5;129;01min\u001B[39;00m run_managers:\n",
      "File \u001B[0;32m~/anaconda3/lib/python3.11/site-packages/langchain/llms/openai.py:875\u001B[0m, in \u001B[0;36mOpenAIChat._generate\u001B[0;34m(self, prompts, stop, run_manager, **kwargs)\u001B[0m\n\u001B[1;32m    873\u001B[0m messages, params \u001B[38;5;241m=\u001B[39m \u001B[38;5;28mself\u001B[39m\u001B[38;5;241m.\u001B[39m_get_chat_params(prompts, stop)\n\u001B[1;32m    874\u001B[0m params \u001B[38;5;241m=\u001B[39m {\u001B[38;5;241m*\u001B[39m\u001B[38;5;241m*\u001B[39mparams, \u001B[38;5;241m*\u001B[39m\u001B[38;5;241m*\u001B[39mkwargs}\n\u001B[0;32m--> 875\u001B[0m full_response \u001B[38;5;241m=\u001B[39m completion_with_retry(\n\u001B[1;32m    876\u001B[0m     \u001B[38;5;28mself\u001B[39m, messages\u001B[38;5;241m=\u001B[39mmessages, run_manager\u001B[38;5;241m=\u001B[39mrun_manager, \u001B[38;5;241m*\u001B[39m\u001B[38;5;241m*\u001B[39mparams\n\u001B[1;32m    877\u001B[0m )\n\u001B[1;32m    878\u001B[0m llm_output \u001B[38;5;241m=\u001B[39m {\n\u001B[1;32m    879\u001B[0m     \u001B[38;5;124m\"\u001B[39m\u001B[38;5;124mtoken_usage\u001B[39m\u001B[38;5;124m\"\u001B[39m: full_response[\u001B[38;5;124m\"\u001B[39m\u001B[38;5;124musage\u001B[39m\u001B[38;5;124m\"\u001B[39m],\n\u001B[1;32m    880\u001B[0m     \u001B[38;5;124m\"\u001B[39m\u001B[38;5;124mmodel_name\u001B[39m\u001B[38;5;124m\"\u001B[39m: \u001B[38;5;28mself\u001B[39m\u001B[38;5;241m.\u001B[39mmodel_name,\n\u001B[1;32m    881\u001B[0m }\n\u001B[1;32m    882\u001B[0m \u001B[38;5;28;01mreturn\u001B[39;00m LLMResult(\n\u001B[1;32m    883\u001B[0m     generations\u001B[38;5;241m=\u001B[39m[\n\u001B[1;32m    884\u001B[0m         [Generation(text\u001B[38;5;241m=\u001B[39mfull_response[\u001B[38;5;124m\"\u001B[39m\u001B[38;5;124mchoices\u001B[39m\u001B[38;5;124m\"\u001B[39m][\u001B[38;5;241m0\u001B[39m][\u001B[38;5;124m\"\u001B[39m\u001B[38;5;124mmessage\u001B[39m\u001B[38;5;124m\"\u001B[39m][\u001B[38;5;124m\"\u001B[39m\u001B[38;5;124mcontent\u001B[39m\u001B[38;5;124m\"\u001B[39m])]\n\u001B[1;32m    885\u001B[0m     ],\n\u001B[1;32m    886\u001B[0m     llm_output\u001B[38;5;241m=\u001B[39mllm_output,\n\u001B[1;32m    887\u001B[0m )\n",
      "File \u001B[0;32m~/anaconda3/lib/python3.11/site-packages/langchain/llms/openai.py:115\u001B[0m, in \u001B[0;36mcompletion_with_retry\u001B[0;34m(llm, run_manager, **kwargs)\u001B[0m\n\u001B[1;32m    111\u001B[0m \u001B[38;5;129m@retry_decorator\u001B[39m\n\u001B[1;32m    112\u001B[0m \u001B[38;5;28;01mdef\u001B[39;00m \u001B[38;5;21m_completion_with_retry\u001B[39m(\u001B[38;5;241m*\u001B[39m\u001B[38;5;241m*\u001B[39mkwargs: Any) \u001B[38;5;241m-\u001B[39m\u001B[38;5;241m>\u001B[39m Any:\n\u001B[1;32m    113\u001B[0m     \u001B[38;5;28;01mreturn\u001B[39;00m llm\u001B[38;5;241m.\u001B[39mclient\u001B[38;5;241m.\u001B[39mcreate(\u001B[38;5;241m*\u001B[39m\u001B[38;5;241m*\u001B[39mkwargs)\n\u001B[0;32m--> 115\u001B[0m \u001B[38;5;28;01mreturn\u001B[39;00m _completion_with_retry(\u001B[38;5;241m*\u001B[39m\u001B[38;5;241m*\u001B[39mkwargs)\n",
      "File \u001B[0;32m~/anaconda3/lib/python3.11/site-packages/tenacity/__init__.py:289\u001B[0m, in \u001B[0;36mBaseRetrying.wraps.<locals>.wrapped_f\u001B[0;34m(*args, **kw)\u001B[0m\n\u001B[1;32m    287\u001B[0m \u001B[38;5;129m@functools\u001B[39m\u001B[38;5;241m.\u001B[39mwraps(f)\n\u001B[1;32m    288\u001B[0m \u001B[38;5;28;01mdef\u001B[39;00m \u001B[38;5;21mwrapped_f\u001B[39m(\u001B[38;5;241m*\u001B[39margs: t\u001B[38;5;241m.\u001B[39mAny, \u001B[38;5;241m*\u001B[39m\u001B[38;5;241m*\u001B[39mkw: t\u001B[38;5;241m.\u001B[39mAny) \u001B[38;5;241m-\u001B[39m\u001B[38;5;241m>\u001B[39m t\u001B[38;5;241m.\u001B[39mAny:\n\u001B[0;32m--> 289\u001B[0m     \u001B[38;5;28;01mreturn\u001B[39;00m \u001B[38;5;28mself\u001B[39m(f, \u001B[38;5;241m*\u001B[39margs, \u001B[38;5;241m*\u001B[39m\u001B[38;5;241m*\u001B[39mkw)\n",
      "File \u001B[0;32m~/anaconda3/lib/python3.11/site-packages/tenacity/__init__.py:389\u001B[0m, in \u001B[0;36mRetrying.__call__\u001B[0;34m(self, fn, *args, **kwargs)\u001B[0m\n\u001B[1;32m    387\u001B[0m \u001B[38;5;28;01melif\u001B[39;00m \u001B[38;5;28misinstance\u001B[39m(do, DoSleep):\n\u001B[1;32m    388\u001B[0m     retry_state\u001B[38;5;241m.\u001B[39mprepare_for_next_attempt()\n\u001B[0;32m--> 389\u001B[0m     \u001B[38;5;28mself\u001B[39m\u001B[38;5;241m.\u001B[39msleep(do)\n\u001B[1;32m    390\u001B[0m \u001B[38;5;28;01melse\u001B[39;00m:\n\u001B[1;32m    391\u001B[0m     \u001B[38;5;28;01mreturn\u001B[39;00m do\n",
      "File \u001B[0;32m~/anaconda3/lib/python3.11/site-packages/tenacity/nap.py:31\u001B[0m, in \u001B[0;36msleep\u001B[0;34m(seconds)\u001B[0m\n\u001B[1;32m     25\u001B[0m \u001B[38;5;28;01mdef\u001B[39;00m \u001B[38;5;21msleep\u001B[39m(seconds: \u001B[38;5;28mfloat\u001B[39m) \u001B[38;5;241m-\u001B[39m\u001B[38;5;241m>\u001B[39m \u001B[38;5;28;01mNone\u001B[39;00m:\n\u001B[1;32m     26\u001B[0m \u001B[38;5;250m    \u001B[39m\u001B[38;5;124;03m\"\"\"\u001B[39;00m\n\u001B[1;32m     27\u001B[0m \u001B[38;5;124;03m    Sleep strategy that delays execution for a given number of seconds.\u001B[39;00m\n\u001B[1;32m     28\u001B[0m \n\u001B[1;32m     29\u001B[0m \u001B[38;5;124;03m    This is the default strategy, and may be mocked out for unit testing.\u001B[39;00m\n\u001B[1;32m     30\u001B[0m \u001B[38;5;124;03m    \"\"\"\u001B[39;00m\n\u001B[0;32m---> 31\u001B[0m     time\u001B[38;5;241m.\u001B[39msleep(seconds)\n",
      "\u001B[0;31mKeyboardInterrupt\u001B[0m: "
     ]
    }
   ],
   "source": [
    "\n",
    "question3 = pre_prompt_analysis_only + f\"\"\"\n",
    "\n",
    "*** Policy ***\n",
    "{policy_rr_complete}\n",
    "\"\"\"\n",
    "\n",
    "\n",
    "answer3 = chain.run({\n",
    "    'question': question3,\n",
    "    'context': context\n",
    "    })\n",
    "\n",
    "print(answer3)"
   ],
   "metadata": {
    "collapsed": false,
    "ExecuteTime": {
     "end_time": "2023-10-05T19:17:05.230951Z",
     "start_time": "2023-10-05T19:16:52.171905Z"
    }
   }
  },
  {
   "cell_type": "markdown",
   "source": [
    "# Evaluation"
   ],
   "metadata": {
    "collapsed": false
   }
  },
  {
   "cell_type": "code",
   "execution_count": 23,
   "outputs": [
    {
     "name": "stdout",
     "output_type": "stream",
     "text": [
      "Collecting ragas\r\n",
      "  Using cached ragas-0.0.16-py3-none-any.whl (38 kB)\r\n",
      "Requirement already satisfied: numpy in /Users/gr703z/anaconda3/lib/python3.11/site-packages (from ragas) (1.24.3)\r\n",
      "Requirement already satisfied: transformers in /Users/gr703z/anaconda3/lib/python3.11/site-packages (from ragas) (4.29.2)\r\n",
      "Collecting sentence-transformers (from ragas)\r\n",
      "  Using cached sentence-transformers-2.2.2.tar.gz (85 kB)\r\n",
      "  Preparing metadata (setup.py) ... \u001B[?25ldone\r\n",
      "\u001B[?25hRequirement already satisfied: datasets in /Users/gr703z/anaconda3/lib/python3.11/site-packages (from ragas) (2.12.0)\r\n",
      "Collecting tiktoken (from ragas)\r\n",
      "  Downloading tiktoken-0.5.1-cp311-cp311-macosx_11_0_arm64.whl (924 kB)\r\n",
      "\u001B[2K     \u001B[90m━━━━━━━━━━━━━━━━━━━━━━━━━━━━━━━━━━━━━━\u001B[0m \u001B[32m924.4/924.4 kB\u001B[0m \u001B[31m18.9 MB/s\u001B[0m eta \u001B[36m0:00:00\u001B[0ma \u001B[36m0:00:01\u001B[0m\r\n",
      "\u001B[?25hRequirement already satisfied: langchain>=0.0.288 in /Users/gr703z/anaconda3/lib/python3.11/site-packages (from ragas) (0.0.306)\r\n",
      "Requirement already satisfied: openai in /Users/gr703z/anaconda3/lib/python3.11/site-packages (from ragas) (0.28.1)\r\n",
      "Collecting pydantic<2.0 (from ragas)\r\n",
      "  Downloading pydantic-1.10.13-cp311-cp311-macosx_11_0_arm64.whl (2.5 MB)\r\n",
      "\u001B[2K     \u001B[90m━━━━━━━━━━━━━━━━━━━━━━━━━━━━━━━━━━━━━━━━\u001B[0m \u001B[32m2.5/2.5 MB\u001B[0m \u001B[31m38.8 MB/s\u001B[0m eta \u001B[36m0:00:00\u001B[0ma \u001B[36m0:00:01\u001B[0m\r\n",
      "\u001B[?25hCollecting pysbd>=0.3.4 (from ragas)\r\n",
      "  Using cached pysbd-0.3.4-py3-none-any.whl (71 kB)\r\n",
      "Requirement already satisfied: PyYAML>=5.3 in /Users/gr703z/anaconda3/lib/python3.11/site-packages (from langchain>=0.0.288->ragas) (6.0)\r\n",
      "Requirement already satisfied: SQLAlchemy<3,>=1.4 in /Users/gr703z/anaconda3/lib/python3.11/site-packages (from langchain>=0.0.288->ragas) (1.4.39)\r\n",
      "Requirement already satisfied: aiohttp<4.0.0,>=3.8.3 in /Users/gr703z/anaconda3/lib/python3.11/site-packages (from langchain>=0.0.288->ragas) (3.8.3)\r\n",
      "Requirement already satisfied: anyio<4.0 in /Users/gr703z/anaconda3/lib/python3.11/site-packages (from langchain>=0.0.288->ragas) (3.5.0)\r\n",
      "Requirement already satisfied: dataclasses-json<0.7,>=0.5.7 in /Users/gr703z/anaconda3/lib/python3.11/site-packages (from langchain>=0.0.288->ragas) (0.6.1)\r\n",
      "Requirement already satisfied: jsonpatch<2.0,>=1.33 in /Users/gr703z/anaconda3/lib/python3.11/site-packages (from langchain>=0.0.288->ragas) (1.33)\r\n",
      "Requirement already satisfied: langsmith<0.1.0,>=0.0.38 in /Users/gr703z/anaconda3/lib/python3.11/site-packages (from langchain>=0.0.288->ragas) (0.0.41)\r\n",
      "Requirement already satisfied: numexpr<3.0.0,>=2.8.4 in /Users/gr703z/anaconda3/lib/python3.11/site-packages (from langchain>=0.0.288->ragas) (2.8.4)\r\n",
      "Requirement already satisfied: requests<3,>=2 in /Users/gr703z/anaconda3/lib/python3.11/site-packages (from langchain>=0.0.288->ragas) (2.29.0)\r\n",
      "Requirement already satisfied: tenacity<9.0.0,>=8.1.0 in /Users/gr703z/anaconda3/lib/python3.11/site-packages (from langchain>=0.0.288->ragas) (8.2.2)\r\n",
      "Requirement already satisfied: typing-extensions>=4.2.0 in /Users/gr703z/anaconda3/lib/python3.11/site-packages (from pydantic<2.0->ragas) (4.6.3)\r\n",
      "Requirement already satisfied: pyarrow>=8.0.0 in /Users/gr703z/anaconda3/lib/python3.11/site-packages (from datasets->ragas) (11.0.0)\r\n",
      "Requirement already satisfied: dill<0.3.7,>=0.3.0 in /Users/gr703z/anaconda3/lib/python3.11/site-packages (from datasets->ragas) (0.3.6)\r\n",
      "Requirement already satisfied: pandas in /Users/gr703z/anaconda3/lib/python3.11/site-packages (from datasets->ragas) (1.5.3)\r\n",
      "Requirement already satisfied: tqdm>=4.62.1 in /Users/gr703z/anaconda3/lib/python3.11/site-packages (from datasets->ragas) (4.65.0)\r\n",
      "Requirement already satisfied: xxhash in /Users/gr703z/anaconda3/lib/python3.11/site-packages (from datasets->ragas) (2.0.2)\r\n",
      "Requirement already satisfied: multiprocess in /Users/gr703z/anaconda3/lib/python3.11/site-packages (from datasets->ragas) (0.70.14)\r\n",
      "Requirement already satisfied: fsspec[http]>=2021.11.1 in /Users/gr703z/anaconda3/lib/python3.11/site-packages (from datasets->ragas) (2023.4.0)\r\n",
      "Requirement already satisfied: huggingface-hub<1.0.0,>=0.11.0 in /Users/gr703z/anaconda3/lib/python3.11/site-packages (from datasets->ragas) (0.15.1)\r\n",
      "Requirement already satisfied: packaging in /Users/gr703z/anaconda3/lib/python3.11/site-packages (from datasets->ragas) (23.0)\r\n",
      "Requirement already satisfied: responses<0.19 in /Users/gr703z/anaconda3/lib/python3.11/site-packages (from datasets->ragas) (0.13.3)\r\n",
      "Requirement already satisfied: torch>=1.6.0 in /Users/gr703z/anaconda3/lib/python3.11/site-packages (from sentence-transformers->ragas) (2.0.1)\r\n",
      "Collecting torchvision (from sentence-transformers->ragas)\r\n",
      "  Downloading torchvision-0.16.0-cp311-cp311-macosx_11_0_arm64.whl (1.6 MB)\r\n",
      "\u001B[2K     \u001B[90m━━━━━━━━━━━━━━━━━━━━━━━━━━━━━━━━━━━━━━━━\u001B[0m \u001B[32m1.6/1.6 MB\u001B[0m \u001B[31m40.7 MB/s\u001B[0m eta \u001B[36m0:00:00\u001B[0m00:01\u001B[0m\r\n",
      "\u001B[?25hRequirement already satisfied: scikit-learn in /Users/gr703z/anaconda3/lib/python3.11/site-packages (from sentence-transformers->ragas) (1.2.2)\r\n",
      "Requirement already satisfied: scipy in /Users/gr703z/anaconda3/lib/python3.11/site-packages (from sentence-transformers->ragas) (1.10.1)\r\n",
      "Requirement already satisfied: nltk in /Users/gr703z/anaconda3/lib/python3.11/site-packages (from sentence-transformers->ragas) (3.7)\r\n",
      "Collecting sentencepiece (from sentence-transformers->ragas)\r\n",
      "  Downloading sentencepiece-0.1.99-cp311-cp311-macosx_11_0_arm64.whl (1.2 MB)\r\n",
      "\u001B[2K     \u001B[90m━━━━━━━━━━━━━━━━━━━━━━━━━━━━━━━━━━━━━━━━\u001B[0m \u001B[32m1.2/1.2 MB\u001B[0m \u001B[31m40.9 MB/s\u001B[0m eta \u001B[36m0:00:00\u001B[0m\r\n",
      "\u001B[?25hRequirement already satisfied: filelock in /Users/gr703z/anaconda3/lib/python3.11/site-packages (from transformers->ragas) (3.9.0)\r\n",
      "Requirement already satisfied: regex!=2019.12.17 in /Users/gr703z/anaconda3/lib/python3.11/site-packages (from transformers->ragas) (2022.7.9)\r\n",
      "Requirement already satisfied: tokenizers!=0.11.3,<0.14,>=0.11.1 in /Users/gr703z/anaconda3/lib/python3.11/site-packages (from transformers->ragas) (0.13.2)\r\n",
      "Requirement already satisfied: attrs>=17.3.0 in /Users/gr703z/anaconda3/lib/python3.11/site-packages (from aiohttp<4.0.0,>=3.8.3->langchain>=0.0.288->ragas) (22.1.0)\r\n",
      "Requirement already satisfied: charset-normalizer<3.0,>=2.0 in /Users/gr703z/anaconda3/lib/python3.11/site-packages (from aiohttp<4.0.0,>=3.8.3->langchain>=0.0.288->ragas) (2.0.4)\r\n",
      "Requirement already satisfied: multidict<7.0,>=4.5 in /Users/gr703z/anaconda3/lib/python3.11/site-packages (from aiohttp<4.0.0,>=3.8.3->langchain>=0.0.288->ragas) (6.0.2)\r\n",
      "Requirement already satisfied: async-timeout<5.0,>=4.0.0a3 in /Users/gr703z/anaconda3/lib/python3.11/site-packages (from aiohttp<4.0.0,>=3.8.3->langchain>=0.0.288->ragas) (4.0.2)\r\n",
      "Requirement already satisfied: yarl<2.0,>=1.0 in /Users/gr703z/anaconda3/lib/python3.11/site-packages (from aiohttp<4.0.0,>=3.8.3->langchain>=0.0.288->ragas) (1.8.1)\r\n",
      "Requirement already satisfied: frozenlist>=1.1.1 in /Users/gr703z/anaconda3/lib/python3.11/site-packages (from aiohttp<4.0.0,>=3.8.3->langchain>=0.0.288->ragas) (1.3.3)\r\n",
      "Requirement already satisfied: aiosignal>=1.1.2 in /Users/gr703z/anaconda3/lib/python3.11/site-packages (from aiohttp<4.0.0,>=3.8.3->langchain>=0.0.288->ragas) (1.2.0)\r\n",
      "Requirement already satisfied: idna>=2.8 in /Users/gr703z/anaconda3/lib/python3.11/site-packages (from anyio<4.0->langchain>=0.0.288->ragas) (3.4)\r\n",
      "Requirement already satisfied: sniffio>=1.1 in /Users/gr703z/anaconda3/lib/python3.11/site-packages (from anyio<4.0->langchain>=0.0.288->ragas) (1.2.0)\r\n",
      "Requirement already satisfied: marshmallow<4.0.0,>=3.18.0 in /Users/gr703z/anaconda3/lib/python3.11/site-packages (from dataclasses-json<0.7,>=0.5.7->langchain>=0.0.288->ragas) (3.20.1)\r\n",
      "Requirement already satisfied: typing-inspect<1,>=0.4.0 in /Users/gr703z/anaconda3/lib/python3.11/site-packages (from dataclasses-json<0.7,>=0.5.7->langchain>=0.0.288->ragas) (0.9.0)\r\n",
      "Requirement already satisfied: jsonpointer>=1.9 in /Users/gr703z/anaconda3/lib/python3.11/site-packages (from jsonpatch<2.0,>=1.33->langchain>=0.0.288->ragas) (2.1)\r\n",
      "Requirement already satisfied: urllib3<1.27,>=1.21.1 in /Users/gr703z/anaconda3/lib/python3.11/site-packages (from requests<3,>=2->langchain>=0.0.288->ragas) (1.26.16)\r\n",
      "Requirement already satisfied: certifi>=2017.4.17 in /Users/gr703z/anaconda3/lib/python3.11/site-packages (from requests<3,>=2->langchain>=0.0.288->ragas) (2023.5.7)\r\n",
      "Requirement already satisfied: six in /Users/gr703z/anaconda3/lib/python3.11/site-packages (from responses<0.19->datasets->ragas) (1.16.0)\r\n",
      "Requirement already satisfied: sympy in /Users/gr703z/anaconda3/lib/python3.11/site-packages (from torch>=1.6.0->sentence-transformers->ragas) (1.11.1)\r\n",
      "Requirement already satisfied: networkx in /Users/gr703z/anaconda3/lib/python3.11/site-packages (from torch>=1.6.0->sentence-transformers->ragas) (2.8.4)\r\n",
      "Requirement already satisfied: jinja2 in /Users/gr703z/anaconda3/lib/python3.11/site-packages (from torch>=1.6.0->sentence-transformers->ragas) (3.1.2)\r\n",
      "Requirement already satisfied: click in /Users/gr703z/anaconda3/lib/python3.11/site-packages (from nltk->sentence-transformers->ragas) (8.0.4)\r\n",
      "Requirement already satisfied: joblib in /Users/gr703z/anaconda3/lib/python3.11/site-packages (from nltk->sentence-transformers->ragas) (1.2.0)\r\n",
      "Requirement already satisfied: python-dateutil>=2.8.1 in /Users/gr703z/anaconda3/lib/python3.11/site-packages (from pandas->datasets->ragas) (2.8.2)\r\n",
      "Requirement already satisfied: pytz>=2020.1 in /Users/gr703z/anaconda3/lib/python3.11/site-packages (from pandas->datasets->ragas) (2022.7)\r\n",
      "Requirement already satisfied: threadpoolctl>=2.0.0 in /Users/gr703z/anaconda3/lib/python3.11/site-packages (from scikit-learn->sentence-transformers->ragas) (2.2.0)\r\n",
      "Collecting torch>=1.6.0 (from sentence-transformers->ragas)\r\n",
      "  Downloading torch-2.1.0-cp311-none-macosx_11_0_arm64.whl (59.6 MB)\r\n",
      "\u001B[2K     \u001B[90m━━━━━━━━━━━━━━━━━━━━━━━━━━━━━━━━━━━━━━━━\u001B[0m \u001B[32m59.6/59.6 MB\u001B[0m \u001B[31m35.0 MB/s\u001B[0m eta \u001B[36m0:00:00\u001B[0m00:01\u001B[0m00:01\u001B[0m\r\n",
      "\u001B[?25hRequirement already satisfied: pillow!=8.3.*,>=5.3.0 in /Users/gr703z/anaconda3/lib/python3.11/site-packages (from torchvision->sentence-transformers->ragas) (9.4.0)\r\n",
      "Requirement already satisfied: mypy-extensions>=0.3.0 in /Users/gr703z/anaconda3/lib/python3.11/site-packages (from typing-inspect<1,>=0.4.0->dataclasses-json<0.7,>=0.5.7->langchain>=0.0.288->ragas) (0.4.3)\r\n",
      "Requirement already satisfied: MarkupSafe>=2.0 in /Users/gr703z/anaconda3/lib/python3.11/site-packages (from jinja2->torch>=1.6.0->sentence-transformers->ragas) (2.1.1)\r\n",
      "Requirement already satisfied: mpmath>=0.19 in /Users/gr703z/anaconda3/lib/python3.11/site-packages (from sympy->torch>=1.6.0->sentence-transformers->ragas) (1.2.1)\r\n",
      "Building wheels for collected packages: sentence-transformers\r\n",
      "  Building wheel for sentence-transformers (setup.py) ... \u001B[?25ldone\r\n",
      "\u001B[?25h  Created wheel for sentence-transformers: filename=sentence_transformers-2.2.2-py3-none-any.whl size=125925 sha256=aa155d8cf03a806e163459d4e7b4cad02c71c7fdc752efa8ee73b445b0cbc687\r\n",
      "  Stored in directory: /Users/gr703z/Library/Caches/pip/wheels/ff/27/bf/ffba8b318b02d7f691a57084ee154e26ed24d012b0c7805881\r\n",
      "Successfully built sentence-transformers\r\n",
      "Installing collected packages: sentencepiece, pysbd, pydantic, torch, tiktoken, torchvision, sentence-transformers, ragas\r\n",
      "  Attempting uninstall: pydantic\r\n",
      "    Found existing installation: pydantic 2.4.2\r\n",
      "    Uninstalling pydantic-2.4.2:\r\n",
      "      Successfully uninstalled pydantic-2.4.2\r\n",
      "  Attempting uninstall: torch\r\n",
      "    Found existing installation: torch 2.0.1\r\n",
      "    Uninstalling torch-2.0.1:\r\n",
      "      Successfully uninstalled torch-2.0.1\r\n",
      "Successfully installed pydantic-1.10.13 pysbd-0.3.4 ragas-0.0.16 sentence-transformers-2.2.2 sentencepiece-0.1.99 tiktoken-0.5.1 torch-2.1.0 torchvision-0.16.0\r\n",
      "Note: you may need to restart the kernel to use updated packages.\n"
     ]
    }
   ],
   "source": [
    "%pip install ragas"
   ],
   "metadata": {
    "collapsed": false,
    "ExecuteTime": {
     "end_time": "2023-10-04T22:42:41.061779Z",
     "start_time": "2023-10-04T22:42:24.613030Z"
    }
   }
  },
  {
   "cell_type": "code",
   "execution_count": 12,
   "outputs": [],
   "source": [
    "from ragas import evaluate\n",
    "from ragas.metrics import (\n",
    "    answer_relevancy,\n",
    "    faithfulness,\n",
    "    context_recall,\n",
    "    context_precision,\n",
    ")\n",
    "from ragas.metrics.critique import harmfulness"
   ],
   "metadata": {
    "collapsed": false,
    "ExecuteTime": {
     "end_time": "2023-10-05T15:26:42.419671Z",
     "start_time": "2023-10-05T15:26:39.899624Z"
    }
   }
  },
  {
   "cell_type": "markdown",
   "source": [],
   "metadata": {
    "collapsed": false
   }
  },
  {
   "cell_type": "markdown",
   "source": [],
   "metadata": {
    "collapsed": false
   }
  },
  {
   "cell_type": "code",
   "execution_count": 36,
   "outputs": [
    {
     "data": {
      "text/plain": "Saving the dataset (0/1 shards):   0%|          | 0/2 [00:00<?, ? examples/s]",
      "application/vnd.jupyter.widget-view+json": {
       "version_major": 2,
       "version_minor": 0,
       "model_id": "035a246e06bc45efae740a69f57b83b6"
      }
     },
     "metadata": {},
     "output_type": "display_data"
    }
   ],
   "source": [
    "# Make a dataset for evaluation\n",
    "from datasets import Dataset\n",
    "\n",
    "dataset = Dataset.from_dict(\n",
    "    {\n",
    "        \"question\": [question1, question2],\n",
    "        \"contexts\":\n",
    "            # sequence of strings with 10 world capitals, list[list[str]]\n",
    "            [\n",
    "                [context], [context]\n",
    "            ],\n",
    "        \"answer\": [answer1, answer2]\n",
    "    }\n",
    ")\n",
    "\n",
    "# Concatenate\n",
    "# concatenated_dataset = concatenate_datasets([dataset, new_dataset])\n",
    "\n",
    "# save dataset to file\n",
    "dataset.save_to_disk(\"QA_dataset\")"
   ],
   "metadata": {
    "collapsed": false,
    "ExecuteTime": {
     "end_time": "2023-10-05T19:05:35.864731Z",
     "start_time": "2023-10-05T19:05:35.836919Z"
    }
   }
  },
  {
   "cell_type": "code",
   "execution_count": 38,
   "outputs": [
    {
     "data": {
      "text/plain": "                                            question  \\\n0  ACT as a corporate attorney whose job is to ch...   \n1  ACT as a corporate attorney whose job is to ch...   \n\n                                            contexts  \\\n0  [\\n*** Law ***\\n\\n  General Duties of Business...   \n1  [\\n*** Law ***\\n\\n  General Duties of Business...   \n\n                                              answer  \n0  The company's policy does not fully comply wit...  \n1  The company's policy appears to be in complian...  ",
      "text/html": "<div>\n<style scoped>\n    .dataframe tbody tr th:only-of-type {\n        vertical-align: middle;\n    }\n\n    .dataframe tbody tr th {\n        vertical-align: top;\n    }\n\n    .dataframe thead th {\n        text-align: right;\n    }\n</style>\n<table border=\"1\" class=\"dataframe\">\n  <thead>\n    <tr style=\"text-align: right;\">\n      <th></th>\n      <th>question</th>\n      <th>contexts</th>\n      <th>answer</th>\n    </tr>\n  </thead>\n  <tbody>\n    <tr>\n      <th>0</th>\n      <td>ACT as a corporate attorney whose job is to ch...</td>\n      <td>[\\n*** Law ***\\n\\n  General Duties of Business...</td>\n      <td>The company's policy does not fully comply wit...</td>\n    </tr>\n    <tr>\n      <th>1</th>\n      <td>ACT as a corporate attorney whose job is to ch...</td>\n      <td>[\\n*** Law ***\\n\\n  General Duties of Business...</td>\n      <td>The company's policy appears to be in complian...</td>\n    </tr>\n  </tbody>\n</table>\n</div>"
     },
     "execution_count": 38,
     "metadata": {},
     "output_type": "execute_result"
    }
   ],
   "source": [
    "# load dataset from file\n",
    "dataset2 = Dataset.load_from_disk(\"QA_dataset\")\n",
    "dataset2.to_pandas()"
   ],
   "metadata": {
    "collapsed": false,
    "ExecuteTime": {
     "end_time": "2023-10-05T19:07:30.464978Z",
     "start_time": "2023-10-05T19:07:30.447300Z"
    }
   }
  },
  {
   "cell_type": "code",
   "execution_count": 34,
   "outputs": [
    {
     "name": "stdout",
     "output_type": "stream",
     "text": [
      "evaluating with [context_relevancy]\n"
     ]
    },
    {
     "name": "stderr",
     "output_type": "stream",
     "text": [
      "  0%|          | 0/1 [00:00<?, ?it/s]WARNING:root:The 'context_relevancy' metric is going to be deprecated soon! Please use the 'context_precision' metric instead. It is a drop-in replacement just a simple search and replace should work.\n",
      "100%|██████████| 1/1 [00:01<00:00,  1.91s/it]\n"
     ]
    },
    {
     "name": "stdout",
     "output_type": "stream",
     "text": [
      "evaluating with [faithfulness]\n"
     ]
    },
    {
     "name": "stderr",
     "output_type": "stream",
     "text": [
      "100%|██████████| 1/1 [00:25<00:00, 25.80s/it]\n"
     ]
    },
    {
     "name": "stdout",
     "output_type": "stream",
     "text": [
      "evaluating with [answer_relevancy]\n"
     ]
    },
    {
     "name": "stderr",
     "output_type": "stream",
     "text": [
      "100%|██████████| 1/1 [00:03<00:00,  3.44s/it]\n",
      "/Users/gr703z/anaconda3/lib/python3.11/site-packages/ragas/evaluation.py:142: RuntimeWarning: divide by zero encountered in divide\n",
      "  reciprocal_sum = np.sum(1.0 / np.array(values))  # type: ignore\n"
     ]
    }
   ],
   "source": [
    "# Evaluate\n",
    "\n",
    "result = evaluate(\n",
    "    dataset,\n",
    "    metrics=[\n",
    "        context_precision,\n",
    "        faithfulness,\n",
    "        answer_relevancy,\n",
    "        # context_recall,\n",
    "        # harmfulness,\n",
    "    ],\n",
    ")"
   ],
   "metadata": {
    "collapsed": false,
    "ExecuteTime": {
     "end_time": "2023-10-05T15:52:56.880977Z",
     "start_time": "2023-10-05T15:52:24.848331Z"
    }
   }
  },
  {
   "cell_type": "code",
   "execution_count": 35,
   "outputs": [
    {
     "data": {
      "text/plain": "                                            question  \\\n0  ACT as a corporate attorney whose job is to ch...   \n1  ACT as a corporate attorney whose job is to ch...   \n\n                                            contexts  \\\n0  [\\n*** Law ***\\n\\n  General Duties of Business...   \n1  [\\n*** Law ***\\n\\n  General Duties of Business...   \n\n                                              answer  context_relevancy  \\\n0  The company's policy does not fully comply wit...                0.0   \n1  The company's policy appears to be in complian...                0.0   \n\n   faithfulness  answer_relevancy  \n0      0.333333          0.830735  \n1      0.166667          0.865428  ",
      "text/html": "<div>\n<style scoped>\n    .dataframe tbody tr th:only-of-type {\n        vertical-align: middle;\n    }\n\n    .dataframe tbody tr th {\n        vertical-align: top;\n    }\n\n    .dataframe thead th {\n        text-align: right;\n    }\n</style>\n<table border=\"1\" class=\"dataframe\">\n  <thead>\n    <tr style=\"text-align: right;\">\n      <th></th>\n      <th>question</th>\n      <th>contexts</th>\n      <th>answer</th>\n      <th>context_relevancy</th>\n      <th>faithfulness</th>\n      <th>answer_relevancy</th>\n    </tr>\n  </thead>\n  <tbody>\n    <tr>\n      <th>0</th>\n      <td>ACT as a corporate attorney whose job is to ch...</td>\n      <td>[\\n*** Law ***\\n\\n  General Duties of Business...</td>\n      <td>The company's policy does not fully comply wit...</td>\n      <td>0.0</td>\n      <td>0.333333</td>\n      <td>0.830735</td>\n    </tr>\n    <tr>\n      <th>1</th>\n      <td>ACT as a corporate attorney whose job is to ch...</td>\n      <td>[\\n*** Law ***\\n\\n  General Duties of Business...</td>\n      <td>The company's policy appears to be in complian...</td>\n      <td>0.0</td>\n      <td>0.166667</td>\n      <td>0.865428</td>\n    </tr>\n  </tbody>\n</table>\n</div>"
     },
     "execution_count": 35,
     "metadata": {},
     "output_type": "execute_result"
    }
   ],
   "source": [
    "# Dive deep into results\n",
    "\n",
    "df = result.to_pandas()\n",
    "df.head()"
   ],
   "metadata": {
    "collapsed": false,
    "ExecuteTime": {
     "end_time": "2023-10-05T15:53:19.165655Z",
     "start_time": "2023-10-05T15:53:19.148360Z"
    }
   }
  },
  {
   "cell_type": "code",
   "execution_count": null,
   "outputs": [],
   "source": [],
   "metadata": {
    "collapsed": false
   }
  }
 ],
 "metadata": {
  "kernelspec": {
   "display_name": "Python 3",
   "language": "python",
   "name": "python3"
  },
  "language_info": {
   "codemirror_mode": {
    "name": "ipython",
    "version": 2
   },
   "file_extension": ".py",
   "mimetype": "text/x-python",
   "name": "python",
   "nbconvert_exporter": "python",
   "pygments_lexer": "ipython2",
   "version": "2.7.6"
  }
 },
 "nbformat": 4,
 "nbformat_minor": 0
}
