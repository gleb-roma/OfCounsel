{
 "cells": [
  {
   "cell_type": "code",
   "execution_count": null,
   "metadata": {
    "collapsed": true
   },
   "outputs": [],
   "source": [
    "%pip install langchain\n",
    "%pip install openai"
   ]
  },
  {
   "cell_type": "code",
   "execution_count": 1,
   "outputs": [
    {
     "name": "stdout",
     "output_type": "stream",
     "text": [
      "{\n",
      "\"answer\": \"Businesses that collect personal information have several general duties. They must inform consumers at or before the point of collection about the business or commercial purpose for collecting, selling, or sharing personal information. They also need to inform consumers about the categories of personal information that the business collected about them.\",\n",
      "\"sources\": [\"CIV1798.100.20204\", \"CIV1798.110.20207_a_3\", \"CIV1798.110.20207_c_3\", \"CIV1798.100.20204_a\", \"CIV1798.115.20208_a_1\"]\n",
      "}\n"
     ]
    }
   ],
   "source": [
    "import datetime\n",
    "from langchain.schema import (\n",
    "    AIMessage,\n",
    "    HumanMessage,\n",
    "    SystemMessage\n",
    ")\n",
    "from langchain.chat_models import ChatOpenAI\n",
    "# Import Taylor's retriever\n",
    "from src.OfCounselRetriever import SimilarityOfCounselRetriever\n",
    "from src.tracking_inputs_outputs import DbInputsOutputs"
   ],
   "metadata": {
    "collapsed": false,
    "ExecuteTime": {
     "end_time": "2023-10-06T23:57:05.864507Z",
     "start_time": "2023-10-06T23:56:56.886379Z"
    }
   }
  },
  {
   "cell_type": "code",
   "execution_count": 7,
   "outputs": [],
   "source": [
    "import os\n",
    "os.chdir('/Users/gr703z/launchable/gleb')"
   ],
   "metadata": {
    "collapsed": false,
    "ExecuteTime": {
     "end_time": "2023-10-06T23:59:28.509795Z",
     "start_time": "2023-10-06T23:59:28.504258Z"
    }
   }
  },
  {
   "cell_type": "code",
   "execution_count": 8,
   "outputs": [
    {
     "name": "stdout",
     "output_type": "stream",
     "text": [
      "                                               query        policy_descr  \\\n",
      "0  ACT as a corporate attorney whose job is to ch...  Section 9 original   \n",
      "1  ACT as a corporate attorney whose job is to ch...  Section 9 original   \n",
      "2  ACT as a corporate attorney whose job is to ch...  Section 9 original   \n",
      "3  ACT as a corporate attorney whose job is to ch...  Section 9 redacted   \n",
      "4  ACT as a corporate attorney whose job is to ch...  Section 9 redacted   \n",
      "\n",
      "                     llm                    retriever  \\\n",
      "0  gpt-4, temperature .2              Basic retriever   \n",
      "1   gpt-4, temperature 0              Basic retriever   \n",
      "2   gpt-4, temperature 0  Taylor retriever Similarity   \n",
      "3   gpt-4, temperature 0              Basic retriever   \n",
      "4   gpt-4, temperature 0  Taylor retriever Similarity   \n",
      "\n",
      "                                              answer  notes  \\\n",
      "0  {\\n  \"answer\": \"The provided policy appears to...    NaN   \n",
      "1  {\\n  \"answer\": \"The policy section does not co...    NaN   \n",
      "2  {\\n\"answer\": \"The policy section 10 does not c...    NaN   \n",
      "3  {\\n\"answer\": \"The policy section titled '8. Ad...    NaN   \n",
      "4  {\\n  \"answer\": \"The policy section titled '8. ...    NaN   \n",
      "\n",
      "                    timestamp  \n",
      "0  2023-10-06 16:02:53.385873  \n",
      "1  2023-10-06 19:14:06.687054  \n",
      "2  2023-10-06 19:14:06.689044  \n",
      "3  2023-10-06 19:16:47.881053  \n",
      "4  2023-10-06 19:16:47.882715  \n"
     ]
    }
   ],
   "source": [
    "# Open the object for tracking inputs and outputs\n",
    "db_inputs_outputs = DbInputsOutputs(\"data/tracking_inputs_outputs.csv\")\n",
    "db_inputs_outputs.print_data()"
   ],
   "metadata": {
    "collapsed": false,
    "ExecuteTime": {
     "end_time": "2023-10-06T23:59:29.589089Z",
     "start_time": "2023-10-06T23:59:29.574457Z"
    }
   }
  },
  {
   "cell_type": "code",
   "execution_count": 9,
   "outputs": [
    {
     "data": {
      "text/plain": "'# Privacy Policy\\n\\nEffective: July 25, 2023\\n\\nRec Room Inc., a Delaware corporation (\"Company\", \"we\", \"our\", and their derivatives) provides the websites, [http://www.recroom.com](http://www.recroom.com/), [http://www.rec.net](http://www.rec.net/), and the subdomains of each of the foregoing (collectively, the \"Website\") and the Rec Room® video game (the \"Game\" and, with the Website, the \"Services\").\\n\\nThis Policy sets forth how we collect, use, protect, store, and otherwise process your Personal Information (defined below). This Policy does NOT apply to information we collect offline or you provide to or is collected by any third party (except as otherwise provided below).\\n\\nFor our practices regarding children, please see the Children\\'s section in Section 2 below.\\n\\n'"
     },
     "execution_count": 9,
     "metadata": {},
     "output_type": "execute_result"
    }
   ],
   "source": [
    "# Function to split a markdown file into sections by header of 1st level (e.g. # Header)\n",
    "\n",
    "def split_md_sections(filename):\n",
    "    with open(filename, 'r') as f:\n",
    "        lines = f.readlines()\n",
    "\n",
    "    sections = []\n",
    "    current_section = \"\"\n",
    "\n",
    "    for line in lines:\n",
    "        if line.startswith(\"# \"):\n",
    "            if current_section:\n",
    "                sections.append(current_section)\n",
    "            current_section = line\n",
    "        else:\n",
    "            current_section += line\n",
    "\n",
    "    if current_section:\n",
    "        sections.append(current_section)\n",
    "\n",
    "    return sections\n",
    "\n",
    "# Example usage\n",
    "sections = split_md_sections(\"data/RecRoom_complete.md\")\n",
    "sections[0]"
   ],
   "metadata": {
    "collapsed": false,
    "ExecuteTime": {
     "end_time": "2023-10-06T23:59:39.341901Z",
     "start_time": "2023-10-06T23:59:39.333909Z"
    }
   }
  },
  {
   "cell_type": "markdown",
   "source": [
    "# Create a RAG"
   ],
   "metadata": {
    "collapsed": false
   }
  },
  {
   "cell_type": "code",
   "execution_count": null,
   "outputs": [],
   "source": [],
   "metadata": {
    "collapsed": false
   }
  },
  {
   "cell_type": "code",
   "execution_count": 10,
   "outputs": [],
   "source": [
    "# create a chat model using openAI's gpt-4 model\n",
    "chat = ChatOpenAI(model_name='gpt-4', temperature=0)"
   ],
   "metadata": {
    "collapsed": false,
    "ExecuteTime": {
     "end_time": "2023-10-06T23:59:41.737763Z",
     "start_time": "2023-10-06T23:59:41.734429Z"
    }
   }
  },
  {
   "cell_type": "code",
   "execution_count": 11,
   "outputs": [],
   "source": [
    "from langchain.chains.combine_documents.stuff import StuffDocumentsChain\n",
    "from langchain.prompts import PromptTemplate\n",
    "from langchain.chains import create_qa_with_sources_chain\n",
    "from langchain.chains import RetrievalQA\n",
    "\n",
    "qa_chain = create_qa_with_sources_chain(chat)\n",
    "\n",
    "\n",
    "doc_prompt = PromptTemplate(\n",
    "    template=\"Relevant piece from the legal code: \\n {page_content} \\nSource: {source}\",\n",
    "    input_variables=[\"page_content\", \"source\"],\n",
    ")\n",
    "\n",
    "final_qa_chain = StuffDocumentsChain(\n",
    "    llm_chain=qa_chain,\n",
    "    document_variable_name=\"context\",\n",
    "    document_prompt=doc_prompt,\n",
    ")\n",
    "\n",
    "retrieval_qa = RetrievalQA(\n",
    "    retriever=SimilarityOfCounselRetriever(),\n",
    "    combine_documents_chain=final_qa_chain\n",
    ")"
   ],
   "metadata": {
    "collapsed": false,
    "ExecuteTime": {
     "end_time": "2023-10-06T23:59:43.208427Z",
     "start_time": "2023-10-06T23:59:43.203042Z"
    }
   }
  },
  {
   "cell_type": "code",
   "execution_count": 12,
   "outputs": [],
   "source": [
    "def run_section_through_chain(pre_prompt: str, policy_section: str, retrieval_qa: RetrievalQA):\n",
    "    query = f\"\"\"{pre_prompt}\n",
    "\n",
    "    *** Policy section ***\n",
    "    {policy_section}\n",
    "\n",
    "    \"\"\"\n",
    "    answer = retrieval_qa.run(query)\n",
    "    return answer"
   ],
   "metadata": {
    "collapsed": false,
    "ExecuteTime": {
     "end_time": "2023-10-07T00:01:40.372234Z",
     "start_time": "2023-10-07T00:01:40.368025Z"
    }
   }
  },
  {
   "cell_type": "markdown",
   "source": [
    "\n",
    "# Test the RAG on a single section"
   ],
   "metadata": {
    "collapsed": false
   }
  },
  {
   "cell_type": "code",
   "execution_count": 15,
   "outputs": [],
   "source": [
    "pre_prompt_analysis_only = \"\"\"ACT as a corporate attorney whose job is to check the compliance of the company's policy with the state's new laws.\n",
    "\n",
    "Your task is to identify if the provided policy section complies with the new law.\n",
    "\n",
    "If the policy section complies with the new law, then say so and do nothing more.\n",
    "\n",
    "Otherwise, if the policy section does not comply with the law, make a general assessment how bad is the violation, and make a numbered list of what is missing from the policy or what is wrong with the policy, prioritizing the most important issues first. Make sure to mention the name and/or the number of the policy section you are assessing.\n",
    "\n",
    "Note on time limits: if the policy promises shorter times to react or respond to something than the law requires, eg the company responds within 30 days while 45 days is required by law, it is NOT a violation since sooner is better, and 30 is less than 45.\n",
    "\n",
    "For example, if the policy is \"The company's address is 123 Main Street, New York, NY 10001. The company's phone number is 212-555-1234.\" and the new law is \"You have to specify the company's address, phone number, and email address.\", then the missing part is \"company's email\", and so the policy is not fully compliant.\n",
    "\n",
    "As another example, if the entire policy is \"The company may collect the following types of personal information: name, address, phone number, email address, and credit card number.\" and the new law is \"You have to specify a mechanism for consumers to delete their personal information.\", then the missing part is \"mechanism for consumers to delete their personal information\", and so the policy is not fully compliant.\n",
    "\n",
    "As another example, if the policy is \"the company will respond to a verifiable consumer request within 30 days of its receipt\" and the law is \"the company is required to respond within 45 days of receiving a verifiable consumer request\", then the policy is fully compliant because 30 is less than 45.\n",
    " \"\"\"\n"
   ],
   "metadata": {
    "collapsed": false,
    "ExecuteTime": {
     "end_time": "2023-10-07T00:04:00.174834Z",
     "start_time": "2023-10-07T00:04:00.165100Z"
    }
   }
  },
  {
   "cell_type": "code",
   "execution_count": 13,
   "outputs": [
    {
     "name": "stdout",
     "output_type": "stream",
     "text": [
      "# 9. Additional Notice for California Residents\n",
      "\n",
      "The following applies to California residents pursuant to the California Consumer Privacy Act of 2018 (\"CCPA\"):\n",
      "\n",
      "- In the preceding 12 months, the Company may have disclosed the categories of Personal Information listed in Section 2 above to our service providers listed in Section 6 above for business purposes.\n",
      "- In the preceding 12 months, the Company has not sold Personal Information. The Company only discloses Personal Information to service providers.\n",
      "- You have the right to request that the Company disclose certain information to you about our collection and use of your Personal Information over the past 12 months. Once we receive and confirm your verifiable consumer request, we will disclose to you, to the extent retained by us:\n",
      "  - The categories of Personal Information we collected about you.\n",
      "  - The categories of sources for the Personal Information we collected about you.\n",
      "  - Our business or commercial purpose for collecting or selling that Personal Information.\n",
      "  - The categories of third parties with whom we share that Personal Information.\n",
      "  - The specific pieces of Personal Information we collected about you (also known as a data portability request).\n",
      "  - If we sold or disclosed your Personal Information for a business purpose, two separate lists disclosing: (a) sales, identifying the Personal Information categories that each category of recipient purchased; and (b) disclosures for a business purpose, identifying the Personal Information categories that each category of recipient obtained.\n",
      "- You have the right to request that the Company delete any of your Personal Information that we collected from you and retained, subject to certain exceptions. Once we receive and confirm your verifiable consumer request, we will delete (and direct our service providers to delete) your Personal Information from our records, unless an exception applies. We may deny your deletion request if retaining the information is necessary for us or our service providers to:\n",
      "  - Complete the transaction for which we collected the Personal Information, provide the Service that you requested, take actions reasonably anticipated within the context of our ongoing business relationship with you, or otherwise perform our contract with you.\n",
      "  - Detect security incidents, protect against malicious, deceptive, fraudulent, or illegal activity, or prosecute those responsible for such activities.\n",
      "  - Debug the Services to identify and repair errors that impair existing intended functionality.\n",
      "  - Exercise free speech, ensure the right of another user to exercise their free speech rights, or exercise another right provided for by law.\n",
      "  - Comply with the California Electronic Communications Privacy Act (Cal. Penal Code § 1546 et. seq.).\n",
      "  - Engage in public or peer-reviewed scientific, historical, or statistical research in the public interest that adheres to all other applicable ethics and privacy laws, when the information's deletion may likely render impossible or seriously impair the research's achievement, if you previously provided informed consent.\n",
      "  - Enable solely internal uses that are reasonably aligned with user expectations based on your relationship with us.\n",
      "  - Comply with a legal obligation.\n",
      "  - Make other internal and lawful uses of that information that are compatible with the context in which you provided it.\n",
      "\n",
      "We will not discriminate against you for exercising any of your CCPA rights. Unless permitted by the CCPA, we will not:\n",
      "\n",
      "- Deny you the Services.\n",
      "- Charge you different prices or rates for the Services, including through granting discounts or other benefits, or imposing penalties.\n",
      "- Provide you a different level or quality of the Services.\n",
      "- Suggest that you may receive a different price or rate for the Services or a different level or quality of the Services.\n",
      "\n",
      "_Verifiable Consumer Requests_\n",
      "\n",
      "To exercise your rights described above, please email us at support@recroom.com with the subject line \"CCPA\". Only you, or someone legally authorized to act on your behalf, may make a verifiable consumer request related to your Personal Information. You may also make a verifiable consumer request on behalf of your Child. You may only make a verifiable consumer request for access or data portability twice within a 12-month period. The verifiable consumer request must:\n",
      "\n",
      "- Provide sufficient information that allows us to reasonably verify you are the person about whom we collected Personal Information or an authorized representative.\n",
      "- Describe your request with sufficient detail that allows us to properly understand, evaluate, and respond to it.\n",
      "\n",
      "We cannot respond to your request or provide you with Personal Information if we cannot verify your identity or authority to make the request and confirm that the Personal Information relates to you. Making a verifiable consumer request does not require you to create an account with us. We will only use Personal Information provided in a verifiable consumer request to verify your identity or authority to make the request.\n",
      "\n",
      "_Response Timing and Format_\n",
      "\n",
      "We endeavor to respond to a verifiable consumer request within 30 days of its receipt. If we require more time, we will inform you of the reason and extension period in writing. If you have an account with us, we will deliver our written response to that account. If you do not have an account with us, we will deliver our written response by mail or electronically, at your option.\n",
      "\n",
      "Any disclosures we provide will only cover the 12-month period preceding the receipt of verifiable consumer request. The response we provide will also explain the reasons we cannot comply with a request, if applicable.\n",
      "\n",
      "For data portability requests, we will select a format to provide your Personal Information that is readily useable and should allow you to transmit the information from one entity to another entity without hindrance.\n",
      "\n",
      "We do not charge a fee to process or respond to your verifiable consumer request unless it is excessive, repetitive, or manifestly unfounded. If we determine that the request warrants a fee, we will tell you why we made that decision and provide you with a cost estimate before completing your request.\n",
      "\n",
      "\n"
     ]
    }
   ],
   "source": [
    "# Take one section from the recroom policy\n",
    "RecRoom_policy_splits = split_md_sections(\"data/RecRoom_complete.md\")\n",
    "policy_section = RecRoom_policy_splits[9]\n",
    "print(policy_section)"
   ],
   "metadata": {
    "collapsed": false,
    "ExecuteTime": {
     "end_time": "2023-10-07T00:03:26.241644Z",
     "start_time": "2023-10-07T00:03:26.235916Z"
    }
   }
  },
  {
   "cell_type": "code",
   "execution_count": 16,
   "outputs": [
    {
     "name": "stdout",
     "output_type": "stream",
     "text": [
      "{\n",
      "  \"answer\": \"The policy section '# 9. Additional Notice for California Residents' is generally compliant with the new law. However, there are a few areas that need to be addressed to ensure full compliance:\n",
      "\n",
      "1. The policy does not explicitly mention the obligation to inform all individuals responsible for handling consumer inquiries about the business’s privacy practices or the business’s compliance with the title, as required by Sections 1798.130.202012_a_3_B_iii_5_C_ii_6 and 1798.135.202013_c_3 of the legal code. This is a significant omission and should be addressed immediately.\n",
      "\n",
      "2. The policy does not clearly state that the company will disclose and deliver the required information to a consumer free of charge, correct inaccurate personal information, or delete a consumer’s personal information, based on the consumer’s request, within 45 days of receiving a verifiable consumer request from the consumer, as required by Section 1798.130.202012_a_2 of the legal code. Although the policy mentions that the company will respond to a verifiable consumer request within 30 days, it does not explicitly state that it will correct inaccurate information or delete a consumer's personal information based on the consumer's request.\n",
      "\n",
      "3. The policy does not clearly state that the company will update its online privacy policy or policies at least once every 12 months, as required by Section 1798.130.202012_a_3_B_iii_5 of the legal code. This is a minor omission and should be addressed to ensure full compliance.\n",
      "\n",
      "4. The policy does not clearly state that the company will comply with the California Electronic Communications Privacy Act pursuant to Chapter 3.6 (commencing with Section 1546) of Title 12 of Part 2 of the Penal Code, as required by Section CIV1798.105.20205_d_5 of the legal code. This is a minor omission and should be addressed to ensure full compliance.\",\n",
      "  \"sources\": [\"CIV1798.130.202012_a_3_B_iii_5_C_ii_6\", \"CIV1798.135.202013_c_3\", \"CIV1798.130.202012_a_2\", \"CIV1798.130.202012_a_3_B_iii_5\", \"CIV1798.105.20205_d_5\"]\n",
      "}\n"
     ]
    }
   ],
   "source": [
    "a9 = run_section_through_chain(pre_prompt_analysis_only, policy_section, retrieval_qa)\n",
    "print(a9)"
   ],
   "metadata": {
    "collapsed": false,
    "ExecuteTime": {
     "end_time": "2023-10-07T00:04:32.945442Z",
     "start_time": "2023-10-07T00:04:03.512833Z"
    }
   }
  },
  {
   "cell_type": "code",
   "execution_count": 17,
   "outputs": [],
   "source": [
    "# save inputs and outputs to disk\n",
    "db_inputs_outputs.add_data({'query': pre_prompt_analysis_only,\n",
    "                            'policy_descr': \"Section 9 original\",\n",
    "                            'llm': \"gpt-4, temperature 0\",\n",
    "                            'retriever': \"Taylor retirever Similarity\",\n",
    "                            'answer': a9,\n",
    "                            'notes': \"\",\n",
    "                            \"timestamp\":  datetime.datetime.now()\n",
    "                            })"
   ],
   "metadata": {
    "collapsed": false,
    "ExecuteTime": {
     "end_time": "2023-10-07T00:06:18.690552Z",
     "start_time": "2023-10-07T00:06:18.672940Z"
    }
   }
  },
  {
   "cell_type": "code",
   "execution_count": null,
   "outputs": [],
   "source": [],
   "metadata": {
    "collapsed": false
   }
  },
  {
   "cell_type": "markdown",
   "source": [
    "# All sections of policy\n",
    "\n",
    "For each section of the given policy, run it through the chain. Save answers with sources. Summarize it into a summary."
   ],
   "metadata": {
    "collapsed": false
   }
  },
  {
   "cell_type": "code",
   "execution_count": 21,
   "outputs": [],
   "source": [
    "import pickle\n",
    "import time"
   ],
   "metadata": {
    "collapsed": false,
    "ExecuteTime": {
     "end_time": "2023-10-07T00:10:15.428177Z",
     "start_time": "2023-10-07T00:10:15.422941Z"
    }
   }
  },
  {
   "cell_type": "code",
   "execution_count": null,
   "outputs": [],
   "source": [],
   "metadata": {
    "collapsed": false
   }
  },
  {
   "cell_type": "code",
   "execution_count": 18,
   "outputs": [
    {
     "name": "stdout",
     "output_type": "stream",
     "text": [
      "12\n",
      "# Privacy Policy\n",
      "\n",
      "Effective: July 25, 2023\n",
      "\n",
      "Rec Room Inc., a Delaware corporation (\"Company\", \"we\", \"our\", and their derivatives) provides the websites, [http://www.recroom.com](http://www.recroom.com/), [http://www.rec.net](http://www.rec.net/), and the subdomains of each of the foregoing (collectively, the \"Website\") and the Rec Room® video game (the \"Game\" and, with the Website, the \"Services\").\n",
      "\n",
      "This Policy sets forth how we collect, use, protect, store, and otherwise process your Personal Information (defined below). This Policy does NOT apply to information we collect offline or you provide to or is collected by any third party (except as otherwise provided below).\n",
      "\n",
      "For our practices regarding children, please see the Children's section in Section 2 below.\n",
      "\n",
      "\n"
     ]
    }
   ],
   "source": [
    "# get recroom policy splits\n",
    "RecRoom_policy_splits = split_md_sections(\"data/RecRoom_complete.md\")\n",
    "print(len(RecRoom_policy_splits))\n",
    "# escape problematic markdown characters\n",
    "# RecRoom_policy_splits = [escape_markdown(x) for x in RecRoom_policy_splits]\n",
    "# RecRoom_policy_splits = RecRoom_policy_splits[9:11]\n",
    "print(RecRoom_policy_splits[0])"
   ],
   "metadata": {
    "collapsed": false,
    "ExecuteTime": {
     "end_time": "2023-10-07T00:07:59.378604Z",
     "start_time": "2023-10-07T00:07:59.358667Z"
    }
   }
  },
  {
   "cell_type": "code",
   "execution_count": null,
   "outputs": [],
   "source": [],
   "metadata": {
    "collapsed": false
   }
  },
  {
   "cell_type": "code",
   "execution_count": null,
   "outputs": [],
   "source": [
    "# Loop over the splits\n",
    "all_answers_list = []\n",
    "\n",
    "for i, policy_section in enumerate(RecRoom_policy_splits):\n",
    "    print(f\"Processing chunk {i}...\")\n",
    "    output = run_section_through_chain(pre_prompt_analysis_only, policy_section, retrieval_qa)\n",
    "    answer = output\n",
    "    # append to all_answers\n",
    "    all_answers_list.append(answer)\n",
    "    # pause to avoid hitting the TPM limit. I've got the limit of 10KTPM-200RPM\n",
    "    time.sleep(10)\n",
    "\n",
    "\n",
    "# save the list to the disk\n",
    "with open(\"data/all_answers_list.pkl\", \"wb\") as f:\n",
    "    pickle.dump(all_answers_list, f)\n"
   ],
   "metadata": {
    "collapsed": false
   }
  },
  {
   "cell_type": "code",
   "execution_count": null,
   "outputs": [],
   "source": [],
   "metadata": {
    "collapsed": false
   }
  },
  {
   "cell_type": "code",
   "execution_count": 22,
   "outputs": [
    {
     "name": "stdout",
     "output_type": "stream",
     "text": [
      "__Assessment of chunk 0__\n",
      "{\n",
      "  \"answer\": \"The provided policy section does not comply with the new law. The violation is significant as it lacks several key elements required by the California Consumer Privacy Act of 2018. Here are the main issues, prioritized by importance:\n",
      "\n",
      "1. The policy does not specify two or more designated methods for consumers to submit requests for information disclosure, deletion, or correction (Section 1798.130 (a)(1)).\n",
      "2. The policy does not mention any measures to protect the fundamental privacy rights of natural persons with respect to the use of their personal information (Section 1798.185 (c)).\n",
      "3. The policy does not provide guidance to consumers regarding their rights under this title (Section 1798.185 (e)).\n",
      "4. The policy does not establish a mechanism for persons doing business in California to voluntarily certify that they are in compliance with this title (Section 1798.185 (j)).\n",
      "5. The policy does not mention any measures to promote public awareness and understanding of the risks, rules, responsibilities, safeguards, and rights in relation to the collection, use, sale, and disclosure of personal information (Section 1798.185 (d)).\n",
      "\n",
      "Policy Section Assessed: # Privacy Policy\",\n",
      "  \"sources\": [\"63-pl\", \"10-pl\", \"54-pl\", \"55-pl\", \"53-pl\"]\n",
      "}\n",
      "\n",
      "__Assessment of chunk 1__\n",
      "{\n",
      "  \"answer\": \"The policy section is not fully compliant with the new law. Here are the issues prioritized from most to least important:\\n\\n1. The policy does not specify the length of time the business intends to retain each category of personal information, as required by Section 1798.100 (3) of the California Consumer Privacy Act of 2018.\\n\\n2. The policy does not provide a mechanism for consumers to delete their personal information, as required by Section 1798.105 of the California Consumer Privacy Act of 2018.\\n\\n3. The policy does not provide a mechanism for consumers to correct inaccurate personal information, as required by Section 1798.106 of the California Consumer Privacy Act of 2018.\\n\\n4. The policy does not specify the purposes for which the categories of personal information are collected or used, as required by Section 1798.100 (1) and (2) of the California Consumer Privacy Act of 2018.\\n\\n5. The policy does not specify whether the collected personal information is sold or shared, as required by Section 1798.100 (1) and (2) of the California Consumer Privacy Act of 2018.\",\n",
      "  \"sources\": [\"33-pl\", \"39-pl\", \"55-pl\", \"63-pl\", \"0-pl\"]\n",
      "}\n",
      "\n",
      "__Assessment of chunk 2__\n",
      "{\n",
      "  \"answer\": \"The policy section #2 'Children Under the Age of 13' is not fully compliant with the new law. The violations are not severe but need to be addressed to ensure full compliance. Here are the issues prioritized:\n",
      "\n",
      "1. The policy does not explicitly mention the 12-month waiting period before requesting the consumer’s consent again for consumers under 16 years of age as required by the law (Source: 17-pl).\n",
      "2. The policy does not clearly state that the personal information collected from the consumer in connection with the submission of the consumer’s opt-out request will be used solely for the purposes of complying with the opt-out request (Source: 17-pl).\n",
      "3. The policy does not provide a clear mechanism for consumers to delete their personal information. Although it mentions that parents may request us to delete their Child's account and/or refuse to permit us from further collecting or using the Child's Personal Information, it does not clearly state how this process works (Source: 24-pl).\",\n",
      "  \"sources\": [\"17-pl\", \"24-pl\"]\n",
      "}\n",
      "\n",
      "__Assessment of chunk 3__\n",
      "{\n",
      "  \"answer\": \"The policy section #3 'From what sources does the Company collect Personal Information?' is not fully compliant with the new law. The violations are not severe but need to be addressed to ensure full compliance. Here are the issues prioritized by importance:\n",
      "\n",
      "1. The policy does not specify a mechanism for consumers to delete their personal information as required by the law. This is a significant omission and needs to be addressed immediately.\n",
      "2. The policy does not clearly state how the company responds to access requests, including providing meaningful information about the logic involved in decision-making processes, as required by the law.\n",
      "3. The policy does not mention any cybersecurity audit performed on an annual basis, which is required by the law if the processing of consumers’ personal information presents significant risk to consumers’ privacy or security.\n",
      "4. The policy does not mention any risk assessment submitted to the California Privacy Protection Agency on a regular basis, which is required by the law if the processing of consumers’ personal information presents significant risk to consumers’ privacy or security.\n",
      "5. The policy does not mention any regulations governing access and opt-out rights with respect to the company's use of automated decision-making technology, including profiling, which is required by the law.\n",
      "\n",
      "These issues need to be addressed to ensure the company's policy is fully compliant with the new law.\",\n",
      "  \"sources\": [\"55-pl\", \"63-pl\", \"33-pl\", \"54-pl\", \"12-pl\"]\n",
      "}\n",
      "\n",
      "__Assessment of chunk 4__\n",
      "{\n",
      "  \"answer\": \"The policy section #4 'How does the Company use cookies and other automatic data collection technologies?' is not fully compliant with the new law. Here is the assessment of the violation:\n",
      "\n",
      "1. The policy does not provide a clear opt-out mechanism for the use of cookies. The law requires businesses to define the requirements and technical specifications for an opt-out preference signal sent by a platform, technology, or mechanism, to indicate a consumer’s intent to opt out of the sale or sharing of the consumer’s personal information (Source: 58-pl). Although the policy mentions that users can set their browsers to refuse cookies, it does not provide a clear, company-specific opt-out mechanism.\n",
      "\n",
      "2. The policy does not clearly state how the company responds to an opt-out preference signal. The law requires businesses to ensure that any link to a web page or its supporting content that allows the consumer to consent to opt in is not part of a popup, notice, banner, or other intrusive design that obscures any part of the web page the consumer intended to visit from full view or that interferes with or impedes in any way the consumer’s experience visiting or browsing the web page or website the consumer intended to visit (Source: 58-pl).\n",
      "\n",
      "3. The policy does not provide meaningful information about the logic involved in the decision-making processes related to the use of cookies and other automatic data collection technologies. The law requires businesses to provide such information in response to access requests (Source: 55-pl).\",\n",
      "  \"sources\": [\"55-pl\", \"58-pl\"]\n",
      "}\n",
      "\n",
      "__Assessment of chunk 5__\n",
      "{\n",
      "  \"answer\": \"The policy section #5 'For what purposes does the Company collect Personal Information?' is not fully compliant with the new law. Here are the main issues:\n",
      "\n",
      "1. The policy does not specify a mechanism for consumers to delete their personal information, as required by the law (Source: 3-pl).\n",
      "2. The policy does not mention any measures to ensure security and integrity of the consumer's personal information (Source: 21-pl).\n",
      "3. The policy does not mention any provisions for cooperating with law enforcement agencies in case of conduct or activity that may violate federal, state, or local law (Source: 33-pl).\n",
      "4. The policy does not mention any provisions for cooperating with a government agency request for emergency access to a consumer’s personal information if a natural person is at risk or danger of death or serious physical injury (Source: 33-pl).\n",
      "5. The policy does not mention any provisions for undertaking internal research for technological development and demonstration (Source: 21-pl).\n",
      "6. The policy does not mention any provisions for undertaking activities to verify or maintain the quality or safety of a service or device that is owned, manufactured, manufactured for, or controlled by the business, and to improve, upgrade, or enhance the service or device that is owned, manufactured, manufactured for, or controlled by the business (Source: 21-pl).\n",
      "\n",
      "The violation is significant as the policy lacks several key provisions required by the law.\",\n",
      "  \"sources\": [\"3-pl\", \"21-pl\", \"33-pl\"]\n",
      "}\n",
      "\n",
      "__Assessment of chunk 6__\n",
      "{\n",
      "  \"answer\": \"The policy section #6 does not fully comply with the new law. The violation is significant as it lacks several key elements required by the law. Here are the main issues, prioritized by importance:\\n\\n1. The policy does not specify a mechanism for consumers to delete their personal information as required by Section 1798.105 of the new law.\\n\\n2. The policy does not provide any designated methods for consumers to submit requests for information disclosure, deletion, or correction. This is required by Section 1798.130 of the new law.\\n\\n3. The policy does not mention any measures to protect consumers' personal information from disclosure to an auditor in the absence of a court order, warrant, or subpoena, as required by Section 1798.185 of the new law.\\n\\n4. The policy does not specify any measures to cooperate with law enforcement agencies concerning conduct or activity that the business reasonably and in good faith believes may violate federal, state, or local law, as required by Section 1798.145 of the new law.\\n\\n5. The policy does not mention any measures to cooperate with a government agency request for emergency access to a consumer’s personal information if a natural person is at risk or danger of death or serious physical injury, as required by Section 1798.145 of the new law.\",\n",
      "  \"sources\": [\"33-pl\", \"10-pl\", \"55-pl\"]\n",
      "}\n",
      "\n",
      "__Assessment of chunk 7__\n",
      "{\n",
      "  \"answer\": \"The provided policy section is not fully compliant with the new law. Here are the main issues:\n",
      "\n",
      "1. **Limited retention (Policy 7.1)**: The policy states that the company retains personal information for as long as needed for business and operational needs or to comply with legal obligations. However, the law states that a business can be directed by a law enforcement agency not to delete a consumer's personal information for 90 days or additional 90-day periods for investigatory purposes (Source: 33-pl). The policy does not mention this exception.\n",
      "\n",
      "2. **Security measures (Policy 7.3)**: The policy mentions the use of appropriate security measures but does not specify conducting a cybersecurity audit on an annual basis or submitting a risk assessment to the California Privacy Protection Agency, as required by the law (Source: 55-pl).\n",
      "\n",
      "3. **Notification of a security breach (Policy 7.4)**: The policy states that in the event of a security breach, the company will notify the proper regulatory authorities and any users of the breach no longer than 72 hours after becoming aware of such a breach. However, the law does not specify a 72-hour notification period. The policy should be updated to reflect the actual legal requirements.\n",
      "\n",
      "4. **Deletion of Personal Information (Policy 7 - last paragraph)**: The policy states that the company will delete personal information without undue delay under certain conditions, including when a user requests deletion. However, the law specifies that a business is not required to comply with a consumer's request to delete personal information if it is necessary for the business to maintain the information for certain purposes (Source: 3-pl). The policy does not mention these exceptions.\",\n",
      "  \"sources\": [\"33-pl\", \"55-pl\", \"3-pl\"]\n",
      "}\n",
      "\n",
      "__Assessment of chunk 8__\n",
      "{\n",
      "\"answer\": \"The policy section #8 'Additional Notice for European Union and United Kingdom Residents' is generally compliant with the new law. However, there are a few areas that need to be addressed to ensure full compliance:\n",
      "\n",
      "1. Transfer Mechanisms: The policy mentions the use of 'European Commission approved standard contractual clauses' for transferring personal information out of the EU or UK. However, the new law requires businesses to provide a mechanism for consumers to delete their personal information. The policy should specify how these transfer mechanisms ensure the consumer's ability to delete their personal information (Source: 53-pl).\n",
      "\n",
      "2. Response Time: The policy states that the company will carry out a request for deletion of personal information within 30 days of account verification. While this is within the 45-day response time required by the new law, the law also allows for an extension of an additional 45 days when reasonably necessary. The policy should clarify whether such extensions are possible and under what circumstances (Source: 10-pl).\n",
      "\n",
      "3. Exceptions to Deletion Requests: The policy mentions that the company is not required to delete personal information if it has an overriding legitimate ground for retaining that information, such as to prevent fraud. The new law also allows for exceptions to deletion requests, but it specifies these exceptions in detail, including for law enforcement agency-approved investigations. The policy should align its exceptions with those specified in the new law (Source: 33-pl).\n",
      "\n",
      "4. Cooperation with Law Enforcement: The new law requires businesses to cooperate with law enforcement agencies concerning conduct or activity that the business reasonably and in good faith believes may violate federal, state, or local law. The policy does not mention this requirement (Source: 33-pl).\n",
      "\n",
      "5. Opt-Out Preference Signal: The new law requires businesses to define the requirements and technical specifications for an opt-out preference signal. The policy does not mention this requirement (Source: 55-pl).\",\n",
      "\"sources\": [\"33-pl\", \"10-pl\", \"53-pl\", \"55-pl\"]\n",
      "}\n",
      "\n",
      "__Assessment of chunk 9__\n",
      "{\n",
      "  \"answer\": \"The policy section '#9. Additional Notice for California Residents' is compliant with the new law. It covers all the necessary points as required by the California Consumer Privacy Act of 2018 (CCPA).\",\n",
      "  \"sources\": [\"10-pl\", \"11-pl\", \"32-pl\", \"54-pl\", \"4-pl\"]\n",
      "}\n",
      "\n",
      "__Assessment of chunk 10__\n",
      "{\n",
      "\"answer\": \"The policy section #10 does not fully comply with the new law. Here is the assessment of the violation:\n",
      "\n",
      "1. The policy does not specify the methods for submitting requests for information disclosure, deletion, or correction as required by Section 1798.130(a)(1) of the new law. The policy should provide at least two methods for submitting such requests, including a toll-free telephone number. If the company operates exclusively online and has a direct relationship with a consumer, it should provide an email address for submitting these requests.\n",
      "\n",
      "2. The policy does not mention the requirement to disclose and deliver the required information to a consumer free of charge, correct inaccurate personal information, or delete a consumer’s personal information, based on the consumer’s request, within 45 days of receiving a verifiable consumer request from the consumer as required by Section 1798.130(a)(2) of the new law.\n",
      "\n",
      "3. The policy does not mention the possibility of extending the time period to provide the required information, correct inaccurate personal information, or delete personal information by an additional 45 days when reasonably necessary, provided the consumer is given notice of the extension within the first 45-day period as required by Section 1798.130(a)(2) of the new law.\n",
      "\n",
      "4. The policy does not mention the requirement to provide the disclosure of the required information in writing and delivered through the consumer’s account with the business, if the consumer maintains an account with the business, or by mail or electronically at the consumer’s option as required by Section 1798.130(a)(2) of the new law.\n",
      "\n",
      "5. The policy does not mention the requirement to establish rules and procedures to facilitate a consumer’s or the consumer’s authorized agent’s ability to delete personal information, correct inaccurate personal information, or obtain information as required by Section 1798.130(7) of the new law.\n",
      "\n",
      "6. The policy does not mention the requirement to establish how often, and under what circumstances, a consumer may request a correction as required by Section 1798.130(8) of the new law.\n",
      "\n",
      "The policy section assessed is #10: 'How will the Company notify users of changes to this Policy?'\",\n",
      "\"sources\": [\"10-pl\", \"53-pl\", \"54-pl\", \"58-pl\", \"64-pl\"]\n",
      "}\n",
      "\n",
      "__Assessment of chunk 11__\n",
      "{\n",
      "  \"answer\": \"The policy section #11 does not fully comply with the new law. The violation is significant as it does not meet the requirements of Proposition 24, Section 1798.130. Here are the issues prioritized:\n",
      "\n",
      "1. The policy only provides an email address for consumers to submit requests for information, deletion, or correction. According to Section 1798.130 (a)(1)(A), the company should provide two or more designated methods for submitting such requests, including, at a minimum, a toll-free telephone number. However, if the company operates exclusively online and has a direct relationship with a consumer from whom it collects personal information, providing an email address alone is acceptable. If this is not the case, the company is in violation of this section.\n",
      "2. If the company maintains an internet website, according to Section 1798.130 (a)(1)(B), it should make the website available to consumers to submit requests for information, deletion, or correction. The policy does not mention this.\n",
      "\n",
      "The company needs to revise its policy to include at least one more method for consumers to submit requests (if it does not operate exclusively online) and to make its website available for such requests.\",\n",
      "  \"sources\": [\"10-pl\"]\n",
      "}\n",
      "\n"
     ]
    }
   ],
   "source": [
    "# concatenate the string from the list all_answers_list\n",
    "\n",
    "# load from disk if needed\n",
    "if 1:\n",
    "    with open(\"data/all_answers_list.pkl\", \"rb\") as f:\n",
    "        all_answers_list = pickle.load(f)\n",
    "\n",
    "all_answers = \"\\n\".join([f\"__Assessment of chunk {i}__\\n{answer}\\n\" for i, answer in enumerate(all_answers_list)])\n",
    "\n",
    "print(all_answers)"
   ],
   "metadata": {
    "collapsed": false,
    "ExecuteTime": {
     "end_time": "2023-10-07T00:10:28.103344Z",
     "start_time": "2023-10-07T00:10:28.086853Z"
    }
   }
  },
  {
   "cell_type": "code",
   "execution_count": null,
   "outputs": [],
   "source": [],
   "metadata": {
    "collapsed": false
   }
  },
  {
   "cell_type": "code",
   "execution_count": 23,
   "outputs": [],
   "source": [
    "# create summarization model\n",
    "llm_for_summary = ChatOpenAI(model_name='gpt-4')"
   ],
   "metadata": {
    "collapsed": false,
    "ExecuteTime": {
     "end_time": "2023-10-07T00:11:24.248659Z",
     "start_time": "2023-10-07T00:11:24.245844Z"
    }
   }
  },
  {
   "cell_type": "code",
   "execution_count": 26,
   "outputs": [],
   "source": [
    "# Summarize the sections\n",
    "messages = [\n",
    "    SystemMessage(content=\"ACT as a corporate attorney whose job is to check the compliance of the company's policy with the state's new laws.  \"),\n",
    "    HumanMessage(content=\"Summarize the assessments of different sections of the policy into a single assessment, referencing individual sections of the policy as necessary. Make sure to include the relevant numbers of legal code sections for the human attorney to be able to verify. The assessment of individual sections are listed below as __Assessment of chunk x__: \\n\" + all_answers + \"\\n *** End of chunks *** \\n Summarize the assessment of of indivudual chunks. \")\n",
    "]\n",
    "summary_answer = llm_for_summary(messages)"
   ],
   "metadata": {
    "collapsed": false,
    "ExecuteTime": {
     "end_time": "2023-10-07T00:15:58.691886Z",
     "start_time": "2023-10-07T00:15:21.859685Z"
    }
   }
  },
  {
   "cell_type": "code",
   "execution_count": 27,
   "outputs": [
    {
     "name": "stdout",
     "output_type": "stream",
     "text": [
      "In summary, the overall assessment reveals that the company's policy fails to fully comply with the new law in multiple sections. Here are the main issues that need immediate attention:\n",
      "\n",
      "1. The policy does not specify two or more designated methods for consumers to submit requests for information disclosure, deletion, or correction. This is a clear violation of Section 1798.130 (a)(1) of the California Consumer Privacy Act of 2018. \n",
      "\n",
      "2. The policy does not provide proper guidance to consumers regarding their rights under this title (Section 1798.185 (e) and lacks a mechanism for businesses operating in California to voluntarily certify their compliance with this title (Section 1798.185 (j)).\n",
      "\n",
      "3. The policy does not specify the length of time the business intends to retain each category of personal information, as required by Section 1798.100 (3) and does not provide a clear mechanism for consumers to delete their personal information as required by Section 1798.105.\n",
      "\n",
      "4. The policy does not clearly state how the company responds to access requests, including providing meaningful information about the logic involved in decision-making processes, as required by the law.\n",
      "\n",
      "5. The policy does not provide a clear opt-out mechanism for the use of cookies, which is required by the law (Source: 58-pl).\n",
      "\n",
      "6. The policy does not mention any measures to cooperate with law enforcement agencies concerning conduct or activity that the business reasonably and in good faith believes may violate federal, state, or local law, as required by Section 1798.145 of the new law.\n",
      "\n",
      "7. The policy does not provide a clear and company-specific opt-out mechanism, which obscures any part of the web page the consumer intended to visit from full view or that interferes with or impedes in any way the consumer’s experience visiting or browsing the web page or website the consumer intended to visit (Source: 58-pl).\n",
      "\n",
      "8. The policy does not mention any measures to cooperate with a government agency request for emergency access to a consumer’s personal information if a natural person is at risk or danger of death or serious physical injury, as required by Section 1798.145 of the new law.\n",
      "\n",
      "Overall, while some sections of the policy are in compliance with the new laws, there are significant areas of non-compliance that need to be addressed promptly to avoid potential legal repercussions.\n"
     ]
    }
   ],
   "source": [
    "print(summary_answer.content)"
   ],
   "metadata": {
    "collapsed": false,
    "ExecuteTime": {
     "end_time": "2023-10-07T00:15:58.694559Z",
     "start_time": "2023-10-07T00:15:58.692508Z"
    }
   }
  },
  {
   "cell_type": "code",
   "execution_count": null,
   "outputs": [],
   "source": [],
   "metadata": {
    "collapsed": false
   }
  }
 ],
 "metadata": {
  "kernelspec": {
   "display_name": "Python 3",
   "language": "python",
   "name": "python3"
  },
  "language_info": {
   "codemirror_mode": {
    "name": "ipython",
    "version": 2
   },
   "file_extension": ".py",
   "mimetype": "text/x-python",
   "name": "python",
   "nbconvert_exporter": "python",
   "pygments_lexer": "ipython2",
   "version": "2.7.6"
  }
 },
 "nbformat": 4,
 "nbformat_minor": 0
}
