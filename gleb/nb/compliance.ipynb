{
 "cells": [
  {
   "cell_type": "code",
   "execution_count": 1,
   "metadata": {
    "collapsed": true,
    "ExecuteTime": {
     "end_time": "2023-10-05T00:52:37.722469Z",
     "start_time": "2023-10-05T00:52:32.572105Z"
    }
   },
   "outputs": [
    {
     "name": "stdout",
     "output_type": "stream",
     "text": [
      "Requirement already satisfied: langchain in /Users/gr703z/anaconda3/lib/python3.11/site-packages (0.0.306)\r\n",
      "Requirement already satisfied: PyYAML>=5.3 in /Users/gr703z/anaconda3/lib/python3.11/site-packages (from langchain) (6.0)\r\n",
      "Requirement already satisfied: SQLAlchemy<3,>=1.4 in /Users/gr703z/anaconda3/lib/python3.11/site-packages (from langchain) (1.4.39)\r\n",
      "Requirement already satisfied: aiohttp<4.0.0,>=3.8.3 in /Users/gr703z/anaconda3/lib/python3.11/site-packages (from langchain) (3.8.3)\r\n",
      "Requirement already satisfied: anyio<4.0 in /Users/gr703z/anaconda3/lib/python3.11/site-packages (from langchain) (3.5.0)\r\n",
      "Requirement already satisfied: dataclasses-json<0.7,>=0.5.7 in /Users/gr703z/anaconda3/lib/python3.11/site-packages (from langchain) (0.6.1)\r\n",
      "Requirement already satisfied: jsonpatch<2.0,>=1.33 in /Users/gr703z/anaconda3/lib/python3.11/site-packages (from langchain) (1.33)\r\n",
      "Requirement already satisfied: langsmith<0.1.0,>=0.0.38 in /Users/gr703z/anaconda3/lib/python3.11/site-packages (from langchain) (0.0.41)\r\n",
      "Requirement already satisfied: numexpr<3.0.0,>=2.8.4 in /Users/gr703z/anaconda3/lib/python3.11/site-packages (from langchain) (2.8.4)\r\n",
      "Requirement already satisfied: numpy<2,>=1 in /Users/gr703z/anaconda3/lib/python3.11/site-packages (from langchain) (1.24.3)\r\n",
      "Requirement already satisfied: pydantic<3,>=1 in /Users/gr703z/anaconda3/lib/python3.11/site-packages (from langchain) (1.10.13)\r\n",
      "Requirement already satisfied: requests<3,>=2 in /Users/gr703z/anaconda3/lib/python3.11/site-packages (from langchain) (2.29.0)\r\n",
      "Requirement already satisfied: tenacity<9.0.0,>=8.1.0 in /Users/gr703z/anaconda3/lib/python3.11/site-packages (from langchain) (8.2.2)\r\n",
      "Requirement already satisfied: attrs>=17.3.0 in /Users/gr703z/anaconda3/lib/python3.11/site-packages (from aiohttp<4.0.0,>=3.8.3->langchain) (22.1.0)\r\n",
      "Requirement already satisfied: charset-normalizer<3.0,>=2.0 in /Users/gr703z/anaconda3/lib/python3.11/site-packages (from aiohttp<4.0.0,>=3.8.3->langchain) (2.0.4)\r\n",
      "Requirement already satisfied: multidict<7.0,>=4.5 in /Users/gr703z/anaconda3/lib/python3.11/site-packages (from aiohttp<4.0.0,>=3.8.3->langchain) (6.0.2)\r\n",
      "Requirement already satisfied: async-timeout<5.0,>=4.0.0a3 in /Users/gr703z/anaconda3/lib/python3.11/site-packages (from aiohttp<4.0.0,>=3.8.3->langchain) (4.0.2)\r\n",
      "Requirement already satisfied: yarl<2.0,>=1.0 in /Users/gr703z/anaconda3/lib/python3.11/site-packages (from aiohttp<4.0.0,>=3.8.3->langchain) (1.8.1)\r\n",
      "Requirement already satisfied: frozenlist>=1.1.1 in /Users/gr703z/anaconda3/lib/python3.11/site-packages (from aiohttp<4.0.0,>=3.8.3->langchain) (1.3.3)\r\n",
      "Requirement already satisfied: aiosignal>=1.1.2 in /Users/gr703z/anaconda3/lib/python3.11/site-packages (from aiohttp<4.0.0,>=3.8.3->langchain) (1.2.0)\r\n",
      "Requirement already satisfied: idna>=2.8 in /Users/gr703z/anaconda3/lib/python3.11/site-packages (from anyio<4.0->langchain) (3.4)\r\n",
      "Requirement already satisfied: sniffio>=1.1 in /Users/gr703z/anaconda3/lib/python3.11/site-packages (from anyio<4.0->langchain) (1.2.0)\r\n",
      "Requirement already satisfied: marshmallow<4.0.0,>=3.18.0 in /Users/gr703z/anaconda3/lib/python3.11/site-packages (from dataclasses-json<0.7,>=0.5.7->langchain) (3.20.1)\r\n",
      "Requirement already satisfied: typing-inspect<1,>=0.4.0 in /Users/gr703z/anaconda3/lib/python3.11/site-packages (from dataclasses-json<0.7,>=0.5.7->langchain) (0.9.0)\r\n",
      "Requirement already satisfied: jsonpointer>=1.9 in /Users/gr703z/anaconda3/lib/python3.11/site-packages (from jsonpatch<2.0,>=1.33->langchain) (2.1)\r\n",
      "Requirement already satisfied: typing-extensions>=4.2.0 in /Users/gr703z/anaconda3/lib/python3.11/site-packages (from pydantic<3,>=1->langchain) (4.6.3)\r\n",
      "Requirement already satisfied: urllib3<1.27,>=1.21.1 in /Users/gr703z/anaconda3/lib/python3.11/site-packages (from requests<3,>=2->langchain) (1.26.16)\r\n",
      "Requirement already satisfied: certifi>=2017.4.17 in /Users/gr703z/anaconda3/lib/python3.11/site-packages (from requests<3,>=2->langchain) (2023.5.7)\r\n",
      "Requirement already satisfied: packaging>=17.0 in /Users/gr703z/anaconda3/lib/python3.11/site-packages (from marshmallow<4.0.0,>=3.18.0->dataclasses-json<0.7,>=0.5.7->langchain) (23.0)\r\n",
      "Requirement already satisfied: mypy-extensions>=0.3.0 in /Users/gr703z/anaconda3/lib/python3.11/site-packages (from typing-inspect<1,>=0.4.0->dataclasses-json<0.7,>=0.5.7->langchain) (0.4.3)\r\n",
      "Note: you may need to restart the kernel to use updated packages.\n",
      "Requirement already satisfied: openai in /Users/gr703z/anaconda3/lib/python3.11/site-packages (0.28.1)\r\n",
      "Requirement already satisfied: requests>=2.20 in /Users/gr703z/anaconda3/lib/python3.11/site-packages (from openai) (2.29.0)\r\n",
      "Requirement already satisfied: tqdm in /Users/gr703z/anaconda3/lib/python3.11/site-packages (from openai) (4.65.0)\r\n",
      "Requirement already satisfied: aiohttp in /Users/gr703z/anaconda3/lib/python3.11/site-packages (from openai) (3.8.3)\r\n",
      "Requirement already satisfied: charset-normalizer<4,>=2 in /Users/gr703z/anaconda3/lib/python3.11/site-packages (from requests>=2.20->openai) (2.0.4)\r\n",
      "Requirement already satisfied: idna<4,>=2.5 in /Users/gr703z/anaconda3/lib/python3.11/site-packages (from requests>=2.20->openai) (3.4)\r\n",
      "Requirement already satisfied: urllib3<1.27,>=1.21.1 in /Users/gr703z/anaconda3/lib/python3.11/site-packages (from requests>=2.20->openai) (1.26.16)\r\n",
      "Requirement already satisfied: certifi>=2017.4.17 in /Users/gr703z/anaconda3/lib/python3.11/site-packages (from requests>=2.20->openai) (2023.5.7)\r\n",
      "Requirement already satisfied: attrs>=17.3.0 in /Users/gr703z/anaconda3/lib/python3.11/site-packages (from aiohttp->openai) (22.1.0)\r\n",
      "Requirement already satisfied: multidict<7.0,>=4.5 in /Users/gr703z/anaconda3/lib/python3.11/site-packages (from aiohttp->openai) (6.0.2)\r\n",
      "Requirement already satisfied: async-timeout<5.0,>=4.0.0a3 in /Users/gr703z/anaconda3/lib/python3.11/site-packages (from aiohttp->openai) (4.0.2)\r\n",
      "Requirement already satisfied: yarl<2.0,>=1.0 in /Users/gr703z/anaconda3/lib/python3.11/site-packages (from aiohttp->openai) (1.8.1)\r\n",
      "Requirement already satisfied: frozenlist>=1.1.1 in /Users/gr703z/anaconda3/lib/python3.11/site-packages (from aiohttp->openai) (1.3.3)\r\n",
      "Requirement already satisfied: aiosignal>=1.1.2 in /Users/gr703z/anaconda3/lib/python3.11/site-packages (from aiohttp->openai) (1.2.0)\r\n",
      "Note: you may need to restart the kernel to use updated packages.\n"
     ]
    }
   ],
   "source": [
    "%pip install langchain\n",
    "%pip install openai"
   ]
  },
  {
   "cell_type": "code",
   "execution_count": 2,
   "outputs": [],
   "source": [
    "from langchain.schema import (\n",
    "    AIMessage,\n",
    "    HumanMessage,\n",
    "    SystemMessage\n",
    ")\n",
    "from langchain.chat_models import ChatOpenAI"
   ],
   "metadata": {
    "collapsed": false,
    "ExecuteTime": {
     "end_time": "2023-10-05T00:52:43.638450Z",
     "start_time": "2023-10-05T00:52:41.953680Z"
    }
   }
  },
  {
   "cell_type": "code",
   "execution_count": 3,
   "outputs": [],
   "source": [
    "# create a chat model using openAI's gpt-4 model\n",
    "chat = ChatOpenAI(model_name='gpt-4', temperature=0.2)"
   ],
   "metadata": {
    "collapsed": false,
    "ExecuteTime": {
     "end_time": "2023-10-05T00:52:46.672643Z",
     "start_time": "2023-10-05T00:52:46.646762Z"
    }
   }
  },
  {
   "cell_type": "markdown",
   "source": [
    "# One shot"
   ],
   "metadata": {
    "collapsed": false
   }
  },
  {
   "cell_type": "code",
   "execution_count": 4,
   "outputs": [],
   "source": [
    "pre_prompt = \"\"\"ACT as a corporate attorney whose job is to check the compliance of the company's policy with the state's new laws.\n",
    "\n",
    "Your task is to identify is the provided policy complies with the new law.\n",
    "\n",
    "If the policy complies with the new law, then say so and do nothing more.\n",
    "\n",
    "Otherwise, if the policy does not comply with the law, make a general assessment how bad is the violation, and make a bullet list of what is missing from the policy or what is wrong with the policy.\n",
    "\n",
    "Then update the policy to comply with the new law. Add placeholders for the missing information, such as [thing]\n",
    "\n",
    "For example, if the policy is \"The company's address is 123 Main Street, New York, NY 10001. The company's phone number is 212-555-1234.\" and the new law is \"You have to specify the company's address, phone number, and email address.\", then the missing part is \"company's email\", and the updated policy is \"The company's address is 123 Main Street, New York, NY 10001. The company's phone number is 212-555-1234. The company's email address is [email address].\"\n",
    " \"\"\"\n"
   ],
   "metadata": {
    "collapsed": false,
    "ExecuteTime": {
     "end_time": "2023-10-05T00:52:50.008980Z",
     "start_time": "2023-10-05T00:52:50.003914Z"
    }
   }
  },
  {
   "cell_type": "code",
   "execution_count": 11,
   "outputs": [
    {
     "name": "stdout",
     "output_type": "stream",
     "text": [
      "Rec Room Inc., a Delaware corporation (“Company”, “we”, “us”, “our”), may collect and use the below categories of your Personal Information. Third parties such as Greenhouse also may collect such Personal Information on our behalf. “Personal Information” means information that identifies, relates to, describes, is reasonably capable of being associated with, or could reasonably be linked, directly or indirectly, with you.\n",
      "* Full name\n",
      "* Home address\n",
      "* Telephone number\n",
      "* Email address\n",
      "* Resume information\n",
      "* Interview feedback\n",
      "* Compensation expectations\n",
      "* Authorization to work in the United States and/or visa requirements, if applicable\n",
      "The Company collects the above categories of Personal Information to use or disclose as appropriate to:\n",
      "* Recruit and evaluate job applicants for employment\n",
      "* Comply with all applicable laws and regulations\n",
      "* Perform data analytics\n",
      "* Exercise or defend the legal rights of the Company\n",
      "If you have any questions about this Notice or need to access this Notice in an alternative format due to having a disability, please contact us at hr@recroom.com and privacy@recroom.com.\n",
      "\n",
      "\n"
     ]
    }
   ],
   "source": [
    "# read file \"recroom notice\" into a string\n",
    "with open('recroom notice', 'r') as f:\n",
    "    policy = f.read()\n",
    "print(policy)"
   ],
   "metadata": {
    "collapsed": false,
    "ExecuteTime": {
     "end_time": "2023-10-05T15:13:42.788172Z",
     "start_time": "2023-10-05T15:13:42.781430Z"
    }
   }
  },
  {
   "cell_type": "code",
   "execution_count": 12,
   "outputs": [],
   "source": [
    "law = '''\n",
    "  General Duties of Businesses that Collect Personal Information\n",
    "(a) A business that controls the collection of a consumer’s personal information shall, at or before the point of collection, inform consumers of the following:\n",
    "(1) The categories of personal information to be collected and the purposes for which the categories of personal information are collected or used and whether that information is sold or shared. A business shall not collect additional categories of personal information or use personal information collected for additional purposes that are incompatible with the disclosed purpose for which the personal information was collected without providing the consumer with notice consistent with this section.\n",
    "\n",
    "(2) If the business collects sensitive personal information, the categories of sensitive personal information to be collected and the purposes for which the categories of sensitive personal information are collected or used, and whether that information is sold or shared. A business shall not collect additional categories of sensitive personal information or use sensitive personal information collected for additional purposes that are incompatible with the disclosed purpose for which the sensitive personal information was collected without providing the consumer with notice consistent with this section.\n",
    "\n",
    "(3) The length of time the business intends to retain each category of personal information, including sensitive personal information, or if that is not possible, the criteria used to determine that period provided that a business shall not retain a consumer’s personal information or sensitive personal information for each disclosed purpose for which the personal information was collected for longer than is reasonably necessary for that disclosed purpose.\n",
    "\n",
    "'''"
   ],
   "metadata": {
    "collapsed": false,
    "ExecuteTime": {
     "end_time": "2023-10-05T15:13:47.725171Z",
     "start_time": "2023-10-05T15:13:47.719080Z"
    }
   }
  },
  {
   "cell_type": "code",
   "execution_count": 13,
   "outputs": [
    {
     "data": {
      "text/plain": "'  Definitions\\nFor purposes of this title:\\n(a) “Advertising and marketing” means a communication by a business or a person acting on the business’ behalf in any medium intended to induce a consumer to obtain goods, services, or employment.\\n(b) “Aggregate consumer information” means information that relates to a group or category of consumers, from which individual consumer identities have been removed, that is not linked or reasonably linkable to any consumer or household, including via a device. “Aggregate consumer information” does not mean one or more individual consumer records that have been deidentified.\\n(c) “Biometric information” means an individual’s physiological, biological, or behavioral characteristics, including information pertaining to an individual’s deoxyribonucleic acid (DNA), that is used or is intended to be used singly or in combination with each other or with other identifying data, to establish individual identity. Biometric information includes, but is not limited to, imagery of the iris, retina, fingerprint, face, hand, palm, vein patterns, and voice recordings, from which an identifier template, such as a faceprint, a minutiae template, or a voiceprint, can be extracted, and keystroke patterns or rhythms, gait patterns or rhythms, and sleep, health, or exercise data that contain identifying information.\\n(d) “Business” means:\\n(1) A sole proprietorship, partnership, limited liability company, corporation, association, or other legal entity that is organized or operated for the profit or financial benefit of its shareholders or other owners, that collects consumers’ personal information, or on the behalf of which such information is collected and that alone, or jointly with others, determines the purposes and means of the processing of consumers’ personal information, that does business in the State of California, and that satisfies one or more of the following thresholds:\\n\\n(A) As of January 1 of the calendar year, had annual gross revenues in excess of twenty-five million dollars ($25,000,000) in the preceding calendar year, as adjusted pursuant to paragraph (5) of subdivision (a) of Section 1798.185.\\n\\n(B) Alone or in combination, annually buys, sells, or shares the personal information of 100,000 or more consumers or households.\\n\\n(C) Derives 50 percent or more of its annual revenues from selling or sharing consumers’ personal information.\\n\\n(2) Any entity that controls or is controlled by a business, as defined in paragraph (1), and that shares common branding with the business and with whom the business shares consumers’ personal information. “Control” or “controlled” means ownership of, or the power to vote, more than 50 percent of the outstanding shares of any class of voting security of a business; control in any manner over the election of a majority of the directors, or of individuals exercising similar functions; or the power to exercise a controlling influence over the management of a company. “Common branding” means a shared name, servicemark, or trademark that the average consumer would understand that two or more entities are commonly owned.\\n\\n(3) A joint venture or partnership composed of businesses in which each business has at least a 40 percent interest. For purposes of this title, the joint venture or partnership and each business that composes the joint venture or partnership shall separately be considered a single business, except that personal information in the possession of each business and disclosed to the joint venture or partnership shall not be shared with the other business.\\n\\n(4) A person that does business in California, that is not covered by paragraph (1), (2), or (3), and that voluntarily certifies to the California Privacy Protection Agency that it is in compliance with, and agrees to be bound by, this title.\\n\\n(e) “Business purpose” means the use of personal information for the business’ operational purposes, or other notified purposes, or for the service provider or contractor’s operational purposes, as defined by regulations adopted pursuant to paragraph (11) of subdivision (a) of Section 1798.185, provided that the use of personal information shall be reasonably necessary and proportionate to achieve the purpose for which the personal information was collected or processed or for another purpose that is compatible with the context in which the personal information was collected. Business purposes are:\\n(1) Auditing related to counting ad impressions to unique visitors, verifying positioning and quality of ad impressions, and auditing compliance with this specification and other standards.\\n\\n(2) Helping to ensure security and integrity to the extent the use of the consumer’s personal information is reasonably necessary and proportionate for these purposes.\\n\\n(3) Debugging to identify and repair errors that impair existing intended functionality.\\n\\n(4) Short-term, transient use, including, but not limited to, nonpersonalized advertising shown as part of a consumer’s current interaction with the business, provided that the consumer’s personal information is not disclosed to another third party and is not used to build a profile about the consumer or otherwise alter the consumer’s experience outside the current interaction with the business.\\n\\n(5) Performing services on behalf of the business, including maintaining or servicing accounts, providing customer service, processing or fulfilling orders and transactions, verifying customer information, processing payments, providing financing, providing analytic services, providing storage, or providing similar services on behalf of the business.\\n\\n(6) Providing advertising and marketing services, except for cross-context behavioral advertising, to the consumer provided that, for the purpose of advertising and marketing, a service provider or contractor shall not combine the personal information of opted-out consumers that the service provider or contractor receives from, or on behalf of, the business with personal information that the service provider or contractor receives from, or on behalf of, another person or persons or collects from its own interaction with consumers.\\n\\n(7) Undertaking internal research for technological development and demonstration.\\n\\n(8) Undertaking activities to verify or maintain the quality or safety of a service or device that is owned, manufactured, manufactured for, or controlled by the business, and to improve, upgrade, or enhance the service or device that is owned, manufactured, manufactured for, or controlled by the business.\\n\\n(f) “Collects,” “collected,” or “collection” means buying, renting, gathering, obtaining, receiving, or accessing any personal information pertaining to a consumer by any means. This includes receiving information from the consumer, either actively or passively, or by observing the consumer’s behavior.\\n(g) “Commercial purposes” means to advance a person’s commercial or economic interests, such as by inducing another person to buy, rent, lease, join, subscribe to, provide, or exchange products, goods, property, information, or services, or enabling or effecting, directly or indirectly, a commercial transaction.\\n(h) “Consent” means any freely given, specific, informed, and unambiguous indication of the consumer’s wishes by which the consumer, or the consumer’s legal guardian, a person who has power of attorney, or a person acting as a conservator for the consumer, including by a statement or by a clear affirmative action, signifies agreement to the processing of personal information relating to the consumer for a narrowly defined particular purpose. Acceptance of a general or broad terms of use, or similar document, that contains descriptions of personal information processing along with other, unrelated information, does not constitute consent. Hovering over, muting, pausing, or closing a given piece of content does not constitute consent. Likewise, agreement obtained through use of dark patterns does not constitute consent.\\n(i) “Consumer” means a natural person who is a California resident, as defined in Section 17014 of Title 18 of the California Code of Regulations, as that section read on September 1, 2017, however identified, including by any unique identifier.\\n(j) (1) “Contractor” means a person to whom the business makes available a consumer’s personal information for a business purpose, pursuant to a written contract with the business, provided that the contract:\\n(A) Prohibits the contractor from:\\n\\n(i) Selling or sharing the personal information.\\n\\n(ii) Retaining, using, or disclosing the personal information for any purpose other than for the business purposes specified in the contract, including retaining, using, or disclosing the personal information for a commercial purpose other than the business purposes specified in the contract, or as otherwise permitted by this title.\\n\\n(iii) Retaining, using, or disclosing the information outside of the direct business relationship between the contractor and the business.\\n\\n(iv) Combining the personal information that the contractor receives pursuant to a written contract with the business with personal information that it receives from or on behalf of another person or persons, or collects from its own interaction with the consumer, provided that the contractor may combine personal information to perform any business purpose as defined in regulations adopted pursuant to paragraph (10) of subdivision (a) of Section 1798.185, except as provided for in paragraph (6) of subdivision (e) and in regulations adopted by the California Privacy Protection Agency.\\n\\n(B) Includes a certification made by the contractor that the contractor understands the restrictions in subparagraph (A) and will comply with them.\\n\\n(C) Permits, subject to agreement with the contractor, the business to monitor the contractor’s compliance with the contract through measures, including, but not limited to, ongoing manual reviews and automated scans and regular assessments, audits, or other technical and operational testing at least once every 12 months.\\n\\n(2) If a contractor engages any other person to assist it in processing personal information for a business purpose on behalf of the business, or if any other person engaged by the contractor engages another person to assist in processing personal information for that business purpose, it shall notify the business of that engagement, and the engagement shall be pursuant to a written contract binding the other person to observe all the requirements set forth in paragraph (1).\\n\\n(k) “Cross-context behavioral advertising” means the targeting of advertising to a consumer based on the consumer’s personal information obtained from the consumer’s activity across businesses, distinctly-branded websites, applications, or services, other than the business, distinctly-branded website, application, or service with which the consumer intentionally interacts.\\n(l) “Dark pattern” means a user interface designed or manipulated with the substantial effect of subverting or impairing user autonomy, decisionmaking, or choice, as further defined by regulation.\\n(m) “Deidentified” means information that cannot reasonably be used to infer information about, or otherwise be linked to, a particular consumer provided that the business that possesses the information:\\n(1) Takes reasonable measures to ensure that the information cannot be associated with a consumer or household.\\n\\n(2) Publicly commits to maintain and use the information in deidentified form and not to attempt to reidentify the information, except that the business may attempt to reidentify the information solely for the purpose of determining whether its deidentification processes satisfy the requirements of this subdivision.\\n\\n(3) Contractually obligates any recipients of the information to comply with all provisions of this subdivision.\\n\\n(n) “Designated methods for submitting requests” means a mailing address, email address, internet web page, internet web portal, toll-free telephone number, or other applicable contact information, whereby consumers may submit a request or direction under this title, and any new, consumer-friendly means of contacting a business, as approved by the Attorney General pursuant to Section 1798.185.\\n(o) “Device” means any physical object that is capable of connecting to the Internet, directly or indirectly, or to another device.\\n(p) “Homepage” means the introductory page of an internet website and any internet web page where personal information is collected. In the case of an online service, such as a mobile application, homepage means the application’s platform page or download page, a link within the application, such as from the application configuration, “About,” “Information,’’ or settings page, and any other location that allows consumers to review the notices required by this title, including, but not limited to, before downloading the application.\\n(q) “Household” means a group, however identified, of consumers who cohabitate with one another at the same residential address and share use of common devices or services.\\n(r) “Infer” or “inference” means the derivation of information, data, assumptions, or conclusions from facts, evidence, or another source of information or data.\\n(s) “Intentionally interacts” means when the consumer intends to interact with a person, or disclose personal information to a person, via one or more deliberate interactions, including visiting the person’s website or purchasing a good or service from the person. Hovering over, muting, pausing, or closing a given piece of content does not constitute a consumer’s intent to interact with a person.\\n(t) “Nonpersonalized advertising” means advertising and marketing that is based solely on a consumer’s personal information derived from the consumer’s current interaction with the business with the exception of the consumer’s precise geolocation.\\n(u) “Person” means an individual, proprietorship, firm, partnership, joint venture, syndicate, business trust, company, corporation, limited liability company, association, committee, and any other organization or group of persons acting in concert.\\n(v) (1) “Personal information” means information that identifies, relates to, describes, is reasonably capable of being associated with, or could reasonably be linked, directly or indirectly, with a particular consumer or household. Personal information includes, but is not limited to, the following if it identifies, relates to, describes, is reasonably capable of being associated with, or could be reasonably linked, directly or indirectly, with a particular consumer or household:\\n(A) Identifiers such as a real name, alias, postal address, unique personal identifier, online identifier, Internet Protocol address, email address, account name, social security number, driver’s license number, passport number, or other similar identifiers.\\n\\n(B) Any personal information described in subdivision (e) of Section 1798.80.\\n\\n(C) Characteristics of protected classifications under California or federal law.\\n\\n(D) Commercial information, including records of personal property, products or services purchased, obtained, or considered, or other purchasing or consuming histories or tendencies.\\n\\n(E) Biometric information.\\n\\n(F) Internet or other electronic network activity information, including, but not limited to, browsing history, search history, and information regarding a consumer’s interaction with an internet website application, or advertisement.\\n\\n(G) Geolocation data.\\n\\n(H) Audio, electronic, visual, thermal, olfactory, or similar information.\\n\\n(I) Professional or employment-related information.\\n\\n(J) Education information, defined as information that is not publicly available personally identifiable information as defined in the Family Educational Rights and Privacy Act (20 U.S.C. Sec. 1232g; 34 C.F.R. Part 99).\\n\\n(K) Inferences drawn from any of the information identified in this subdivision to create a profile about a consumer reflecting the consumer’s preferences, characteristics, psychological trends, predispositions, behavior, attitudes, intelligence, abilities, and aptitudes.\\n\\n(L) Sensitive personal information.\\n\\n(2) “Personal information” does not include publicly available information or lawfully obtained, truthful information that is a matter of public concern. For purposes of this paragraph, “publicly available” means: information that is lawfully made available from federal, state, or local government records, or information that a business has a reasonable basis to believe is lawfully made available to the general public by the consumer or from widely distributed media; or information made available by a person to whom the consumer has disclosed the information if the consumer has not restricted the information to a specific audience. “Publicly available” does not mean biometric information collected by a business about a consumer without the consumer’s knowledge.\\n\\n(3) “Personal information” does not include consumer information that is deidentified or aggregate consumer information.\\n\\n(w) “Precise geolocation” means any data that is derived from a device and that is used or intended to be used to locate a consumer within a geographic area that is equal to or less than the area of a circle with a radius of 1,850 feet, except as prescribed by regulations.\\n(x) “Probabilistic identifier” means the identification of a consumer or a consumer’s device to a degree of certainty of more probable than not based on any categories of personal information included in, or similar to, the categories enumerated in the definition of personal information.\\n(y) “Processing” means any operation or set of operations that are performed on personal information or on sets of personal information, whether or not by automated means.\\n(z) “Profiling” means any form of automated processing of personal information, as further defined by regulations pursuant to paragraph (16) of subdivision (a) of Section 1798.185, to evaluate certain personal aspects relating to a natural person and in particular to analyze or predict aspects concerning that natural person’s performance at work, economic situation, health, personal preferences, interests, reliability, behavior, location, or movements.\\n(aa) “Pseudonymize” or “Pseudonymization” means the processing of personal information in a manner that renders the personal information no longer attributable to a specific consumer without the use of additional information, provided that the additional information is kept separately and is subject to technical and organizational measures to ensure that the personal information is not attributed to an identified or identifiable consumer.\\n(ab) “Research” means scientific analysis, systematic study, and observation, including basic research or applied research that is designed to develop or contribute to public or scientific knowledge and that adheres or otherwise conforms to all other applicable ethics and privacy laws, including, but not limited to, studies conducted in the public interest in the area of public health. Research with personal information that may have been collected from a consumer in the course of the consumer’s interactions with a business’ service or device for other purposes shall be:\\n(1) Compatible with the business purpose for which the personal information was collected.\\n\\n(2) Subsequently pseudonymized and deidentified, or deidentified and in the aggregate, such that the information cannot reasonably identify, relate to, describe, be capable of being associated with, or be linked, directly or indirectly, to a particular consumer, by a business.\\n\\n(3) Made subject to technical safeguards that prohibit reidentification of the consumer to whom the information may pertain, other than as needed to support the research.\\n\\n(4) Subject to business processes that specifically prohibit reidentification of the information, other than as needed to support the research.\\n\\n(5) Made subject to business processes to prevent inadvertent release of deidentified information.\\n\\n(6) Protected from any reidentification attempts.\\n\\n(7) Used solely for research purposes that are compatible with the context in which the personal information was collected.\\n\\n(8) Subjected by the business conducting the research to additional security controls that limit access to the research data to only those individuals as are necessary to carry out the research purpose.\\n\\n(ac) “Security and integrity” means the ability of:\\n(1) Networks or information systems to detect security incidents that compromise the availability, authenticity, integrity, and confidentiality of stored or transmitted personal information.\\n\\n(2) Businesses to detect security incidents, resist malicious, deceptive, fraudulent, or illegal actions and to help prosecute those responsible for those actions.\\n\\n(3) Businesses to ensure the physical safety of natural persons.\\n\\n(ad) (1) “Sell,” “selling,” “sale,” or “sold,’’ means selling, renting, releasing, disclosing, disseminating, making available, transferring, or otherwise communicating orally, in writing, or by electronic or other means, a consumer’s personal information by the business to a third party for monetary or other valuable consideration.\\n(2) For purposes of this title, a business does not sell personal information when:\\n\\n(A) A consumer uses or directs the business to intentionally:\\n\\n(i) Disclose personal information.\\n\\n(ii) Interact with one or more third parties.\\n\\n(B) The business uses or shares an identifier for a consumer who has opted out of the sale of the consumer’s personal information or limited the use of the consumer’s sensitive personal information for the purposes of alerting persons that the consumer has opted out of the sale of the consumer’s personal information or limited the use of the consumer’s sensitive personal information.\\n\\n(C) The business transfers to a third party the personal information of a consumer as an asset that is part of a merger, acquisition, bankruptcy, or other transaction in which the third party assumes control of all or part of the business, provided that information is used or shared consistently with this title. If a third party materially alters how it uses or shares the personal information of a consumer in a manner that is materially inconsistent with the promises made at the time of collection, it shall provide prior notice of the new or changed practice to the consumer. The notice shall be sufficiently prominent and robust to ensure that existing consumers can easily exercise their choices consistently with this title. This subparagraph does not authorize a business to make material, retroactive privacy policy changes or make other changes in their privacy policy in a manner that would violate the Unfair and Deceptive Practices Act (Chapter 5 (commencing with Section 17200) of Part 2 of Division 7 of the Business and Professions Code).\\n\\n(ae) “Sensitive personal information” means:\\n(1) Personal information that reveals:\\n\\n(A) A consumer’s social security, driver’s license, state identification card, or passport number.\\n\\n(B) A consumer’s account log-in, financial account, debit card, or credit card number in combination with any required security or access code, password, or credentials allowing access to an account.\\n\\n(C) A consumer’s precise geolocation.\\n\\n(D) A consumer’s racial or ethnic origin, religious or philosophical beliefs, or union membership.\\n\\n(E) The contents of a consumer’s mail, email, and text messages unless the business is the intended recipient of the communication.\\n\\n(F) A consumer’s genetic data.\\n\\n(2) (A) The processing of biometric information for the purpose of uniquely identifying a consumer.\\n\\n(B) Personal information collected and analyzed concerning a consumer’s health.\\n\\n(C) Personal information collected and analyzed concerning a consumer’s sex life or sexual orientation.\\n\\n(3) Sensitive personal information that is “publicly available” pursuant to paragraph (2) of subdivision (v) shall not be considered sensitive personal information or personal information.\\n\\n(af) “Service” or “services” means work, labor, and services, including services furnished in connection with the sale or repair of goods.\\n(ag) (1) “Service provider” means a person that processes personal information on behalf of a business and that receives from or on behalf of the business consumer’s personal information for a business purpose pursuant to a written contract, provided that the contract prohibits the person from:\\n(A) Selling or sharing the personal information.\\n\\n(B) Retaining, using, or disclosing the personal information for any purpose other than for the business purposes specified in the contract for the business, including retaining, using, or disclosing the personal information for a commercial purpose other than the business purposes specified in the contract with the business, or as otherwise permitted by this title.\\n\\n(C) Retaining, using, or disclosing the information outside of the direct business relationship between the service provider and the business.\\n\\n(D) Combining the personal information that the service provider receives from, or on behalf of, the business with personal information that it receives from, or on behalf of, another person or persons, or collects from its own interaction with the consumer, provided that the service provider may combine personal information to perform any business purpose as defined in regulations adopted pursuant to paragraph (10) of subdivision (a) of Section 1798.185, except as provided for in paragraph (6) of subdivision (e) of this section and in regulations adopted by the California Privacy Protection Agency. The contract may, subject to agreement with the service provider, permit the business to monitor the service provider’s compliance with the contract through measures, including, but not limited to, ongoing manual reviews and automated scans and regular assessments, audits, or other technical and operational testing at least once every 12 months.\\n\\n(2) If a service provider engages any other person to assist it in processing personal information for a business purpose on behalf of the business, or if any other person engaged by the service provider engages another person to assist in processing personal information for that business purpose, it shall notify the business of that engagement, and the engagement shall be pursuant to a written contract binding the other person to observe all the requirements set forth in paragraph (1).\\n\\n(ah) (1) “Share,” “shared,” or “sharing” means sharing, renting, releasing, disclosing, disseminating, making available, transferring, or otherwise communicating orally, in writing, or by electronic or other means, a consumer’s personal information by the business to a third party for cross-context behavioral advertising, whether or not for monetary or other valuable consideration, including transactions between a business and a third party for cross-context behavioral advertising for the benefit of a business in which no money is exchanged.\\n(2) For purposes of this title, a business does not share personal information when:\\n\\n(A) A consumer uses or directs the business to intentionally disclose personal information or intentionally interact with one or more third parties.\\n\\n(B) The business uses or shares an identifier for a consumer who has opted out of the sharing of the consumer’s personal information or limited the use of the consumer’s sensitive personal information for the purposes of alerting persons that the consumer has opted out of the sharing of the consumer’s personal information or limited the use of the consumer’s sensitive personal information.\\n\\n(C) The business transfers to a third party the personal information of a consumer as an asset that is part of a merger, acquisition, bankruptcy, or other transaction in which the third party assumes control of all or part of the business, provided that information is used or shared consistently with this title. If a third party materially alters how it uses or shares the personal information of a consumer in a manner that is materially inconsistent with the promises made at the time of collection, it shall provide prior notice of the new or changed practice to the consumer. The notice shall be sufficiently prominent and robust to ensure that existing consumers can easily exercise their choices consistently with this title. This subparagraph does not authorize a business to make material, retroactive privacy policy changes or make other changes in their privacy policy in a manner that would violate the Unfair and Deceptive Practices Act (Chapter 5 (commencing with Section 17200) of Part 2 of Division 7 of the Business and Professions Code).\\n\\n(ai) “Third party” means a person who is not any of the following:\\n(1) The business with whom the consumer intentionally interacts and that collects personal information from the consumer as part of the consumer’s current interaction with the business under this title.\\n\\n(2) A service provider to the business.\\n\\n(3) A contractor.\\n\\n(aj) “Unique identifier” or “unique personal identifier” means a persistent identifier that can be used to recognize a consumer, a family, or a device that is linked to a consumer or family, over time and across different services, including, but not limited to, a device identifier; an Internet Protocol address; cookies, beacons, pixel tags, mobile ad identifiers, or similar technology; customer number, unique pseudonym, or user alias; telephone numbers, or other forms of persistent or probabilistic identifiers that can be used to identify a particular consumer or device that is linked to a consumer or family. For purposes of this subdivision, “family” means a custodial parent or guardian and any children under 18 years of age over which the parent or guardian has custody.\\n(ak) “Verifiable consumer request” means a request that is made by a consumer, by a consumer on behalf of the consumer’s minor child, by a natural person or a person registered with the Secretary of State, authorized by the consumer to act on the consumer’s behalf, or by a person who has power of attorney or is acting as a conservator for the consumer, and that the business can verify, using commercially reasonable methods, pursuant to regulations adopted by the Attorney General pursuant to paragraph (7) of subdivision (a) of Section 1798.185 to be the consumer about whom the business has collected personal information. A business is not obligated to provide information to the consumer pursuant to Sections 1798.110 and 1798.115, to delete personal information pursuant to Section 1798.105, or to correct inaccurate personal information pursuant to Section 1798.106, if the business cannot verify, pursuant to this subdivision and regulations adopted by the Attorney General pursuant to paragraph (7) of subdivision (a) of Section 1798.185, that the consumer making the request is the consumer about whom the business has collected information or is a person authorized by the consumer to act on such consumer’s behalf.\\n(Amended (as amended November 3, 2020, by Prop. 24, Sec. 14) by Stats. 2021, Ch. 525, Sec. 3. (AB 694) Effective January 1, 2022.)'"
     },
     "execution_count": 13,
     "metadata": {},
     "output_type": "execute_result"
    }
   ],
   "source": [
    "# read file definitions\n",
    "with open('definitions', 'r') as f:\n",
    "    definitions = f.read()\n",
    "definitions"
   ],
   "metadata": {
    "collapsed": false,
    "ExecuteTime": {
     "end_time": "2023-10-05T15:13:50.488608Z",
     "start_time": "2023-10-05T15:13:50.478992Z"
    }
   }
  },
  {
   "cell_type": "code",
   "execution_count": 8,
   "outputs": [
    {
     "name": "stdout",
     "output_type": "stream",
     "text": [
      "The provided policy does not fully comply with the new law. The violation is moderate as there are several key elements missing from the policy. \n",
      "\n",
      "Here is what is missing or wrong with the policy:\n",
      "\n",
      "- The policy does not specify whether the collected personal information is sold or shared.\n",
      "- The policy does not identify if any of the collected information is considered sensitive personal information, and if so, it does not specify the purposes for which this sensitive personal information is collected or used, and whether it is sold or shared.\n",
      "- The policy does not mention the length of time the company intends to retain each category of personal information, including sensitive personal information, or the criteria used to determine that period.\n",
      "\n",
      "The updated policy should look like this:\n",
      "\n",
      "Rec Room Inc., a Delaware corporation (“Company”, “we”, “us”, “our”), may collect and use the below categories of your Personal Information. Third parties such as Greenhouse also may collect such Personal Information on our behalf. “Personal Information” means information that identifies, relates to, describes, is reasonably capable of being associated with, or could reasonably be linked, directly or indirectly, with you. \n",
      "\n",
      "The following categories of Personal Information may be collected:\n",
      "\n",
      "- Full name\n",
      "- Home address\n",
      "- Telephone number\n",
      "- Email address\n",
      "- Resume information\n",
      "- Interview feedback\n",
      "- Compensation expectations\n",
      "- Authorization to work in the United States and/or visa requirements, if applicable\n",
      "\n",
      "The Company collects the above categories of Personal Information to use or disclose as appropriate to:\n",
      "\n",
      "- Recruit and evaluate job applicants for employment\n",
      "- Comply with all applicable laws and regulations\n",
      "- Perform data analytics\n",
      "- Exercise or defend the legal rights of the Company\n",
      "\n",
      "The Company does not sell your Personal Information. The Company may share your Personal Information with third parties as necessary for the purposes listed above.\n",
      "\n",
      "If any of the collected information is considered sensitive personal information, it will be identified as such and the purposes for its collection and use will be clearly stated. The Company does not sell your sensitive personal information. The Company may share your sensitive personal information with third parties as necessary for the purposes listed above.\n",
      "\n",
      "The Company retains each category of Personal Information for [length of time or criteria used to determine the retention period]. The Company does not retain your Personal Information or sensitive personal information for longer than is reasonably necessary for the purposes for which it was collected.\n",
      "\n",
      "If you have any questions about this Notice or need to access this Notice in an alternative format due to having a disability, please contact us at hr@recroom.com and privacy@recroom.com.\n"
     ]
    }
   ],
   "source": [
    "messages = [\n",
    "    SystemMessage(content=pre_prompt),\n",
    "    HumanMessage(content=f\"\"\"\n",
    "\n",
    "*** Policy ***\n",
    "{policy}\n",
    "\n",
    "*** Law ***\n",
    "{law}\n",
    "\"\"\"\n",
    "                 )\n",
    "]\n",
    "r = chat(messages)\n",
    "print(r.content)"
   ],
   "metadata": {
    "collapsed": false,
    "ExecuteTime": {
     "end_time": "2023-10-05T00:53:31.893245Z",
     "start_time": "2023-10-05T00:52:59.672175Z"
    }
   }
  },
  {
   "cell_type": "code",
   "execution_count": 14,
   "outputs": [
    {
     "name": "stdout",
     "output_type": "stream",
     "text": [
      "The company's policy does not comply with the new law. The violations are not severe, but there are several areas that need to be addressed. \n",
      "\n",
      "Here are the main issues:\n",
      "\n",
      "- The policy does not specify the length of time the company intends to retain each category of personal information, as required by the new law.\n",
      "- The policy does not clarify whether the company collects sensitive personal information, and if so, for what purposes.\n",
      "- The policy does not provide a clear method for consumers to submit requests or directions under the new law.\n",
      "- The policy does not specify whether the company sells or shares the personal information it collects.\n",
      "\n",
      "To bring the policy into compliance with the new law, it should be updated as follows:\n",
      "\n",
      "Rec Room Inc., a Delaware corporation (“Company”, “we”, “us”, “our”), may collect and use the below categories of your Personal Information. Third parties such as Greenhouse also may collect such Personal Information on our behalf. “Personal Information” means information that identifies, relates to, describes, is reasonably capable of being associated with, or could reasonably be linked, directly or indirectly, with you.\n",
      "\n",
      "* Full name\n",
      "* Home address\n",
      "* Telephone number\n",
      "* Email address\n",
      "* Resume information\n",
      "* Interview feedback\n",
      "* Compensation expectations\n",
      "* Authorization to work in the United States and/or visa requirements, if applicable\n",
      "\n",
      "The Company collects the above categories of Personal Information to use or disclose as appropriate to:\n",
      "\n",
      "* Recruit and evaluate job applicants for employment\n",
      "* Comply with all applicable laws and regulations\n",
      "* Perform data analytics\n",
      "* Exercise or defend the legal rights of the Company\n",
      "\n",
      "The company retains each category of personal information for [length of time] or until it is no longer necessary for the purposes for which it was collected.\n",
      "\n",
      "The company does not sell or share your personal information with third parties for their own purposes. \n",
      "\n",
      "If you have any questions about this Notice or need to access this Notice in an alternative format due to having a disability, please contact us at hr@recroom.com and privacy@recroom.com.\n",
      "\n",
      "To submit a request or direction under the new law, please contact us via [designated methods for submitting requests].\n",
      "\n",
      "Please note that this policy may be updated periodically to reflect changes in our personal information practices or relevant laws.\n"
     ]
    }
   ],
   "source": [
    "messages = [\n",
    "    SystemMessage(content=pre_prompt),\n",
    "    HumanMessage(content=f\"\"\"\n",
    "\n",
    "*** Policy ***\n",
    "{policy}\n",
    "\n",
    "*** Law ***\n",
    "{law}\n",
    "{definitions}\n",
    "\"\"\"\n",
    "                 )\n",
    "]\n",
    "r = chat(messages)\n",
    "print(r.content)"
   ],
   "metadata": {
    "collapsed": false,
    "ExecuteTime": {
     "end_time": "2023-10-05T15:14:44.980660Z",
     "start_time": "2023-10-05T15:14:02.228940Z"
    }
   }
  },
  {
   "cell_type": "markdown",
   "source": [
    "## Re-run the updated policy"
   ],
   "metadata": {
    "collapsed": false
   }
  },
  {
   "cell_type": "code",
   "execution_count": 15,
   "outputs": [
    {
     "name": "stdout",
     "output_type": "stream",
     "text": [
      "The policy does not comply with the new law. The violations are not severe, but they are significant enough to require changes to the policy. \n",
      "\n",
      "Here's what is missing or wrong with the policy:\n",
      "\n",
      "- The policy does not clearly define what constitutes \"sensitive personal information\" as per the new law. The policy should include a clear definition and examples of sensitive personal information.\n",
      "- The policy does not specify the criteria used to determine the period for which the company retains each category of personal information. The new law requires this information to be disclosed.\n",
      "- The policy does not provide a clear method for consumers to submit requests or directions under the new law. The new law requires businesses to provide designated methods for submitting such requests.\n",
      "- The policy does not provide a clear explanation of the company's practices regarding the sale or sharing of personal information. The new law requires businesses to disclose whether they sell or share personal information and for what purposes.\n",
      "\n",
      "Here is the updated policy:\n",
      "\n",
      "Rec Room Inc., a Delaware corporation (“Company”, “we”, “us”, “our”), may collect and use the below categories of your Personal Information and Sensitive Personal Information. Third parties such as Greenhouse also may collect such Personal Information on our behalf. “Personal Information” means information that identifies, relates to, describes, is reasonably capable of being associated with, or could reasonably be linked, directly or indirectly, with you. \"Sensitive Personal Information\" includes details such as social security numbers, driver's license numbers, precise geolocation, racial or ethnic origin, religious beliefs, biometric information, health data, and sexual orientation.\n",
      "\n",
      "* Full name\n",
      "* Home address\n",
      "* Telephone number\n",
      "* Email address\n",
      "* Resume information\n",
      "* Interview feedback\n",
      "* Compensation expectations\n",
      "* Authorization to work in the United States and/or visa requirements, if applicable\n",
      "\n",
      "The Company collects the above categories of Personal Information and Sensitive Personal Information to use or disclose as appropriate to:\n",
      "* Recruit and evaluate job applicants for employment\n",
      "* Comply with all applicable laws and regulations\n",
      "* Perform data analytics\n",
      "* Exercise or defend the legal rights of the Company\n",
      "\n",
      "The Company intends to retain each category of Personal Information and Sensitive Personal Information for a period of 1 year or until such time as it is no longer necessary for the purpose for which it was collected. The criteria used to determine this period include [criteria].\n",
      "\n",
      "The Company does not sell or share your Personal Information or Sensitive Personal Information without your explicit consent.\n",
      "\n",
      "If you have any questions about this Notice or need to access this Notice in an alternative format due to having a disability, please contact us at hr@recroom.com and privacy@recroom.com.\n",
      "\n",
      "To submit a request or direction under this title, please contact us at email privacy@recroom.com or via [other designated methods].\n"
     ]
    }
   ],
   "source": [
    "# read policy from recoom notice upd\n",
    "with open('recroom notice upd', 'r') as f:\n",
    "    policy_upd = f.read()\n",
    "\n",
    "messages = [\n",
    "    SystemMessage(content=pre_prompt),\n",
    "    HumanMessage(content=f\"\"\"\n",
    "\n",
    "*** Policy ***\n",
    "{policy_upd}\n",
    "\n",
    "*** Law ***\n",
    "{law}\n",
    "{definitions}\n",
    "\"\"\"\n",
    "                 )\n",
    "]\n",
    "r = chat(messages)\n",
    "print(r.content)"
   ],
   "metadata": {
    "collapsed": false,
    "ExecuteTime": {
     "end_time": "2023-10-05T15:17:18.203181Z",
     "start_time": "2023-10-05T15:16:27.041040Z"
    }
   }
  },
  {
   "cell_type": "markdown",
   "source": [
    "# Evaluation"
   ],
   "metadata": {
    "collapsed": false
   }
  },
  {
   "cell_type": "code",
   "execution_count": 23,
   "outputs": [
    {
     "name": "stdout",
     "output_type": "stream",
     "text": [
      "Collecting ragas\r\n",
      "  Using cached ragas-0.0.16-py3-none-any.whl (38 kB)\r\n",
      "Requirement already satisfied: numpy in /Users/gr703z/anaconda3/lib/python3.11/site-packages (from ragas) (1.24.3)\r\n",
      "Requirement already satisfied: transformers in /Users/gr703z/anaconda3/lib/python3.11/site-packages (from ragas) (4.29.2)\r\n",
      "Collecting sentence-transformers (from ragas)\r\n",
      "  Using cached sentence-transformers-2.2.2.tar.gz (85 kB)\r\n",
      "  Preparing metadata (setup.py) ... \u001B[?25ldone\r\n",
      "\u001B[?25hRequirement already satisfied: datasets in /Users/gr703z/anaconda3/lib/python3.11/site-packages (from ragas) (2.12.0)\r\n",
      "Collecting tiktoken (from ragas)\r\n",
      "  Downloading tiktoken-0.5.1-cp311-cp311-macosx_11_0_arm64.whl (924 kB)\r\n",
      "\u001B[2K     \u001B[90m━━━━━━━━━━━━━━━━━━━━━━━━━━━━━━━━━━━━━━\u001B[0m \u001B[32m924.4/924.4 kB\u001B[0m \u001B[31m18.9 MB/s\u001B[0m eta \u001B[36m0:00:00\u001B[0ma \u001B[36m0:00:01\u001B[0m\r\n",
      "\u001B[?25hRequirement already satisfied: langchain>=0.0.288 in /Users/gr703z/anaconda3/lib/python3.11/site-packages (from ragas) (0.0.306)\r\n",
      "Requirement already satisfied: openai in /Users/gr703z/anaconda3/lib/python3.11/site-packages (from ragas) (0.28.1)\r\n",
      "Collecting pydantic<2.0 (from ragas)\r\n",
      "  Downloading pydantic-1.10.13-cp311-cp311-macosx_11_0_arm64.whl (2.5 MB)\r\n",
      "\u001B[2K     \u001B[90m━━━━━━━━━━━━━━━━━━━━━━━━━━━━━━━━━━━━━━━━\u001B[0m \u001B[32m2.5/2.5 MB\u001B[0m \u001B[31m38.8 MB/s\u001B[0m eta \u001B[36m0:00:00\u001B[0ma \u001B[36m0:00:01\u001B[0m\r\n",
      "\u001B[?25hCollecting pysbd>=0.3.4 (from ragas)\r\n",
      "  Using cached pysbd-0.3.4-py3-none-any.whl (71 kB)\r\n",
      "Requirement already satisfied: PyYAML>=5.3 in /Users/gr703z/anaconda3/lib/python3.11/site-packages (from langchain>=0.0.288->ragas) (6.0)\r\n",
      "Requirement already satisfied: SQLAlchemy<3,>=1.4 in /Users/gr703z/anaconda3/lib/python3.11/site-packages (from langchain>=0.0.288->ragas) (1.4.39)\r\n",
      "Requirement already satisfied: aiohttp<4.0.0,>=3.8.3 in /Users/gr703z/anaconda3/lib/python3.11/site-packages (from langchain>=0.0.288->ragas) (3.8.3)\r\n",
      "Requirement already satisfied: anyio<4.0 in /Users/gr703z/anaconda3/lib/python3.11/site-packages (from langchain>=0.0.288->ragas) (3.5.0)\r\n",
      "Requirement already satisfied: dataclasses-json<0.7,>=0.5.7 in /Users/gr703z/anaconda3/lib/python3.11/site-packages (from langchain>=0.0.288->ragas) (0.6.1)\r\n",
      "Requirement already satisfied: jsonpatch<2.0,>=1.33 in /Users/gr703z/anaconda3/lib/python3.11/site-packages (from langchain>=0.0.288->ragas) (1.33)\r\n",
      "Requirement already satisfied: langsmith<0.1.0,>=0.0.38 in /Users/gr703z/anaconda3/lib/python3.11/site-packages (from langchain>=0.0.288->ragas) (0.0.41)\r\n",
      "Requirement already satisfied: numexpr<3.0.0,>=2.8.4 in /Users/gr703z/anaconda3/lib/python3.11/site-packages (from langchain>=0.0.288->ragas) (2.8.4)\r\n",
      "Requirement already satisfied: requests<3,>=2 in /Users/gr703z/anaconda3/lib/python3.11/site-packages (from langchain>=0.0.288->ragas) (2.29.0)\r\n",
      "Requirement already satisfied: tenacity<9.0.0,>=8.1.0 in /Users/gr703z/anaconda3/lib/python3.11/site-packages (from langchain>=0.0.288->ragas) (8.2.2)\r\n",
      "Requirement already satisfied: typing-extensions>=4.2.0 in /Users/gr703z/anaconda3/lib/python3.11/site-packages (from pydantic<2.0->ragas) (4.6.3)\r\n",
      "Requirement already satisfied: pyarrow>=8.0.0 in /Users/gr703z/anaconda3/lib/python3.11/site-packages (from datasets->ragas) (11.0.0)\r\n",
      "Requirement already satisfied: dill<0.3.7,>=0.3.0 in /Users/gr703z/anaconda3/lib/python3.11/site-packages (from datasets->ragas) (0.3.6)\r\n",
      "Requirement already satisfied: pandas in /Users/gr703z/anaconda3/lib/python3.11/site-packages (from datasets->ragas) (1.5.3)\r\n",
      "Requirement already satisfied: tqdm>=4.62.1 in /Users/gr703z/anaconda3/lib/python3.11/site-packages (from datasets->ragas) (4.65.0)\r\n",
      "Requirement already satisfied: xxhash in /Users/gr703z/anaconda3/lib/python3.11/site-packages (from datasets->ragas) (2.0.2)\r\n",
      "Requirement already satisfied: multiprocess in /Users/gr703z/anaconda3/lib/python3.11/site-packages (from datasets->ragas) (0.70.14)\r\n",
      "Requirement already satisfied: fsspec[http]>=2021.11.1 in /Users/gr703z/anaconda3/lib/python3.11/site-packages (from datasets->ragas) (2023.4.0)\r\n",
      "Requirement already satisfied: huggingface-hub<1.0.0,>=0.11.0 in /Users/gr703z/anaconda3/lib/python3.11/site-packages (from datasets->ragas) (0.15.1)\r\n",
      "Requirement already satisfied: packaging in /Users/gr703z/anaconda3/lib/python3.11/site-packages (from datasets->ragas) (23.0)\r\n",
      "Requirement already satisfied: responses<0.19 in /Users/gr703z/anaconda3/lib/python3.11/site-packages (from datasets->ragas) (0.13.3)\r\n",
      "Requirement already satisfied: torch>=1.6.0 in /Users/gr703z/anaconda3/lib/python3.11/site-packages (from sentence-transformers->ragas) (2.0.1)\r\n",
      "Collecting torchvision (from sentence-transformers->ragas)\r\n",
      "  Downloading torchvision-0.16.0-cp311-cp311-macosx_11_0_arm64.whl (1.6 MB)\r\n",
      "\u001B[2K     \u001B[90m━━━━━━━━━━━━━━━━━━━━━━━━━━━━━━━━━━━━━━━━\u001B[0m \u001B[32m1.6/1.6 MB\u001B[0m \u001B[31m40.7 MB/s\u001B[0m eta \u001B[36m0:00:00\u001B[0m00:01\u001B[0m\r\n",
      "\u001B[?25hRequirement already satisfied: scikit-learn in /Users/gr703z/anaconda3/lib/python3.11/site-packages (from sentence-transformers->ragas) (1.2.2)\r\n",
      "Requirement already satisfied: scipy in /Users/gr703z/anaconda3/lib/python3.11/site-packages (from sentence-transformers->ragas) (1.10.1)\r\n",
      "Requirement already satisfied: nltk in /Users/gr703z/anaconda3/lib/python3.11/site-packages (from sentence-transformers->ragas) (3.7)\r\n",
      "Collecting sentencepiece (from sentence-transformers->ragas)\r\n",
      "  Downloading sentencepiece-0.1.99-cp311-cp311-macosx_11_0_arm64.whl (1.2 MB)\r\n",
      "\u001B[2K     \u001B[90m━━━━━━━━━━━━━━━━━━━━━━━━━━━━━━━━━━━━━━━━\u001B[0m \u001B[32m1.2/1.2 MB\u001B[0m \u001B[31m40.9 MB/s\u001B[0m eta \u001B[36m0:00:00\u001B[0m\r\n",
      "\u001B[?25hRequirement already satisfied: filelock in /Users/gr703z/anaconda3/lib/python3.11/site-packages (from transformers->ragas) (3.9.0)\r\n",
      "Requirement already satisfied: regex!=2019.12.17 in /Users/gr703z/anaconda3/lib/python3.11/site-packages (from transformers->ragas) (2022.7.9)\r\n",
      "Requirement already satisfied: tokenizers!=0.11.3,<0.14,>=0.11.1 in /Users/gr703z/anaconda3/lib/python3.11/site-packages (from transformers->ragas) (0.13.2)\r\n",
      "Requirement already satisfied: attrs>=17.3.0 in /Users/gr703z/anaconda3/lib/python3.11/site-packages (from aiohttp<4.0.0,>=3.8.3->langchain>=0.0.288->ragas) (22.1.0)\r\n",
      "Requirement already satisfied: charset-normalizer<3.0,>=2.0 in /Users/gr703z/anaconda3/lib/python3.11/site-packages (from aiohttp<4.0.0,>=3.8.3->langchain>=0.0.288->ragas) (2.0.4)\r\n",
      "Requirement already satisfied: multidict<7.0,>=4.5 in /Users/gr703z/anaconda3/lib/python3.11/site-packages (from aiohttp<4.0.0,>=3.8.3->langchain>=0.0.288->ragas) (6.0.2)\r\n",
      "Requirement already satisfied: async-timeout<5.0,>=4.0.0a3 in /Users/gr703z/anaconda3/lib/python3.11/site-packages (from aiohttp<4.0.0,>=3.8.3->langchain>=0.0.288->ragas) (4.0.2)\r\n",
      "Requirement already satisfied: yarl<2.0,>=1.0 in /Users/gr703z/anaconda3/lib/python3.11/site-packages (from aiohttp<4.0.0,>=3.8.3->langchain>=0.0.288->ragas) (1.8.1)\r\n",
      "Requirement already satisfied: frozenlist>=1.1.1 in /Users/gr703z/anaconda3/lib/python3.11/site-packages (from aiohttp<4.0.0,>=3.8.3->langchain>=0.0.288->ragas) (1.3.3)\r\n",
      "Requirement already satisfied: aiosignal>=1.1.2 in /Users/gr703z/anaconda3/lib/python3.11/site-packages (from aiohttp<4.0.0,>=3.8.3->langchain>=0.0.288->ragas) (1.2.0)\r\n",
      "Requirement already satisfied: idna>=2.8 in /Users/gr703z/anaconda3/lib/python3.11/site-packages (from anyio<4.0->langchain>=0.0.288->ragas) (3.4)\r\n",
      "Requirement already satisfied: sniffio>=1.1 in /Users/gr703z/anaconda3/lib/python3.11/site-packages (from anyio<4.0->langchain>=0.0.288->ragas) (1.2.0)\r\n",
      "Requirement already satisfied: marshmallow<4.0.0,>=3.18.0 in /Users/gr703z/anaconda3/lib/python3.11/site-packages (from dataclasses-json<0.7,>=0.5.7->langchain>=0.0.288->ragas) (3.20.1)\r\n",
      "Requirement already satisfied: typing-inspect<1,>=0.4.0 in /Users/gr703z/anaconda3/lib/python3.11/site-packages (from dataclasses-json<0.7,>=0.5.7->langchain>=0.0.288->ragas) (0.9.0)\r\n",
      "Requirement already satisfied: jsonpointer>=1.9 in /Users/gr703z/anaconda3/lib/python3.11/site-packages (from jsonpatch<2.0,>=1.33->langchain>=0.0.288->ragas) (2.1)\r\n",
      "Requirement already satisfied: urllib3<1.27,>=1.21.1 in /Users/gr703z/anaconda3/lib/python3.11/site-packages (from requests<3,>=2->langchain>=0.0.288->ragas) (1.26.16)\r\n",
      "Requirement already satisfied: certifi>=2017.4.17 in /Users/gr703z/anaconda3/lib/python3.11/site-packages (from requests<3,>=2->langchain>=0.0.288->ragas) (2023.5.7)\r\n",
      "Requirement already satisfied: six in /Users/gr703z/anaconda3/lib/python3.11/site-packages (from responses<0.19->datasets->ragas) (1.16.0)\r\n",
      "Requirement already satisfied: sympy in /Users/gr703z/anaconda3/lib/python3.11/site-packages (from torch>=1.6.0->sentence-transformers->ragas) (1.11.1)\r\n",
      "Requirement already satisfied: networkx in /Users/gr703z/anaconda3/lib/python3.11/site-packages (from torch>=1.6.0->sentence-transformers->ragas) (2.8.4)\r\n",
      "Requirement already satisfied: jinja2 in /Users/gr703z/anaconda3/lib/python3.11/site-packages (from torch>=1.6.0->sentence-transformers->ragas) (3.1.2)\r\n",
      "Requirement already satisfied: click in /Users/gr703z/anaconda3/lib/python3.11/site-packages (from nltk->sentence-transformers->ragas) (8.0.4)\r\n",
      "Requirement already satisfied: joblib in /Users/gr703z/anaconda3/lib/python3.11/site-packages (from nltk->sentence-transformers->ragas) (1.2.0)\r\n",
      "Requirement already satisfied: python-dateutil>=2.8.1 in /Users/gr703z/anaconda3/lib/python3.11/site-packages (from pandas->datasets->ragas) (2.8.2)\r\n",
      "Requirement already satisfied: pytz>=2020.1 in /Users/gr703z/anaconda3/lib/python3.11/site-packages (from pandas->datasets->ragas) (2022.7)\r\n",
      "Requirement already satisfied: threadpoolctl>=2.0.0 in /Users/gr703z/anaconda3/lib/python3.11/site-packages (from scikit-learn->sentence-transformers->ragas) (2.2.0)\r\n",
      "Collecting torch>=1.6.0 (from sentence-transformers->ragas)\r\n",
      "  Downloading torch-2.1.0-cp311-none-macosx_11_0_arm64.whl (59.6 MB)\r\n",
      "\u001B[2K     \u001B[90m━━━━━━━━━━━━━━━━━━━━━━━━━━━━━━━━━━━━━━━━\u001B[0m \u001B[32m59.6/59.6 MB\u001B[0m \u001B[31m35.0 MB/s\u001B[0m eta \u001B[36m0:00:00\u001B[0m00:01\u001B[0m00:01\u001B[0m\r\n",
      "\u001B[?25hRequirement already satisfied: pillow!=8.3.*,>=5.3.0 in /Users/gr703z/anaconda3/lib/python3.11/site-packages (from torchvision->sentence-transformers->ragas) (9.4.0)\r\n",
      "Requirement already satisfied: mypy-extensions>=0.3.0 in /Users/gr703z/anaconda3/lib/python3.11/site-packages (from typing-inspect<1,>=0.4.0->dataclasses-json<0.7,>=0.5.7->langchain>=0.0.288->ragas) (0.4.3)\r\n",
      "Requirement already satisfied: MarkupSafe>=2.0 in /Users/gr703z/anaconda3/lib/python3.11/site-packages (from jinja2->torch>=1.6.0->sentence-transformers->ragas) (2.1.1)\r\n",
      "Requirement already satisfied: mpmath>=0.19 in /Users/gr703z/anaconda3/lib/python3.11/site-packages (from sympy->torch>=1.6.0->sentence-transformers->ragas) (1.2.1)\r\n",
      "Building wheels for collected packages: sentence-transformers\r\n",
      "  Building wheel for sentence-transformers (setup.py) ... \u001B[?25ldone\r\n",
      "\u001B[?25h  Created wheel for sentence-transformers: filename=sentence_transformers-2.2.2-py3-none-any.whl size=125925 sha256=aa155d8cf03a806e163459d4e7b4cad02c71c7fdc752efa8ee73b445b0cbc687\r\n",
      "  Stored in directory: /Users/gr703z/Library/Caches/pip/wheels/ff/27/bf/ffba8b318b02d7f691a57084ee154e26ed24d012b0c7805881\r\n",
      "Successfully built sentence-transformers\r\n",
      "Installing collected packages: sentencepiece, pysbd, pydantic, torch, tiktoken, torchvision, sentence-transformers, ragas\r\n",
      "  Attempting uninstall: pydantic\r\n",
      "    Found existing installation: pydantic 2.4.2\r\n",
      "    Uninstalling pydantic-2.4.2:\r\n",
      "      Successfully uninstalled pydantic-2.4.2\r\n",
      "  Attempting uninstall: torch\r\n",
      "    Found existing installation: torch 2.0.1\r\n",
      "    Uninstalling torch-2.0.1:\r\n",
      "      Successfully uninstalled torch-2.0.1\r\n",
      "Successfully installed pydantic-1.10.13 pysbd-0.3.4 ragas-0.0.16 sentence-transformers-2.2.2 sentencepiece-0.1.99 tiktoken-0.5.1 torch-2.1.0 torchvision-0.16.0\r\n",
      "Note: you may need to restart the kernel to use updated packages.\n"
     ]
    }
   ],
   "source": [
    "%pip install ragas"
   ],
   "metadata": {
    "collapsed": false,
    "ExecuteTime": {
     "end_time": "2023-10-04T22:42:41.061779Z",
     "start_time": "2023-10-04T22:42:24.613030Z"
    }
   }
  },
  {
   "cell_type": "code",
   "execution_count": 9,
   "outputs": [],
   "source": [
    "from ragas import evaluate\n",
    "from ragas.metrics import (\n",
    "    answer_relevancy,\n",
    "    faithfulness,\n",
    "    context_recall,\n",
    "    context_precision,\n",
    ")\n",
    "from ragas.metrics.critique import harmfulness"
   ],
   "metadata": {
    "collapsed": false,
    "ExecuteTime": {
     "end_time": "2023-10-05T14:58:17.626829Z",
     "start_time": "2023-10-05T14:58:13.090561Z"
    }
   }
  },
  {
   "cell_type": "markdown",
   "source": [
    "## Sample data"
   ],
   "metadata": {
    "collapsed": false
   }
  },
  {
   "cell_type": "code",
   "execution_count": 27,
   "outputs": [
    {
     "name": "stderr",
     "output_type": "stream",
     "text": [
      "Found cached dataset fiqa (/Users/gr703z/.cache/huggingface/datasets/explodinggradients___fiqa/ragas_eval/1.0.0/3dc7b639f5b4b16509a3299a2ceb78bf5fe98ee6b5fee25e7d5e4d290c88efb8)\n"
     ]
    },
    {
     "data": {
      "text/plain": "  0%|          | 0/1 [00:00<?, ?it/s]",
      "application/vnd.jupyter.widget-view+json": {
       "version_major": 2,
       "version_minor": 0,
       "model_id": "27fb9f5d77f24e8b9629b50afa548f90"
      }
     },
     "metadata": {},
     "output_type": "display_data"
    },
    {
     "data": {
      "text/plain": "DatasetDict({\n    baseline: Dataset({\n        features: ['question', 'ground_truths', 'answer', 'contexts'],\n        num_rows: 30\n    })\n})"
     },
     "execution_count": 27,
     "metadata": {},
     "output_type": "execute_result"
    }
   ],
   "source": [
    "# sample data\n",
    "from datasets import load_dataset\n",
    "\n",
    "fiqa_eval = load_dataset(\"explodinggradients/fiqa\", \"ragas_eval\")\n",
    "fiqa_eval"
   ],
   "metadata": {
    "collapsed": false,
    "ExecuteTime": {
     "end_time": "2023-10-04T22:45:17.229030Z",
     "start_time": "2023-10-04T22:45:16.560624Z"
    }
   }
  },
  {
   "cell_type": "code",
   "execution_count": 34,
   "outputs": [],
   "source": [
    "from datasets import Dataset\n",
    "\n",
    "# prepare your huggingface dataset in the format\n",
    "# Dataset({\n",
    "#     features: ['question', 'contexts', 'answer'],\n",
    "#     num_rows: 25\n",
    "# })\n",
    "\n",
    "# add rows to dataset\n",
    "dataset = Dataset.from_dict(\n",
    "    {\n",
    "        \"question\": [\"What is the capital of Germany?\"],\n",
    "        \"contexts\":\n",
    "            # sequence of strings with 10 world capitals, list[list[str]]\n",
    "            [\n",
    "                [\n",
    "                    \"The capital of Germany is Berlin.\",\n",
    "                    \"The capital of France is Paris.\",\n",
    "                    \"The capital of Spain is Madrid.\",\n",
    "                    \"The capital of Italy is Rome.\",\n",
    "                    \"The capital of the United Kingdom is London.\",\n",
    "                    \"The capital of the United States is Washington, D.C.\",\n",
    "                    \"The capital of Canada is Ottawa.\",\n",
    "                    \"The capital of Australia is Canberra.\",\n",
    "                    \"The capital of China is Beijing.\",\n",
    "                    \"The capital of Japan is Tokyo.\",\n",
    "                ]\n",
    "            ],\n",
    "        \"answer\": [\"Berlin\"],\n",
    "    }\n",
    ")\n"
   ],
   "metadata": {
    "collapsed": false,
    "ExecuteTime": {
     "end_time": "2023-10-04T22:53:21.094432Z",
     "start_time": "2023-10-04T22:53:21.087999Z"
    }
   }
  },
  {
   "cell_type": "code",
   "execution_count": 35,
   "outputs": [
    {
     "name": "stdout",
     "output_type": "stream",
     "text": [
      "evaluating with [context_relevancy]\n"
     ]
    },
    {
     "name": "stderr",
     "output_type": "stream",
     "text": [
      "  0%|          | 0/1 [00:00<?, ?it/s]WARNING:root:The 'context_relevancy' metric is going to be deprecated soon! Please use the 'context_precision' metric instead. It is a drop-in replacement just a simple search and replace should work.\n",
      "100%|██████████| 1/1 [00:00<00:00,  2.48it/s]\n"
     ]
    },
    {
     "name": "stdout",
     "output_type": "stream",
     "text": [
      "evaluating with [faithfulness]\n"
     ]
    },
    {
     "name": "stderr",
     "output_type": "stream",
     "text": [
      "100%|██████████| 1/1 [00:01<00:00,  1.36s/it]\n"
     ]
    },
    {
     "name": "stdout",
     "output_type": "stream",
     "text": [
      "evaluating with [answer_relevancy]\n"
     ]
    },
    {
     "name": "stderr",
     "output_type": "stream",
     "text": [
      "100%|██████████| 1/1 [00:01<00:00,  1.76s/it]\n"
     ]
    },
    {
     "name": "stdout",
     "output_type": "stream",
     "text": [
      "evaluating with [harmfulness]\n"
     ]
    },
    {
     "name": "stderr",
     "output_type": "stream",
     "text": [
      "100%|██████████| 1/1 [00:01<00:00,  1.01s/it]\n"
     ]
    }
   ],
   "source": [
    "result = evaluate(\n",
    "    dataset,\n",
    "    metrics=[\n",
    "        context_precision,\n",
    "        faithfulness,\n",
    "        answer_relevancy,\n",
    "        # context_recall,\n",
    "        harmfulness,\n",
    "    ],\n",
    ")"
   ],
   "metadata": {
    "collapsed": false,
    "ExecuteTime": {
     "end_time": "2023-10-04T22:53:28.032424Z",
     "start_time": "2023-10-04T22:53:22.786107Z"
    }
   }
  },
  {
   "cell_type": "code",
   "execution_count": 36,
   "outputs": [
    {
     "data": {
      "text/plain": "                          question  \\\n0  What is the capital of Germany?   \n\n                                            contexts  answer  \\\n0  [The capital of Germany is Berlin., The capita...  Berlin   \n\n   context_relevancy  faithfulness  answer_relevancy  harmfulness  \n0                0.1           1.0          0.719271            0  ",
      "text/html": "<div>\n<style scoped>\n    .dataframe tbody tr th:only-of-type {\n        vertical-align: middle;\n    }\n\n    .dataframe tbody tr th {\n        vertical-align: top;\n    }\n\n    .dataframe thead th {\n        text-align: right;\n    }\n</style>\n<table border=\"1\" class=\"dataframe\">\n  <thead>\n    <tr style=\"text-align: right;\">\n      <th></th>\n      <th>question</th>\n      <th>contexts</th>\n      <th>answer</th>\n      <th>context_relevancy</th>\n      <th>faithfulness</th>\n      <th>answer_relevancy</th>\n      <th>harmfulness</th>\n    </tr>\n  </thead>\n  <tbody>\n    <tr>\n      <th>0</th>\n      <td>What is the capital of Germany?</td>\n      <td>[The capital of Germany is Berlin., The capita...</td>\n      <td>Berlin</td>\n      <td>0.1</td>\n      <td>1.0</td>\n      <td>0.719271</td>\n      <td>0</td>\n    </tr>\n  </tbody>\n</table>\n</div>"
     },
     "execution_count": 36,
     "metadata": {},
     "output_type": "execute_result"
    }
   ],
   "source": [
    "df = result.to_pandas()\n",
    "df.head()"
   ],
   "metadata": {
    "collapsed": false,
    "ExecuteTime": {
     "end_time": "2023-10-04T22:54:03.086325Z",
     "start_time": "2023-10-04T22:54:03.066847Z"
    }
   }
  },
  {
   "cell_type": "markdown",
   "source": [
    "## Real Data"
   ],
   "metadata": {
    "collapsed": false
   }
  },
  {
   "cell_type": "code",
   "execution_count": null,
   "outputs": [],
   "source": [],
   "metadata": {
    "collapsed": false
   }
  }
 ],
 "metadata": {
  "kernelspec": {
   "display_name": "Python 3",
   "language": "python",
   "name": "python3"
  },
  "language_info": {
   "codemirror_mode": {
    "name": "ipython",
    "version": 2
   },
   "file_extension": ".py",
   "mimetype": "text/x-python",
   "name": "python",
   "nbconvert_exporter": "python",
   "pygments_lexer": "ipython2",
   "version": "2.7.6"
  }
 },
 "nbformat": 4,
 "nbformat_minor": 0
}
