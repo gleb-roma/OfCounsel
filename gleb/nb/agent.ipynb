{
 "cells": [
  {
   "cell_type": "code",
   "execution_count": null,
   "metadata": {
    "collapsed": true
   },
   "outputs": [],
   "source": [
    "%pip install langchain\n",
    "%pip install openai"
   ]
  },
  {
   "cell_type": "code",
   "execution_count": 25,
   "outputs": [
    {
     "name": "stdout",
     "output_type": "stream",
     "text": [
      "Collecting chromadb\r\n",
      "  Downloading chromadb-0.4.13-py3-none-any.whl (437 kB)\r\n",
      "\u001B[2K     \u001B[90m━━━━━━━━━━━━━━━━━━━━━━━━━━━━━━━━━━━━━━\u001B[0m \u001B[32m437.8/437.8 kB\u001B[0m \u001B[31m13.0 MB/s\u001B[0m eta \u001B[36m0:00:00\u001B[0m\r\n",
      "\u001B[?25hRequirement already satisfied: requests>=2.28 in /Users/gr703z/anaconda3/lib/python3.11/site-packages (from chromadb) (2.29.0)\r\n",
      "Requirement already satisfied: pydantic>=1.9 in /Users/gr703z/anaconda3/lib/python3.11/site-packages (from chromadb) (1.10.13)\r\n",
      "Collecting chroma-hnswlib==0.7.3 (from chromadb)\r\n",
      "  Downloading chroma_hnswlib-0.7.3-cp311-cp311-macosx_11_0_arm64.whl (198 kB)\r\n",
      "\u001B[2K     \u001B[90m━━━━━━━━━━━━━━━━━━━━━━━━━━━━━━━━━━━━━━\u001B[0m \u001B[32m198.7/198.7 kB\u001B[0m \u001B[31m22.2 MB/s\u001B[0m eta \u001B[36m0:00:00\u001B[0m\r\n",
      "\u001B[?25hCollecting fastapi>=0.95.2 (from chromadb)\r\n",
      "  Downloading fastapi-0.103.2-py3-none-any.whl (66 kB)\r\n",
      "\u001B[2K     \u001B[90m━━━━━━━━━━━━━━━━━━━━━━━━━━━━━━━━━━━━━━━━\u001B[0m \u001B[32m66.3/66.3 kB\u001B[0m \u001B[31m12.9 MB/s\u001B[0m eta \u001B[36m0:00:00\u001B[0m\r\n",
      "\u001B[?25hCollecting uvicorn[standard]>=0.18.3 (from chromadb)\r\n",
      "  Downloading uvicorn-0.23.2-py3-none-any.whl (59 kB)\r\n",
      "\u001B[2K     \u001B[90m━━━━━━━━━━━━━━━━━━━━━━━━━━━━━━━━━━━━━━━━\u001B[0m \u001B[32m59.5/59.5 kB\u001B[0m \u001B[31m7.8 MB/s\u001B[0m eta \u001B[36m0:00:00\u001B[0m\r\n",
      "\u001B[?25hCollecting posthog>=2.4.0 (from chromadb)\r\n",
      "  Downloading posthog-3.0.2-py2.py3-none-any.whl (37 kB)\r\n",
      "Requirement already satisfied: typing-extensions>=4.5.0 in /Users/gr703z/anaconda3/lib/python3.11/site-packages (from chromadb) (4.6.3)\r\n",
      "Collecting pulsar-client>=3.1.0 (from chromadb)\r\n",
      "  Downloading pulsar_client-3.3.0-cp311-cp311-macosx_10_15_universal2.whl (10.9 MB)\r\n",
      "\u001B[2K     \u001B[90m━━━━━━━━━━━━━━━━━━━━━━━━━━━━━━━━━━━━━━━━\u001B[0m \u001B[32m10.9/10.9 MB\u001B[0m \u001B[31m43.5 MB/s\u001B[0m eta \u001B[36m0:00:00\u001B[0ma \u001B[36m0:00:01\u001B[0m\r\n",
      "\u001B[?25hCollecting onnxruntime>=1.14.1 (from chromadb)\r\n",
      "  Downloading onnxruntime-1.16.0-cp311-cp311-macosx_11_0_arm64.whl (6.1 MB)\r\n",
      "\u001B[2K     \u001B[90m━━━━━━━━━━━━━━━━━━━━━━━━━━━━━━━━━━━━━━━━\u001B[0m \u001B[32m6.1/6.1 MB\u001B[0m \u001B[31m47.8 MB/s\u001B[0m eta \u001B[36m0:00:00\u001B[0ma \u001B[36m0:00:01\u001B[0m\r\n",
      "\u001B[?25hRequirement already satisfied: tokenizers>=0.13.2 in /Users/gr703z/anaconda3/lib/python3.11/site-packages (from chromadb) (0.13.2)\r\n",
      "Collecting pypika>=0.48.9 (from chromadb)\r\n",
      "  Downloading PyPika-0.48.9.tar.gz (67 kB)\r\n",
      "\u001B[2K     \u001B[90m━━━━━━━━━━━━━━━━━━━━━━━━━━━━━━━━━━━━━━━━\u001B[0m \u001B[32m67.3/67.3 kB\u001B[0m \u001B[31m7.8 MB/s\u001B[0m eta \u001B[36m0:00:00\u001B[0m\r\n",
      "\u001B[?25h  Installing build dependencies ... \u001B[?25ldone\r\n",
      "\u001B[?25h  Getting requirements to build wheel ... \u001B[?25ldone\r\n",
      "\u001B[?25h  Preparing metadata (pyproject.toml) ... \u001B[?25ldone\r\n",
      "\u001B[?25hRequirement already satisfied: tqdm>=4.65.0 in /Users/gr703z/anaconda3/lib/python3.11/site-packages (from chromadb) (4.65.0)\r\n",
      "Collecting overrides>=7.3.1 (from chromadb)\r\n",
      "  Downloading overrides-7.4.0-py3-none-any.whl (17 kB)\r\n",
      "Collecting importlib-resources (from chromadb)\r\n",
      "  Downloading importlib_resources-6.1.0-py3-none-any.whl (33 kB)\r\n",
      "Collecting bcrypt>=4.0.1 (from chromadb)\r\n",
      "  Downloading bcrypt-4.0.1-cp36-abi3-macosx_10_10_universal2.whl (473 kB)\r\n",
      "\u001B[2K     \u001B[90m━━━━━━━━━━━━━━━━━━━━━━━━━━━━━━━━━━━━━━\u001B[0m \u001B[32m473.4/473.4 kB\u001B[0m \u001B[31m50.8 MB/s\u001B[0m eta \u001B[36m0:00:00\u001B[0m\r\n",
      "\u001B[?25hCollecting typer>=0.9.0 (from chromadb)\r\n",
      "  Using cached typer-0.9.0-py3-none-any.whl (45 kB)\r\n",
      "Requirement already satisfied: numpy>=1.22.5 in /Users/gr703z/anaconda3/lib/python3.11/site-packages (from chromadb) (1.24.3)\r\n",
      "Collecting anyio<4.0.0,>=3.7.1 (from fastapi>=0.95.2->chromadb)\r\n",
      "  Downloading anyio-3.7.1-py3-none-any.whl (80 kB)\r\n",
      "\u001B[2K     \u001B[90m━━━━━━━━━━━━━━━━━━━━━━━━━━━━━━━━━━━━━━━━\u001B[0m \u001B[32m80.9/80.9 kB\u001B[0m \u001B[31m9.8 MB/s\u001B[0m eta \u001B[36m0:00:00\u001B[0m\r\n",
      "\u001B[?25hCollecting starlette<0.28.0,>=0.27.0 (from fastapi>=0.95.2->chromadb)\r\n",
      "  Downloading starlette-0.27.0-py3-none-any.whl (66 kB)\r\n",
      "\u001B[2K     \u001B[90m━━━━━━━━━━━━━━━━━━━━━━━━━━━━━━━━━━━━━━━━\u001B[0m \u001B[32m67.0/67.0 kB\u001B[0m \u001B[31m16.9 MB/s\u001B[0m eta \u001B[36m0:00:00\u001B[0m\r\n",
      "\u001B[?25hCollecting coloredlogs (from onnxruntime>=1.14.1->chromadb)\r\n",
      "  Downloading coloredlogs-15.0.1-py2.py3-none-any.whl (46 kB)\r\n",
      "\u001B[2K     \u001B[90m━━━━━━━━━━━━━━━━━━━━━━━━━━━━━━━━━━━━━━━━\u001B[0m \u001B[32m46.0/46.0 kB\u001B[0m \u001B[31m5.9 MB/s\u001B[0m eta \u001B[36m0:00:00\u001B[0m\r\n",
      "\u001B[?25hCollecting flatbuffers (from onnxruntime>=1.14.1->chromadb)\r\n",
      "  Downloading flatbuffers-23.5.26-py2.py3-none-any.whl (26 kB)\r\n",
      "Requirement already satisfied: packaging in /Users/gr703z/anaconda3/lib/python3.11/site-packages (from onnxruntime>=1.14.1->chromadb) (23.0)\r\n",
      "Collecting protobuf (from onnxruntime>=1.14.1->chromadb)\r\n",
      "  Downloading protobuf-4.24.4-cp37-abi3-macosx_10_9_universal2.whl (409 kB)\r\n",
      "\u001B[2K     \u001B[90m━━━━━━━━━━━━━━━━━━━━━━━━━━━━━━━━━━━━━━\u001B[0m \u001B[32m409.4/409.4 kB\u001B[0m \u001B[31m42.1 MB/s\u001B[0m eta \u001B[36m0:00:00\u001B[0m\r\n",
      "\u001B[?25hRequirement already satisfied: sympy in /Users/gr703z/anaconda3/lib/python3.11/site-packages (from onnxruntime>=1.14.1->chromadb) (1.11.1)\r\n",
      "Requirement already satisfied: six>=1.5 in /Users/gr703z/anaconda3/lib/python3.11/site-packages (from posthog>=2.4.0->chromadb) (1.16.0)\r\n",
      "Collecting monotonic>=1.5 (from posthog>=2.4.0->chromadb)\r\n",
      "  Using cached monotonic-1.6-py2.py3-none-any.whl (8.2 kB)\r\n",
      "Collecting backoff>=1.10.0 (from posthog>=2.4.0->chromadb)\r\n",
      "  Using cached backoff-2.2.1-py3-none-any.whl (15 kB)\r\n",
      "Requirement already satisfied: python-dateutil>2.1 in /Users/gr703z/anaconda3/lib/python3.11/site-packages (from posthog>=2.4.0->chromadb) (2.8.2)\r\n",
      "Requirement already satisfied: certifi in /Users/gr703z/anaconda3/lib/python3.11/site-packages (from pulsar-client>=3.1.0->chromadb) (2023.5.7)\r\n",
      "Requirement already satisfied: charset-normalizer<4,>=2 in /Users/gr703z/anaconda3/lib/python3.11/site-packages (from requests>=2.28->chromadb) (2.0.4)\r\n",
      "Requirement already satisfied: idna<4,>=2.5 in /Users/gr703z/anaconda3/lib/python3.11/site-packages (from requests>=2.28->chromadb) (3.4)\r\n",
      "Requirement already satisfied: urllib3<1.27,>=1.21.1 in /Users/gr703z/anaconda3/lib/python3.11/site-packages (from requests>=2.28->chromadb) (1.26.16)\r\n",
      "Requirement already satisfied: click<9.0.0,>=7.1.1 in /Users/gr703z/anaconda3/lib/python3.11/site-packages (from typer>=0.9.0->chromadb) (8.0.4)\r\n",
      "Collecting h11>=0.8 (from uvicorn[standard]>=0.18.3->chromadb)\r\n",
      "  Using cached h11-0.14.0-py3-none-any.whl (58 kB)\r\n",
      "Collecting httptools>=0.5.0 (from uvicorn[standard]>=0.18.3->chromadb)\r\n",
      "  Downloading httptools-0.6.0-cp311-cp311-macosx_10_9_universal2.whl (233 kB)\r\n",
      "\u001B[2K     \u001B[90m━━━━━━━━━━━━━━━━━━━━━━━━━━━━━━━━━━━━━━\u001B[0m \u001B[32m233.2/233.2 kB\u001B[0m \u001B[31m14.8 MB/s\u001B[0m eta \u001B[36m0:00:00\u001B[0m\r\n",
      "\u001B[?25hCollecting python-dotenv>=0.13 (from uvicorn[standard]>=0.18.3->chromadb)\r\n",
      "  Using cached python_dotenv-1.0.0-py3-none-any.whl (19 kB)\r\n",
      "Requirement already satisfied: pyyaml>=5.1 in /Users/gr703z/anaconda3/lib/python3.11/site-packages (from uvicorn[standard]>=0.18.3->chromadb) (6.0)\r\n",
      "Collecting uvloop!=0.15.0,!=0.15.1,>=0.14.0 (from uvicorn[standard]>=0.18.3->chromadb)\r\n",
      "  Downloading uvloop-0.17.0-cp311-cp311-macosx_10_9_universal2.whl (2.1 MB)\r\n",
      "\u001B[2K     \u001B[90m━━━━━━━━━━━━━━━━━━━━━━━━━━━━━━━━━━━━━━━━\u001B[0m \u001B[32m2.1/2.1 MB\u001B[0m \u001B[31m36.6 MB/s\u001B[0m eta \u001B[36m0:00:00\u001B[0ma \u001B[36m0:00:01\u001B[0m\r\n",
      "\u001B[?25hCollecting watchfiles>=0.13 (from uvicorn[standard]>=0.18.3->chromadb)\r\n",
      "  Downloading watchfiles-0.20.0-cp37-abi3-macosx_11_0_arm64.whl (407 kB)\r\n",
      "\u001B[2K     \u001B[90m━━━━━━━━━━━━━━━━━━━━━━━━━━━━━━━━━━━━━━\u001B[0m \u001B[32m407.3/407.3 kB\u001B[0m \u001B[31m44.8 MB/s\u001B[0m eta \u001B[36m0:00:00\u001B[0m\r\n",
      "\u001B[?25hCollecting websockets>=10.4 (from uvicorn[standard]>=0.18.3->chromadb)\r\n",
      "  Downloading websockets-11.0.3-cp311-cp311-macosx_11_0_arm64.whl (121 kB)\r\n",
      "\u001B[2K     \u001B[90m━━━━━━━━━━━━━━━━━━━━━━━━━━━━━━━━━━━━━━\u001B[0m \u001B[32m121.0/121.0 kB\u001B[0m \u001B[31m18.4 MB/s\u001B[0m eta \u001B[36m0:00:00\u001B[0m\r\n",
      "\u001B[?25hRequirement already satisfied: sniffio>=1.1 in /Users/gr703z/anaconda3/lib/python3.11/site-packages (from anyio<4.0.0,>=3.7.1->fastapi>=0.95.2->chromadb) (1.2.0)\r\n",
      "Collecting humanfriendly>=9.1 (from coloredlogs->onnxruntime>=1.14.1->chromadb)\r\n",
      "  Downloading humanfriendly-10.0-py2.py3-none-any.whl (86 kB)\r\n",
      "\u001B[2K     \u001B[90m━━━━━━━━━━━━━━━━━━━━━━━━━━━━━━━━━━━━━━━━\u001B[0m \u001B[32m86.8/86.8 kB\u001B[0m \u001B[31m9.7 MB/s\u001B[0m eta \u001B[36m0:00:00\u001B[0m\r\n",
      "\u001B[?25hRequirement already satisfied: mpmath>=0.19 in /Users/gr703z/anaconda3/lib/python3.11/site-packages (from sympy->onnxruntime>=1.14.1->chromadb) (1.2.1)\r\n",
      "Building wheels for collected packages: pypika\r\n",
      "  Building wheel for pypika (pyproject.toml) ... \u001B[?25ldone\r\n",
      "\u001B[?25h  Created wheel for pypika: filename=PyPika-0.48.9-py2.py3-none-any.whl size=53723 sha256=d5b8dd9a53526549d1671c803f53f90643a1429001d9fae0c338d3df3f7c7ad9\r\n",
      "  Stored in directory: /Users/gr703z/Library/Caches/pip/wheels/a3/01/bd/4c40ceb9d5354160cb186dcc153360f4ab7eb23e2b24daf96d\r\n",
      "Successfully built pypika\r\n",
      "Installing collected packages: pypika, monotonic, flatbuffers, websockets, uvloop, typer, python-dotenv, pulsar-client, protobuf, overrides, importlib-resources, humanfriendly, httptools, h11, chroma-hnswlib, bcrypt, backoff, anyio, watchfiles, uvicorn, starlette, posthog, coloredlogs, onnxruntime, fastapi, chromadb\r\n",
      "  Attempting uninstall: bcrypt\r\n",
      "    Found existing installation: bcrypt 3.2.0\r\n",
      "    Uninstalling bcrypt-3.2.0:\r\n",
      "      Successfully uninstalled bcrypt-3.2.0\r\n",
      "  Attempting uninstall: anyio\r\n",
      "    Found existing installation: anyio 3.5.0\r\n",
      "    Uninstalling anyio-3.5.0:\r\n",
      "      Successfully uninstalled anyio-3.5.0\r\n",
      "Successfully installed anyio-3.7.1 backoff-2.2.1 bcrypt-4.0.1 chroma-hnswlib-0.7.3 chromadb-0.4.13 coloredlogs-15.0.1 fastapi-0.103.2 flatbuffers-23.5.26 h11-0.14.0 httptools-0.6.0 humanfriendly-10.0 importlib-resources-6.1.0 monotonic-1.6 onnxruntime-1.16.0 overrides-7.4.0 posthog-3.0.2 protobuf-4.24.4 pulsar-client-3.3.0 pypika-0.48.9 python-dotenv-1.0.0 starlette-0.27.0 typer-0.9.0 uvicorn-0.23.2 uvloop-0.17.0 watchfiles-0.20.0 websockets-11.0.3\r\n",
      "Note: you may need to restart the kernel to use updated packages.\n"
     ]
    }
   ],
   "source": [
    "%pip install chromadb"
   ],
   "metadata": {
    "collapsed": false,
    "ExecuteTime": {
     "end_time": "2023-10-05T23:39:43.671611Z",
     "start_time": "2023-10-05T23:39:32.998714Z"
    }
   }
  },
  {
   "cell_type": "code",
   "execution_count": 125,
   "outputs": [],
   "source": [
    "import datetime\n",
    "# import time"
   ],
   "metadata": {
    "collapsed": false,
    "ExecuteTime": {
     "end_time": "2023-10-06T19:58:53.474850Z",
     "start_time": "2023-10-06T19:58:53.470773Z"
    }
   }
  },
  {
   "cell_type": "code",
   "execution_count": 1,
   "outputs": [],
   "source": [
    "from langchain.schema import (\n",
    "    AIMessage,\n",
    "    HumanMessage,\n",
    "    SystemMessage\n",
    ")\n",
    "from langchain.chat_models import ChatOpenAI\n",
    "# from langchain.llms import OpenAI\n"
   ],
   "metadata": {
    "collapsed": false,
    "ExecuteTime": {
     "end_time": "2023-10-05T22:53:30.578844Z",
     "start_time": "2023-10-05T22:53:29.824507Z"
    }
   }
  },
  {
   "cell_type": "code",
   "execution_count": 145,
   "outputs": [],
   "source": [
    "# create a chat model using openAI's gpt-4 model\n",
    "chat = ChatOpenAI(model_name='gpt-4', temperature=0)\n",
    "\n",
    "# llm = OpenAI(model_name='gpt-4', temperature=0.2)"
   ],
   "metadata": {
    "collapsed": false,
    "ExecuteTime": {
     "end_time": "2023-10-06T21:02:10.030550Z",
     "start_time": "2023-10-06T21:02:10.026825Z"
    }
   }
  },
  {
   "cell_type": "code",
   "execution_count": 182,
   "outputs": [
    {
     "data": {
      "text/plain": "'# Privacy Policy\\n\\nEffective: July 25, 2023\\n\\nRec Room Inc., a Delaware corporation (\"Company\", \"we\", \"our\", and their derivatives) provides the websites, [http://www.recroom.com](http://www.recroom.com/), [http://www.rec.net](http://www.rec.net/), and the subdomains of each of the foregoing (collectively, the \"Website\") and the Rec Room® video game (the \"Game\" and, with the Website, the \"Services\").\\n\\nThis Policy sets forth how we collect, use, protect, store, and otherwise process your Personal Information (defined below). This Policy does NOT apply to information we collect offline or you provide to or is collected by any third party (except as otherwise provided below).\\n\\nFor our practices regarding children, please see the Children\\'s section in Section 2 below.\\n\\n'"
     },
     "execution_count": 182,
     "metadata": {},
     "output_type": "execute_result"
    }
   ],
   "source": [
    "def escape_markdown(md_text):\n",
    "    # Escape problematic characters, add more rules as needed\n",
    "    md_text = md_text.replace(\"#\", \"\")\n",
    "    md_text = md_text.replace('\"', '')\n",
    "    md_text = md_text.replace(\"\\n\", \"\\\\n\")\n",
    "    return md_text\n",
    "\n",
    "# Function to split a markdown file into sections by header of 1st level (e.g. # Header)\n",
    "\n",
    "def split_md_sections(filename):\n",
    "    with open(filename, 'r') as f:\n",
    "        lines = f.readlines()\n",
    "\n",
    "    sections = []\n",
    "    current_section = \"\"\n",
    "\n",
    "    for line in lines:\n",
    "        if line.startswith(\"# \"):\n",
    "            if current_section:\n",
    "                sections.append(current_section)\n",
    "            current_section = line\n",
    "        else:\n",
    "            current_section += line\n",
    "\n",
    "    if current_section:\n",
    "        sections.append(current_section)\n",
    "\n",
    "    return sections\n",
    "\n",
    "# Example usage\n",
    "sections = split_md_sections(\"data/RecRoom_complete.md\")\n",
    "sections[0]"
   ],
   "metadata": {
    "collapsed": false,
    "ExecuteTime": {
     "end_time": "2023-10-06T21:42:05.178194Z",
     "start_time": "2023-10-06T21:42:05.173912Z"
    }
   }
  },
  {
   "cell_type": "markdown",
   "source": [
    "# create a vector store of legal code\n",
    "\n",
    "From here https://python.langchain.com/docs/use_cases/question_answering/integrations/openai_functions_retrieval_qa"
   ],
   "metadata": {
    "collapsed": false
   }
  },
  {
   "cell_type": "code",
   "execution_count": 22,
   "outputs": [],
   "source": [
    "# load legal_code into the format before splitting by token text splitter\n",
    "\n",
    "from langchain.document_loaders import TextLoader\n",
    "loader = TextLoader(\"CCPA\", encoding=\"utf-8\")\n",
    "documents = loader.load()\n"
   ],
   "metadata": {
    "collapsed": false,
    "ExecuteTime": {
     "end_time": "2023-10-05T23:38:49.592363Z",
     "start_time": "2023-10-05T23:38:49.531113Z"
    }
   }
  },
  {
   "cell_type": "code",
   "execution_count": 23,
   "outputs": [],
   "source": [
    "# split the legal code\n",
    "\n",
    "from langchain.text_splitter import TokenTextSplitter\n",
    "text_splitter = TokenTextSplitter(chunk_size=500, chunk_overlap=25)\n",
    "legal_code_splits = text_splitter.split_documents(documents)\n",
    "\n",
    "for i, text in enumerate(legal_code_splits):\n",
    "    text.metadata[\"source\"] = f\"{i}-pl\""
   ],
   "metadata": {
    "collapsed": false,
    "ExecuteTime": {
     "end_time": "2023-10-05T23:39:03.943577Z",
     "start_time": "2023-10-05T23:39:03.915630Z"
    }
   }
  },
  {
   "cell_type": "code",
   "execution_count": 26,
   "outputs": [],
   "source": [
    "# Embed the legal code splits\n",
    "from langchain.vectorstores import Chroma\n",
    "from langchain.embeddings.openai import OpenAIEmbeddings\n",
    "\n",
    "embed_model = OpenAIEmbeddings(model=\"text-embedding-ada-002\")\n",
    "\n",
    "legal_code_embedded = Chroma.from_documents(legal_code_splits, embed_model)\n"
   ],
   "metadata": {
    "collapsed": false,
    "ExecuteTime": {
     "end_time": "2023-10-05T23:39:59.188416Z",
     "start_time": "2023-10-05T23:39:57.717137Z"
    }
   }
  },
  {
   "cell_type": "code",
   "execution_count": 204,
   "outputs": [],
   "source": [
    "# Import Taylor's retriever\n",
    "\n",
    "from src.OfCounselRetriever import SimilarityOfCounselRetriever"
   ],
   "metadata": {
    "collapsed": false,
    "ExecuteTime": {
     "end_time": "2023-10-06T23:11:17.185820Z",
     "start_time": "2023-10-06T23:11:17.184299Z"
    }
   }
  },
  {
   "cell_type": "code",
   "execution_count": 131,
   "outputs": [
    {
     "name": "stdout",
     "output_type": "stream",
     "text": [
      "Database file does not exist.\n"
     ]
    }
   ],
   "source": [
    "from src.tracking_inputs_outputs import DbInputsOutputs\n",
    "\n",
    "db_inputs_outputs = DbInputsOutputs(\"data/tracking_inputs_outputs.csv\")\n",
    "db_inputs_outputs.print_data()"
   ],
   "metadata": {
    "collapsed": false,
    "ExecuteTime": {
     "end_time": "2023-10-06T20:02:43.945235Z",
     "start_time": "2023-10-06T20:02:43.942201Z"
    }
   }
  },
  {
   "cell_type": "markdown",
   "source": [
    "# Create retriever"
   ],
   "metadata": {
    "collapsed": false
   }
  },
  {
   "cell_type": "code",
   "execution_count": 205,
   "outputs": [],
   "source": [
    "# create a chain\n",
    "\n",
    "from langchain.chains.combine_documents.stuff import StuffDocumentsChain\n",
    "from langchain.prompts import PromptTemplate\n",
    "from langchain.chains import create_qa_with_sources_chain\n",
    "from langchain.chains import RetrievalQA\n",
    "\n",
    "\n",
    "qa_chain = create_qa_with_sources_chain(chat)\n",
    "\n",
    "qa_chain_pydantic = create_qa_with_sources_chain(chat, output_parser=\"pydantic\")\n",
    "\n",
    "doc_prompt = PromptTemplate(\n",
    "    template=\"*** Relevant piece from the legal code*** \\n {page_content}\\nSource: {source}\",\n",
    "    input_variables=[\"page_content\", \"source\"],\n",
    ")\n",
    "\n",
    "final_qa_chain = StuffDocumentsChain(\n",
    "    llm_chain=qa_chain,\n",
    "    document_variable_name=\"context\",\n",
    "    document_prompt=doc_prompt,\n",
    ")\n",
    "\n",
    "final_qa_chain_pydantic = StuffDocumentsChain(\n",
    "    llm_chain=qa_chain_pydantic,\n",
    "    document_variable_name=\"context\",\n",
    "    document_prompt=doc_prompt,\n",
    ")\n",
    "\n",
    "retrieval_qa_basic = RetrievalQA(\n",
    "    retriever=legal_code_embedded.as_retriever(search_kwargs={\"k\": 5, 'fetch_k': 30}),\n",
    "    combine_documents_chain=final_qa_chain\n",
    ")\n",
    "\n",
    "retrieval_qa_basic_pydantic = RetrievalQA(\n",
    "    retriever=legal_code_embedded.as_retriever(),\n",
    "    combine_documents_chain=final_qa_chain_pydantic\n",
    ")\n",
    "\n",
    "retrieval_qa = RetrievalQA(\n",
    "    retriever=SimilarityOfCounselRetriever(),\n",
    "    combine_documents_chain=final_qa_chain\n",
    ")"
   ],
   "metadata": {
    "collapsed": false,
    "ExecuteTime": {
     "end_time": "2023-10-06T23:11:22.249756Z",
     "start_time": "2023-10-06T23:11:22.242864Z"
    }
   }
  },
  {
   "cell_type": "markdown",
   "source": [
    "# Run the chain"
   ],
   "metadata": {
    "collapsed": false
   }
  },
  {
   "cell_type": "code",
   "execution_count": 61,
   "outputs": [
    {
     "data": {
      "text/plain": "'{\\n\"answer\": \"The general duties of businesses that collect personal information, according to the California Consumer Privacy Act of 2018, include:\\n\\n1. Informing consumers at or before the point of collection about the categories of personal information to be collected, the purposes for which they are collected or used, and whether that information is sold or shared. \\n\\n2. If sensitive personal information is collected, the business must inform consumers about the categories of sensitive personal information to be collected, the purposes for which they are collected or used, and whether that information is sold or shared.\\n\\n3. The business must disclose the length of time it intends to retain each category of personal information, including sensitive personal information, or if that is not possible, the criteria used to determine that period.\\n\\n4. If the business acts as a third party controlling the collection of personal information, it may satisfy its obligations by providing the required information prominently and conspicuously on the homepage of its internet website.\\n\\n5. The business\\' collection, use, retention, and sharing of a consumer’s personal information should be reasonably necessary and proportionate to achieve the purposes for which the personal information was collected or processed.\\n\\n6. If the business sells or shares personal information with a third party, service provider, or contractor, it must enter into an agreement that specifies the purposes for which the information is sold or disclosed, obligates the third party to comply with applicable obligations, and grants the business rights to ensure the third party uses the personal information in a manner consistent with the business’ obligations.\\n\\n7. The business must implement reasonable security procedures and practices to protect the personal information from unauthorized or illegal access, destruction, use, modification, or disclosure.\",\\n\"sources\": [\"0-pl\", \"1-pl\"]\\n}'"
     },
     "execution_count": 61,
     "metadata": {},
     "output_type": "execute_result"
    }
   ],
   "source": [
    "# simple test\n",
    "\n",
    "query = \"What are the General Duties of Businesses that Collect Personal Information?\"\n",
    "\n",
    "print(retrieval_qa.run(query))"
   ],
   "metadata": {
    "collapsed": false,
    "ExecuteTime": {
     "end_time": "2023-10-06T13:55:01.826749Z",
     "start_time": "2023-10-06T13:54:29.731810Z"
    }
   }
  },
  {
   "cell_type": "code",
   "execution_count": null,
   "outputs": [],
   "source": [
    "# Harder test: Now pass the recroom notice with the pre-prompt"
   ],
   "metadata": {
    "collapsed": false
   }
  },
  {
   "cell_type": "code",
   "execution_count": 203,
   "outputs": [],
   "source": [
    "pre_prompt_analysis_only = \"\"\"ACT as a corporate attorney whose job is to check the compliance of the company's policy with the state's new laws.\n",
    "\n",
    "Your task is to identify if the provided policy section complies with the new law.\n",
    "\n",
    "If the policy section complies with the new law, then say so and do nothing more.\n",
    "\n",
    "Otherwise, if the policy section does not comply with the law, make a general assessment how bad is the violation, and make a numbered list of what is missing from the policy or what is wrong with the policy, prioritizing the most important issues first. Make sure to mention the name and/or the number of the policy section you are assessing.\n",
    "\n",
    "Note on time limits: if the policy promises shorter times to react or respond to something than the law requires, eg the company responds within 30 days while 45 days is required by law, it is NOT a violation since sooner is better, and 30 is less than 45.\n",
    "\n",
    "For example, if the policy is \"The company's address is 123 Main Street, New York, NY 10001. The company's phone number is 212-555-1234.\" and the new law is \"You have to specify the company's address, phone number, and email address.\", then the missing part is \"company's email\", and so the policy is not fully compliant.\n",
    "\n",
    "As another example, if the entire policy is \"The company may collect the following types of personal information: name, address, phone number, email address, and credit card number.\" and the new law is \"You have to specify a mechanism for consumers to delete their personal information.\", then the missing part is \"mechanism for consumers to delete their personal information\", and so the policy is not fully compliant.\n",
    "\n",
    "As another example, if the policy is \"the company will respond to a verifiable consumer request within 30 days of its receipt\" and the law is \"the company is required to respond within 45 days of receiving a verifiable consumer request\", then the policy is fully compliant because 30 is less than 45.\n",
    " \"\"\"\n"
   ],
   "metadata": {
    "collapsed": false,
    "ExecuteTime": {
     "end_time": "2023-10-06T23:00:18.117067Z",
     "start_time": "2023-10-06T23:00:18.109163Z"
    }
   }
  },
  {
   "cell_type": "code",
   "execution_count": 86,
   "outputs": [
    {
     "name": "stdout",
     "output_type": "stream",
     "text": [
      "Rec Room Inc., a Delaware corporation (“Company”, “we”, “us”, “our”), may collect and use the below categories of your Personal Information. Third parties such as Greenhouse also may collect such Personal Information on our behalf. “Personal Information” means information that identifies, relates to, describes, is reasonably capable of being associated with, or could reasonably be linked, directly or indirectly, with you.\n",
      "* Full name\n",
      "* Home address\n",
      "* Telephone number\n",
      "* Email address\n",
      "* Resume information\n",
      "* Interview feedback\n",
      "* Compensation expectations\n",
      "* Authorization to work in the United States and/or visa requirements, if applicable\n",
      "The Company collects the above categories of Personal Information to use or disclose as appropriate to:\n",
      "* Recruit and evaluate job applicants for employment\n",
      "* Comply with all applicable laws and regulations\n",
      "* Perform data analytics\n",
      "* Exercise or defend the legal rights of the Company\n",
      "If you have any questions about this Notice or need to access this Notice in an alternative format due to having a disability, please contact us at hr@recroom.com and privacy@recroom.com.\n",
      "\n",
      "\n"
     ]
    }
   ],
   "source": [
    "# read file \"recroom notice\" into a string\n",
    "with open('data/recroom notice', 'r') as f:\n",
    "    policy_notice = f.read()\n",
    "print(policy_notice)"
   ],
   "metadata": {
    "collapsed": false,
    "ExecuteTime": {
     "end_time": "2023-10-06T14:41:30.166982Z",
     "start_time": "2023-10-06T14:41:30.158286Z"
    }
   }
  },
  {
   "cell_type": "code",
   "execution_count": 70,
   "outputs": [
    {
     "name": "stdout",
     "output_type": "stream",
     "text": [
      "{\n",
      "\"answer\": \"The policy does not fully comply with the new law. Here are the main issues:\n",
      "\n",
      "1. The policy does not provide a mechanism for consumers to delete their personal information, as required by Section 1798.105 of the new law.\n",
      "2. The policy does not provide a mechanism for consumers to correct inaccurate personal information, as required by Section 1798.106 of the new law.\n",
      "3. The policy does not specify two or more designated methods for submitting requests for information, deletion, or correction. The law requires at least a toll-free telephone number and an email address for such requests, as per Section 1798.130.\n",
      "4. The policy does not mention any measures to ensure compliance with the California Consumer Privacy Act of 2018, such as recordkeeping requirements or the appointment of a Chief Privacy Auditor.\n",
      "5. The policy does not mention any measures to promote public awareness and understanding of the risks, rules, responsibilities, safeguards, and rights in relation to the collection, use, sale, and disclosure of personal information.\n",
      "6. The policy does not mention any cooperation with law enforcement agencies or other agencies with jurisdiction over privacy laws.\n",
      "7. The policy does not mention any measures to monitor relevant developments relating to the protection of personal information.\n",
      "8. The policy does not mention any measures to provide technical assistance and advice to the Legislature with respect to privacy-related legislation.\",\n",
      "\"sources\": [\"63-pl\", \"33-pl\", \"54-pl\", \"10-pl\"]\n",
      "}\n"
     ]
    }
   ],
   "source": [
    "query = pre_prompt_analysis_only + f\"\"\"\n",
    "\n",
    "*** Policy ***\n",
    "{policy_notice}\n",
    "\n",
    "\"\"\"\n",
    "\n",
    "answer1 = retrieval_qa.run(query)\n",
    "print(answer1)"
   ],
   "metadata": {
    "collapsed": false,
    "ExecuteTime": {
     "end_time": "2023-10-06T14:08:21.416692Z",
     "start_time": "2023-10-06T14:07:53.817620Z"
    }
   }
  },
  {
   "cell_type": "code",
   "execution_count": 148,
   "outputs": [
    {
     "name": "stdout",
     "output_type": "stream",
     "text": [
      "# 9. Additional Notice for California Residents\n",
      "\n",
      "The following applies to California residents pursuant to the California Consumer Privacy Act of 2018 (\"CCPA\"):\n",
      "\n",
      "- In the preceding 12 months, the Company may have disclosed the categories of Personal Information listed in Section 2 above to our service providers listed in Section 6 above for business purposes.\n",
      "- In the preceding 12 months, the Company has not sold Personal Information. The Company only discloses Personal Information to service providers.\n",
      "- You have the right to request that the Company disclose certain information to you about our collection and use of your Personal Information over the past 12 months. Once we receive and confirm your verifiable consumer request, we will disclose to you, to the extent retained by us:\n",
      "  - The categories of Personal Information we collected about you.\n",
      "  - The categories of sources for the Personal Information we collected about you.\n",
      "  - Our business or commercial purpose for collecting or selling that Personal Information.\n",
      "  - The categories of third parties with whom we share that Personal Information.\n",
      "  - The specific pieces of Personal Information we collected about you (also known as a data portability request).\n",
      "  - If we sold or disclosed your Personal Information for a business purpose, two separate lists disclosing: (a) sales, identifying the Personal Information categories that each category of recipient purchased; and (b) disclosures for a business purpose, identifying the Personal Information categories that each category of recipient obtained.\n",
      "- You have the right to request that the Company delete any of your Personal Information that we collected from you and retained, subject to certain exceptions. Once we receive and confirm your verifiable consumer request, we will delete (and direct our service providers to delete) your Personal Information from our records, unless an exception applies. We may deny your deletion request if retaining the information is necessary for us or our service providers to:\n",
      "  - Complete the transaction for which we collected the Personal Information, provide the Service that you requested, take actions reasonably anticipated within the context of our ongoing business relationship with you, or otherwise perform our contract with you.\n",
      "  - Detect security incidents, protect against malicious, deceptive, fraudulent, or illegal activity, or prosecute those responsible for such activities.\n",
      "  - Debug the Services to identify and repair errors that impair existing intended functionality.\n",
      "  - Exercise free speech, ensure the right of another user to exercise their free speech rights, or exercise another right provided for by law.\n",
      "  - Comply with the California Electronic Communications Privacy Act (Cal. Penal Code § 1546 et. seq.).\n",
      "  - Engage in public or peer-reviewed scientific, historical, or statistical research in the public interest that adheres to all other applicable ethics and privacy laws, when the information's deletion may likely render impossible or seriously impair the research's achievement, if you previously provided informed consent.\n",
      "  - Enable solely internal uses that are reasonably aligned with user expectations based on your relationship with us.\n",
      "  - Comply with a legal obligation.\n",
      "  - Make other internal and lawful uses of that information that are compatible with the context in which you provided it.\n",
      "\n",
      "We will not discriminate against you for exercising any of your CCPA rights. Unless permitted by the CCPA, we will not:\n",
      "\n",
      "- Deny you the Services.\n",
      "- Charge you different prices or rates for the Services, including through granting discounts or other benefits, or imposing penalties.\n",
      "- Provide you a different level or quality of the Services.\n",
      "- Suggest that you may receive a different price or rate for the Services or a different level or quality of the Services.\n",
      "\n",
      "_Verifiable Consumer Requests_\n",
      "\n",
      "To exercise your rights described above, please email us at support@recroom.com with the subject line \"CCPA\". Only you, or someone legally authorized to act on your behalf, may make a verifiable consumer request related to your Personal Information. You may also make a verifiable consumer request on behalf of your Child. You may only make a verifiable consumer request for access or data portability twice within a 12-month period. The verifiable consumer request must:\n",
      "\n",
      "- Provide sufficient information that allows us to reasonably verify you are the person about whom we collected Personal Information or an authorized representative.\n",
      "- Describe your request with sufficient detail that allows us to properly understand, evaluate, and respond to it.\n",
      "\n",
      "We cannot respond to your request or provide you with Personal Information if we cannot verify your identity or authority to make the request and confirm that the Personal Information relates to you. Making a verifiable consumer request does not require you to create an account with us. We will only use Personal Information provided in a verifiable consumer request to verify your identity or authority to make the request.\n",
      "\n",
      "_Response Timing and Format_\n",
      "\n",
      "We endeavor to respond to a verifiable consumer request within 30 days of its receipt. If we require more time, we will inform you of the reason and extension period in writing. If you have an account with us, we will deliver our written response to that account. If you do not have an account with us, we will deliver our written response by mail or electronically, at your option.\n",
      "\n",
      "Any disclosures we provide will only cover the 12-month period preceding the receipt of verifiable consumer request. The response we provide will also explain the reasons we cannot comply with a request, if applicable.\n",
      "\n",
      "For data portability requests, we will select a format to provide your Personal Information that is readily useable and should allow you to transmit the information from one entity to another entity without hindrance.\n",
      "\n",
      "We do not charge a fee to process or respond to your verifiable consumer request unless it is excessive, repetitive, or manifestly unfounded. If we determine that the request warrants a fee, we will tell you why we made that decision and provide you with a cost estimate before completing your request.\n",
      "\n",
      "\n"
     ]
    }
   ],
   "source": [
    "# Next test: section 9 of recroom policy\n",
    "RecRoom_policy_splits = split_md_sections(\"data/RecRoom_complete.md\")\n",
    "policy_section = RecRoom_policy_splits[9]\n",
    "print(policy_section)"
   ],
   "metadata": {
    "collapsed": false,
    "ExecuteTime": {
     "end_time": "2023-10-06T21:02:48.632037Z",
     "start_time": "2023-10-06T21:02:48.627606Z"
    }
   }
  },
  {
   "cell_type": "code",
   "execution_count": 206,
   "outputs": [],
   "source": [
    "query = pre_prompt_analysis_only + f\"\"\"\n",
    "\n",
    "*** Policy ***\n",
    "{policy_section}\n",
    "\n",
    "\"\"\"\n",
    "\n",
    "answer2_basic = retrieval_qa_basic.run(query)\n",
    "\n",
    "answer2 = retrieval_qa.run(query)\n"
   ],
   "metadata": {
    "collapsed": false,
    "ExecuteTime": {
     "end_time": "2023-10-06T23:12:26.640736Z",
     "start_time": "2023-10-06T23:11:43.835352Z"
    }
   }
  },
  {
   "cell_type": "code",
   "execution_count": 207,
   "outputs": [
    {
     "name": "stdout",
     "output_type": "stream",
     "text": [
      "BASIC STORE:\n",
      "{\n",
      "  \"answer\": \"The policy section does not comply with the new law. The violation is significant as it lacks several key requirements outlined in the law. Here are the main issues, prioritized by importance:\\n\\n1. The policy does not provide two or more designated methods for submitting requests for information disclosure, deletion, or correction as required by Section 1798.130(a)(1)(A) of the law. At a minimum, a toll-free telephone number or an email address (for businesses operating exclusively online) should be provided.\\n\\n2. The policy does not mention any mechanism for consumers to delete or correct their personal information, which is required by Sections 1798.105 and 1798.106 respectively.\\n\\n3. The policy does not specify a time frame within which the company will respond to a verifiable consumer request, which according to Section 1798.130(a)(2)(A) should be within 45 days of receiving the request.\\n\\n4. The policy does not mention any measures to ensure that the notices and information provided are easily understood by the average consumer, accessible to consumers with disabilities, and available in the language primarily used to interact with the consumer, as required by the law.\\n\\nPolicy Section Assessed: #10. How will the Company notify users of changes to this Policy?\",\n",
      "  \"sources\": [\"10-pl\", \"53-pl\", \"54-pl\", \"33-pl\", \"58-pl\"]\n",
      "}\n",
      "TAYLOR STORE:\n",
      "{\n",
      "\"answer\": \"The policy section 10 does not comply with the new law. The violation is significant as it lacks several key requirements. Here's what is missing or wrong, prioritized by importance:\n",
      "\n",
      "1. The policy does not provide any designated methods for consumers to submit requests for information, deletion, or correction of their personal information as required by Section CIV1798.130.202012_a_1 of the law. At a minimum, a toll-free telephone number should be provided.\n",
      "2. The policy does not mention any measures to ensure that individuals handling consumer inquiries are informed of all requirements in Sections 1798.100, 1798.105, 1798.106, 1798.110, 1798.115, 1798.125, 1798.120, 1798.121, and 1798.135 as required by Sections CIV1798.130.202012_a_3_B_iii_5_C_ii_6 and CIV1798.135.202013_c_3 of the law.\n",
      "3. The policy does not mention any measures to correct inaccurate personal information, or delete a consumer’s personal information, based on the consumer’s request, within 45 days of receiving a verifiable consumer request from the consumer as required by Section CIV1798.130.202012_a_2 of the law.\n",
      "4. The policy does not mention any measures to provide guidance to businesses regarding their duties and responsibilities under this title and appoint a Chief Privacy Auditor to conduct audits of businesses to ensure compliance with this title pursuant to regulations adopted pursuant to paragraph (18) of subdivision (a) of Section 1798.185 as required by Section CIV1798.199.40.20215255_f of the law.\",\n",
      "\"sources\": [\"CIV1798.130.202012_a_1\", \"CIV1798.130.202012_a_3_B_iii_5_C_ii_6\", \"CIV1798.135.202013_c_3\", \"CIV1798.130.202012_a_2\", \"CIV1798.199.40.20215255_f\"]\n",
      "}\n"
     ]
    }
   ],
   "source": [
    "print(\"BASIC STORE:\\n\" + answer2_basic)\n",
    "print(\"TAYLOR STORE:\\n\" + answer2)"
   ],
   "metadata": {
    "collapsed": false,
    "ExecuteTime": {
     "end_time": "2023-10-06T23:12:26.644589Z",
     "start_time": "2023-10-06T23:12:26.642016Z"
    }
   }
  },
  {
   "cell_type": "code",
   "execution_count": 208,
   "outputs": [],
   "source": [
    "# save inputs and outputs to disk\n",
    "db_inputs_outputs.add_data({'query': query,\n",
    "                            'policy_descr': \"Section 9 original\",\n",
    "                            'llm': \"gpt-4, temperature 0\",\n",
    "                            'retriever': \"Basic retriever\",\n",
    "                            'answer': answer2_basic,\n",
    "                            'notes': \"\",\n",
    "                            \"timestamp\":  datetime.datetime.now()\n",
    "                            })\n",
    "\n",
    "db_inputs_outputs.add_data({'query': query,\n",
    "                            'policy_descr': \"Section 9 original\",\n",
    "                            'llm': \"gpt-4, temperature 0\",\n",
    "                            'retriever': \"Taylor retriever Similarity\",\n",
    "                            'answer': answer2,\n",
    "                            'notes': \"\",\n",
    "                            \"timestamp\":  datetime.datetime.now()\n",
    "                            })"
   ],
   "metadata": {
    "collapsed": false,
    "ExecuteTime": {
     "end_time": "2023-10-06T23:14:06.696467Z",
     "start_time": "2023-10-06T23:14:06.688814Z"
    }
   }
  },
  {
   "cell_type": "code",
   "execution_count": 209,
   "outputs": [
    {
     "name": "stdout",
     "output_type": "stream",
     "text": [
      "                                               query        policy_descr  \\\n",
      "0  ACT as a corporate attorney whose job is to ch...  Section 9 original   \n",
      "1  ACT as a corporate attorney whose job is to ch...  Section 9 original   \n",
      "2  ACT as a corporate attorney whose job is to ch...  Section 9 original   \n",
      "\n",
      "                     llm                    retriever  \\\n",
      "0  gpt-4, temperature .2              Basic retriever   \n",
      "1   gpt-4, temperature 0              Basic retriever   \n",
      "2   gpt-4, temperature 0  Taylor retriever Similarity   \n",
      "\n",
      "                                              answer  notes  \\\n",
      "0  {\\n  \"answer\": \"The provided policy appears to...    NaN   \n",
      "1  {\\n  \"answer\": \"The policy section does not co...    NaN   \n",
      "2  {\\n\"answer\": \"The policy section 10 does not c...    NaN   \n",
      "\n",
      "                    timestamp  \n",
      "0  2023-10-06 16:02:53.385873  \n",
      "1  2023-10-06 19:14:06.687054  \n",
      "2  2023-10-06 19:14:06.689044  \n"
     ]
    }
   ],
   "source": [
    "db_inputs_outputs.print_data()"
   ],
   "metadata": {
    "collapsed": false,
    "ExecuteTime": {
     "end_time": "2023-10-06T23:14:09.392895Z",
     "start_time": "2023-10-06T23:14:09.372479Z"
    }
   }
  },
  {
   "cell_type": "code",
   "execution_count": 210,
   "outputs": [
    {
     "name": "stdout",
     "output_type": "stream",
     "text": [
      "# 8. Additional Notice for California Residents\n",
      "\n",
      "The following applies to California residents pursuant to the California Consumer Privacy Act of 2018 (\"CCPA\"):\n",
      "\n",
      "- In the preceding 12 months, the Company may have disclosed the categories of Personal Information listed in Section 2 above to our service providers listed in Section 6 above for business purposes.\n",
      "- In the preceding 12 months, the Company has not sold Personal Information. The Company only discloses Personal Information to service providers.\n",
      "- You have the right to request that the Company disclose certain information to you about our collection and use of your Personal Information over the past 12 months. Once we receive and confirm your verifiable consumer request, we will not disclose to you, to the extent retained by us:\n",
      "  - The categories of Personal Information we collected about you.\n",
      "  - The categories of sources for the Personal Information we collected about you.\n",
      "  - Our business or commercial purpose for collecting or selling that Personal Information.\n",
      "  - If we sold or disclosed your Personal Information for a business purpose, two separate lists disclosing: (a) sales, identifying the Personal Information categories that each category of recipient purchased; and (b) disclosures for a business purpose, identifying the Personal Information categories that each category of recipient obtained.\n",
      "- You have the right to request that the Company delete any of your Personal Information that we collected from you and retained, subject to certain exceptions. Once we receive and confirm your verifiable consumer request, we will delete (and direct our service providers to delete) your Personal Information from our records, unless an exception applies. We may deny your deletion request if retaining the information is necessary for us or our service providers to:\n",
      "  - Complete the transaction for which we collected the Personal Information, provide the Service that you requested, take actions reasonably anticipated within the context of our ongoing business relationship with you, or otherwise perform our contract with you.\n",
      "  - Engage in public or peer-reviewed scientific, historical, or statistical research in the public interest that adheres to all other applicable ethics and privacy laws, when the information's deletion may likely render impossible or seriously impair the research's achievement, if you previously provided informed consent.\n",
      "  - Enable solely internal uses that are reasonably aligned with user expectations based on your relationship with us.\n",
      "  - Comply with a legal obligation.\n",
      "  - Make other internal and lawful uses of that information that are compatible with the context in which you provided it.\n",
      "\n",
      "We will discriminate against you for exercising any of your CCPA rights. Unless permitted by the CCPA, we will:\n",
      "\n",
      "- Deny you the Services.\n",
      "- Charge you different prices or rates for the Services, including through granting discounts or other benefits, or imposing penalties.\n",
      "- Provide you a different level or quality of the Services.\n",
      "- Suggest that you may receive a different price or rate for the Services or a different level or quality of the Services.\n",
      "\n",
      "_Verifiable Consumer Requests_\n",
      "\n",
      "We cannot respond to your request or provide you with Personal Information if we cannot verify your identity or authority to make the request and confirm that the Personal Information relates to you. Making a verifiable consumer request does not require you to create an account with us. We will only use Personal Information provided in a verifiable consumer request to verify your identity or authority to make the request.\n",
      "\n",
      "\n"
     ]
    }
   ],
   "source": [
    "# Next test is the redacted section 9 of the RecRoom policy\n",
    "RecRoom_policy_redacted_splits = split_md_sections(\"data/RecRoom_complete_redacted.md\")\n",
    "policy_section_redacted = RecRoom_policy_redacted_splits[8]\n",
    "print(policy_section_redacted)\n"
   ],
   "metadata": {
    "collapsed": false,
    "ExecuteTime": {
     "end_time": "2023-10-06T23:14:18.242428Z",
     "start_time": "2023-10-06T23:14:18.237042Z"
    }
   }
  },
  {
   "cell_type": "code",
   "execution_count": 211,
   "outputs": [],
   "source": [
    "query = pre_prompt_analysis_only + f\"\"\"\n",
    "\n",
    "*** Policy ***\n",
    "{policy_section_redacted}\n",
    "\n",
    "\"\"\"\n",
    "\n",
    "answer3_basic = retrieval_qa_basic.run(query)\n",
    "\n",
    "answer3 = retrieval_qa.run(query)\n"
   ],
   "metadata": {
    "collapsed": false,
    "ExecuteTime": {
     "end_time": "2023-10-06T23:15:50.815893Z",
     "start_time": "2023-10-06T23:14:25.094071Z"
    }
   }
  },
  {
   "cell_type": "code",
   "execution_count": 212,
   "outputs": [
    {
     "name": "stdout",
     "output_type": "stream",
     "text": [
      "BASIC STORE:\n",
      "{\n",
      "\"answer\": \"The policy section titled '8. Additional Notice for California Residents' is not fully compliant with the California Consumer Privacy Act of 2018 (CCPA). \n",
      "\n",
      "1. The policy does not specify the methods for submitting requests for information, deletion, or correction. According to Section 1798.130 of the CCPA, businesses should provide at least two methods for submitting such requests, including a toll-free telephone number and, if the business operates exclusively online, an email address.\n",
      "\n",
      "2. The policy does not mention any time frame within which the company will respond to a verifiable consumer request. As per Section 1798.130 of the CCPA, businesses are required to respond within 45 days of receiving a verifiable consumer request.\n",
      "\n",
      "3. The policy does not provide any information about the company's recordkeeping requirements to ensure compliance with the CCPA, as required by Section 1798.185.\n",
      "\n",
      "4. The policy does not mention the appointment of a Chief Privacy Auditor to conduct audits of businesses to ensure compliance with the CCPA, as required by Section 1798.185.\n",
      "\n",
      "5. The policy does not mention any mechanism for consumers who do not meet the definition of business to voluntarily certify that they are in compliance with the CCPA, as required by Section 1798.140.\n",
      "\n",
      "6. The policy does not mention any provisions for the protection of personal information of other natural persons, as required by Section 1798.105 and 1798.106.\n",
      "\n",
      "7. The policy does not mention any provisions for the protection of personal information in the event of a dispute between or among persons claiming rights to personal information, as required by Section 1798.105 and 1798.106.\n",
      "\n",
      "8. The policy does not mention any provisions for the protection of personal information in the context of noncommercial activities, as required by Section 2 of Article I of the California Constitution.\n",
      "\n",
      "9. The policy does not mention any provisions for the protection of personal information in the context of job applicants, employees, owners, directors, officers, medical staff members, or independent contractors, as required by Section 1798.145.\n",
      "\n",
      "10. The policy does not mention any provisions for the protection of personal information in the context of emergency contact information, as required by Section 1798.145.\n",
      "\n",
      "11. The policy does not mention any provisions for the protection of personal information in the context of administering benefits for another natural person, as required by Section 1798.145.\n",
      "\n",
      "12. The policy does not mention any provisions for the protection of personal information in the context of a cybersecurity audit, as required by Section 1798.185.\n",
      "\n",
      "13. The policy does not mention any provisions for the protection of personal information in the context of a risk assessment, as required by Section 1798.185.\n",
      "\n",
      "14. The policy does not mention any provisions for the protection of personal information in the context of automated decision-making technology, as required by Section 1798.185.\n",
      "\n",
      "15. The policy does not mention any provisions for the protection of personal information in the context of a law enforcement agency-approved investigation, as required by Section 1798.145.\n",
      "\n",
      "16. The policy does not mention any provisions for the protection of personal information in the context of the agency’s audit authority, as required by Section 1798.185.\n",
      "\n",
      "17. The policy does not mention any provisions for the protection of personal information in the context of an opt-out preference signal, as required by Section 1798.185.\n",
      "\n",
      "18. The policy does not mention any provisions for the protection of personal information in the context of a business’ determination, as required by Section 1798.130.\n",
      "\n",
      "19. The policy does not mention any provisions for the protection of personal information in the context of business purposes, as required by Section 1798.185.\n",
      "\n",
      "20. The policy does not mention any provisions for the protection of personal information in the context of service providers and contractors, as required by Section 1798.185.\n",
      "\n",
      "21. The policy does not mention any provisions for the protection of personal information in the context of 'intentionally interacts', as required by Section 1798.185.\n",
      "\n",
      "22. The policy does not mention any provisions for the protection of personal information in the context of 'precise geolocation', as required by Section 1798.185.\n",
      "\n",
      "23. The policy does not mention any provisions for the protection of personal information in the context of 'specific pieces of information obtained from the consumer', as required by Section 1798.185.\n",
      "\n",
      "24. The policy does not mention any provisions for the protection of personal information in the context of a cybersecurity audit, as required by Section 1798.185.\",\n",
      "\"sources\": [\"63-pl\", \"10-pl\", \"39-pl\", \"55-pl\", \"54-pl\"]\n",
      "}\n",
      "TAYLOR STORE:\n",
      "{\n",
      "  \"answer\": \"The policy section titled '8. Additional Notice for California Residents' is not fully compliant with the new law. The violation is moderate. Here are the issues, prioritized by importance:\n",
      "\n",
      "1. The policy does not mention the California Electronic Communications Privacy Act as required by Chapter 3.6 (commencing with Section 1546) of Title 12 of Part 2 of the Penal Code (CIV1798.105.20205_d_5).\n",
      "2. The policy does not specify that it will disclose and deliver the required information to a consumer free of charge, correct inaccurate personal information, or delete a consumer’s personal information, based on the consumer’s request, within 45 days of receiving a verifiable consumer request from the consumer (CIV1798.130.202012_a_2).\n",
      "3. The policy does not provide guidance to businesses regarding their duties and responsibilities under this title and does not mention the appointment of a Chief Privacy Auditor to conduct audits of businesses to ensure compliance with this title (CIV1798.199.40.20215255_f).\n",
      "4. The policy does not ensure that all individuals responsible for handling consumer inquiries about the business’ privacy practices or the business’ compliance with this title are informed of all requirements in Sections 1798.100, 1798.105, 1798.106, 1798.110, 1798.115, 1798.125, and this section, and how to direct consumers to exercise their rights under those sections (CIV1798.130.202012_a_3_B_iii_5_C_ii_6).\n",
      "5. The policy does not disclose the following information in its online privacy policy or policies if the business has an online privacy policy or policies and in any California-specific description of consumers’ privacy rights, or if the business does not maintain those policies, on its internet website, and update that information at least once every 12 months (CIV1798.130.202012_a_3_B_iii_5).\",\n",
      "  \"sources\": [\"CIV1798.105.20205_d_5\", \"CIV1798.130.202012_a_2\", \"CIV1798.199.40.20215255_f\", \"CIV1798.130.202012_a_3_B_iii_5_C_ii_6\", \"CIV1798.130.202012_a_3_B_iii_5\"]\n",
      "}\n"
     ]
    }
   ],
   "source": [
    "print(\"BASIC STORE:\\n\" + answer3_basic)\n",
    "print(\"TAYLOR STORE:\\n\" + answer3)"
   ],
   "metadata": {
    "collapsed": false,
    "ExecuteTime": {
     "end_time": "2023-10-06T23:15:50.819345Z",
     "start_time": "2023-10-06T23:15:50.816366Z"
    }
   }
  },
  {
   "cell_type": "code",
   "execution_count": 213,
   "outputs": [],
   "source": [
    "db_inputs_outputs.add_data({'query': query,\n",
    "                            'policy_descr': \"Section 9 redacted\",\n",
    "                            'llm': \"gpt-4, temperature 0\",\n",
    "                            'retriever': \"Basic retriever\",\n",
    "                            'answer': answer3_basic,\n",
    "                            'notes': \"\",\n",
    "                            \"timestamp\":  datetime.datetime.now()\n",
    "                            })\n",
    "\n",
    "db_inputs_outputs.add_data({'query': query,\n",
    "                            'policy_descr': \"Section 9 redacted\",\n",
    "                            'llm': \"gpt-4, temperature 0\",\n",
    "                            'retriever': \"Taylor retriever Similarity\",\n",
    "                            'answer': answer3,\n",
    "                            'notes': \"\",\n",
    "                            \"timestamp\":  datetime.datetime.now()\n",
    "                            })"
   ],
   "metadata": {
    "collapsed": false,
    "ExecuteTime": {
     "end_time": "2023-10-06T23:16:47.888572Z",
     "start_time": "2023-10-06T23:16:47.882522Z"
    }
   }
  },
  {
   "cell_type": "markdown",
   "source": [
    "## Parse and view the chain's answer"
   ],
   "metadata": {
    "collapsed": false
   }
  },
  {
   "cell_type": "code",
   "execution_count": 97,
   "outputs": [
    {
     "name": "stdout",
     "output_type": "stream",
     "text": [
      "The policy is not fully compliant with the new law. The non-compliance is moderate. Here are the missing parts or wrong parts in the policy, prioritized by importance:\n",
      "\n",
      "1. The policy states that the company will discriminate against consumers for exercising their CCPA rights, which is a direct violation of the law. The company should not deny services, charge different prices, provide different quality of services, or suggest different rates or quality of services for consumers exercising their CCPA rights.\n",
      "\n",
      "2. The policy does not provide a mechanism for consumers to opt-out of the sale or sharing of their personal information. The law requires businesses to define requirements and technical specifications for an opt-out preference signal.\n",
      "\n",
      "3. The policy does not mention the company's responsibility to cooperate with law enforcement agencies and government agencies in certain situations, as required by the law.\n",
      "\n",
      "4. The policy does not mention the company's responsibility to perform a cybersecurity audit on an annual basis and submit a risk assessment to the California Privacy Protection Agency, as required by the law for businesses whose processing of personal information presents significant risk to consumers' privacy or security.\n",
      "\n",
      "5. The policy does not mention the company's responsibility to provide guidance to consumers regarding their rights under the CCPA, as required by the law.\n"
     ]
    }
   ],
   "source": [
    "# parse the answer\n",
    "# pick the answer from the chain's output, which to parse\n",
    "answer_n = answer2_basic\n",
    "\n",
    "import json\n",
    "\n",
    "data_dict = json.loads(answer_n)  # TODO: doesn't always work, the answer doesn't adhere strictly to JSON. Need to fix this\n",
    "\n",
    "answer = data_dict.get('answer', '')\n",
    "sources_list = data_dict.get('sources', [])\n",
    "\n",
    "print(answer)\n"
   ],
   "metadata": {
    "collapsed": false,
    "ExecuteTime": {
     "end_time": "2023-10-06T17:40:55.958337Z",
     "start_time": "2023-10-06T17:40:55.947258Z"
    }
   }
  },
  {
   "cell_type": "code",
   "execution_count": 77,
   "outputs": [
    {
     "data": {
      "text/plain": "['4-pl', '10-pl', '11-pl', '32-pl']"
     },
     "execution_count": 77,
     "metadata": {},
     "output_type": "execute_result"
    }
   ],
   "source": [
    "sources_list"
   ],
   "metadata": {
    "collapsed": false,
    "ExecuteTime": {
     "end_time": "2023-10-06T14:32:00.365030Z",
     "start_time": "2023-10-06T14:32:00.361487Z"
    }
   }
  },
  {
   "cell_type": "code",
   "execution_count": 78,
   "outputs": [],
   "source": [
    "# View the sources\n",
    "\n",
    "# Put sources manually here if the parsing doesn't work\n",
    "# sources_list = [\"63-pl\", \"33-pl\", \"54-pl\", \"10-pl\"]\n",
    "\n",
    "# Find text chunks by source numbers\n",
    "\n",
    "source_to_text = {}\n",
    "for i, entry in enumerate(legal_code_splits):\n",
    "    source = f\"{i}-pl\"\n",
    "    entry.metadata['source'] = source  # Assuming `metadata` is a dictionary attribute in `Document`\n",
    "    source_to_text[source] = entry.page_content  # Replace with the actual attribute name if different\n",
    "\n",
    "text_chunks = [source_to_text.get(source, \"Not found\") for source in sources_list]\n",
    "\n"
   ],
   "metadata": {
    "collapsed": false,
    "ExecuteTime": {
     "end_time": "2023-10-06T14:32:04.928758Z",
     "start_time": "2023-10-06T14:32:04.922513Z"
    }
   }
  },
  {
   "cell_type": "code",
   "execution_count": 79,
   "outputs": [
    {
     "name": "stdout",
     "output_type": "stream",
     "text": [
      " Proposition 24.)\n",
      "\n",
      "1798.130.  Notice, Disclosure, Correction, and Deletion Requirements\n",
      "(a) In order to comply with Sections 1798.100, 1798.105, 1798.106, 1798.110, 1798.115, and 1798.125, a business shall, in a form that is reasonably accessible to consumers:\n",
      "(1) (A) Make available to consumers two or more designated methods for submitting requests for information required to be disclosed pursuant to Sections 1798.110 and 1798.115, or requests for deletion or correction pursuant to Sections 1798.105 and 1798.106, respectively, including, at a minimum, a toll-free telephone number. A business that operates exclusively online and has a direct relationship with a consumer from whom it collects personal information shall only be required to provide an email address for submitting requests for information required to be disclosed pursuant to Sections 1798.110 and 1798.115, or for requests for deletion or correction pursuant to Sections 1798.105 and 1798.106, respectively.\n",
      "\n",
      "(B) If the business maintains an internet website, make the internet website available to consumers to submit requests for information required to be disclosed pursuant to Sections 1798.110 and 1798.115, or requests for deletion or correction pursuant to Sections 1798.105 and 1798.106, respectively.\n",
      "\n",
      "(2) (A) Disclose and deliver the required information to a consumer free of charge, correct inaccurate personal information, or delete a consumer’s personal information, based on the consumer’s request, within 45 days of receiving a verifiable consumer request from the consumer. The business shall promptly take steps to determine whether the request is a verifiable consumer request, but this shall not extend the business’s duty to disclose and deliver the information, to correct inaccurate personal information, or to delete personal information within 45 days of receipt of the consumer’s request. The time period to provide the required information, to correct inaccurate personal information, or to delete personal information may be extended once by an additional 45 days when reasonably necessary, provided the consumer is provided notice of the extension within the first 45-day period. The disclosure of the required information shall be made in writing and delivered through the consumer’s account with the business, if the consumer maintains an account with the business, or by mail or electronically at the consumer’s\n"
     ]
    }
   ],
   "source": [
    "# view the sources\n",
    "\n",
    "print(text_chunks[1])"
   ],
   "metadata": {
    "collapsed": false,
    "ExecuteTime": {
     "end_time": "2023-10-06T14:32:06.818122Z",
     "start_time": "2023-10-06T14:32:06.815335Z"
    }
   }
  },
  {
   "cell_type": "code",
   "execution_count": null,
   "outputs": [],
   "source": [],
   "metadata": {
    "collapsed": false
   }
  },
  {
   "cell_type": "markdown",
   "source": [
    "# All sections of policy\n",
    "\n",
    "For each section of the given policy, run it through the chain. Save answers with sources. Summarize it into a summary."
   ],
   "metadata": {
    "collapsed": false
   }
  },
  {
   "cell_type": "code",
   "execution_count": 196,
   "outputs": [],
   "source": [
    "import pickle"
   ],
   "metadata": {
    "collapsed": false,
    "ExecuteTime": {
     "end_time": "2023-10-06T22:52:23.265388Z",
     "start_time": "2023-10-06T22:52:23.256320Z"
    }
   }
  },
  {
   "cell_type": "code",
   "execution_count": 140,
   "outputs": [
    {
     "name": "stdout",
     "output_type": "stream",
     "text": [
      "{\n",
      "  \"answer\": \"The provided policy appears to be largely compliant with the California Consumer Privacy Act of 2018 (\\\"CCPA\\\"). However, there are a few areas that may need further attention to ensure full compliance:\n",
      "\n",
      "1. **Methods for Submitting Requests**: The policy mentions that consumers can submit verifiable consumer requests via email. However, the law (Section 1798.130 (a)(1)(A)) requires businesses to provide two or more designated methods for submitting such requests. This could include a toll-free telephone number or a website form, in addition to the email address already provided. \n",
      "\n",
      "2. **Time Frame for Response**: The policy states that the company will respond to a verifiable consumer request within 30 days of its receipt. While this is not a violation since it's shorter than the 45 days required by the law (Section 1798.130 (a)(2)(A)), the policy should mention the possibility of an extension by an additional 45 days when reasonably necessary.\n",
      "\n",
      "3. **Disclosure of Information Beyond 12 Months**: The policy does not mention the possibility of a consumer requesting information beyond the 12-month period (Section 1798.130 (a)(2)(B)). While the business is not required to provide this information unless it's feasible and doesn't involve a disproportionate effort, this provision should be included in the policy.\n",
      "\n",
      "4. **Exemptions**: The policy outlines several exceptions under which the company may deny a consumer's deletion request. However, it does not mention the possibility of a law enforcement agency directing the company not to delete a consumer's personal information during an investigation (Section 1798.145 (a)(2)). Although this is a specific scenario, it may be worth including in the policy for completeness.\n",
      "\n",
      "5. **Authentication of the Consumer**: The policy does not explicitly state that the company may require authentication of the consumer that is reasonable in light of the nature of the personal information requested (Section 1798.130 (a)(2)(A)). This should be clarified in the policy.\n",
      "\n",
      "The overall non-compliance is moderate. While there are no direct violations of the law, there are several areas where the policy could provide more information to ensure full compliance with the CCPA.\",\n",
      "  \"sources\": [\"10-pl\", \"11-pl\", \"32-pl\", \"33-pl\", \"54-pl\"]\n",
      "}\n"
     ]
    }
   ],
   "source": [
    "def run_section_through_chain(pre_prompt: str, policy_section: str, retrieval_qa: RetrievalQA):\n",
    "    query = f\"\"\"{pre_prompt}\n",
    "\n",
    "    *** Policy section ***\n",
    "    {policy_section}\n",
    "\n",
    "    \"\"\"\n",
    "    answer = retrieval_qa.run(query)\n",
    "    return answer\n",
    "\n",
    "a = run_section_through_chain(pre_prompt_analysis_only, policy_section, retrieval_qa_basic)\n",
    "print(a)"
   ],
   "metadata": {
    "collapsed": false,
    "ExecuteTime": {
     "end_time": "2023-10-06T20:54:13.595740Z",
     "start_time": "2023-10-06T20:53:37.497115Z"
    }
   }
  },
  {
   "cell_type": "code",
   "execution_count": 164,
   "outputs": [
    {
     "ename": "ValidationError",
     "evalue": "1 validation error for AnswerWithSources\n__root__\n  Invalid control character at: line 2 column 195 (char 196) (type=value_error.jsondecode; msg=Invalid control character at; doc={\n  \"answer\": \"The policy section '#9. Additional Notice for California Residents' is generally compliant with the new law. However, there are a few areas where it falls short of full compliance. \n\n1. The policy does not specify two or more designated methods for submitting requests for information or deletion. The law requires at least two methods, including a toll-free telephone number, unless the business operates exclusively online and has a direct relationship with the consumer. In this case, an email address is sufficient. The policy only mentions an email address for submitting requests.\n\n2. The policy does not explicitly state that the business will disclose and deliver the required information, correct inaccurate personal information, or delete a consumer’s personal information within 45 days of receiving a verifiable consumer request. Although the policy mentions a 30-day response time, which is within the legal limit, it does not explicitly state that the business will take the necessary actions within this time frame.\n\n3. The policy does not mention the possibility of extending the 45-day period by an additional 45 days when reasonably necessary, as required by the law.\n\n4. The policy does not explicitly state that the business will not require the consumer to create an account in order to make a verifiable consumer request.\n\n5. The policy does not mention the requirement to disclose the required information for the 12-month period preceding the business’ receipt of the verifiable consumer request, or the possibility of a consumer requesting information beyond this period under certain conditions.\n\n6. The policy does not mention the requirement for a business that receives a verifiable consumer request to disclose any personal information it has collected about a consumer, directly or indirectly, including through or by a service provider or contractor, to the consumer.\",\n  \"sources\": [\"10-pl\", \"11-pl\", \"54-pl\", \"32-pl\"]\n}; pos=196; lineno=2; colno=195)",
     "output_type": "error",
     "traceback": [
      "\u001B[0;31m---------------------------------------------------------------------------\u001B[0m",
      "\u001B[0;31mJSONDecodeError\u001B[0m                           Traceback (most recent call last)",
      "File \u001B[0;32m~/anaconda3/lib/python3.11/site-packages/pydantic/main.py:539\u001B[0m, in \u001B[0;36mpydantic.main.BaseModel.parse_raw\u001B[0;34m()\u001B[0m\n",
      "File \u001B[0;32m~/anaconda3/lib/python3.11/site-packages/pydantic/parse.py:37\u001B[0m, in \u001B[0;36mpydantic.parse.load_str_bytes\u001B[0;34m()\u001B[0m\n",
      "File \u001B[0;32m~/anaconda3/lib/python3.11/json/__init__.py:346\u001B[0m, in \u001B[0;36mloads\u001B[0;34m(s, cls, object_hook, parse_float, parse_int, parse_constant, object_pairs_hook, **kw)\u001B[0m\n\u001B[1;32m    343\u001B[0m \u001B[38;5;28;01mif\u001B[39;00m (\u001B[38;5;28mcls\u001B[39m \u001B[38;5;129;01mis\u001B[39;00m \u001B[38;5;28;01mNone\u001B[39;00m \u001B[38;5;129;01mand\u001B[39;00m object_hook \u001B[38;5;129;01mis\u001B[39;00m \u001B[38;5;28;01mNone\u001B[39;00m \u001B[38;5;129;01mand\u001B[39;00m\n\u001B[1;32m    344\u001B[0m         parse_int \u001B[38;5;129;01mis\u001B[39;00m \u001B[38;5;28;01mNone\u001B[39;00m \u001B[38;5;129;01mand\u001B[39;00m parse_float \u001B[38;5;129;01mis\u001B[39;00m \u001B[38;5;28;01mNone\u001B[39;00m \u001B[38;5;129;01mand\u001B[39;00m\n\u001B[1;32m    345\u001B[0m         parse_constant \u001B[38;5;129;01mis\u001B[39;00m \u001B[38;5;28;01mNone\u001B[39;00m \u001B[38;5;129;01mand\u001B[39;00m object_pairs_hook \u001B[38;5;129;01mis\u001B[39;00m \u001B[38;5;28;01mNone\u001B[39;00m \u001B[38;5;129;01mand\u001B[39;00m \u001B[38;5;129;01mnot\u001B[39;00m kw):\n\u001B[0;32m--> 346\u001B[0m     \u001B[38;5;28;01mreturn\u001B[39;00m _default_decoder\u001B[38;5;241m.\u001B[39mdecode(s)\n\u001B[1;32m    347\u001B[0m \u001B[38;5;28;01mif\u001B[39;00m \u001B[38;5;28mcls\u001B[39m \u001B[38;5;129;01mis\u001B[39;00m \u001B[38;5;28;01mNone\u001B[39;00m:\n",
      "File \u001B[0;32m~/anaconda3/lib/python3.11/json/decoder.py:337\u001B[0m, in \u001B[0;36mJSONDecoder.decode\u001B[0;34m(self, s, _w)\u001B[0m\n\u001B[1;32m    333\u001B[0m \u001B[38;5;250m\u001B[39m\u001B[38;5;124;03m\"\"\"Return the Python representation of ``s`` (a ``str`` instance\u001B[39;00m\n\u001B[1;32m    334\u001B[0m \u001B[38;5;124;03mcontaining a JSON document).\u001B[39;00m\n\u001B[1;32m    335\u001B[0m \n\u001B[1;32m    336\u001B[0m \u001B[38;5;124;03m\"\"\"\u001B[39;00m\n\u001B[0;32m--> 337\u001B[0m obj, end \u001B[38;5;241m=\u001B[39m \u001B[38;5;28mself\u001B[39m\u001B[38;5;241m.\u001B[39mraw_decode(s, idx\u001B[38;5;241m=\u001B[39m_w(s, \u001B[38;5;241m0\u001B[39m)\u001B[38;5;241m.\u001B[39mend())\n\u001B[1;32m    338\u001B[0m end \u001B[38;5;241m=\u001B[39m _w(s, end)\u001B[38;5;241m.\u001B[39mend()\n",
      "File \u001B[0;32m~/anaconda3/lib/python3.11/json/decoder.py:353\u001B[0m, in \u001B[0;36mJSONDecoder.raw_decode\u001B[0;34m(self, s, idx)\u001B[0m\n\u001B[1;32m    352\u001B[0m \u001B[38;5;28;01mtry\u001B[39;00m:\n\u001B[0;32m--> 353\u001B[0m     obj, end \u001B[38;5;241m=\u001B[39m \u001B[38;5;28mself\u001B[39m\u001B[38;5;241m.\u001B[39mscan_once(s, idx)\n\u001B[1;32m    354\u001B[0m \u001B[38;5;28;01mexcept\u001B[39;00m \u001B[38;5;167;01mStopIteration\u001B[39;00m \u001B[38;5;28;01mas\u001B[39;00m err:\n",
      "\u001B[0;31mJSONDecodeError\u001B[0m: Invalid control character at: line 2 column 195 (char 196)",
      "\nDuring handling of the above exception, another exception occurred:\n",
      "\u001B[0;31mValidationError\u001B[0m                           Traceback (most recent call last)",
      "Cell \u001B[0;32mIn[164], line 1\u001B[0m\n\u001B[0;32m----> 1\u001B[0m b \u001B[38;5;241m=\u001B[39m run_section_through_chain(pre_prompt_analysis_only, policy_section, retrieval_qa_basic_pydantic)\n\u001B[1;32m      2\u001B[0m b\n",
      "Cell \u001B[0;32mIn[140], line 8\u001B[0m, in \u001B[0;36mrun_section_through_chain\u001B[0;34m(pre_prompt, policy_section, retrieval_qa)\u001B[0m\n\u001B[1;32m      1\u001B[0m \u001B[38;5;28;01mdef\u001B[39;00m \u001B[38;5;21mrun_section_through_chain\u001B[39m(pre_prompt: \u001B[38;5;28mstr\u001B[39m, policy_section: \u001B[38;5;28mstr\u001B[39m, retrieval_qa: RetrievalQA):\n\u001B[1;32m      2\u001B[0m     query \u001B[38;5;241m=\u001B[39m pre_prompt \u001B[38;5;241m+\u001B[39m \u001B[38;5;124mf\u001B[39m\u001B[38;5;124m\"\"\"\u001B[39m\n\u001B[1;32m      3\u001B[0m \n\u001B[1;32m      4\u001B[0m \u001B[38;5;124m    *** Policy ***\u001B[39m\n\u001B[1;32m      5\u001B[0m \u001B[38;5;124m    \u001B[39m\u001B[38;5;132;01m{\u001B[39;00mpolicy_section\u001B[38;5;132;01m}\u001B[39;00m\n\u001B[1;32m      6\u001B[0m \n\u001B[1;32m      7\u001B[0m \u001B[38;5;124m    \u001B[39m\u001B[38;5;124m\"\"\"\u001B[39m\n\u001B[0;32m----> 8\u001B[0m     answer \u001B[38;5;241m=\u001B[39m retrieval_qa\u001B[38;5;241m.\u001B[39mrun(query)\n\u001B[1;32m      9\u001B[0m     \u001B[38;5;28;01mreturn\u001B[39;00m answer\n",
      "File \u001B[0;32m~/anaconda3/lib/python3.11/site-packages/langchain/chains/base.py:507\u001B[0m, in \u001B[0;36mChain.run\u001B[0;34m(self, callbacks, tags, metadata, *args, **kwargs)\u001B[0m\n\u001B[1;32m    505\u001B[0m     \u001B[38;5;28;01mif\u001B[39;00m \u001B[38;5;28mlen\u001B[39m(args) \u001B[38;5;241m!=\u001B[39m \u001B[38;5;241m1\u001B[39m:\n\u001B[1;32m    506\u001B[0m         \u001B[38;5;28;01mraise\u001B[39;00m \u001B[38;5;167;01mValueError\u001B[39;00m(\u001B[38;5;124m\"\u001B[39m\u001B[38;5;124m`run` supports only one positional argument.\u001B[39m\u001B[38;5;124m\"\u001B[39m)\n\u001B[0;32m--> 507\u001B[0m     \u001B[38;5;28;01mreturn\u001B[39;00m \u001B[38;5;28mself\u001B[39m(args[\u001B[38;5;241m0\u001B[39m], callbacks\u001B[38;5;241m=\u001B[39mcallbacks, tags\u001B[38;5;241m=\u001B[39mtags, metadata\u001B[38;5;241m=\u001B[39mmetadata)[\n\u001B[1;32m    508\u001B[0m         _output_key\n\u001B[1;32m    509\u001B[0m     ]\n\u001B[1;32m    511\u001B[0m \u001B[38;5;28;01mif\u001B[39;00m kwargs \u001B[38;5;129;01mand\u001B[39;00m \u001B[38;5;129;01mnot\u001B[39;00m args:\n\u001B[1;32m    512\u001B[0m     \u001B[38;5;28;01mreturn\u001B[39;00m \u001B[38;5;28mself\u001B[39m(kwargs, callbacks\u001B[38;5;241m=\u001B[39mcallbacks, tags\u001B[38;5;241m=\u001B[39mtags, metadata\u001B[38;5;241m=\u001B[39mmetadata)[\n\u001B[1;32m    513\u001B[0m         _output_key\n\u001B[1;32m    514\u001B[0m     ]\n",
      "File \u001B[0;32m~/anaconda3/lib/python3.11/site-packages/langchain/chains/base.py:312\u001B[0m, in \u001B[0;36mChain.__call__\u001B[0;34m(self, inputs, return_only_outputs, callbacks, tags, metadata, run_name, include_run_info)\u001B[0m\n\u001B[1;32m    310\u001B[0m \u001B[38;5;28;01mexcept\u001B[39;00m \u001B[38;5;167;01mBaseException\u001B[39;00m \u001B[38;5;28;01mas\u001B[39;00m e:\n\u001B[1;32m    311\u001B[0m     run_manager\u001B[38;5;241m.\u001B[39mon_chain_error(e)\n\u001B[0;32m--> 312\u001B[0m     \u001B[38;5;28;01mraise\u001B[39;00m e\n\u001B[1;32m    313\u001B[0m run_manager\u001B[38;5;241m.\u001B[39mon_chain_end(outputs)\n\u001B[1;32m    314\u001B[0m final_outputs: Dict[\u001B[38;5;28mstr\u001B[39m, Any] \u001B[38;5;241m=\u001B[39m \u001B[38;5;28mself\u001B[39m\u001B[38;5;241m.\u001B[39mprep_outputs(\n\u001B[1;32m    315\u001B[0m     inputs, outputs, return_only_outputs\n\u001B[1;32m    316\u001B[0m )\n",
      "File \u001B[0;32m~/anaconda3/lib/python3.11/site-packages/langchain/chains/base.py:306\u001B[0m, in \u001B[0;36mChain.__call__\u001B[0;34m(self, inputs, return_only_outputs, callbacks, tags, metadata, run_name, include_run_info)\u001B[0m\n\u001B[1;32m    299\u001B[0m run_manager \u001B[38;5;241m=\u001B[39m callback_manager\u001B[38;5;241m.\u001B[39mon_chain_start(\n\u001B[1;32m    300\u001B[0m     dumpd(\u001B[38;5;28mself\u001B[39m),\n\u001B[1;32m    301\u001B[0m     inputs,\n\u001B[1;32m    302\u001B[0m     name\u001B[38;5;241m=\u001B[39mrun_name,\n\u001B[1;32m    303\u001B[0m )\n\u001B[1;32m    304\u001B[0m \u001B[38;5;28;01mtry\u001B[39;00m:\n\u001B[1;32m    305\u001B[0m     outputs \u001B[38;5;241m=\u001B[39m (\n\u001B[0;32m--> 306\u001B[0m         \u001B[38;5;28mself\u001B[39m\u001B[38;5;241m.\u001B[39m_call(inputs, run_manager\u001B[38;5;241m=\u001B[39mrun_manager)\n\u001B[1;32m    307\u001B[0m         \u001B[38;5;28;01mif\u001B[39;00m new_arg_supported\n\u001B[1;32m    308\u001B[0m         \u001B[38;5;28;01melse\u001B[39;00m \u001B[38;5;28mself\u001B[39m\u001B[38;5;241m.\u001B[39m_call(inputs)\n\u001B[1;32m    309\u001B[0m     )\n\u001B[1;32m    310\u001B[0m \u001B[38;5;28;01mexcept\u001B[39;00m \u001B[38;5;167;01mBaseException\u001B[39;00m \u001B[38;5;28;01mas\u001B[39;00m e:\n\u001B[1;32m    311\u001B[0m     run_manager\u001B[38;5;241m.\u001B[39mon_chain_error(e)\n",
      "File \u001B[0;32m~/anaconda3/lib/python3.11/site-packages/langchain/chains/retrieval_qa/base.py:139\u001B[0m, in \u001B[0;36mBaseRetrievalQA._call\u001B[0;34m(self, inputs, run_manager)\u001B[0m\n\u001B[1;32m    137\u001B[0m \u001B[38;5;28;01melse\u001B[39;00m:\n\u001B[1;32m    138\u001B[0m     docs \u001B[38;5;241m=\u001B[39m \u001B[38;5;28mself\u001B[39m\u001B[38;5;241m.\u001B[39m_get_docs(question)  \u001B[38;5;66;03m# type: ignore[call-arg]\u001B[39;00m\n\u001B[0;32m--> 139\u001B[0m answer \u001B[38;5;241m=\u001B[39m \u001B[38;5;28mself\u001B[39m\u001B[38;5;241m.\u001B[39mcombine_documents_chain\u001B[38;5;241m.\u001B[39mrun(\n\u001B[1;32m    140\u001B[0m     input_documents\u001B[38;5;241m=\u001B[39mdocs, question\u001B[38;5;241m=\u001B[39mquestion, callbacks\u001B[38;5;241m=\u001B[39m_run_manager\u001B[38;5;241m.\u001B[39mget_child()\n\u001B[1;32m    141\u001B[0m )\n\u001B[1;32m    143\u001B[0m \u001B[38;5;28;01mif\u001B[39;00m \u001B[38;5;28mself\u001B[39m\u001B[38;5;241m.\u001B[39mreturn_source_documents:\n\u001B[1;32m    144\u001B[0m     \u001B[38;5;28;01mreturn\u001B[39;00m {\u001B[38;5;28mself\u001B[39m\u001B[38;5;241m.\u001B[39moutput_key: answer, \u001B[38;5;124m\"\u001B[39m\u001B[38;5;124msource_documents\u001B[39m\u001B[38;5;124m\"\u001B[39m: docs}\n",
      "File \u001B[0;32m~/anaconda3/lib/python3.11/site-packages/langchain/chains/base.py:512\u001B[0m, in \u001B[0;36mChain.run\u001B[0;34m(self, callbacks, tags, metadata, *args, **kwargs)\u001B[0m\n\u001B[1;32m    507\u001B[0m     \u001B[38;5;28;01mreturn\u001B[39;00m \u001B[38;5;28mself\u001B[39m(args[\u001B[38;5;241m0\u001B[39m], callbacks\u001B[38;5;241m=\u001B[39mcallbacks, tags\u001B[38;5;241m=\u001B[39mtags, metadata\u001B[38;5;241m=\u001B[39mmetadata)[\n\u001B[1;32m    508\u001B[0m         _output_key\n\u001B[1;32m    509\u001B[0m     ]\n\u001B[1;32m    511\u001B[0m \u001B[38;5;28;01mif\u001B[39;00m kwargs \u001B[38;5;129;01mand\u001B[39;00m \u001B[38;5;129;01mnot\u001B[39;00m args:\n\u001B[0;32m--> 512\u001B[0m     \u001B[38;5;28;01mreturn\u001B[39;00m \u001B[38;5;28mself\u001B[39m(kwargs, callbacks\u001B[38;5;241m=\u001B[39mcallbacks, tags\u001B[38;5;241m=\u001B[39mtags, metadata\u001B[38;5;241m=\u001B[39mmetadata)[\n\u001B[1;32m    513\u001B[0m         _output_key\n\u001B[1;32m    514\u001B[0m     ]\n\u001B[1;32m    516\u001B[0m \u001B[38;5;28;01mif\u001B[39;00m \u001B[38;5;129;01mnot\u001B[39;00m kwargs \u001B[38;5;129;01mand\u001B[39;00m \u001B[38;5;129;01mnot\u001B[39;00m args:\n\u001B[1;32m    517\u001B[0m     \u001B[38;5;28;01mraise\u001B[39;00m \u001B[38;5;167;01mValueError\u001B[39;00m(\n\u001B[1;32m    518\u001B[0m         \u001B[38;5;124m\"\u001B[39m\u001B[38;5;124m`run` supported with either positional arguments or keyword arguments,\u001B[39m\u001B[38;5;124m\"\u001B[39m\n\u001B[1;32m    519\u001B[0m         \u001B[38;5;124m\"\u001B[39m\u001B[38;5;124m but none were provided.\u001B[39m\u001B[38;5;124m\"\u001B[39m\n\u001B[1;32m    520\u001B[0m     )\n",
      "File \u001B[0;32m~/anaconda3/lib/python3.11/site-packages/langchain/chains/base.py:312\u001B[0m, in \u001B[0;36mChain.__call__\u001B[0;34m(self, inputs, return_only_outputs, callbacks, tags, metadata, run_name, include_run_info)\u001B[0m\n\u001B[1;32m    310\u001B[0m \u001B[38;5;28;01mexcept\u001B[39;00m \u001B[38;5;167;01mBaseException\u001B[39;00m \u001B[38;5;28;01mas\u001B[39;00m e:\n\u001B[1;32m    311\u001B[0m     run_manager\u001B[38;5;241m.\u001B[39mon_chain_error(e)\n\u001B[0;32m--> 312\u001B[0m     \u001B[38;5;28;01mraise\u001B[39;00m e\n\u001B[1;32m    313\u001B[0m run_manager\u001B[38;5;241m.\u001B[39mon_chain_end(outputs)\n\u001B[1;32m    314\u001B[0m final_outputs: Dict[\u001B[38;5;28mstr\u001B[39m, Any] \u001B[38;5;241m=\u001B[39m \u001B[38;5;28mself\u001B[39m\u001B[38;5;241m.\u001B[39mprep_outputs(\n\u001B[1;32m    315\u001B[0m     inputs, outputs, return_only_outputs\n\u001B[1;32m    316\u001B[0m )\n",
      "File \u001B[0;32m~/anaconda3/lib/python3.11/site-packages/langchain/chains/base.py:306\u001B[0m, in \u001B[0;36mChain.__call__\u001B[0;34m(self, inputs, return_only_outputs, callbacks, tags, metadata, run_name, include_run_info)\u001B[0m\n\u001B[1;32m    299\u001B[0m run_manager \u001B[38;5;241m=\u001B[39m callback_manager\u001B[38;5;241m.\u001B[39mon_chain_start(\n\u001B[1;32m    300\u001B[0m     dumpd(\u001B[38;5;28mself\u001B[39m),\n\u001B[1;32m    301\u001B[0m     inputs,\n\u001B[1;32m    302\u001B[0m     name\u001B[38;5;241m=\u001B[39mrun_name,\n\u001B[1;32m    303\u001B[0m )\n\u001B[1;32m    304\u001B[0m \u001B[38;5;28;01mtry\u001B[39;00m:\n\u001B[1;32m    305\u001B[0m     outputs \u001B[38;5;241m=\u001B[39m (\n\u001B[0;32m--> 306\u001B[0m         \u001B[38;5;28mself\u001B[39m\u001B[38;5;241m.\u001B[39m_call(inputs, run_manager\u001B[38;5;241m=\u001B[39mrun_manager)\n\u001B[1;32m    307\u001B[0m         \u001B[38;5;28;01mif\u001B[39;00m new_arg_supported\n\u001B[1;32m    308\u001B[0m         \u001B[38;5;28;01melse\u001B[39;00m \u001B[38;5;28mself\u001B[39m\u001B[38;5;241m.\u001B[39m_call(inputs)\n\u001B[1;32m    309\u001B[0m     )\n\u001B[1;32m    310\u001B[0m \u001B[38;5;28;01mexcept\u001B[39;00m \u001B[38;5;167;01mBaseException\u001B[39;00m \u001B[38;5;28;01mas\u001B[39;00m e:\n\u001B[1;32m    311\u001B[0m     run_manager\u001B[38;5;241m.\u001B[39mon_chain_error(e)\n",
      "File \u001B[0;32m~/anaconda3/lib/python3.11/site-packages/langchain/chains/combine_documents/base.py:119\u001B[0m, in \u001B[0;36mBaseCombineDocumentsChain._call\u001B[0;34m(self, inputs, run_manager)\u001B[0m\n\u001B[1;32m    117\u001B[0m \u001B[38;5;66;03m# Other keys are assumed to be needed for LLM prediction\u001B[39;00m\n\u001B[1;32m    118\u001B[0m other_keys \u001B[38;5;241m=\u001B[39m {k: v \u001B[38;5;28;01mfor\u001B[39;00m k, v \u001B[38;5;129;01min\u001B[39;00m inputs\u001B[38;5;241m.\u001B[39mitems() \u001B[38;5;28;01mif\u001B[39;00m k \u001B[38;5;241m!=\u001B[39m \u001B[38;5;28mself\u001B[39m\u001B[38;5;241m.\u001B[39minput_key}\n\u001B[0;32m--> 119\u001B[0m output, extra_return_dict \u001B[38;5;241m=\u001B[39m \u001B[38;5;28mself\u001B[39m\u001B[38;5;241m.\u001B[39mcombine_docs(\n\u001B[1;32m    120\u001B[0m     docs, callbacks\u001B[38;5;241m=\u001B[39m_run_manager\u001B[38;5;241m.\u001B[39mget_child(), \u001B[38;5;241m*\u001B[39m\u001B[38;5;241m*\u001B[39mother_keys\n\u001B[1;32m    121\u001B[0m )\n\u001B[1;32m    122\u001B[0m extra_return_dict[\u001B[38;5;28mself\u001B[39m\u001B[38;5;241m.\u001B[39moutput_key] \u001B[38;5;241m=\u001B[39m output\n\u001B[1;32m    123\u001B[0m \u001B[38;5;28;01mreturn\u001B[39;00m extra_return_dict\n",
      "File \u001B[0;32m~/anaconda3/lib/python3.11/site-packages/langchain/chains/combine_documents/stuff.py:171\u001B[0m, in \u001B[0;36mStuffDocumentsChain.combine_docs\u001B[0;34m(self, docs, callbacks, **kwargs)\u001B[0m\n\u001B[1;32m    169\u001B[0m inputs \u001B[38;5;241m=\u001B[39m \u001B[38;5;28mself\u001B[39m\u001B[38;5;241m.\u001B[39m_get_inputs(docs, \u001B[38;5;241m*\u001B[39m\u001B[38;5;241m*\u001B[39mkwargs)\n\u001B[1;32m    170\u001B[0m \u001B[38;5;66;03m# Call predict on the LLM.\u001B[39;00m\n\u001B[0;32m--> 171\u001B[0m \u001B[38;5;28;01mreturn\u001B[39;00m \u001B[38;5;28mself\u001B[39m\u001B[38;5;241m.\u001B[39mllm_chain\u001B[38;5;241m.\u001B[39mpredict(callbacks\u001B[38;5;241m=\u001B[39mcallbacks, \u001B[38;5;241m*\u001B[39m\u001B[38;5;241m*\u001B[39minputs), {}\n",
      "File \u001B[0;32m~/anaconda3/lib/python3.11/site-packages/langchain/chains/llm.py:257\u001B[0m, in \u001B[0;36mLLMChain.predict\u001B[0;34m(self, callbacks, **kwargs)\u001B[0m\n\u001B[1;32m    242\u001B[0m \u001B[38;5;28;01mdef\u001B[39;00m \u001B[38;5;21mpredict\u001B[39m(\u001B[38;5;28mself\u001B[39m, callbacks: Callbacks \u001B[38;5;241m=\u001B[39m \u001B[38;5;28;01mNone\u001B[39;00m, \u001B[38;5;241m*\u001B[39m\u001B[38;5;241m*\u001B[39mkwargs: Any) \u001B[38;5;241m-\u001B[39m\u001B[38;5;241m>\u001B[39m \u001B[38;5;28mstr\u001B[39m:\n\u001B[1;32m    243\u001B[0m \u001B[38;5;250m    \u001B[39m\u001B[38;5;124;03m\"\"\"Format prompt with kwargs and pass to LLM.\u001B[39;00m\n\u001B[1;32m    244\u001B[0m \n\u001B[1;32m    245\u001B[0m \u001B[38;5;124;03m    Args:\u001B[39;00m\n\u001B[0;32m   (...)\u001B[0m\n\u001B[1;32m    255\u001B[0m \u001B[38;5;124;03m            completion = llm.predict(adjective=\"funny\")\u001B[39;00m\n\u001B[1;32m    256\u001B[0m \u001B[38;5;124;03m    \"\"\"\u001B[39;00m\n\u001B[0;32m--> 257\u001B[0m     \u001B[38;5;28;01mreturn\u001B[39;00m \u001B[38;5;28mself\u001B[39m(kwargs, callbacks\u001B[38;5;241m=\u001B[39mcallbacks)[\u001B[38;5;28mself\u001B[39m\u001B[38;5;241m.\u001B[39moutput_key]\n",
      "File \u001B[0;32m~/anaconda3/lib/python3.11/site-packages/langchain/chains/base.py:312\u001B[0m, in \u001B[0;36mChain.__call__\u001B[0;34m(self, inputs, return_only_outputs, callbacks, tags, metadata, run_name, include_run_info)\u001B[0m\n\u001B[1;32m    310\u001B[0m \u001B[38;5;28;01mexcept\u001B[39;00m \u001B[38;5;167;01mBaseException\u001B[39;00m \u001B[38;5;28;01mas\u001B[39;00m e:\n\u001B[1;32m    311\u001B[0m     run_manager\u001B[38;5;241m.\u001B[39mon_chain_error(e)\n\u001B[0;32m--> 312\u001B[0m     \u001B[38;5;28;01mraise\u001B[39;00m e\n\u001B[1;32m    313\u001B[0m run_manager\u001B[38;5;241m.\u001B[39mon_chain_end(outputs)\n\u001B[1;32m    314\u001B[0m final_outputs: Dict[\u001B[38;5;28mstr\u001B[39m, Any] \u001B[38;5;241m=\u001B[39m \u001B[38;5;28mself\u001B[39m\u001B[38;5;241m.\u001B[39mprep_outputs(\n\u001B[1;32m    315\u001B[0m     inputs, outputs, return_only_outputs\n\u001B[1;32m    316\u001B[0m )\n",
      "File \u001B[0;32m~/anaconda3/lib/python3.11/site-packages/langchain/chains/base.py:306\u001B[0m, in \u001B[0;36mChain.__call__\u001B[0;34m(self, inputs, return_only_outputs, callbacks, tags, metadata, run_name, include_run_info)\u001B[0m\n\u001B[1;32m    299\u001B[0m run_manager \u001B[38;5;241m=\u001B[39m callback_manager\u001B[38;5;241m.\u001B[39mon_chain_start(\n\u001B[1;32m    300\u001B[0m     dumpd(\u001B[38;5;28mself\u001B[39m),\n\u001B[1;32m    301\u001B[0m     inputs,\n\u001B[1;32m    302\u001B[0m     name\u001B[38;5;241m=\u001B[39mrun_name,\n\u001B[1;32m    303\u001B[0m )\n\u001B[1;32m    304\u001B[0m \u001B[38;5;28;01mtry\u001B[39;00m:\n\u001B[1;32m    305\u001B[0m     outputs \u001B[38;5;241m=\u001B[39m (\n\u001B[0;32m--> 306\u001B[0m         \u001B[38;5;28mself\u001B[39m\u001B[38;5;241m.\u001B[39m_call(inputs, run_manager\u001B[38;5;241m=\u001B[39mrun_manager)\n\u001B[1;32m    307\u001B[0m         \u001B[38;5;28;01mif\u001B[39;00m new_arg_supported\n\u001B[1;32m    308\u001B[0m         \u001B[38;5;28;01melse\u001B[39;00m \u001B[38;5;28mself\u001B[39m\u001B[38;5;241m.\u001B[39m_call(inputs)\n\u001B[1;32m    309\u001B[0m     )\n\u001B[1;32m    310\u001B[0m \u001B[38;5;28;01mexcept\u001B[39;00m \u001B[38;5;167;01mBaseException\u001B[39;00m \u001B[38;5;28;01mas\u001B[39;00m e:\n\u001B[1;32m    311\u001B[0m     run_manager\u001B[38;5;241m.\u001B[39mon_chain_error(e)\n",
      "File \u001B[0;32m~/anaconda3/lib/python3.11/site-packages/langchain/chains/llm.py:94\u001B[0m, in \u001B[0;36mLLMChain._call\u001B[0;34m(self, inputs, run_manager)\u001B[0m\n\u001B[1;32m     88\u001B[0m \u001B[38;5;28;01mdef\u001B[39;00m \u001B[38;5;21m_call\u001B[39m(\n\u001B[1;32m     89\u001B[0m     \u001B[38;5;28mself\u001B[39m,\n\u001B[1;32m     90\u001B[0m     inputs: Dict[\u001B[38;5;28mstr\u001B[39m, Any],\n\u001B[1;32m     91\u001B[0m     run_manager: Optional[CallbackManagerForChainRun] \u001B[38;5;241m=\u001B[39m \u001B[38;5;28;01mNone\u001B[39;00m,\n\u001B[1;32m     92\u001B[0m ) \u001B[38;5;241m-\u001B[39m\u001B[38;5;241m>\u001B[39m Dict[\u001B[38;5;28mstr\u001B[39m, \u001B[38;5;28mstr\u001B[39m]:\n\u001B[1;32m     93\u001B[0m     response \u001B[38;5;241m=\u001B[39m \u001B[38;5;28mself\u001B[39m\u001B[38;5;241m.\u001B[39mgenerate([inputs], run_manager\u001B[38;5;241m=\u001B[39mrun_manager)\n\u001B[0;32m---> 94\u001B[0m     \u001B[38;5;28;01mreturn\u001B[39;00m \u001B[38;5;28mself\u001B[39m\u001B[38;5;241m.\u001B[39mcreate_outputs(response)[\u001B[38;5;241m0\u001B[39m]\n",
      "File \u001B[0;32m~/anaconda3/lib/python3.11/site-packages/langchain/chains/llm.py:222\u001B[0m, in \u001B[0;36mLLMChain.create_outputs\u001B[0;34m(self, llm_result)\u001B[0m\n\u001B[1;32m    220\u001B[0m \u001B[38;5;28;01mdef\u001B[39;00m \u001B[38;5;21mcreate_outputs\u001B[39m(\u001B[38;5;28mself\u001B[39m, llm_result: LLMResult) \u001B[38;5;241m-\u001B[39m\u001B[38;5;241m>\u001B[39m List[Dict[\u001B[38;5;28mstr\u001B[39m, Any]]:\n\u001B[1;32m    221\u001B[0m \u001B[38;5;250m    \u001B[39m\u001B[38;5;124;03m\"\"\"Create outputs from response.\"\"\"\u001B[39;00m\n\u001B[0;32m--> 222\u001B[0m     result \u001B[38;5;241m=\u001B[39m [\n\u001B[1;32m    223\u001B[0m         \u001B[38;5;66;03m# Get the text of the top generated string.\u001B[39;00m\n\u001B[1;32m    224\u001B[0m         {\n\u001B[1;32m    225\u001B[0m             \u001B[38;5;28mself\u001B[39m\u001B[38;5;241m.\u001B[39moutput_key: \u001B[38;5;28mself\u001B[39m\u001B[38;5;241m.\u001B[39moutput_parser\u001B[38;5;241m.\u001B[39mparse_result(generation),\n\u001B[1;32m    226\u001B[0m             \u001B[38;5;124m\"\u001B[39m\u001B[38;5;124mfull_generation\u001B[39m\u001B[38;5;124m\"\u001B[39m: generation,\n\u001B[1;32m    227\u001B[0m         }\n\u001B[1;32m    228\u001B[0m         \u001B[38;5;28;01mfor\u001B[39;00m generation \u001B[38;5;129;01min\u001B[39;00m llm_result\u001B[38;5;241m.\u001B[39mgenerations\n\u001B[1;32m    229\u001B[0m     ]\n\u001B[1;32m    230\u001B[0m     \u001B[38;5;28;01mif\u001B[39;00m \u001B[38;5;28mself\u001B[39m\u001B[38;5;241m.\u001B[39mreturn_final_only:\n\u001B[1;32m    231\u001B[0m         result \u001B[38;5;241m=\u001B[39m [{\u001B[38;5;28mself\u001B[39m\u001B[38;5;241m.\u001B[39moutput_key: r[\u001B[38;5;28mself\u001B[39m\u001B[38;5;241m.\u001B[39moutput_key]} \u001B[38;5;28;01mfor\u001B[39;00m r \u001B[38;5;129;01min\u001B[39;00m result]\n",
      "File \u001B[0;32m~/anaconda3/lib/python3.11/site-packages/langchain/chains/llm.py:225\u001B[0m, in \u001B[0;36m<listcomp>\u001B[0;34m(.0)\u001B[0m\n\u001B[1;32m    220\u001B[0m \u001B[38;5;28;01mdef\u001B[39;00m \u001B[38;5;21mcreate_outputs\u001B[39m(\u001B[38;5;28mself\u001B[39m, llm_result: LLMResult) \u001B[38;5;241m-\u001B[39m\u001B[38;5;241m>\u001B[39m List[Dict[\u001B[38;5;28mstr\u001B[39m, Any]]:\n\u001B[1;32m    221\u001B[0m \u001B[38;5;250m    \u001B[39m\u001B[38;5;124;03m\"\"\"Create outputs from response.\"\"\"\u001B[39;00m\n\u001B[1;32m    222\u001B[0m     result \u001B[38;5;241m=\u001B[39m [\n\u001B[1;32m    223\u001B[0m         \u001B[38;5;66;03m# Get the text of the top generated string.\u001B[39;00m\n\u001B[1;32m    224\u001B[0m         {\n\u001B[0;32m--> 225\u001B[0m             \u001B[38;5;28mself\u001B[39m\u001B[38;5;241m.\u001B[39moutput_key: \u001B[38;5;28mself\u001B[39m\u001B[38;5;241m.\u001B[39moutput_parser\u001B[38;5;241m.\u001B[39mparse_result(generation),\n\u001B[1;32m    226\u001B[0m             \u001B[38;5;124m\"\u001B[39m\u001B[38;5;124mfull_generation\u001B[39m\u001B[38;5;124m\"\u001B[39m: generation,\n\u001B[1;32m    227\u001B[0m         }\n\u001B[1;32m    228\u001B[0m         \u001B[38;5;28;01mfor\u001B[39;00m generation \u001B[38;5;129;01min\u001B[39;00m llm_result\u001B[38;5;241m.\u001B[39mgenerations\n\u001B[1;32m    229\u001B[0m     ]\n\u001B[1;32m    230\u001B[0m     \u001B[38;5;28;01mif\u001B[39;00m \u001B[38;5;28mself\u001B[39m\u001B[38;5;241m.\u001B[39mreturn_final_only:\n\u001B[1;32m    231\u001B[0m         result \u001B[38;5;241m=\u001B[39m [{\u001B[38;5;28mself\u001B[39m\u001B[38;5;241m.\u001B[39moutput_key: r[\u001B[38;5;28mself\u001B[39m\u001B[38;5;241m.\u001B[39moutput_key]} \u001B[38;5;28;01mfor\u001B[39;00m r \u001B[38;5;129;01min\u001B[39;00m result]\n",
      "File \u001B[0;32m~/anaconda3/lib/python3.11/site-packages/langchain/output_parsers/openai_functions.py:156\u001B[0m, in \u001B[0;36mPydanticOutputFunctionsParser.parse_result\u001B[0;34m(self, result, partial)\u001B[0m\n\u001B[1;32m    154\u001B[0m _result \u001B[38;5;241m=\u001B[39m \u001B[38;5;28msuper\u001B[39m()\u001B[38;5;241m.\u001B[39mparse_result(result)\n\u001B[1;32m    155\u001B[0m \u001B[38;5;28;01mif\u001B[39;00m \u001B[38;5;28mself\u001B[39m\u001B[38;5;241m.\u001B[39margs_only:\n\u001B[0;32m--> 156\u001B[0m     pydantic_args \u001B[38;5;241m=\u001B[39m \u001B[38;5;28mself\u001B[39m\u001B[38;5;241m.\u001B[39mpydantic_schema\u001B[38;5;241m.\u001B[39mparse_raw(_result)  \u001B[38;5;66;03m# type: ignore\u001B[39;00m\n\u001B[1;32m    157\u001B[0m \u001B[38;5;28;01melse\u001B[39;00m:\n\u001B[1;32m    158\u001B[0m     fn_name \u001B[38;5;241m=\u001B[39m _result[\u001B[38;5;124m\"\u001B[39m\u001B[38;5;124mname\u001B[39m\u001B[38;5;124m\"\u001B[39m]\n",
      "File \u001B[0;32m~/anaconda3/lib/python3.11/site-packages/pydantic/main.py:548\u001B[0m, in \u001B[0;36mpydantic.main.BaseModel.parse_raw\u001B[0;34m()\u001B[0m\n",
      "\u001B[0;31mValidationError\u001B[0m: 1 validation error for AnswerWithSources\n__root__\n  Invalid control character at: line 2 column 195 (char 196) (type=value_error.jsondecode; msg=Invalid control character at; doc={\n  \"answer\": \"The policy section '#9. Additional Notice for California Residents' is generally compliant with the new law. However, there are a few areas where it falls short of full compliance. \n\n1. The policy does not specify two or more designated methods for submitting requests for information or deletion. The law requires at least two methods, including a toll-free telephone number, unless the business operates exclusively online and has a direct relationship with the consumer. In this case, an email address is sufficient. The policy only mentions an email address for submitting requests.\n\n2. The policy does not explicitly state that the business will disclose and deliver the required information, correct inaccurate personal information, or delete a consumer’s personal information within 45 days of receiving a verifiable consumer request. Although the policy mentions a 30-day response time, which is within the legal limit, it does not explicitly state that the business will take the necessary actions within this time frame.\n\n3. The policy does not mention the possibility of extending the 45-day period by an additional 45 days when reasonably necessary, as required by the law.\n\n4. The policy does not explicitly state that the business will not require the consumer to create an account in order to make a verifiable consumer request.\n\n5. The policy does not mention the requirement to disclose the required information for the 12-month period preceding the business’ receipt of the verifiable consumer request, or the possibility of a consumer requesting information beyond this period under certain conditions.\n\n6. The policy does not mention the requirement for a business that receives a verifiable consumer request to disclose any personal information it has collected about a consumer, directly or indirectly, including through or by a service provider or contractor, to the consumer.\",\n  \"sources\": [\"10-pl\", \"11-pl\", \"54-pl\", \"32-pl\"]\n}; pos=196; lineno=2; colno=195)"
     ]
    }
   ],
   "source": [
    "b = run_section_through_chain(pre_prompt_analysis_only, policy_section, retrieval_qa_basic_pydantic)\n",
    "b\n"
   ],
   "metadata": {
    "collapsed": false,
    "ExecuteTime": {
     "end_time": "2023-10-06T21:26:25.117838Z",
     "start_time": "2023-10-06T21:25:58.898422Z"
    }
   }
  },
  {
   "cell_type": "code",
   "execution_count": 168,
   "outputs": [
    {
     "data": {
      "text/plain": "AnswerWithSources(answer=\"The policy is compliant with the new law. It covers all the necessary points as required by the law, including the right to request information, the right to request deletion, the process for making a verifiable consumer request, and the company's response timing and format. The policy also specifies that it will not discriminate against consumers for exercising their rights, which is in line with the law.\", sources=['10-pl', '11-pl', '32-pl', '33-pl'])"
     },
     "execution_count": 168,
     "metadata": {},
     "output_type": "execute_result"
    }
   ],
   "source": [
    "b"
   ],
   "metadata": {
    "collapsed": false,
    "ExecuteTime": {
     "end_time": "2023-10-06T21:27:15.815784Z",
     "start_time": "2023-10-06T21:27:15.808764Z"
    }
   }
  },
  {
   "cell_type": "code",
   "execution_count": 166,
   "outputs": [
    {
     "data": {
      "text/plain": "\"The policy is compliant with the new law. It covers all the necessary points as required by the law, including the right to request information, the right to request deletion, the process for making a verifiable consumer request, and the company's response timing and format. The policy also specifies that it will not discriminate against consumers for exercising their rights, which is in line with the law.\""
     },
     "execution_count": 166,
     "metadata": {},
     "output_type": "execute_result"
    }
   ],
   "source": [
    "b.answer"
   ],
   "metadata": {
    "collapsed": false,
    "ExecuteTime": {
     "end_time": "2023-10-06T21:26:58.361567Z",
     "start_time": "2023-10-06T21:26:58.355313Z"
    }
   }
  },
  {
   "cell_type": "code",
   "execution_count": 167,
   "outputs": [
    {
     "data": {
      "text/plain": "['10-pl', '11-pl', '32-pl', '33-pl']"
     },
     "execution_count": 167,
     "metadata": {},
     "output_type": "execute_result"
    }
   ],
   "source": [
    "b.sources"
   ],
   "metadata": {
    "collapsed": false,
    "ExecuteTime": {
     "end_time": "2023-10-06T21:27:02.229285Z",
     "start_time": "2023-10-06T21:27:02.223432Z"
    }
   }
  },
  {
   "cell_type": "code",
   "execution_count": 214,
   "outputs": [
    {
     "data": {
      "text/plain": "'# Privacy Policy\\n\\nEffective: July 25, 2023\\n\\nRec Room Inc., a Delaware corporation (\"Company\", \"we\", \"our\", and their derivatives) provides the websites, [http://www.recroom.com](http://www.recroom.com/), [http://www.rec.net](http://www.rec.net/), and the subdomains of each of the foregoing (collectively, the \"Website\") and the Rec Room® video game (the \"Game\" and, with the Website, the \"Services\").\\n\\nThis Policy sets forth how we collect, use, protect, store, and otherwise process your Personal Information (defined below). This Policy does NOT apply to information we collect offline or you provide to or is collected by any third party (except as otherwise provided below).\\n\\nFor our practices regarding children, please see the Children\\'s section in Section 2 below.\\n\\n'"
     },
     "execution_count": 214,
     "metadata": {},
     "output_type": "execute_result"
    }
   ],
   "source": [
    "# get recroom policy splits\n",
    "RecRoom_policy_splits = split_md_sections(\"data/RecRoom_complete.md\")\n",
    "print(len(RecRoom_policy_splits))\n",
    "# escape problematic markdown characters\n",
    "# RecRoom_policy_splits = [escape_markdown(x) for x in RecRoom_policy_splits]\n",
    "# RecRoom_policy_splits = RecRoom_policy_splits[9:11]\n",
    "print(RecRoom_policy_splits[0])"
   ],
   "metadata": {
    "collapsed": false,
    "ExecuteTime": {
     "end_time": "2023-10-06T23:19:33.938558Z",
     "start_time": "2023-10-06T23:19:33.919435Z"
    }
   }
  },
  {
   "cell_type": "code",
   "execution_count": 215,
   "outputs": [
    {
     "name": "stdout",
     "output_type": "stream",
     "text": [
      "Processing section 0...\n",
      "Processing section 1...\n",
      "Processing section 2...\n",
      "Processing section 3...\n"
     ]
    },
    {
     "name": "stderr",
     "output_type": "stream",
     "text": [
      "Retrying langchain.chat_models.openai.ChatOpenAI.completion_with_retry.<locals>._completion_with_retry in 4.0 seconds as it raised RateLimitError: Rate limit reached for 10KTPM-200RPM in organization org-rCiGgWNN24FEc7FbvDSLKfAT on tokens per min. Limit: 10000 / min. Please try again in 6ms. Contact us through our help center at help.openai.com if you continue to have issues..\n"
     ]
    },
    {
     "name": "stdout",
     "output_type": "stream",
     "text": [
      "Processing section 4...\n"
     ]
    },
    {
     "name": "stderr",
     "output_type": "stream",
     "text": [
      "Retrying langchain.chat_models.openai.ChatOpenAI.completion_with_retry.<locals>._completion_with_retry in 4.0 seconds as it raised RateLimitError: Rate limit reached for 10KTPM-200RPM in organization org-rCiGgWNN24FEc7FbvDSLKfAT on tokens per min. Limit: 10000 / min. Please try again in 6ms. Contact us through our help center at help.openai.com if you continue to have issues..\n",
      "Retrying langchain.chat_models.openai.ChatOpenAI.completion_with_retry.<locals>._completion_with_retry in 4.0 seconds as it raised RateLimitError: Rate limit reached for 10KTPM-200RPM in organization org-rCiGgWNN24FEc7FbvDSLKfAT on tokens per min. Limit: 10000 / min. Please try again in 6ms. Contact us through our help center at help.openai.com if you continue to have issues..\n"
     ]
    },
    {
     "name": "stdout",
     "output_type": "stream",
     "text": [
      "Processing section 5...\n"
     ]
    },
    {
     "name": "stderr",
     "output_type": "stream",
     "text": [
      "Retrying langchain.chat_models.openai.ChatOpenAI.completion_with_retry.<locals>._completion_with_retry in 4.0 seconds as it raised RateLimitError: Rate limit reached for 10KTPM-200RPM in organization org-rCiGgWNN24FEc7FbvDSLKfAT on tokens per min. Limit: 10000 / min. Please try again in 6ms. Contact us through our help center at help.openai.com if you continue to have issues..\n",
      "Retrying langchain.chat_models.openai.ChatOpenAI.completion_with_retry.<locals>._completion_with_retry in 4.0 seconds as it raised RateLimitError: Rate limit reached for 10KTPM-200RPM in organization org-rCiGgWNN24FEc7FbvDSLKfAT on tokens per min. Limit: 10000 / min. Please try again in 6ms. Contact us through our help center at help.openai.com if you continue to have issues..\n"
     ]
    },
    {
     "name": "stdout",
     "output_type": "stream",
     "text": [
      "Processing section 6...\n",
      "Processing section 7...\n"
     ]
    },
    {
     "name": "stderr",
     "output_type": "stream",
     "text": [
      "Retrying langchain.chat_models.openai.ChatOpenAI.completion_with_retry.<locals>._completion_with_retry in 4.0 seconds as it raised RateLimitError: Rate limit reached for 10KTPM-200RPM in organization org-rCiGgWNN24FEc7FbvDSLKfAT on tokens per min. Limit: 10000 / min. Please try again in 6ms. Contact us through our help center at help.openai.com if you continue to have issues..\n",
      "Retrying langchain.chat_models.openai.ChatOpenAI.completion_with_retry.<locals>._completion_with_retry in 4.0 seconds as it raised RateLimitError: Rate limit reached for 10KTPM-200RPM in organization org-rCiGgWNN24FEc7FbvDSLKfAT on tokens per min. Limit: 10000 / min. Please try again in 6ms. Contact us through our help center at help.openai.com if you continue to have issues..\n",
      "Retrying langchain.chat_models.openai.ChatOpenAI.completion_with_retry.<locals>._completion_with_retry in 4.0 seconds as it raised RateLimitError: Rate limit reached for 10KTPM-200RPM in organization org-rCiGgWNN24FEc7FbvDSLKfAT on tokens per min. Limit: 10000 / min. Please try again in 6ms. Contact us through our help center at help.openai.com if you continue to have issues..\n"
     ]
    },
    {
     "name": "stdout",
     "output_type": "stream",
     "text": [
      "Processing section 8...\n"
     ]
    },
    {
     "name": "stderr",
     "output_type": "stream",
     "text": [
      "Retrying langchain.chat_models.openai.ChatOpenAI.completion_with_retry.<locals>._completion_with_retry in 4.0 seconds as it raised RateLimitError: Rate limit reached for 10KTPM-200RPM in organization org-rCiGgWNN24FEc7FbvDSLKfAT on tokens per min. Limit: 10000 / min. Please try again in 6ms. Contact us through our help center at help.openai.com if you continue to have issues..\n",
      "Retrying langchain.chat_models.openai.ChatOpenAI.completion_with_retry.<locals>._completion_with_retry in 4.0 seconds as it raised RateLimitError: Rate limit reached for 10KTPM-200RPM in organization org-rCiGgWNN24FEc7FbvDSLKfAT on tokens per min. Limit: 10000 / min. Please try again in 6ms. Contact us through our help center at help.openai.com if you continue to have issues..\n"
     ]
    },
    {
     "name": "stdout",
     "output_type": "stream",
     "text": [
      "Processing section 9...\n"
     ]
    },
    {
     "name": "stderr",
     "output_type": "stream",
     "text": [
      "Retrying langchain.chat_models.openai.ChatOpenAI.completion_with_retry.<locals>._completion_with_retry in 4.0 seconds as it raised RateLimitError: Rate limit reached for 10KTPM-200RPM in organization org-rCiGgWNN24FEc7FbvDSLKfAT on tokens per min. Limit: 10000 / min. Please try again in 6ms. Contact us through our help center at help.openai.com if you continue to have issues..\n",
      "Retrying langchain.chat_models.openai.ChatOpenAI.completion_with_retry.<locals>._completion_with_retry in 4.0 seconds as it raised RateLimitError: Rate limit reached for 10KTPM-200RPM in organization org-rCiGgWNN24FEc7FbvDSLKfAT on tokens per min. Limit: 10000 / min. Please try again in 6ms. Contact us through our help center at help.openai.com if you continue to have issues..\n",
      "Retrying langchain.chat_models.openai.ChatOpenAI.completion_with_retry.<locals>._completion_with_retry in 4.0 seconds as it raised RateLimitError: Rate limit reached for 10KTPM-200RPM in organization org-rCiGgWNN24FEc7FbvDSLKfAT on tokens per min. Limit: 10000 / min. Please try again in 6ms. Contact us through our help center at help.openai.com if you continue to have issues..\n"
     ]
    },
    {
     "name": "stdout",
     "output_type": "stream",
     "text": [
      "Processing section 10...\n"
     ]
    },
    {
     "name": "stderr",
     "output_type": "stream",
     "text": [
      "Retrying langchain.chat_models.openai.ChatOpenAI.completion_with_retry.<locals>._completion_with_retry in 4.0 seconds as it raised RateLimitError: Rate limit reached for 10KTPM-200RPM in organization org-rCiGgWNN24FEc7FbvDSLKfAT on tokens per min. Limit: 10000 / min. Please try again in 6ms. Contact us through our help center at help.openai.com if you continue to have issues..\n",
      "Retrying langchain.chat_models.openai.ChatOpenAI.completion_with_retry.<locals>._completion_with_retry in 4.0 seconds as it raised RateLimitError: Rate limit reached for 10KTPM-200RPM in organization org-rCiGgWNN24FEc7FbvDSLKfAT on tokens per min. Limit: 10000 / min. Please try again in 6ms. Contact us through our help center at help.openai.com if you continue to have issues..\n",
      "Retrying langchain.chat_models.openai.ChatOpenAI.completion_with_retry.<locals>._completion_with_retry in 4.0 seconds as it raised RateLimitError: Rate limit reached for 10KTPM-200RPM in organization org-rCiGgWNN24FEc7FbvDSLKfAT on tokens per min. Limit: 10000 / min. Please try again in 6ms. Contact us through our help center at help.openai.com if you continue to have issues..\n",
      "Retrying langchain.chat_models.openai.ChatOpenAI.completion_with_retry.<locals>._completion_with_retry in 8.0 seconds as it raised RateLimitError: Rate limit reached for 10KTPM-200RPM in organization org-rCiGgWNN24FEc7FbvDSLKfAT on tokens per min. Limit: 10000 / min. Please try again in 6ms. Contact us through our help center at help.openai.com if you continue to have issues..\n"
     ]
    },
    {
     "name": "stdout",
     "output_type": "stream",
     "text": [
      "Processing section 11...\n"
     ]
    }
   ],
   "source": [
    "# Loop over the splits\n",
    "import time\n",
    "all_answers_list = []\n",
    "\n",
    "for i, policy_section in enumerate(RecRoom_policy_splits):\n",
    "    print(f\"Processing chunk {i}...\")\n",
    "    output = run_section_through_chain(pre_prompt_analysis_only, policy_section, retrieval_qa_basic)\n",
    "    answer = output\n",
    "    # append to all_answers\n",
    "    all_answers_list.append(answer)\n",
    "    # pause to avoid hitting the TPM limit. I've got the limit of 10KTPM-200RPM\n",
    "    time.sleep(10)\n",
    "\n",
    "\n",
    "# save the list to the disk\n",
    "with open(\"data/all_answers_list.pkl\", \"wb\") as f:\n",
    "    pickle.dump(all_answers_list, f)\n"
   ],
   "metadata": {
    "collapsed": false,
    "ExecuteTime": {
     "end_time": "2023-10-06T23:24:21.541829Z",
     "start_time": "2023-10-06T23:19:37.729241Z"
    }
   }
  },
  {
   "cell_type": "code",
   "execution_count": 216,
   "outputs": [
    {
     "name": "stdout",
     "output_type": "stream",
     "text": [
      "__Assessment of chunk 0__\n",
      "{\n",
      "  \"answer\": \"The provided policy section does not comply with the new law. The violation is significant as it lacks several key elements required by the California Consumer Privacy Act of 2018. Here are the main issues, prioritized by importance:\n",
      "\n",
      "1. The policy does not specify two or more designated methods for consumers to submit requests for information disclosure, deletion, or correction (Section 1798.130 (a)(1)).\n",
      "2. The policy does not mention any measures to protect the fundamental privacy rights of natural persons with respect to the use of their personal information (Section 1798.185 (c)).\n",
      "3. The policy does not provide guidance to consumers regarding their rights under this title (Section 1798.185 (e)).\n",
      "4. The policy does not establish a mechanism for persons doing business in California to voluntarily certify that they are in compliance with this title (Section 1798.185 (j)).\n",
      "5. The policy does not mention any measures to promote public awareness and understanding of the risks, rules, responsibilities, safeguards, and rights in relation to the collection, use, sale, and disclosure of personal information (Section 1798.185 (d)).\n",
      "\n",
      "Policy Section Assessed: # Privacy Policy\",\n",
      "  \"sources\": [\"63-pl\", \"10-pl\", \"54-pl\", \"55-pl\", \"53-pl\"]\n",
      "}\n",
      "\n",
      "__Assessment of chunk 1__\n",
      "{\n",
      "  \"answer\": \"The policy section is not fully compliant with the new law. Here are the issues prioritized from most to least important:\\n\\n1. The policy does not specify the length of time the business intends to retain each category of personal information, as required by Section 1798.100 (3) of the California Consumer Privacy Act of 2018.\\n\\n2. The policy does not provide a mechanism for consumers to delete their personal information, as required by Section 1798.105 of the California Consumer Privacy Act of 2018.\\n\\n3. The policy does not provide a mechanism for consumers to correct inaccurate personal information, as required by Section 1798.106 of the California Consumer Privacy Act of 2018.\\n\\n4. The policy does not specify the purposes for which the categories of personal information are collected or used, as required by Section 1798.100 (1) and (2) of the California Consumer Privacy Act of 2018.\\n\\n5. The policy does not specify whether the collected personal information is sold or shared, as required by Section 1798.100 (1) and (2) of the California Consumer Privacy Act of 2018.\",\n",
      "  \"sources\": [\"33-pl\", \"39-pl\", \"55-pl\", \"63-pl\", \"0-pl\"]\n",
      "}\n",
      "\n",
      "__Assessment of chunk 2__\n",
      "{\n",
      "  \"answer\": \"The policy section #2 'Children Under the Age of 13' is not fully compliant with the new law. The violations are not severe but need to be addressed to ensure full compliance. Here are the issues prioritized:\n",
      "\n",
      "1. The policy does not explicitly mention the 12-month waiting period before requesting the consumer’s consent again for consumers under 16 years of age as required by the law (Source: 17-pl).\n",
      "2. The policy does not clearly state that the personal information collected from the consumer in connection with the submission of the consumer’s opt-out request will be used solely for the purposes of complying with the opt-out request (Source: 17-pl).\n",
      "3. The policy does not provide a clear mechanism for consumers to delete their personal information. Although it mentions that parents may request us to delete their Child's account and/or refuse to permit us from further collecting or using the Child's Personal Information, it does not clearly state how this process works (Source: 24-pl).\",\n",
      "  \"sources\": [\"17-pl\", \"24-pl\"]\n",
      "}\n",
      "\n",
      "__Assessment of chunk 3__\n",
      "{\n",
      "  \"answer\": \"The policy section #3 'From what sources does the Company collect Personal Information?' is not fully compliant with the new law. The violations are not severe but need to be addressed to ensure full compliance. Here are the issues prioritized by importance:\n",
      "\n",
      "1. The policy does not specify a mechanism for consumers to delete their personal information as required by the law. This is a significant omission and needs to be addressed immediately.\n",
      "2. The policy does not clearly state how the company responds to access requests, including providing meaningful information about the logic involved in decision-making processes, as required by the law.\n",
      "3. The policy does not mention any cybersecurity audit performed on an annual basis, which is required by the law if the processing of consumers’ personal information presents significant risk to consumers’ privacy or security.\n",
      "4. The policy does not mention any risk assessment submitted to the California Privacy Protection Agency on a regular basis, which is required by the law if the processing of consumers’ personal information presents significant risk to consumers’ privacy or security.\n",
      "5. The policy does not mention any regulations governing access and opt-out rights with respect to the company's use of automated decision-making technology, including profiling, which is required by the law.\n",
      "\n",
      "These issues need to be addressed to ensure the company's policy is fully compliant with the new law.\",\n",
      "  \"sources\": [\"55-pl\", \"63-pl\", \"33-pl\", \"54-pl\", \"12-pl\"]\n",
      "}\n",
      "\n",
      "__Assessment of chunk 4__\n",
      "{\n",
      "  \"answer\": \"The policy section #4 'How does the Company use cookies and other automatic data collection technologies?' is not fully compliant with the new law. Here is the assessment of the violation:\n",
      "\n",
      "1. The policy does not provide a clear opt-out mechanism for the use of cookies. The law requires businesses to define the requirements and technical specifications for an opt-out preference signal sent by a platform, technology, or mechanism, to indicate a consumer’s intent to opt out of the sale or sharing of the consumer’s personal information (Source: 58-pl). Although the policy mentions that users can set their browsers to refuse cookies, it does not provide a clear, company-specific opt-out mechanism.\n",
      "\n",
      "2. The policy does not clearly state how the company responds to an opt-out preference signal. The law requires businesses to ensure that any link to a web page or its supporting content that allows the consumer to consent to opt in is not part of a popup, notice, banner, or other intrusive design that obscures any part of the web page the consumer intended to visit from full view or that interferes with or impedes in any way the consumer’s experience visiting or browsing the web page or website the consumer intended to visit (Source: 58-pl).\n",
      "\n",
      "3. The policy does not provide meaningful information about the logic involved in the decision-making processes related to the use of cookies and other automatic data collection technologies. The law requires businesses to provide such information in response to access requests (Source: 55-pl).\",\n",
      "  \"sources\": [\"55-pl\", \"58-pl\"]\n",
      "}\n",
      "\n",
      "__Assessment of chunk 5__\n",
      "{\n",
      "  \"answer\": \"The policy section #5 'For what purposes does the Company collect Personal Information?' is not fully compliant with the new law. Here are the main issues:\n",
      "\n",
      "1. The policy does not specify a mechanism for consumers to delete their personal information, as required by the law (Source: 3-pl).\n",
      "2. The policy does not mention any measures to ensure security and integrity of the consumer's personal information (Source: 21-pl).\n",
      "3. The policy does not mention any provisions for cooperating with law enforcement agencies in case of conduct or activity that may violate federal, state, or local law (Source: 33-pl).\n",
      "4. The policy does not mention any provisions for cooperating with a government agency request for emergency access to a consumer’s personal information if a natural person is at risk or danger of death or serious physical injury (Source: 33-pl).\n",
      "5. The policy does not mention any provisions for undertaking internal research for technological development and demonstration (Source: 21-pl).\n",
      "6. The policy does not mention any provisions for undertaking activities to verify or maintain the quality or safety of a service or device that is owned, manufactured, manufactured for, or controlled by the business, and to improve, upgrade, or enhance the service or device that is owned, manufactured, manufactured for, or controlled by the business (Source: 21-pl).\n",
      "\n",
      "The violation is significant as the policy lacks several key provisions required by the law.\",\n",
      "  \"sources\": [\"3-pl\", \"21-pl\", \"33-pl\"]\n",
      "}\n",
      "\n",
      "__Assessment of chunk 6__\n",
      "{\n",
      "  \"answer\": \"The policy section #6 does not fully comply with the new law. The violation is significant as it lacks several key elements required by the law. Here are the main issues, prioritized by importance:\\n\\n1. The policy does not specify a mechanism for consumers to delete their personal information as required by Section 1798.105 of the new law.\\n\\n2. The policy does not provide any designated methods for consumers to submit requests for information disclosure, deletion, or correction. This is required by Section 1798.130 of the new law.\\n\\n3. The policy does not mention any measures to protect consumers' personal information from disclosure to an auditor in the absence of a court order, warrant, or subpoena, as required by Section 1798.185 of the new law.\\n\\n4. The policy does not specify any measures to cooperate with law enforcement agencies concerning conduct or activity that the business reasonably and in good faith believes may violate federal, state, or local law, as required by Section 1798.145 of the new law.\\n\\n5. The policy does not mention any measures to cooperate with a government agency request for emergency access to a consumer’s personal information if a natural person is at risk or danger of death or serious physical injury, as required by Section 1798.145 of the new law.\",\n",
      "  \"sources\": [\"33-pl\", \"10-pl\", \"55-pl\"]\n",
      "}\n",
      "\n",
      "__Assessment of chunk 7__\n",
      "{\n",
      "  \"answer\": \"The provided policy section is not fully compliant with the new law. Here are the main issues:\n",
      "\n",
      "1. **Limited retention (Policy 7.1)**: The policy states that the company retains personal information for as long as needed for business and operational needs or to comply with legal obligations. However, the law states that a business can be directed by a law enforcement agency not to delete a consumer's personal information for 90 days or additional 90-day periods for investigatory purposes (Source: 33-pl). The policy does not mention this exception.\n",
      "\n",
      "2. **Security measures (Policy 7.3)**: The policy mentions the use of appropriate security measures but does not specify conducting a cybersecurity audit on an annual basis or submitting a risk assessment to the California Privacy Protection Agency, as required by the law (Source: 55-pl).\n",
      "\n",
      "3. **Notification of a security breach (Policy 7.4)**: The policy states that in the event of a security breach, the company will notify the proper regulatory authorities and any users of the breach no longer than 72 hours after becoming aware of such a breach. However, the law does not specify a 72-hour notification period. The policy should be updated to reflect the actual legal requirements.\n",
      "\n",
      "4. **Deletion of Personal Information (Policy 7 - last paragraph)**: The policy states that the company will delete personal information without undue delay under certain conditions, including when a user requests deletion. However, the law specifies that a business is not required to comply with a consumer's request to delete personal information if it is necessary for the business to maintain the information for certain purposes (Source: 3-pl). The policy does not mention these exceptions.\",\n",
      "  \"sources\": [\"33-pl\", \"55-pl\", \"3-pl\"]\n",
      "}\n",
      "\n",
      "__Assessment of chunk 8__\n",
      "{\n",
      "\"answer\": \"The policy section #8 'Additional Notice for European Union and United Kingdom Residents' is generally compliant with the new law. However, there are a few areas that need to be addressed to ensure full compliance:\n",
      "\n",
      "1. Transfer Mechanisms: The policy mentions the use of 'European Commission approved standard contractual clauses' for transferring personal information out of the EU or UK. However, the new law requires businesses to provide a mechanism for consumers to delete their personal information. The policy should specify how these transfer mechanisms ensure the consumer's ability to delete their personal information (Source: 53-pl).\n",
      "\n",
      "2. Response Time: The policy states that the company will carry out a request for deletion of personal information within 30 days of account verification. While this is within the 45-day response time required by the new law, the law also allows for an extension of an additional 45 days when reasonably necessary. The policy should clarify whether such extensions are possible and under what circumstances (Source: 10-pl).\n",
      "\n",
      "3. Exceptions to Deletion Requests: The policy mentions that the company is not required to delete personal information if it has an overriding legitimate ground for retaining that information, such as to prevent fraud. The new law also allows for exceptions to deletion requests, but it specifies these exceptions in detail, including for law enforcement agency-approved investigations. The policy should align its exceptions with those specified in the new law (Source: 33-pl).\n",
      "\n",
      "4. Cooperation with Law Enforcement: The new law requires businesses to cooperate with law enforcement agencies concerning conduct or activity that the business reasonably and in good faith believes may violate federal, state, or local law. The policy does not mention this requirement (Source: 33-pl).\n",
      "\n",
      "5. Opt-Out Preference Signal: The new law requires businesses to define the requirements and technical specifications for an opt-out preference signal. The policy does not mention this requirement (Source: 55-pl).\",\n",
      "\"sources\": [\"33-pl\", \"10-pl\", \"53-pl\", \"55-pl\"]\n",
      "}\n",
      "\n",
      "__Assessment of chunk 9__\n",
      "{\n",
      "  \"answer\": \"The policy section '#9. Additional Notice for California Residents' is compliant with the new law. It covers all the necessary points as required by the California Consumer Privacy Act of 2018 (CCPA).\",\n",
      "  \"sources\": [\"10-pl\", \"11-pl\", \"32-pl\", \"54-pl\", \"4-pl\"]\n",
      "}\n",
      "\n",
      "__Assessment of chunk 10__\n",
      "{\n",
      "\"answer\": \"The policy section #10 does not fully comply with the new law. Here is the assessment of the violation:\n",
      "\n",
      "1. The policy does not specify the methods for submitting requests for information disclosure, deletion, or correction as required by Section 1798.130(a)(1) of the new law. The policy should provide at least two methods for submitting such requests, including a toll-free telephone number. If the company operates exclusively online and has a direct relationship with a consumer, it should provide an email address for submitting these requests.\n",
      "\n",
      "2. The policy does not mention the requirement to disclose and deliver the required information to a consumer free of charge, correct inaccurate personal information, or delete a consumer’s personal information, based on the consumer’s request, within 45 days of receiving a verifiable consumer request from the consumer as required by Section 1798.130(a)(2) of the new law.\n",
      "\n",
      "3. The policy does not mention the possibility of extending the time period to provide the required information, correct inaccurate personal information, or delete personal information by an additional 45 days when reasonably necessary, provided the consumer is given notice of the extension within the first 45-day period as required by Section 1798.130(a)(2) of the new law.\n",
      "\n",
      "4. The policy does not mention the requirement to provide the disclosure of the required information in writing and delivered through the consumer’s account with the business, if the consumer maintains an account with the business, or by mail or electronically at the consumer’s option as required by Section 1798.130(a)(2) of the new law.\n",
      "\n",
      "5. The policy does not mention the requirement to establish rules and procedures to facilitate a consumer’s or the consumer’s authorized agent’s ability to delete personal information, correct inaccurate personal information, or obtain information as required by Section 1798.130(7) of the new law.\n",
      "\n",
      "6. The policy does not mention the requirement to establish how often, and under what circumstances, a consumer may request a correction as required by Section 1798.130(8) of the new law.\n",
      "\n",
      "The policy section assessed is #10: 'How will the Company notify users of changes to this Policy?'\",\n",
      "\"sources\": [\"10-pl\", \"53-pl\", \"54-pl\", \"58-pl\", \"64-pl\"]\n",
      "}\n",
      "\n",
      "__Assessment of chunk 11__\n",
      "{\n",
      "  \"answer\": \"The policy section #11 does not fully comply with the new law. The violation is significant as it does not meet the requirements of Proposition 24, Section 1798.130. Here are the issues prioritized:\n",
      "\n",
      "1. The policy only provides an email address for consumers to submit requests for information, deletion, or correction. According to Section 1798.130 (a)(1)(A), the company should provide two or more designated methods for submitting such requests, including, at a minimum, a toll-free telephone number. However, if the company operates exclusively online and has a direct relationship with a consumer from whom it collects personal information, providing an email address alone is acceptable. If this is not the case, the company is in violation of this section.\n",
      "2. If the company maintains an internet website, according to Section 1798.130 (a)(1)(B), it should make the website available to consumers to submit requests for information, deletion, or correction. The policy does not mention this.\n",
      "\n",
      "The company needs to revise its policy to include at least one more method for consumers to submit requests (if it does not operate exclusively online) and to make its website available for such requests.\",\n",
      "  \"sources\": [\"10-pl\"]\n",
      "}\n",
      "\n"
     ]
    }
   ],
   "source": [
    "# concatenate the string from the list all_answers_list\n",
    "\n",
    "# load from disk if needed\n",
    "if 0:\n",
    "    with open(\"data/all_answers_list.pkl\", \"rb\") as f:\n",
    "        all_answers_list = pickle.load(f)\n",
    "\n",
    "all_answers = \"\\n\".join([f\"__Assessment of chunk {i}__\\n{answer}\\n\" for i, answer in enumerate(all_answers_list)])\n",
    "\n",
    "print(all_answers)"
   ],
   "metadata": {
    "collapsed": false,
    "ExecuteTime": {
     "end_time": "2023-10-06T23:25:50.771260Z",
     "start_time": "2023-10-06T23:25:50.762076Z"
    }
   }
  },
  {
   "cell_type": "code",
   "execution_count": 200,
   "outputs": [],
   "source": [
    "# create summarization model\n",
    "llm_for_summary = ChatOpenAI(model_name='gpt-4')"
   ],
   "metadata": {
    "collapsed": false,
    "ExecuteTime": {
     "end_time": "2023-10-06T22:56:29.458647Z",
     "start_time": "2023-10-06T22:56:29.453087Z"
    }
   }
  },
  {
   "cell_type": "code",
   "execution_count": 217,
   "outputs": [],
   "source": [
    "# Summarize the sections\n",
    "messages = [\n",
    "    SystemMessage(content=\"ACT as a corporate attorney whose job is to check the compliance of the company's policy with the state's new laws.  \"),\n",
    "    HumanMessage(content=\"Summarize the assessments of different sections of the policy into a single assessment, referencing individual sections of the policy as necessary. Make sure to include the relevant numbers of legal code sections for the human attorney to be able to verify: \\n\" + all_answers)\n",
    "]\n",
    "summary_answer = llm_for_summary(messages)"
   ],
   "metadata": {
    "collapsed": false,
    "ExecuteTime": {
     "end_time": "2023-10-06T23:27:13.342751Z",
     "start_time": "2023-10-06T23:26:44.598931Z"
    }
   }
  },
  {
   "cell_type": "code",
   "execution_count": 218,
   "outputs": [
    {
     "name": "stdout",
     "output_type": "stream",
     "text": [
      "__Assessment of chunk 12__\n",
      "{\n",
      "  \"answer\": \"The policy section #12 'How to Contact Us' is generally compliant with the new law. However, there are a few areas that need to be addressed to ensure full compliance:\n",
      "\n",
      "1. Response Time: The policy states that the company will respond to a consumer's request within 30 days. While this is within the 45-day response time required by the new law, the law also allows for an extension of an additional 45 days when reasonably necessary. The policy should clarify whether such extensions are possible and under what circumstances (Source: 10-pl).\n",
      "\n",
      "2. Contact Options: The policy provides an email address and mailing address for consumers to contact the company. However, the new law requires businesses to provide at least two methods for consumers to submit requests for information, deletion, or correction. This includes, at a minimum, a toll-free telephone number (Source: 10-pl). The policy should include at least one more method for consumers to submit requests.\n",
      "\n",
      "3. Authorized Agents: The new law allows consumers to designate an authorized agent to make a request on their behalf. The policy does not mention this possibility or provide any instructions for consumers who wish to use an authorized agent (Source: 10-pl).\",\n",
      "  \"sources\": [\"10-pl\"]\n",
      "}\n",
      "\n",
      "__Summary of Assessment__\n",
      "\n",
      "The company's policy is not fully compliant with the new law. The main issues are the lack of provisions for consumers to submit requests for information disclosure, deletion, or correction; the absence of measures to protect consumers' personal information; and the failure to specify the length of time the business intends to retain each category of personal information. Some sections of the policy are generally compliant, but they still need to be addressed to ensure full compliance.\n",
      "\n",
      "The company needs to revise its policy to address these issues and ensure full compliance with the state's new laws. It is recommended that the company consult with their attorney to make the necessary changes and prevent any potential legal issues.\n"
     ]
    }
   ],
   "source": [
    "print(summary_answer.content)"
   ],
   "metadata": {
    "collapsed": false,
    "ExecuteTime": {
     "end_time": "2023-10-06T23:27:13.360203Z",
     "start_time": "2023-10-06T23:27:13.349167Z"
    }
   }
  },
  {
   "cell_type": "code",
   "execution_count": null,
   "outputs": [],
   "source": [],
   "metadata": {
    "collapsed": false
   }
  }
 ],
 "metadata": {
  "kernelspec": {
   "display_name": "Python 3",
   "language": "python",
   "name": "python3"
  },
  "language_info": {
   "codemirror_mode": {
    "name": "ipython",
    "version": 2
   },
   "file_extension": ".py",
   "mimetype": "text/x-python",
   "name": "python",
   "nbconvert_exporter": "python",
   "pygments_lexer": "ipython2",
   "version": "2.7.6"
  }
 },
 "nbformat": 4,
 "nbformat_minor": 0
}
