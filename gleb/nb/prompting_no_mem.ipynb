{
 "cells": [
  {
   "cell_type": "code",
   "execution_count": 2,
   "outputs": [
    {
     "name": "stdout",
     "output_type": "stream",
     "text": [
      "Collecting langchain\r\n",
      "  Using cached langchain-0.0.306-py3-none-any.whl (1.8 MB)\r\n",
      "Requirement already satisfied: PyYAML>=5.3 in /Users/gr703z/anaconda3/lib/python3.11/site-packages (from langchain) (6.0)\r\n",
      "Requirement already satisfied: SQLAlchemy<3,>=1.4 in /Users/gr703z/anaconda3/lib/python3.11/site-packages (from langchain) (1.4.39)\r\n",
      "Requirement already satisfied: aiohttp<4.0.0,>=3.8.3 in /Users/gr703z/anaconda3/lib/python3.11/site-packages (from langchain) (3.8.3)\r\n",
      "Requirement already satisfied: anyio<4.0 in /Users/gr703z/anaconda3/lib/python3.11/site-packages (from langchain) (3.5.0)\r\n",
      "Collecting dataclasses-json<0.7,>=0.5.7 (from langchain)\r\n",
      "  Downloading dataclasses_json-0.6.1-py3-none-any.whl (27 kB)\r\n",
      "Collecting jsonpatch<2.0,>=1.33 (from langchain)\r\n",
      "  Using cached jsonpatch-1.33-py2.py3-none-any.whl (12 kB)\r\n",
      "Collecting langsmith<0.1.0,>=0.0.38 (from langchain)\r\n",
      "  Using cached langsmith-0.0.41-py3-none-any.whl (39 kB)\r\n",
      "Requirement already satisfied: numexpr<3.0.0,>=2.8.4 in /Users/gr703z/anaconda3/lib/python3.11/site-packages (from langchain) (2.8.4)\r\n",
      "Requirement already satisfied: numpy<2,>=1 in /Users/gr703z/anaconda3/lib/python3.11/site-packages (from langchain) (1.24.3)\r\n",
      "Collecting pydantic<3,>=1 (from langchain)\r\n",
      "  Downloading pydantic-2.4.2-py3-none-any.whl (395 kB)\r\n",
      "\u001B[2K     \u001B[90m━━━━━━━━━━━━━━━━━━━━━━━━━━━━━━━━━━━━━━━\u001B[0m \u001B[32m395.8/395.8 kB\u001B[0m \u001B[31m8.3 MB/s\u001B[0m eta \u001B[36m0:00:00\u001B[0ma \u001B[36m0:00:01\u001B[0m\r\n",
      "\u001B[?25hRequirement already satisfied: requests<3,>=2 in /Users/gr703z/anaconda3/lib/python3.11/site-packages (from langchain) (2.29.0)\r\n",
      "Requirement already satisfied: tenacity<9.0.0,>=8.1.0 in /Users/gr703z/anaconda3/lib/python3.11/site-packages (from langchain) (8.2.2)\r\n",
      "Requirement already satisfied: attrs>=17.3.0 in /Users/gr703z/anaconda3/lib/python3.11/site-packages (from aiohttp<4.0.0,>=3.8.3->langchain) (22.1.0)\r\n",
      "Requirement already satisfied: charset-normalizer<3.0,>=2.0 in /Users/gr703z/anaconda3/lib/python3.11/site-packages (from aiohttp<4.0.0,>=3.8.3->langchain) (2.0.4)\r\n",
      "Requirement already satisfied: multidict<7.0,>=4.5 in /Users/gr703z/anaconda3/lib/python3.11/site-packages (from aiohttp<4.0.0,>=3.8.3->langchain) (6.0.2)\r\n",
      "Requirement already satisfied: async-timeout<5.0,>=4.0.0a3 in /Users/gr703z/anaconda3/lib/python3.11/site-packages (from aiohttp<4.0.0,>=3.8.3->langchain) (4.0.2)\r\n",
      "Requirement already satisfied: yarl<2.0,>=1.0 in /Users/gr703z/anaconda3/lib/python3.11/site-packages (from aiohttp<4.0.0,>=3.8.3->langchain) (1.8.1)\r\n",
      "Requirement already satisfied: frozenlist>=1.1.1 in /Users/gr703z/anaconda3/lib/python3.11/site-packages (from aiohttp<4.0.0,>=3.8.3->langchain) (1.3.3)\r\n",
      "Requirement already satisfied: aiosignal>=1.1.2 in /Users/gr703z/anaconda3/lib/python3.11/site-packages (from aiohttp<4.0.0,>=3.8.3->langchain) (1.2.0)\r\n",
      "Requirement already satisfied: idna>=2.8 in /Users/gr703z/anaconda3/lib/python3.11/site-packages (from anyio<4.0->langchain) (3.4)\r\n",
      "Requirement already satisfied: sniffio>=1.1 in /Users/gr703z/anaconda3/lib/python3.11/site-packages (from anyio<4.0->langchain) (1.2.0)\r\n",
      "Collecting marshmallow<4.0.0,>=3.18.0 (from dataclasses-json<0.7,>=0.5.7->langchain)\r\n",
      "  Downloading marshmallow-3.20.1-py3-none-any.whl (49 kB)\r\n",
      "\u001B[2K     \u001B[90m━━━━━━━━━━━━━━━━━━━━━━━━━━━━━━━━━━━━━━━━\u001B[0m \u001B[32m49.4/49.4 kB\u001B[0m \u001B[31m5.9 MB/s\u001B[0m eta \u001B[36m0:00:00\u001B[0m\r\n",
      "\u001B[?25hCollecting typing-inspect<1,>=0.4.0 (from dataclasses-json<0.7,>=0.5.7->langchain)\r\n",
      "  Using cached typing_inspect-0.9.0-py3-none-any.whl (8.8 kB)\r\n",
      "Requirement already satisfied: jsonpointer>=1.9 in /Users/gr703z/anaconda3/lib/python3.11/site-packages (from jsonpatch<2.0,>=1.33->langchain) (2.1)\r\n",
      "Collecting annotated-types>=0.4.0 (from pydantic<3,>=1->langchain)\r\n",
      "  Downloading annotated_types-0.5.0-py3-none-any.whl (11 kB)\r\n",
      "Collecting pydantic-core==2.10.1 (from pydantic<3,>=1->langchain)\r\n",
      "  Downloading pydantic_core-2.10.1-cp311-cp311-macosx_11_0_arm64.whl (1.7 MB)\r\n",
      "\u001B[2K     \u001B[90m━━━━━━━━━━━━━━━━━━━━━━━━━━━━━━━━━━━━━━━━\u001B[0m \u001B[32m1.7/1.7 MB\u001B[0m \u001B[31m8.8 MB/s\u001B[0m eta \u001B[36m0:00:00\u001B[0ma \u001B[36m0:00:01\u001B[0mm\r\n",
      "\u001B[?25hRequirement already satisfied: typing-extensions>=4.6.1 in /Users/gr703z/anaconda3/lib/python3.11/site-packages (from pydantic<3,>=1->langchain) (4.6.3)\r\n",
      "Requirement already satisfied: urllib3<1.27,>=1.21.1 in /Users/gr703z/anaconda3/lib/python3.11/site-packages (from requests<3,>=2->langchain) (1.26.16)\r\n",
      "Requirement already satisfied: certifi>=2017.4.17 in /Users/gr703z/anaconda3/lib/python3.11/site-packages (from requests<3,>=2->langchain) (2023.5.7)\r\n",
      "Requirement already satisfied: packaging>=17.0 in /Users/gr703z/anaconda3/lib/python3.11/site-packages (from marshmallow<4.0.0,>=3.18.0->dataclasses-json<0.7,>=0.5.7->langchain) (23.0)\r\n",
      "Requirement already satisfied: mypy-extensions>=0.3.0 in /Users/gr703z/anaconda3/lib/python3.11/site-packages (from typing-inspect<1,>=0.4.0->dataclasses-json<0.7,>=0.5.7->langchain) (0.4.3)\r\n",
      "Installing collected packages: typing-inspect, pydantic-core, marshmallow, jsonpatch, annotated-types, pydantic, dataclasses-json, langsmith, langchain\r\n",
      "  Attempting uninstall: jsonpatch\r\n",
      "    Found existing installation: jsonpatch 1.32\r\n",
      "    Uninstalling jsonpatch-1.32:\r\n",
      "      Successfully uninstalled jsonpatch-1.32\r\n",
      "Successfully installed annotated-types-0.5.0 dataclasses-json-0.6.1 jsonpatch-1.33 langchain-0.0.306 langsmith-0.0.41 marshmallow-3.20.1 pydantic-2.4.2 pydantic-core-2.10.1 typing-inspect-0.9.0\r\n",
      "Note: you may need to restart the kernel to use updated packages.\n"
     ]
    }
   ],
   "source": [
    "%pip install langchain"
   ],
   "metadata": {
    "collapsed": false,
    "ExecuteTime": {
     "end_time": "2023-10-03T21:08:38.768708Z",
     "start_time": "2023-10-03T21:08:32.434063Z"
    }
   }
  },
  {
   "cell_type": "code",
   "execution_count": 5,
   "outputs": [
    {
     "name": "stdout",
     "output_type": "stream",
     "text": [
      "Collecting openai\r\n",
      "  Downloading openai-0.28.1-py3-none-any.whl (76 kB)\r\n",
      "\u001B[2K     \u001B[90m━━━━━━━━━━━━━━━━━━━━━━━━━━━━━━━━━━━━━━━━\u001B[0m \u001B[32m77.0/77.0 kB\u001B[0m \u001B[31m1.9 MB/s\u001B[0m eta \u001B[36m0:00:00\u001B[0ma \u001B[36m0:00:01\u001B[0m\r\n",
      "\u001B[?25hRequirement already satisfied: requests>=2.20 in /Users/gr703z/anaconda3/lib/python3.11/site-packages (from openai) (2.29.0)\r\n",
      "Requirement already satisfied: tqdm in /Users/gr703z/anaconda3/lib/python3.11/site-packages (from openai) (4.65.0)\r\n",
      "Requirement already satisfied: aiohttp in /Users/gr703z/anaconda3/lib/python3.11/site-packages (from openai) (3.8.3)\r\n",
      "Requirement already satisfied: charset-normalizer<4,>=2 in /Users/gr703z/anaconda3/lib/python3.11/site-packages (from requests>=2.20->openai) (2.0.4)\r\n",
      "Requirement already satisfied: idna<4,>=2.5 in /Users/gr703z/anaconda3/lib/python3.11/site-packages (from requests>=2.20->openai) (3.4)\r\n",
      "Requirement already satisfied: urllib3<1.27,>=1.21.1 in /Users/gr703z/anaconda3/lib/python3.11/site-packages (from requests>=2.20->openai) (1.26.16)\r\n",
      "Requirement already satisfied: certifi>=2017.4.17 in /Users/gr703z/anaconda3/lib/python3.11/site-packages (from requests>=2.20->openai) (2023.5.7)\r\n",
      "Requirement already satisfied: attrs>=17.3.0 in /Users/gr703z/anaconda3/lib/python3.11/site-packages (from aiohttp->openai) (22.1.0)\r\n",
      "Requirement already satisfied: multidict<7.0,>=4.5 in /Users/gr703z/anaconda3/lib/python3.11/site-packages (from aiohttp->openai) (6.0.2)\r\n",
      "Requirement already satisfied: async-timeout<5.0,>=4.0.0a3 in /Users/gr703z/anaconda3/lib/python3.11/site-packages (from aiohttp->openai) (4.0.2)\r\n",
      "Requirement already satisfied: yarl<2.0,>=1.0 in /Users/gr703z/anaconda3/lib/python3.11/site-packages (from aiohttp->openai) (1.8.1)\r\n",
      "Requirement already satisfied: frozenlist>=1.1.1 in /Users/gr703z/anaconda3/lib/python3.11/site-packages (from aiohttp->openai) (1.3.3)\r\n",
      "Requirement already satisfied: aiosignal>=1.1.2 in /Users/gr703z/anaconda3/lib/python3.11/site-packages (from aiohttp->openai) (1.2.0)\r\n",
      "Installing collected packages: openai\r\n",
      "Successfully installed openai-0.28.1\r\n",
      "Note: you may need to restart the kernel to use updated packages.\n"
     ]
    }
   ],
   "source": [
    "%pip install openai"
   ],
   "metadata": {
    "collapsed": false,
    "ExecuteTime": {
     "end_time": "2023-10-03T21:09:28.633852Z",
     "start_time": "2023-10-03T21:09:26.001630Z"
    }
   }
  },
  {
   "cell_type": "code",
   "execution_count": 3,
   "metadata": {
    "collapsed": true,
    "ExecuteTime": {
     "end_time": "2023-10-03T21:08:43.619429Z",
     "start_time": "2023-10-03T21:08:43.246667Z"
    }
   },
   "outputs": [],
   "source": [
    "from langchain.schema import (\n",
    "    AIMessage,\n",
    "    HumanMessage,\n",
    "    SystemMessage\n",
    ")"
   ]
  },
  {
   "cell_type": "code",
   "execution_count": 67,
   "outputs": [],
   "source": [
    "\n",
    "from langchain.chat_models import ChatOpenAI\n",
    "\n",
    "# create a chat model using openAI's gpt-4 model\n",
    "chat = ChatOpenAI(model_name='gpt-4')  # , temperature=0"
   ],
   "metadata": {
    "collapsed": false,
    "ExecuteTime": {
     "end_time": "2023-10-04T17:46:14.726051Z",
     "start_time": "2023-10-04T17:46:14.723847Z"
    }
   }
  },
  {
   "cell_type": "code",
   "execution_count": 68,
   "outputs": [],
   "source": [
    "pre_prompt_old = \"\"\"ACT as a corporate lawyer whose job is to update existing company policies according to new information.\n",
    "\n",
    "Your task is to change the provided statement with the new regulation.\n",
    "\n",
    "In the first step, identify and write which information is missing to update a statement.\n",
    "\n",
    "Then, write which information is available to update the statement.\n",
    "\n",
    "Finally, update the statement using as much information as possible and use placeholders for the parts that have missing information, such as [thing].\n",
    "\n",
    " In the end, ask for missing information, if needed. DO NOT ASK FOR UNNECESSARY INFORMATION that you can infer yourself.\n",
    " \"\"\""
   ],
   "metadata": {
    "collapsed": false,
    "ExecuteTime": {
     "end_time": "2023-10-04T17:46:17.872483Z",
     "start_time": "2023-10-04T17:46:17.864856Z"
    }
   }
  },
  {
   "cell_type": "code",
   "execution_count": 73,
   "outputs": [],
   "source": [
    "pre_prompt_old = \"\"\"ACT as a corporate lawyer whose job is to update existing company policies according to new information.\n",
    "\n",
    "Your task is to change the provided statement with the new regulation.\n",
    "\n",
    "In the first step, identify and write which information is missing to update a statement.\n",
    "\n",
    "Then, write which information is available to update the statement.\n",
    "\n",
    "Finally, update the statement using as much information as possible and use placeholders for the parts that have missing information, such as [thing].\n",
    "\n",
    " In the end, ask for missing information, if needed. DO NOT ASK FOR UNNECESSARY INFORMATION that you can infer yourself.\n",
    "\n",
    " For example, if the statement is \"The cat is the only animal in the house. We love the cat.\" and the new regulation is \"You have to specify all family members and all animals in the house.\", then the missing information is \"The names and number of all family members in the house\", the available information is \"there is a cat in the house\", and the updated statement is \"The cat is the only animal in the house. We love both our family members and the cat.\"\n",
    "\n",
    " As another example, if the statement is \"The company's address is 123 Main Street, New York, NY 10001. The company's phone number is 212-555-1234.\" and the new regulation is \"You have to specify the company's address, phone number, and email address.\", then the missing information is \"the company's email address\", the available information is \"the company's address and phone number\", and the updated statement is \"The company's address is 123 Main Street, New York, NY 10001. The company's phone number is 212-555-1234. The company's email address is [email address].\"\n",
    " \"\"\""
   ],
   "metadata": {
    "collapsed": false,
    "ExecuteTime": {
     "end_time": "2023-10-04T18:07:41.293223Z",
     "start_time": "2023-10-04T18:07:41.290073Z"
    }
   }
  },
  {
   "cell_type": "code",
   "execution_count": null,
   "outputs": [],
   "source": [],
   "metadata": {
    "collapsed": false
   }
  },
  {
   "cell_type": "code",
   "execution_count": 89,
   "outputs": [],
   "source": [
    "pre_prompt = \"\"\"ACT as a corporate lawyer whose job is to update existing company policies according to new information.\n",
    "\n",
    "Your task is to change the provided statement with the new law.\n",
    "\n",
    "In the first step, identify if any information is missing in the statement but is required by the new law, and if yes, write which information is missing.\n",
    "\n",
    "Then, write which information is available to comply with the new law.\n",
    "\n",
    "Finally, update the statement using available information and use placeholders for the parts that have missing information, such as [thing].\n",
    "\n",
    " In the end, ask for the missing information, if needed. DO NOT ASK FOR UNNECESSARY INFORMATION that you can infer yourself.\n",
    "\n",
    " For example, if the statement is \"The cat is the only animal in the house. We love the cat.\" and the new law is \"You have to specify all family members and all animals in the house.\", then the missing information is \"The names and number of all family members in the house\", the available information is \"there is a cat in the house\", and the updated statement is \"The cat is the only animal in the house. We love both our family members and the cat.\"\n",
    "\n",
    " As another example, if the statement is \"The company's address is 123 Main Street, New York, NY 10001. The company's phone number is 212-555-1234.\" and the new law is \"You have to specify the company's address, phone number, and email address.\", then the missing information is \"the company's email address\", the available information is \"the company's address and phone number\", and the updated statement is \"The company's address is 123 Main Street, New York, NY 10001. The company's phone number is 212-555-1234. The company's email address is [email address].\"\n",
    "\n",
    " As another example, if the statement is \"The users names, phones and emails are not stored in the database.\", and the new law is \"Neither phones, nor emails can be stored in the database\", then there is no missing information, the available information is that \"the users names are not stored in the database\", and the updated statement is \"The users names, phones and emails are not stored in the database.\"\n",
    " \"\"\"\n"
   ],
   "metadata": {
    "collapsed": false,
    "ExecuteTime": {
     "end_time": "2023-10-04T18:31:51.498904Z",
     "start_time": "2023-10-04T18:31:51.491397Z"
    }
   }
  },
  {
   "cell_type": "code",
   "execution_count": 90,
   "outputs": [
    {
     "data": {
      "text/plain": "AIMessage(content='Missing Information: The names and number of all family members in the house.\\n\\nAvailable Information: There is a cat in the house.\\n\\nUpdated Statement: The cat is the only animal in the house. We love both our family members and the cat. The family members in the house are [names and number of family members].\\n\\nPlease provide the names and number of all family members in the house.')"
     },
     "execution_count": 90,
     "metadata": {},
     "output_type": "execute_result"
    }
   ],
   "source": [
    "messages = [\n",
    "    SystemMessage(content=pre_prompt),\n",
    "    HumanMessage(content=\"\"\"Statement: The cat is the only animal in the house. We love the cat.\n",
    "\n",
    "previous regulation: [\n",
    "You have to specify all animals in the house.\n",
    "]\n",
    "\n",
    "new regulation: [\n",
    "You have to specify all family members and all animals in the house.\n",
    "]\"\"\"\n",
    "                 )\n",
    "]\n",
    "chat(messages)"
   ],
   "metadata": {
    "collapsed": false,
    "ExecuteTime": {
     "end_time": "2023-10-04T18:32:04.121795Z",
     "start_time": "2023-10-04T18:31:55.091531Z"
    }
   }
  },
  {
   "cell_type": "code",
   "execution_count": 75,
   "outputs": [
    {
     "data": {
      "text/plain": "AIMessage(content=\"Missing Information: Who Anna likes.\\n\\nAvailable Information: Mary likes Pete and Pete likes Anna. Mary's age is 5 years old.\\n\\nUpdated Statement: Mary likes Pete but Pete likes Anna. Anna likes [person]. Mary is 5 years old.\\n\\nPlease provide information on who Anna likes.\")"
     },
     "execution_count": 75,
     "metadata": {},
     "output_type": "execute_result"
    }
   ],
   "source": [
    "messages = [\n",
    "    SystemMessage(content=pre_prompt),\n",
    "    HumanMessage(content=\"\"\"Statement: Mary likes Pete but Pete likes Anna. Mary is 5 years old.\n",
    "\n",
    "previous regulation: [\n",
    " NONE\n",
    "]\n",
    "\n",
    "new regulation: [\n",
    "you have to specify who each person, mentioned in the statement, likes\n",
    "]\n",
    "\n",
    "Updated statement:\n",
    "\"\"\"\n",
    "                 )\n",
    "]\n",
    "chat(messages)"
   ],
   "metadata": {
    "collapsed": false,
    "ExecuteTime": {
     "end_time": "2023-10-04T18:08:20.219203Z",
     "start_time": "2023-10-04T18:08:14.172397Z"
    }
   }
  },
  {
   "cell_type": "code",
   "execution_count": 91,
   "outputs": [
    {
     "data": {
      "text/plain": "'Missing Information: The information about who Anna likes is missing.\\n\\nAvailable Information: The information about who Mary and Pete like is available.\\n\\nUpdated Statement: Mary likes Pete but Pete likes Anna. Anna likes [person]. Mary is 5 years old.\\n\\nPlease provide the information about who Anna likes.'"
     },
     "execution_count": 91,
     "metadata": {},
     "output_type": "execute_result"
    }
   ],
   "source": [
    "messages = [\n",
    "    SystemMessage(content=pre_prompt),\n",
    "    HumanMessage(content=\"\"\"Statement: Mary likes Pete but Pete likes Anna. Anna likes Mary. Mary is 5 years old.\n",
    "\n",
    "Previous regulation: [\n",
    " NONE\n",
    "]\n",
    "\n",
    "New regulation: [\n",
    "There has to be specified who each person likes.\n",
    "]\n",
    "\n",
    "\"\"\"\n",
    "                 )\n",
    "]\n",
    "r = chat(messages)\n",
    "r.content"
   ],
   "metadata": {
    "collapsed": false,
    "ExecuteTime": {
     "end_time": "2023-10-04T18:32:26.281056Z",
     "start_time": "2023-10-04T18:32:20.257719Z"
    }
   }
  },
  {
   "cell_type": "code",
   "execution_count": 79,
   "outputs": [
    {
     "data": {
      "text/plain": "\"*** Missing Information ***\\nThe information about who Anna likes is missing.\\n\\n*** Available Information ***\\nThe available information is that Mary likes Pete, Pete likes Anna, and Anna likes Mary. Mary's age is also specified.\\n\\n*** Updated Statement ***\\nMary likes Pete but Pete likes Anna. Anna likes Mary. Mary is 5 years old. Anna likes [person].\\n\\n*** Request for Missing Information ***\\nPlease provide the information about who Anna likes.\""
     },
     "execution_count": 79,
     "metadata": {},
     "output_type": "execute_result"
    }
   ],
   "source": [
    "messages = [\n",
    "\n",
    "    HumanMessage(content=pre_prompt + \"\"\"\n",
    "\n",
    "    *** Statement ***\n",
    "    Mary likes Pete but Pete likes Anna. Anna likes Mary. Mary is 5 years old.\n",
    "\n",
    "*** Previous regulation ***\n",
    " NONE\n",
    "\n",
    "\n",
    "*** New regulation ***\n",
    "There has to be specified who each person likes.\n",
    "\n",
    "\n",
    "\"\"\"\n",
    "                 )\n",
    "]\n",
    "r = chat(messages)\n",
    "r.content\n"
   ],
   "metadata": {
    "collapsed": false,
    "ExecuteTime": {
     "end_time": "2023-10-04T18:09:54.197417Z",
     "start_time": "2023-10-04T18:09:46.345876Z"
    }
   }
  },
  {
   "cell_type": "code",
   "execution_count": 64,
   "outputs": [
    {
     "data": {
      "text/plain": "AIMessage(content='Yes')"
     },
     "execution_count": 64,
     "metadata": {},
     "output_type": "execute_result"
    }
   ],
   "source": [
    "\n",
    "chat([    HumanMessage(content='''ACT as a corporate lawyer whose job is to update existing company policies according to new information. Confirm by saying \"yes\". ''')])"
   ],
   "metadata": {
    "collapsed": false,
    "ExecuteTime": {
     "end_time": "2023-10-04T17:42:55.982101Z",
     "start_time": "2023-10-04T17:42:55.340210Z"
    }
   }
  },
  {
   "cell_type": "code",
   "execution_count": 65,
   "outputs": [
    {
     "data": {
      "text/plain": "AIMessage(content=\"As an AI, I don't have the ability to recall past interactions. Could you please provide more context?\")"
     },
     "execution_count": 65,
     "metadata": {},
     "output_type": "execute_result"
    }
   ],
   "source": [
    "chat([    HumanMessage(content='''Who did I ask you to act like? ''')])"
   ],
   "metadata": {
    "collapsed": false,
    "ExecuteTime": {
     "end_time": "2023-10-04T17:42:59.775902Z",
     "start_time": "2023-10-04T17:42:58.011864Z"
    }
   }
  },
  {
   "cell_type": "code",
   "execution_count": 70,
   "outputs": [
    {
     "data": {
      "text/plain": "'Hello! How can I assist you today?'"
     },
     "execution_count": 70,
     "metadata": {},
     "output_type": "execute_result"
    }
   ],
   "source": [
    "from langchain.chat_models import ChatOpenAI\n",
    "\n",
    "llm = ChatOpenAI()\n",
    "llm.predict(\"Hello, world!\")"
   ],
   "metadata": {
    "collapsed": false,
    "ExecuteTime": {
     "end_time": "2023-10-04T17:59:23.499817Z",
     "start_time": "2023-10-04T17:59:21.983044Z"
    }
   }
  },
  {
   "cell_type": "code",
   "execution_count": null,
   "outputs": [],
   "source": [],
   "metadata": {
    "collapsed": false
   }
  },
  {
   "cell_type": "markdown",
   "source": [
    "Tree of Thought"
   ],
   "metadata": {
    "collapsed": false
   }
  },
  {
   "cell_type": "code",
   "execution_count": 82,
   "outputs": [],
   "source": [
    "from langchain.prompts import PromptTemplate\n",
    "from langchain.chains import LLMChain"
   ],
   "metadata": {
    "collapsed": false,
    "ExecuteTime": {
     "end_time": "2023-10-04T18:13:27.640846Z",
     "start_time": "2023-10-04T18:13:27.332473Z"
    }
   }
  },
  {
   "cell_type": "code",
   "execution_count": 83,
   "outputs": [],
   "source": [
    "template =\"\"\"\n",
    "Step1 :\n",
    "\n",
    "I have a problem related to {input}. Could you brainstorm three distinct solutions? Please consider a variety of factors such as {perfect_factors}\n",
    "A:\n",
    "\"\"\"\n",
    "\n",
    "prompt = PromptTemplate(\n",
    "    input_variables=[\"input\",\"perfect_factors\"],\n",
    "    template = template\n",
    ")\n",
    "\n",
    "chain1 = LLMChain(\n",
    "    llm=ChatOpenAI(temperature=0, model=\"gpt-4\"),\n",
    "    prompt=prompt,\n",
    "    output_key=\"solutions\"\n",
    ")\n",
    "\n",
    "template =\"\"\"\n",
    "Step 2:\n",
    "\n",
    "For each of the three proposed solutions, evaluate their potential. Consider their pros and cons, initial effort needed, implementation difficulty, potential challenges, and the expected outcomes. Assign a probability of success and a confidence level to each option based on these factors\n",
    "\n",
    "{solutions}\n",
    "\n",
    "A:\"\"\"\n",
    "\n",
    "prompt = PromptTemplate(\n",
    "    input_variables=[\"solutions\"],\n",
    "    template = template\n",
    ")\n",
    "\n",
    "chain2 = LLMChain(\n",
    "    llm=ChatOpenAI(temperature=0, model=\"gpt-4\"),\n",
    "    prompt=prompt,\n",
    "    output_key=\"review\"\n",
    ")\n",
    "\n",
    "template =\"\"\"\n",
    "Step 3:\n",
    "\n",
    "For each solution, deepen the thought process. Generate potential scenarios, strategies for implementation, any necessary partnerships or resources, and how potential obstacles might be overcome. Also, consider any potential unexpected outcomes and how they might be handled.\n",
    "\n",
    "{review}\n",
    "\n",
    "A:\"\"\"\n",
    "\n",
    "prompt = PromptTemplate(\n",
    "    input_variables=[\"review\"],\n",
    "    template = template\n",
    ")\n",
    "\n",
    "chain3 = LLMChain(\n",
    "    llm=ChatOpenAI(temperature=0, model=\"gpt-4\"),\n",
    "    prompt=prompt,\n",
    "    output_key=\"deepen_thought_process\"\n",
    ")\n",
    "\n",
    "template =\"\"\"\n",
    "Step 4:\n",
    "\n",
    "Based on the evaluations and scenarios, rank the solutions in order of promise. Provide a justification for each ranking and offer any final thoughts or considerations for each solution\n",
    "{deepen_thought_process}\n",
    "\n",
    "A:\"\"\"\n",
    "\n",
    "prompt = PromptTemplate(\n",
    "    input_variables=[\"deepen_thought_process\"],\n",
    "    template = template\n",
    ")\n",
    "\n",
    "chain4 = LLMChain(\n",
    "    llm=ChatOpenAI(temperature=0, model=\"gpt-4\"),\n",
    "    prompt=prompt,\n",
    "    output_key=\"ranked_solutions\"\n",
    ")"
   ],
   "metadata": {
    "collapsed": false,
    "ExecuteTime": {
     "end_time": "2023-10-04T18:13:45.653734Z",
     "start_time": "2023-10-04T18:13:45.639593Z"
    }
   }
  },
  {
   "cell_type": "code",
   "execution_count": 84,
   "outputs": [
    {
     "name": "stdout",
     "output_type": "stream",
     "text": [
      "\n",
      "\n",
      "\u001B[1m> Entering new SequentialChain chain...\u001B[0m\n",
      "\n",
      "\u001B[1m> Finished chain.\u001B[0m\n",
      "{'input': 'human colonization of Mars', 'perfect_factors': 'The distance between Earth and Mars is very large, making regular resupply difficult', 'ranked_solutions': 'Building a Self-Sustaining Colony:\\nPros: This solution would allow humans to live on Mars indefinitely, without needing constant resupply missions from Earth. It would also provide a stepping stone for further exploration of the solar system.\\nCons: Building a self-sustaining colony would be a huge challenge, requiring advanced technology and a lot of resources. It would also require a long-term commitment, as the colony would need to be maintained and expanded over time.\\nProbability of Success: 40%\\nConfidence Level: Medium\\n\\nB: Mining Asteroids for Resources:\\nPros: This solution could provide the resources needed to support a Martian colony, as well as potentially providing a new source of wealth. It could also help to reduce the cost of space exploration by providing resources in space, rather than having to launch them from Earth.\\nCons: Mining asteroids would be a technically challenging and potentially dangerous task. It would also require a significant investment in space infrastructure.\\nProbability of Success: 30%\\nConfidence Level: Medium\\n\\nC: Using Robots and AI:\\nPros: Robots and AI could perform many of the tasks needed to establish and maintain a Martian colony, reducing the risk to human life. They could also potentially operate more efficiently and effectively than humans in the harsh Martian environment.\\nCons: Developing the necessary technology would be a major challenge, and there would be a risk of malfunctions or failures. There would also be ethical and legal issues to consider.\\nProbability of Success: 60%\\nConfidence Level: High\\n\\nFinal Ranking:\\n1. Using Robots and AI\\n2. Building a Self-Sustaining Colony\\n3. Mining Asteroids for Resources\\n4. Terraforming Mars\\n\\nJustification: The use of robots and AI is ranked first due to its high probability of success and confidence level. Building a self-sustaining colony is ranked second due to its potential for long-term sustainability, despite the challenges involved. Mining asteroids for resources is ranked third due to its potential benefits, but also the technical challenges and risks involved. Terraforming Mars is ranked last due to its low probability of success and the massive scale of the task.'}\n"
     ]
    }
   ],
   "source": [
    "from langchain.chains import SequentialChain\n",
    "\n",
    "overall_chain = SequentialChain(\n",
    "    chains=[chain1, chain2, chain3, chain4],\n",
    "    input_variables=[\"input\", \"perfect_factors\"],\n",
    "    output_variables=[\"ranked_solutions\"],\n",
    "    verbose=True\n",
    ")\n",
    "\n",
    "print(overall_chain({\"input\":\"human colonization of Mars\", \"perfect_factors\":\"The distance between Earth and Mars is very large, making regular resupply difficult\"}))"
   ],
   "metadata": {
    "collapsed": false,
    "ExecuteTime": {
     "end_time": "2023-10-04T18:16:07.739462Z",
     "start_time": "2023-10-04T18:14:36.249887Z"
    }
   }
  },
  {
   "cell_type": "code",
   "execution_count": null,
   "outputs": [],
   "source": [],
   "metadata": {
    "collapsed": false
   }
  }
 ],
 "metadata": {
  "kernelspec": {
   "display_name": "Python 3",
   "language": "python",
   "name": "python3"
  },
  "language_info": {
   "codemirror_mode": {
    "name": "ipython",
    "version": 2
   },
   "file_extension": ".py",
   "mimetype": "text/x-python",
   "name": "python",
   "nbconvert_exporter": "python",
   "pygments_lexer": "ipython2",
   "version": "2.7.6"
  }
 },
 "nbformat": 4,
 "nbformat_minor": 0
}
